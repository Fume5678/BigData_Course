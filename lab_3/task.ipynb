{
 "cells": [
  {
   "cell_type": "code",
   "execution_count": 126,
   "metadata": {
    "collapsed": true
   },
   "outputs": [],
   "source": [
    "import os\n",
    "import numpy as np\n",
    "import pandas as pd\n",
    "import plotly as pl\n",
    "import plotly.express as px\n",
    "import matplotlib as mpl\n",
    "import matplotlib.pyplot as plt"
   ]
  },
  {
   "cell_type": "code",
   "execution_count": 101,
   "outputs": [
    {
     "name": "stdout",
     "output_type": "stream",
     "text": [
      "<class 'pandas.core.frame.DataFrame'>\n",
      "RangeIndex: 224261 entries, 0 to 224260\n",
      "Data columns (total 5 columns):\n",
      " #   Column       Non-Null Count   Dtype \n",
      "---  ------       --------------   ----- \n",
      " 0   index        224261 non-null  int64 \n",
      " 1   YearOfBirth  224261 non-null  int64 \n",
      " 2   Name         224261 non-null  object\n",
      " 3   Sex          224261 non-null  object\n",
      " 4   Number       224261 non-null  int64 \n",
      "dtypes: int64(3), object(2)\n",
      "memory usage: 8.6+ MB\n",
      "None\n",
      "   index  YearOfBirth       Name Sex  Number\n",
      "0      0         1880       Mary   F    7065\n",
      "1      1         1880       Anna   F    2604\n",
      "2      2         1880       Emma   F    2003\n",
      "3      3         1880  Elizabeth   F    1939\n",
      "4      4         1880     Minnie   F    1746\n"
     ]
    }
   ],
   "source": [
    "data = pd.read_csv(\"./babyNamesUSYOB-mostpopular.csv\")\n",
    "START_YEAR = 1880\n",
    "END_YEAR = 2015\n",
    "print(data.info())\n",
    "print(data.head())"
   ],
   "metadata": {
    "collapsed": false
   }
  },
  {
   "cell_type": "markdown",
   "source": [],
   "metadata": {
    "collapsed": false
   }
  },
  {
   "cell_type": "code",
   "execution_count": 163,
   "outputs": [
    {
     "name": "stdout",
     "output_type": "stream",
     "text": [
      "len Numbers: 136\n",
      "len Year: 136\n",
      "min: 2566\n",
      "min: 73983\n"
     ]
    },
    {
     "ename": "KeyboardInterrupt",
     "evalue": "",
     "output_type": "error",
     "traceback": [
      "\u001B[0;31m---------------------------------------------------------------------------\u001B[0m",
      "\u001B[0;31mKeyboardInterrupt\u001B[0m                         Traceback (most recent call last)",
      "Input \u001B[0;32mIn [163]\u001B[0m, in \u001B[0;36m<cell line: 50>\u001B[0;34m()\u001B[0m\n\u001B[1;32m     42\u001B[0m     fig\u001B[38;5;241m.\u001B[39mupdate_yaxes(\n\u001B[1;32m     43\u001B[0m         \u001B[38;5;28mrange\u001B[39m\u001B[38;5;241m=\u001B[39m[min_numbers \u001B[38;5;241m-\u001B[39m min_numbers\u001B[38;5;241m*\u001B[39m\u001B[38;5;241m0.1\u001B[39m, \u001B[38;5;28mfloat\u001B[39m(max_numbers)],\n\u001B[1;32m     44\u001B[0m         dtick \u001B[38;5;241m=\u001B[39m fig\u001B[38;5;241m.\u001B[39mlayout\u001B[38;5;241m.\u001B[39myaxis\u001B[38;5;241m.\u001B[39mticklabelstep\n\u001B[1;32m     45\u001B[0m     )\n\u001B[1;32m     48\u001B[0m     fig\u001B[38;5;241m.\u001B[39mshow()\n\u001B[0;32m---> 50\u001B[0m \u001B[43mbar_by_name\u001B[49m\u001B[43m(\u001B[49m\u001B[38;5;124;43m\"\u001B[39;49m\u001B[38;5;124;43mMary\u001B[39;49m\u001B[38;5;124;43m\"\u001B[39;49m\u001B[43m,\u001B[49m\u001B[43m \u001B[49m\u001B[38;5;124;43m\"\u001B[39;49m\u001B[38;5;124;43mF\u001B[39;49m\u001B[38;5;124;43m\"\u001B[39;49m\u001B[43m)\u001B[49m\n",
      "Input \u001B[0;32mIn [163]\u001B[0m, in \u001B[0;36mbar_by_name\u001B[0;34m(name, sex)\u001B[0m\n\u001B[1;32m     22\u001B[0m fig\u001B[38;5;241m.\u001B[39mupdate_layout(\n\u001B[1;32m     23\u001B[0m      title \u001B[38;5;241m=\u001B[39m {\n\u001B[1;32m     24\u001B[0m         \u001B[38;5;124m'\u001B[39m\u001B[38;5;124mtext\u001B[39m\u001B[38;5;124m'\u001B[39m: \u001B[38;5;124mf\u001B[39m\u001B[38;5;124m\"\u001B[39m\u001B[38;5;124mName numbers by year of \u001B[39m\u001B[38;5;132;01m{\u001B[39;00mname\u001B[38;5;132;01m}\u001B[39;00m\u001B[38;5;124m \u001B[39m\u001B[38;5;124m\"\u001B[39m,\n\u001B[0;32m   (...)\u001B[0m\n\u001B[1;32m     35\u001B[0m     )\n\u001B[1;32m     36\u001B[0m )\n\u001B[1;32m     38\u001B[0m fig\u001B[38;5;241m.\u001B[39mupdate_xaxes(\n\u001B[1;32m     39\u001B[0m     \u001B[38;5;28mrange\u001B[39m\u001B[38;5;241m=\u001B[39m[START_YEAR, END_YEAR]\n\u001B[1;32m     40\u001B[0m )\n\u001B[0;32m---> 42\u001B[0m \u001B[43mfig\u001B[49m\u001B[38;5;241m.\u001B[39mupdate_yaxes(\n\u001B[1;32m     43\u001B[0m     \u001B[38;5;28mrange\u001B[39m\u001B[38;5;241m=\u001B[39m[min_numbers \u001B[38;5;241m-\u001B[39m min_numbers\u001B[38;5;241m*\u001B[39m\u001B[38;5;241m0.1\u001B[39m, \u001B[38;5;28mfloat\u001B[39m(max_numbers)],\n\u001B[1;32m     44\u001B[0m     dtick \u001B[38;5;241m=\u001B[39m fig\u001B[38;5;241m.\u001B[39mlayout\u001B[38;5;241m.\u001B[39myaxis\u001B[38;5;241m.\u001B[39mticklabelstep\n\u001B[1;32m     45\u001B[0m )\n\u001B[1;32m     48\u001B[0m fig\u001B[38;5;241m.\u001B[39mshow()\n",
      "Input \u001B[0;32mIn [163]\u001B[0m, in \u001B[0;36mbar_by_name\u001B[0;34m(name, sex)\u001B[0m\n\u001B[1;32m     22\u001B[0m fig\u001B[38;5;241m.\u001B[39mupdate_layout(\n\u001B[1;32m     23\u001B[0m      title \u001B[38;5;241m=\u001B[39m {\n\u001B[1;32m     24\u001B[0m         \u001B[38;5;124m'\u001B[39m\u001B[38;5;124mtext\u001B[39m\u001B[38;5;124m'\u001B[39m: \u001B[38;5;124mf\u001B[39m\u001B[38;5;124m\"\u001B[39m\u001B[38;5;124mName numbers by year of \u001B[39m\u001B[38;5;132;01m{\u001B[39;00mname\u001B[38;5;132;01m}\u001B[39;00m\u001B[38;5;124m \u001B[39m\u001B[38;5;124m\"\u001B[39m,\n\u001B[0;32m   (...)\u001B[0m\n\u001B[1;32m     35\u001B[0m     )\n\u001B[1;32m     36\u001B[0m )\n\u001B[1;32m     38\u001B[0m fig\u001B[38;5;241m.\u001B[39mupdate_xaxes(\n\u001B[1;32m     39\u001B[0m     \u001B[38;5;28mrange\u001B[39m\u001B[38;5;241m=\u001B[39m[START_YEAR, END_YEAR]\n\u001B[1;32m     40\u001B[0m )\n\u001B[0;32m---> 42\u001B[0m \u001B[43mfig\u001B[49m\u001B[38;5;241m.\u001B[39mupdate_yaxes(\n\u001B[1;32m     43\u001B[0m     \u001B[38;5;28mrange\u001B[39m\u001B[38;5;241m=\u001B[39m[min_numbers \u001B[38;5;241m-\u001B[39m min_numbers\u001B[38;5;241m*\u001B[39m\u001B[38;5;241m0.1\u001B[39m, \u001B[38;5;28mfloat\u001B[39m(max_numbers)],\n\u001B[1;32m     44\u001B[0m     dtick \u001B[38;5;241m=\u001B[39m fig\u001B[38;5;241m.\u001B[39mlayout\u001B[38;5;241m.\u001B[39myaxis\u001B[38;5;241m.\u001B[39mticklabelstep\n\u001B[1;32m     45\u001B[0m )\n\u001B[1;32m     48\u001B[0m fig\u001B[38;5;241m.\u001B[39mshow()\n",
      "File \u001B[0;32m~/programs/dataspell-2022.2.2/plugins/python-ce/helpers/pydev/_pydevd_bundle/pydevd_frame.py:747\u001B[0m, in \u001B[0;36mPyDBFrame.trace_dispatch\u001B[0;34m(self, frame, event, arg)\u001B[0m\n\u001B[1;32m    745\u001B[0m \u001B[38;5;66;03m# if thread has a suspend flag, we suspend with a busy wait\u001B[39;00m\n\u001B[1;32m    746\u001B[0m \u001B[38;5;28;01mif\u001B[39;00m info\u001B[38;5;241m.\u001B[39mpydev_state \u001B[38;5;241m==\u001B[39m STATE_SUSPEND:\n\u001B[0;32m--> 747\u001B[0m     \u001B[38;5;28;43mself\u001B[39;49m\u001B[38;5;241;43m.\u001B[39;49m\u001B[43mdo_wait_suspend\u001B[49m\u001B[43m(\u001B[49m\u001B[43mthread\u001B[49m\u001B[43m,\u001B[49m\u001B[43m \u001B[49m\u001B[43mframe\u001B[49m\u001B[43m,\u001B[49m\u001B[43m \u001B[49m\u001B[43mevent\u001B[49m\u001B[43m,\u001B[49m\u001B[43m \u001B[49m\u001B[43marg\u001B[49m\u001B[43m)\u001B[49m\n\u001B[1;32m    748\u001B[0m     \u001B[38;5;66;03m# No need to reset frame.f_trace to keep the same trace function.\u001B[39;00m\n\u001B[1;32m    749\u001B[0m     \u001B[38;5;28;01mreturn\u001B[39;00m \u001B[38;5;28mself\u001B[39m\u001B[38;5;241m.\u001B[39mtrace_dispatch\n",
      "File \u001B[0;32m~/programs/dataspell-2022.2.2/plugins/python-ce/helpers/pydev/_pydevd_bundle/pydevd_frame.py:144\u001B[0m, in \u001B[0;36mPyDBFrame.do_wait_suspend\u001B[0;34m(self, *args, **kwargs)\u001B[0m\n\u001B[1;32m    143\u001B[0m \u001B[38;5;28;01mdef\u001B[39;00m \u001B[38;5;21mdo_wait_suspend\u001B[39m(\u001B[38;5;28mself\u001B[39m, \u001B[38;5;241m*\u001B[39margs, \u001B[38;5;241m*\u001B[39m\u001B[38;5;241m*\u001B[39mkwargs):\n\u001B[0;32m--> 144\u001B[0m     \u001B[38;5;28;43mself\u001B[39;49m\u001B[38;5;241;43m.\u001B[39;49m\u001B[43m_args\u001B[49m\u001B[43m[\u001B[49m\u001B[38;5;241;43m0\u001B[39;49m\u001B[43m]\u001B[49m\u001B[38;5;241;43m.\u001B[39;49m\u001B[43mdo_wait_suspend\u001B[49m\u001B[43m(\u001B[49m\u001B[38;5;241;43m*\u001B[39;49m\u001B[43margs\u001B[49m\u001B[43m,\u001B[49m\u001B[43m \u001B[49m\u001B[38;5;241;43m*\u001B[39;49m\u001B[38;5;241;43m*\u001B[39;49m\u001B[43mkwargs\u001B[49m\u001B[43m)\u001B[49m\n",
      "File \u001B[0;32m~/programs/dataspell-2022.2.2/plugins/python-ce/helpers/pydev/pydevd.py:1160\u001B[0m, in \u001B[0;36mPyDB.do_wait_suspend\u001B[0;34m(self, thread, frame, event, arg, send_suspend_message, is_unhandled_exception)\u001B[0m\n\u001B[1;32m   1157\u001B[0m         from_this_thread\u001B[38;5;241m.\u001B[39mappend(frame_id)\n\u001B[1;32m   1159\u001B[0m \u001B[38;5;28;01mwith\u001B[39;00m \u001B[38;5;28mself\u001B[39m\u001B[38;5;241m.\u001B[39m_threads_suspended_single_notification\u001B[38;5;241m.\u001B[39mnotify_thread_suspended(thread_id, stop_reason):\n\u001B[0;32m-> 1160\u001B[0m     \u001B[38;5;28;43mself\u001B[39;49m\u001B[38;5;241;43m.\u001B[39;49m\u001B[43m_do_wait_suspend\u001B[49m\u001B[43m(\u001B[49m\u001B[43mthread\u001B[49m\u001B[43m,\u001B[49m\u001B[43m \u001B[49m\u001B[43mframe\u001B[49m\u001B[43m,\u001B[49m\u001B[43m \u001B[49m\u001B[43mevent\u001B[49m\u001B[43m,\u001B[49m\u001B[43m \u001B[49m\u001B[43marg\u001B[49m\u001B[43m,\u001B[49m\u001B[43m \u001B[49m\u001B[43msuspend_type\u001B[49m\u001B[43m,\u001B[49m\u001B[43m \u001B[49m\u001B[43mfrom_this_thread\u001B[49m\u001B[43m)\u001B[49m\n",
      "File \u001B[0;32m~/programs/dataspell-2022.2.2/plugins/python-ce/helpers/pydev/pydevd.py:1175\u001B[0m, in \u001B[0;36mPyDB._do_wait_suspend\u001B[0;34m(self, thread, frame, event, arg, suspend_type, from_this_thread)\u001B[0m\n\u001B[1;32m   1172\u001B[0m             \u001B[38;5;28mself\u001B[39m\u001B[38;5;241m.\u001B[39m_call_mpl_hook()\n\u001B[1;32m   1174\u001B[0m         \u001B[38;5;28mself\u001B[39m\u001B[38;5;241m.\u001B[39mprocess_internal_commands()\n\u001B[0;32m-> 1175\u001B[0m         \u001B[43mtime\u001B[49m\u001B[38;5;241;43m.\u001B[39;49m\u001B[43msleep\u001B[49m\u001B[43m(\u001B[49m\u001B[38;5;241;43m0.01\u001B[39;49m\u001B[43m)\u001B[49m\n\u001B[1;32m   1177\u001B[0m \u001B[38;5;28mself\u001B[39m\u001B[38;5;241m.\u001B[39mcancel_async_evaluation(get_current_thread_id(thread), \u001B[38;5;28mstr\u001B[39m(\u001B[38;5;28mid\u001B[39m(frame)))\n\u001B[1;32m   1179\u001B[0m \u001B[38;5;66;03m# process any stepping instructions\u001B[39;00m\n",
      "\u001B[0;31mKeyboardInterrupt\u001B[0m: "
     ]
    }
   ],
   "source": [
    "# task_3\n",
    "\n",
    "def bar_by_name(name, sex):\n",
    "    data_ind = data.set_index([\"Name\", \"Sex\"])\n",
    "    df = data_ind.query('Name == @name and Sex == @sex')\n",
    "\n",
    "    max_numbers = max(df.Number.to_numpy())\n",
    "    min_numbers = min(df.Number.to_numpy())\n",
    "\n",
    "    print(f\"len Numbers: {len(df.Number.to_numpy())}\")\n",
    "    print(f\"len Year: {len(df.YearOfBirth.to_numpy())}\")\n",
    "    print(f\"min: {min_numbers}\")\n",
    "    print(f\"min: {max_numbers}\")\n",
    "    fig = px.bar(df, x='YearOfBirth', y='Number',\n",
    "                 # data_frame=data_ind.loc[name],\n",
    "                 color='Number',\n",
    "                 color_continuous_scale=\"agsunset\",\n",
    "                 labels={'x': 'years', 'y': \"numbers\"}\n",
    "                 )\n",
    "\n",
    "\n",
    "    fig.update_layout(\n",
    "         title = {\n",
    "            'text': f\"Name numbers by year of {name} \",\n",
    "            'y':0.94, # new\n",
    "            'x':0.5,\n",
    "            'xanchor': 'center',\n",
    "            'yanchor': 'top' # new\n",
    "        },\n",
    "        titlefont=dict(\n",
    "            size= 20\n",
    "        ),\n",
    "        font=dict(\n",
    "            size= 14\n",
    "        )\n",
    "    )\n",
    "\n",
    "    fig.update_xaxes(\n",
    "        range=[START_YEAR, END_YEAR]\n",
    "    )\n",
    "\n",
    "    fig.update_yaxes(\n",
    "        range=[min_numbers - min_numbers*0.1, float(max_numbers)],\n",
    "        dtick = fig.layout.yaxis.ticklabelstep\n",
    "    )\n",
    "\n",
    "\n",
    "    fig.show()\n",
    "\n",
    "bar_by_name(\"Mary\", \"F\")"
   ],
   "metadata": {
    "collapsed": false
   }
  },
  {
   "cell_type": "code",
   "execution_count": null,
   "outputs": [],
   "source": [
    "\n",
    "def circle_by_name(name, sex, start_year, end_year):\n",
    "    data_ind = data.set_index([\"YearOfBirth\"])\n",
    "    df = data_ind.query('Name == @name and Sex == @sex')\n",
    "\n",
    "    # for val in df.iterrows():\n",
    "    #     print(val)\n",
    "\n",
    "    start_ind = start_year - START_YEAR\n",
    "    end_ind = end_year - START_YEAR\n",
    "\n",
    "    fig = px.pie(names=df.index.to_numpy()[start_ind: end_ind] , values=df.Number.to_numpy()[start_ind: end_ind], width=1000, height=1000)\n",
    "\n",
    "    fig.update_layout(\n",
    "        title = {\n",
    "            'text': f\"Name numbers by year of {name} \",\n",
    "            'y':0.94, # new\n",
    "            'x':0.5,\n",
    "            'xanchor': 'center',\n",
    "            'yanchor': 'top' # new\n",
    "        },\n",
    "        titlefont=dict(\n",
    "            size= 20\n",
    "        ),\n",
    "        font=dict(\n",
    "            size= 14\n",
    "        )\n",
    "    )\n",
    "\n",
    "\n",
    "    fig.show()\n",
    "\n",
    "circle_by_name(\"Mary\", \"F\", 1880, 1900)"
   ],
   "metadata": {
    "collapsed": false,
    "pycharm": {
     "is_executing": true
    }
   }
  },
  {
   "cell_type": "code",
   "execution_count": null,
   "outputs": [],
   "source": [],
   "metadata": {
    "collapsed": false
   }
  },
  {
   "cell_type": "code",
   "execution_count": 137,
   "outputs": [
    {
     "name": "stdout",
     "output_type": "stream",
     "text": [
      "len Numbers: 136\n",
      "len Year: 136\n",
      "min: 2566\n",
      "min: 73983\n"
     ]
    },
    {
     "data": {
      "text/plain": "<Figure size 432x288 with 1 Axes>",
      "image/png": "[encoded data removed]"
     },
     "metadata": {
      "needs_background": "light"
     },
     "output_type": "display_data"
    }
   ],
   "source": [
    "def circle_by_name(name, sex):\n",
    "    data_ind = data.set_index([\"Name\", \"Sex\"])\n",
    "    df = data_ind.query('Name == @name and Sex == @sex')\n",
    "\n",
    "    max_numbers = max(df.Number.to_numpy())\n",
    "    min_numbers = min(df.Number.to_numpy())\n",
    "\n",
    "    # for val in df.iterrows():}]\n",
    "    #     print(val)\n",
    "\n",
    "    print(f\"len Numbers: {len(df.Number.to_numpy())}\")\n",
    "    print(f\"len Year: {len(df.YearOfBirth.to_numpy())}\")\n",
    "    print(f\"min: {min_numbers}\")\n",
    "    print(f\"min: {max_numbers}\")\n",
    "\n",
    "    plt.grid(True)\n",
    "    plt.title(f\"Name numbers by year of {name}\", fontsize=20)\n",
    "    plt.xlabel(\"Year of birth\", fontsize=14)\n",
    "    plt.ylabel(\"Number\", fontsize=14)\n",
    "    plt.yticks(np.arrange)\n",
    "\n",
    "    plt.show()\n",
    "\n",
    "\n",
    "\n",
    "circle_by_name(\"Mary\", \"F\")"
   ],
   "metadata": {
    "collapsed": false
   }
  }
 ],
 "metadata": {
  "kernelspec": {
   "display_name": "Python 3",
   "language": "python",
   "name": "python3"
  },
  "language_info": {
   "codemirror_mode": {
    "name": "ipython",
    "version": 2
   },
   "file_extension": ".py",
   "mimetype": "text/x-python",
   "name": "python",
   "nbconvert_exporter": "python",
   "pygments_lexer": "ipython2",
   "version": "2.7.6"
  }
 },
 "nbformat": 4,
 "nbformat_minor": 0
}
