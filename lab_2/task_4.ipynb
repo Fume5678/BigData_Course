{
 "cells": [
  {
   "cell_type": "code",
   "execution_count": 1,
   "metadata": {
    "collapsed": true
   },
   "outputs": [
    {
     "name": "stdout",
     "output_type": "stream",
     "text": [
      "{'a': 16, 'b': 9, 'c': 14}\n"
     ]
    }
   ],
   "source": [
    "A = [1, 2, 3, 4, 2, 1, 3, 4, 5, 6, 5, 4, 3, 2]\n",
    "B = [\"a\", \"b\", \"c\", \"c\", \"c\", \"b\", \"a\", \"c\", \"a\", \"a\", \"b\", \"c\", \"b\", \"a\"]\n",
    "\n",
    "dictionary = {}\n",
    "\n",
    "for i in range(0, len(B)):\n",
    "    if dictionary.get(B[i]) is not None:\n",
    "        sum = dictionary[B[i]]\n",
    "        sum += A[i]\n",
    "        dictionary[B[i]] = sum\n",
    "    else:\n",
    "        dictionary[B[i]] = 0\n",
    "print(dictionary)\n",
    "\n"
   ]
  },
  {
   "cell_type": "code",
   "execution_count": null,
   "outputs": [],
   "source": [],
   "metadata": {
    "collapsed": false
   }
  }
 ],
 "metadata": {
  "kernelspec": {
   "display_name": "Python 3",
   "language": "python",
   "name": "python3"
  },
  "language_info": {
   "codemirror_mode": {
    "name": "ipython",
    "version": 2
   },
   "file_extension": ".py",
   "mimetype": "text/x-python",
   "name": "python",
   "nbconvert_exporter": "python",
   "pygments_lexer": "ipython2",
   "version": "2.7.6"
  }
 },
 "nbformat": 4,
 "nbformat_minor": 0
}
