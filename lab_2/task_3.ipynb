{
 "cells": [
  {
   "cell_type": "code",
   "execution_count": 1,
   "metadata": {
    "collapsed": true
   },
   "outputs": [
    {
     "name": "stdout",
     "output_type": "stream",
     "text": [
      "Исходная матрица:\n",
      " [[0.08918884 0.58800531 0.85001384]\n",
      " [0.60338243 0.12935327 0.80482657]\n",
      " [0.62213874 0.60076039 0.52979626]]\n",
      "Конечная матрица:\n",
      " [0.08918884, 0.58800531, 0.85001384, 0.60338243, 0.12935327, 0.80482657, 0.62213874, 0.60076039, 0.52979626]\n"
     ]
    }
   ],
   "source": [
    "import numpy as np\n",
    "l = []\n",
    "n = int(input(\"Введите кол-во строк: \"))\n",
    "m = int(input(\"Введите кол-во стлбцов \"))\n",
    "mat = np.random.rand(n, m)\n",
    "print(\"Исходная матрица:\\n\", mat)\n",
    "for i in mat:\n",
    "    for j in i:\n",
    "        l.append(round(j, 8))\n",
    "\n",
    "print(\"Конечная матрица:\\n\", l)\n"
   ]
  }
 ],
 "metadata": {
  "kernelspec": {
   "display_name": "Python 3",
   "language": "python",
   "name": "python3"
  },
  "language_info": {
   "codemirror_mode": {
    "name": "ipython",
    "version": 2
   },
   "file_extension": ".py",
   "mimetype": "text/x-python",
   "name": "python",
   "nbconvert_exporter": "python",
   "pygments_lexer": "ipython2",
   "version": "2.7.6"
  }
 },
 "nbformat": 4,
 "nbformat_minor": 0
}
