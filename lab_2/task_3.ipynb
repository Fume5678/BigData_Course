{
 "cells": [
  {
   "cell_type": "code",
   "execution_count": 1,
   "metadata": {
    "collapsed": true
   },
   "outputs": [
    {
     "name": "stdout",
     "output_type": "stream",
     "text": [
      "Исходная матрица:\n",
      " [[0.53470418 0.58246917 0.73052326 0.75501774]\n",
      " [0.41100978 0.18135442 0.76424319 0.94132555]\n",
      " [0.52730753 0.25060803 0.85691326 0.53184822]\n",
      " [0.77153835 0.09174248 0.95798867 0.45335839]]\n",
      "Конечная матрица:\n",
      " [0.53470418, 0.58246917, 0.73052326, 0.75501774, 0.41100978, 0.18135442, 0.76424319, 0.94132555, 0.52730753, 0.25060803, 0.85691326, 0.53184822, 0.77153835, 0.09174248, 0.95798867, 0.45335839]\n"
     ]
    }
   ],
   "source": [
    "import numpy as np\n",
    "l = []\n",
    "n = int(input(\"Введите кол-во строк: \"))\n",
    "m = int(input(\"Введите кол-во стлбцов \"))\n",
    "mat = np.random.rand(n, m)\n",
    "print(\"Исходная матрица:\\n\", mat)\n",
    "for i in mat:\n",
    "    for j in i:\n",
    "        l.append(round(j, 8))\n",
    "\n",
    "print(\"Конечная матрица:\\n\", l)\n"
   ]
  }
 ],
 "metadata": {
  "kernelspec": {
   "display_name": "Python 3",
   "language": "python",
   "name": "python3"
  },
  "language_info": {
   "codemirror_mode": {
    "name": "ipython",
    "version": 2
   },
   "file_extension": ".py",
   "mimetype": "text/x-python",
   "name": "python",
   "nbconvert_exporter": "python",
   "pygments_lexer": "ipython2",
   "version": "2.7.6"
  }
 },
 "nbformat": 4,
 "nbformat_minor": 0
}
