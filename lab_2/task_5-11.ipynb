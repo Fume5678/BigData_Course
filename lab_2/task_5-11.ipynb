{
 "cells": [
  {
   "cell_type": "code",
   "execution_count": 4,
   "metadata": {
    "collapsed": true
   },
   "outputs": [],
   "source": [
    "from sklearn.datasets import fetch_california_housing\n",
    "import pandas as pd"
   ]
  },
  {
   "cell_type": "code",
   "execution_count": 5,
   "outputs": [],
   "source": [
    "def find_mean(x):\n",
    "    mean = x.mean()\n",
    "    print(x.name, mean)\n",
    "    return x"
   ],
   "metadata": {
    "collapsed": false
   }
  },
  {
   "cell_type": "code",
   "execution_count": 9,
   "outputs": [],
   "source": [
    "def task5():\n",
    "    data = fetch_california_housing(as_frame=True)\n",
    "    med_house_val = pd.DataFrame({data.target_names[0]: data.target})\n",
    "    with_med = pd.concat([data.data, med_house_val], axis=1)\n",
    "    sorted_df = with_med.loc[(with_med.HouseAge > 50) &\n",
    "                             (with_med.Population > 2500)]\n",
    "    print(data.data.head(10).to_string())\n",
    "    print(\"\\n___________________________\\n\")\n",
    "    print(with_med.head(10).to_string())\n",
    "    print(\"\\n___________________________\\n\")\n",
    "    print(with_med.info())\n",
    "    print(\"\\n___________________________\\n\")\n",
    "    print(with_med.isna().sum())\n",
    "    print(\"\\n___________________________\\n\")\n",
    "    print(sorted_df.to_string())\n",
    "    print(\"\\n___________________________\\n\")\n",
    "    print(with_med.MedHouseVal.max())\n",
    "    print(with_med.MedHouseVal.min())\n",
    "    print(\"\\n___________________________\\n\")\n",
    "    with_med.apply(find_mean, axis=0)"
   ],
   "metadata": {
    "collapsed": false
   }
  },
  {
   "cell_type": "code",
   "execution_count": 10,
   "outputs": [
    {
     "name": "stdout",
     "output_type": "stream",
     "text": [
      "   MedInc  HouseAge  AveRooms  AveBedrms  Population  AveOccup  Latitude  Longitude\n",
      "0  8.3252      41.0  6.984127   1.023810       322.0  2.555556     37.88    -122.23\n",
      "1  8.3014      21.0  6.238137   0.971880      2401.0  2.109842     37.86    -122.22\n",
      "2  7.2574      52.0  8.288136   1.073446       496.0  2.802260     37.85    -122.24\n",
      "3  5.6431      52.0  5.817352   1.073059       558.0  2.547945     37.85    -122.25\n",
      "4  3.8462      52.0  6.281853   1.081081       565.0  2.181467     37.85    -122.25\n",
      "5  4.0368      52.0  4.761658   1.103627       413.0  2.139896     37.85    -122.25\n",
      "6  3.6591      52.0  4.931907   0.951362      1094.0  2.128405     37.84    -122.25\n",
      "7  3.1200      52.0  4.797527   1.061824      1157.0  1.788253     37.84    -122.25\n",
      "8  2.0804      42.0  4.294118   1.117647      1206.0  2.026891     37.84    -122.26\n",
      "9  3.6912      52.0  4.970588   0.990196      1551.0  2.172269     37.84    -122.25\n",
      "\n",
      "___________________________\n",
      "\n",
      "   MedInc  HouseAge  AveRooms  AveBedrms  Population  AveOccup  Latitude  Longitude  MedHouseVal\n",
      "0  8.3252      41.0  6.984127   1.023810       322.0  2.555556     37.88    -122.23        4.526\n",
      "1  8.3014      21.0  6.238137   0.971880      2401.0  2.109842     37.86    -122.22        3.585\n",
      "2  7.2574      52.0  8.288136   1.073446       496.0  2.802260     37.85    -122.24        3.521\n",
      "3  5.6431      52.0  5.817352   1.073059       558.0  2.547945     37.85    -122.25        3.413\n",
      "4  3.8462      52.0  6.281853   1.081081       565.0  2.181467     37.85    -122.25        3.422\n",
      "5  4.0368      52.0  4.761658   1.103627       413.0  2.139896     37.85    -122.25        2.697\n",
      "6  3.6591      52.0  4.931907   0.951362      1094.0  2.128405     37.84    -122.25        2.992\n",
      "7  3.1200      52.0  4.797527   1.061824      1157.0  1.788253     37.84    -122.25        2.414\n",
      "8  2.0804      42.0  4.294118   1.117647      1206.0  2.026891     37.84    -122.26        2.267\n",
      "9  3.6912      52.0  4.970588   0.990196      1551.0  2.172269     37.84    -122.25        2.611\n",
      "\n",
      "___________________________\n",
      "\n",
      "<class 'pandas.core.frame.DataFrame'>\n",
      "RangeIndex: 20640 entries, 0 to 20639\n",
      "Data columns (total 9 columns):\n",
      " #   Column       Non-Null Count  Dtype  \n",
      "---  ------       --------------  -----  \n",
      " 0   MedInc       20640 non-null  float64\n",
      " 1   HouseAge     20640 non-null  float64\n",
      " 2   AveRooms     20640 non-null  float64\n",
      " 3   AveBedrms    20640 non-null  float64\n",
      " 4   Population   20640 non-null  float64\n",
      " 5   AveOccup     20640 non-null  float64\n",
      " 6   Latitude     20640 non-null  float64\n",
      " 7   Longitude    20640 non-null  float64\n",
      " 8   MedHouseVal  20640 non-null  float64\n",
      "dtypes: float64(9)\n",
      "memory usage: 1.4 MB\n",
      "None\n",
      "\n",
      "___________________________\n",
      "\n",
      "MedInc         0\n",
      "HouseAge       0\n",
      "AveRooms       0\n",
      "AveBedrms      0\n",
      "Population     0\n",
      "AveOccup       0\n",
      "Latitude       0\n",
      "Longitude      0\n",
      "MedHouseVal    0\n",
      "dtype: int64\n",
      "\n",
      "___________________________\n",
      "\n",
      "       MedInc  HouseAge  AveRooms  AveBedrms  Population    AveOccup  Latitude  Longitude  MedHouseVal\n",
      "460    1.4012      52.0  3.105714   1.060000      3337.0    9.534286     37.87    -122.26      1.75000\n",
      "4131   3.5349      52.0  4.646119   1.047945      2589.0    5.910959     34.13    -118.20      1.93600\n",
      "4440   2.6806      52.0  4.806283   1.057592      3062.0    4.007853     34.08    -118.21      1.53000\n",
      "5986   1.8750      52.0  4.500000   1.206349      2688.0   21.333333     34.10    -117.71      2.12500\n",
      "7369   3.1901      52.0  4.730942   1.017937      3731.0    4.182735     33.97    -118.21      1.67600\n",
      "8227   2.3305      52.0  3.488860   1.170380      3018.0    3.955439     33.78    -118.20      1.62500\n",
      "13034  6.1359      52.0  8.275862   1.517241      6675.0  230.172414     38.69    -121.15      2.25000\n",
      "15634  1.8295      52.0  2.628169   1.053521      2957.0    4.164789     37.80    -122.41      2.43800\n",
      "15652  0.9000      52.0  2.237474   1.053535      3260.0    2.237474     37.80    -122.41      5.00001\n",
      "15657  2.5166      52.0  2.839075   1.184049      3436.0    1.621520     37.79    -122.41      2.75000\n",
      "15659  1.7240      52.0  2.278566   1.082348      4518.0    1.780142     37.79    -122.41      2.25000\n",
      "15795  2.5755      52.0  3.402576   1.058776      2619.0    2.108696     37.77    -122.42      3.25000\n",
      "15868  2.8135      52.0  4.584329   1.041169      2987.0    3.966799     37.76    -122.41      2.60300\n",
      "\n",
      "___________________________\n",
      "\n",
      "5.00001\n",
      "0.14999\n",
      "\n",
      "___________________________\n",
      "\n",
      "MedInc 3.8706710029070246\n",
      "HouseAge 28.639486434108527\n",
      "AveRooms 5.428999742190365\n",
      "AveBedrms 1.0966751496062053\n",
      "Population 1425.4767441860465\n",
      "AveOccup 3.070655159436382\n",
      "Latitude 35.6318614341087\n",
      "Longitude -119.56970445736148\n",
      "MedHouseVal 2.0685581690891843\n"
     ]
    }
   ],
   "source": [
    "task5()"
   ],
   "metadata": {
    "collapsed": false
   }
  }
 ],
 "metadata": {
  "kernelspec": {
   "display_name": "Python 3",
   "language": "python",
   "name": "python3"
  },
  "language_info": {
   "codemirror_mode": {
    "name": "ipython",
    "version": 2
   },
   "file_extension": ".py",
   "mimetype": "text/x-python",
   "name": "python",
   "nbconvert_exporter": "python",
   "pygments_lexer": "ipython2",
   "version": "2.7.6"
  }
 },
 "nbformat": 4,
 "nbformat_minor": 0
}
