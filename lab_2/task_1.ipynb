{
 "cells": [
  {
   "cell_type": "code",
   "execution_count": 1,
   "metadata": {
    "collapsed": true
   },
   "outputs": [
    {
     "name": "stdout",
     "output_type": "stream",
     "text": [
      "3\n",
      "3\n",
      "-6\n",
      "54\n"
     ]
    }
   ],
   "source": [
    "l = []\n",
    "s = 0\n",
    "result = 0\n",
    "while True:\n",
    "    num = int(input())\n",
    "    print(num)\n",
    "    s += num\n",
    "    l.append(num)\n",
    "    if s == 0:\n",
    "        break\n",
    "\n",
    "for i in l:\n",
    "    result += i ** 2\n",
    "\n",
    "print(result)"
   ]
  }
 ],
 "metadata": {
  "kernelspec": {
   "display_name": "Python 3",
   "language": "python",
   "name": "python3"
  },
  "language_info": {
   "codemirror_mode": {
    "name": "ipython",
    "version": 2
   },
   "file_extension": ".py",
   "mimetype": "text/x-python",
   "name": "python",
   "nbconvert_exporter": "python",
   "pygments_lexer": "ipython2",
   "version": "2.7.6"
  }
 },
 "nbformat": 4,
 "nbformat_minor": 0
}
