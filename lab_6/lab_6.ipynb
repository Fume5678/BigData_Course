{
 "cells": [
  {
   "cell_type": "code",
   "execution_count": 14,
   "metadata": {
    "collapsed": true
   },
   "outputs": [],
   "source": [
    "import os\n",
    "import numpy as np\n",
    "import pandas as pd\n",
    "import plotly as pl\n",
    "import plotly.express as px\n",
    "import matplotlib as mpl\n",
    "import matplotlib.pyplot as plt\n",
    "import scipy.stats as sts\n",
    "import seaborn as sns\n",
    "import math\n",
    "import pylab\n",
    "import random"
   ]
  },
  {
   "cell_type": "code",
   "execution_count": 15,
   "outputs": [
    {
     "name": "stdout",
     "output_type": "stream",
     "text": [
      "<class 'pandas.core.frame.DataFrame'>\n",
      "RangeIndex: 61904 entries, 0 to 61903\n",
      "Data columns (total 12 columns):\n",
      " #   Column                                                      Non-Null Count  Dtype  \n",
      "---  ------                                                      --------------  -----  \n",
      " 0   dateRep                                                     61904 non-null  object \n",
      " 1   day                                                         61904 non-null  int64  \n",
      " 2   month                                                       61904 non-null  int64  \n",
      " 3   year                                                        61904 non-null  int64  \n",
      " 4   cases                                                       61904 non-null  int64  \n",
      " 5   deaths                                                      61904 non-null  int64  \n",
      " 6   countriesAndTerritories                                     61904 non-null  object \n",
      " 7   geoId                                                       61629 non-null  object \n",
      " 8   countryterritoryCode                                        61781 non-null  object \n",
      " 9   popData2019                                                 61781 non-null  float64\n",
      " 10  continentExp                                                61904 non-null  object \n",
      " 11  Cumulative_number_for_14_days_of_COVID-19_cases_per_100000  59025 non-null  float64\n",
      "dtypes: float64(2), int64(5), object(5)\n",
      "memory usage: 5.7+ MB\n",
      "      dateRep  day  month  year  cases  deaths countriesAndTerritories geoId  \\\n",
      "0  14/12/2020   14     12  2020    746       6             Afghanistan    AF   \n",
      "1  13/12/2020   13     12  2020    298       9             Afghanistan    AF   \n",
      "2  12/12/2020   12     12  2020    113      11             Afghanistan    AF   \n",
      "3  12/12/2020   12     12  2020    113      11             Afghanistan    AF   \n",
      "4  11/12/2020   11     12  2020     63      10             Afghanistan    AF   \n",
      "\n",
      "  countryterritoryCode  popData2019 continentExp  \\\n",
      "0                  AFG   38041757.0         Asia   \n",
      "1                  AFG   38041757.0         Asia   \n",
      "2                  AFG   38041757.0         Asia   \n",
      "3                  AFG   38041757.0         Asia   \n",
      "4                  AFG   38041757.0         Asia   \n",
      "\n",
      "   Cumulative_number_for_14_days_of_COVID-19_cases_per_100000  \n",
      "0                                           9.013779           \n",
      "1                                           7.052776           \n",
      "2                                           6.868768           \n",
      "3                                           6.868768           \n",
      "4                                           7.134266           \n"
     ]
    }
   ],
   "source": [
    "data = pd.read_csv(\"./ECDCCases.csv\")\n",
    "data.info()\n",
    "print(data.head())"
   ],
   "metadata": {
    "collapsed": false
   }
  },
  {
   "cell_type": "code",
   "execution_count": 22,
   "outputs": [
    {
     "name": "stdout",
     "output_type": "stream",
     "text": [
      "dateRep: 0.0\n",
      "day: 0.0\n",
      "month: 0.0\n",
      "year: 0.0\n",
      "cases: 0.0\n",
      "deaths: 0.0\n",
      "countriesAndTerritories: 0.0\n",
      "geoId: 0.4462185010303591\n",
      "countryterritoryCode: 0.19909033521632863\n",
      "popData2019: 0.19909033521632863\n",
      "continentExp: 0.0\n",
      "Cumulative_number_for_14_days_of_COVID-19_cases_per_100000: 4.8775942397289285\n",
      "Stat of none {'dateRep': 0, 'day': 0, 'month': 0, 'year': 0, 'cases': 0, 'deaths': 0, 'countriesAndTerritories': 0, 'geoId': 275, 'countryterritoryCode': 123, 'popData2019': 123, 'continentExp': 0, 'Cumulative_number_for_14_days_of_COVID-19_cases_per_100000': 2879}\n",
      "remove Cumulative_number_for_14_days_of_COVID-19_cases_per_100000 column\n",
      "remove geoId column\n",
      "dateRep type object: other\n",
      "day type int64:  Median: 15.0\n",
      "month type int64:  Median: 7.0\n",
      "year type int64:  Median: 2020.0\n",
      "cases type int64:  Median: 15.0\n",
      "deaths type int64:  Median: 0.0\n",
      "countriesAndTerritories type object: other\n",
      "countryterritoryCode type object: other\n",
      "popData2019 type float64:  Median: 7169456.0\n",
      "continentExp type object: other\n",
      "Stat of none after clearing {'dateRep': 0, 'day': 0, 'month': 0, 'year': 0, 'cases': 0, 'deaths': 0, 'countriesAndTerritories': 0, 'countryterritoryCode': 0, 'popData2019': 0, 'continentExp': 0}\n"
     ]
    }
   ],
   "source": [
    "count_none = {}\n",
    "for h in data:\n",
    "    count_none[h] = data[h].isna().sum()\n",
    "    perc = float(data[h].isna().sum()) / float(data[h].count()) * 100\n",
    "    print(f\"{h}: {perc}\")\n",
    "\n",
    "print(f\"Stat of none {count_none}\")\n",
    "\n",
    "max1 = max(count_none, key=count_none.get)\n",
    "print(f\"remove {max1} column\")\n",
    "count_none[max1] = 0\n",
    "df = data.drop(max1, axis=1)\n",
    "\n",
    "max2 = max(count_none, key=count_none.get)\n",
    "print(f\"remove {max2} column\")\n",
    "count_none[max2] = 0\n",
    "df = df.drop(max2, axis=1)\n",
    "\n",
    "\n",
    "# print(f\"med {np.median(df['popData2019'])}\")\n",
    "\n",
    "for h in df:\n",
    "    print(f\"{h} type {df[h].dtypes}: \", end='')\n",
    "    if df[h].dtypes != \"int64\" and data[h].dtypes != \"float64\":\n",
    "        print(\"other\")\n",
    "        df[h] = df[h].fillna(\"other\")\n",
    "    else:\n",
    "        med = df[h].median()\n",
    "        print(f\" Median: {med}\")\n",
    "        df[h] = df[h].fillna(med)\n",
    "\n",
    "count_none = {}\n",
    "for h in df:\n",
    "    count_none[h] = df[h].isna().sum()\n",
    "\n",
    "print(f\"Stat of none after clearing {count_none}\")"
   ],
   "metadata": {
    "collapsed": false
   }
  },
  {
   "cell_type": "code",
   "execution_count": null,
   "outputs": [],
   "source": [
    "print(df.describe())\n",
    "\n",
    "res = {}\n",
    "for ind, row in df.reset_index().iterrows():\n",
    "    if row[\"deaths\"] > 3000:\n",
    "        if row[\"countriesAndTerritories\"] not in res:\n",
    "            res[row[\"countriesAndTerritories\"]] = 1\n",
    "        else:\n",
    "            res[row[\"countriesAndTerritories\"]] += 1\n",
    "\n",
    "fig = px.bar(x = res.keys(), y = res.values(), title=\"Amount of days when deaths is greater than 3000\")\n",
    "fig.show()"
   ],
   "metadata": {
    "collapsed": false
   }
  },
  {
   "cell_type": "code",
   "execution_count": null,
   "outputs": [],
   "source": [
    "df = df.drop_duplicates()\n",
    "df.info()"
   ],
   "metadata": {
    "collapsed": false
   }
  },
  {
   "cell_type": "code",
   "execution_count": null,
   "outputs": [],
   "source": [
    "import scipy\n",
    "\n",
    "data = pd.read_csv(\"./bmi.csv\")\n",
    "data.info()\n",
    "\n",
    "print(sts.shapiro(data[data[\"region\"] == \"northwest\"].bmi))\n",
    "print(sts.shapiro(data[data[\"region\"] == \"southwest\"].bmi))\n",
    "\n",
    "print(sts.bartlett(data[data[\"region\"] == \"northwest\"].bmi, data[data[\"region\"] == \"southwest\"].bmi))\n",
    "\n",
    "print(sts.ttest_ind(data[data[\"region\"] == \"northwest\"].bmi, data[data[\"region\"] == \"southwest\"].bmi))"
   ],
   "metadata": {
    "collapsed": false
   }
  },
  {
   "cell_type": "code",
   "execution_count": null,
   "outputs": [],
   "source": [
    "data = pd.DataFrame({\n",
    "    \"N\": [1, 2, 3, 4, 5, 6],\n",
    "    \"amount\": [97, 98, 109, 95, 97, 104]\n",
    "})\n",
    "\n",
    "print(data.head())\n",
    "\n",
    "print(sts.chisquare(data[\"amount\"]))\n",
    "# Значения очень равномерные"
   ],
   "metadata": {
    "collapsed": false
   }
  },
  {
   "cell_type": "code",
   "execution_count": null,
   "outputs": [],
   "source": [
    "data = pd.DataFrame({'Женат': [89,17,11,43,22,1],\n",
    "                     'Гражданский брак': [80,22,20,35,6,4],\n",
    "                     'Не состоит в отношениях': [35,44,35,6,8,22]})\n",
    "data.index = ['Полный рабочий день','Частичная занятость','Временно не работает','На домохозяйстве','На пенсии','Учёба']\n",
    "\n",
    "print(data.head())\n",
    "print(sts.chi2_contingency(data))\n",
    "# Щас бы в браке работать на фулл тайм"
   ],
   "metadata": {
    "collapsed": false
   }
  }
 ],
 "metadata": {
  "kernelspec": {
   "display_name": "Python 3",
   "language": "python",
   "name": "python3"
  },
  "language_info": {
   "codemirror_mode": {
    "name": "ipython",
    "version": 2
   },
   "file_extension": ".py",
   "mimetype": "text/x-python",
   "name": "python",
   "nbconvert_exporter": "python",
   "pygments_lexer": "ipython2",
   "version": "2.7.6"
  }
 },
 "nbformat": 4,
 "nbformat_minor": 0
}
