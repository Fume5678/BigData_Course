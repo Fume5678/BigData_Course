{
 "cells": [
  {
   "cell_type": "code",
   "execution_count": 31,
   "metadata": {
    "collapsed": true
   },
   "outputs": [],
   "source": [
    "import os\n",
    "import numpy as np\n",
    "import pandas as pd\n",
    "import plotly as pl\n",
    "import plotly.express as px\n",
    "import matplotlib as mpl\n",
    "import matplotlib.pyplot as plt\n",
    "import scipy.stats as sts\n",
    "import seaborn as sns\n",
    "import math\n",
    "import pylab\n",
    "import random"
   ]
  },
  {
   "cell_type": "code",
   "execution_count": 32,
   "outputs": [
    {
     "name": "stdout",
     "output_type": "stream",
     "text": [
      "<class 'pandas.core.frame.DataFrame'>\n",
      "RangeIndex: 1338 entries, 0 to 1337\n",
      "Data columns (total 7 columns):\n",
      " #   Column    Non-Null Count  Dtype  \n",
      "---  ------    --------------  -----  \n",
      " 0   age       1338 non-null   int64  \n",
      " 1   sex       1338 non-null   object \n",
      " 2   bmi       1338 non-null   float64\n",
      " 3   children  1338 non-null   int64  \n",
      " 4   smoker    1338 non-null   object \n",
      " 5   region    1338 non-null   object \n",
      " 6   charges   1338 non-null   float64\n",
      "dtypes: float64(2), int64(2), object(3)\n",
      "memory usage: 73.3+ KB\n",
      "None\n",
      "   age     sex     bmi  children smoker     region      charges\n",
      "0   19  female  27.900         0    yes  southwest  16884.92400\n",
      "1   18    male  33.770         1     no  southeast   1725.55230\n",
      "2   28    male  33.000         3     no  southeast   4449.46200\n",
      "3   33    male  22.705         0     no  northwest  21984.47061\n",
      "4   32    male  28.880         0     no  northwest   3866.85520\n"
     ]
    }
   ],
   "source": [
    "data = pd.read_csv(\"./insurance.csv\")\n",
    "print(data.info())\n",
    "print(data.head())"
   ],
   "metadata": {
    "collapsed": false
   }
  },
  {
   "cell_type": "code",
   "execution_count": 33,
   "outputs": [
    {
     "name": "stdout",
     "output_type": "stream",
     "text": [
      "               age          bmi     children       charges\n",
      "count  1338.000000  1338.000000  1338.000000   1338.000000\n",
      "mean     39.207025    30.663397     1.094918  13270.422265\n",
      "std      14.049960     6.098187     1.205493  12110.011237\n",
      "min      18.000000    15.960000     0.000000   1121.873900\n",
      "25%      27.000000    26.296250     0.000000   4740.287150\n",
      "50%      39.000000    30.400000     1.000000   9382.033000\n",
      "75%      51.000000    34.693750     2.000000  16639.912515\n",
      "max      64.000000    53.130000     5.000000  63770.428010\n"
     ]
    }
   ],
   "source": [
    "print(data.describe())"
   ],
   "metadata": {
    "collapsed": false
   }
  },
  {
   "cell_type": "code",
   "execution_count": 34,
   "outputs": [
    {
     "name": "stdout",
     "output_type": "stream",
     "text": [
      "{'count': 1338.0, 'mean': 39.20702541106129, 'std': 14.049960379216172, 'min': 18.0, '25%': 27.0, '50%': 39.0, '75%': 51.0, 'max': 64.0}\n"
     ]
    },
    {
     "data": {
      "application/vnd.plotly.v1+json": {
       "data": [
        {
         "alignmentgroup": "True",
         "hovertemplate": "variable=age<br>index=%{x}<br>value=%{y}<extra></extra>",
         "legendgroup": "age",
         "marker": {
          "color": "#636efa",
          "pattern": {
           "shape": ""
          }
         },
         "name": "age",
         "offsetgroup": "age",
         "orientation": "v",
         "showlegend": true,
         "textposition": "auto",
         "x": [
          "mean",
          "std",
          "min",
          "25%",
          "50%",
          "75%",
          "max"
         ],
         "xaxis": "x",
         "y": [
          39.20702541106129,
          14.049960379216172,
          18.0,
          27.0,
          39.0,
          51.0,
          64.0
         ],
         "yaxis": "y",
         "type": "bar"
        },
        {
         "alignmentgroup": "True",
         "hovertemplate": "variable=bmi<br>index=%{x}<br>value=%{y}<extra></extra>",
         "legendgroup": "bmi",
         "marker": {
          "color": "#EF553B",
          "pattern": {
           "shape": ""
          }
         },
         "name": "bmi",
         "offsetgroup": "bmi",
         "orientation": "v",
         "showlegend": true,
         "textposition": "auto",
         "x": [
          "mean",
          "std",
          "min",
          "25%",
          "50%",
          "75%",
          "max"
         ],
         "xaxis": "x",
         "y": [
          30.663396860986538,
          6.098186911679017,
          15.96,
          26.29625,
          30.4,
          34.69375,
          53.13
         ],
         "yaxis": "y",
         "type": "bar"
        },
        {
         "alignmentgroup": "True",
         "hovertemplate": "variable=children<br>index=%{x}<br>value=%{y}<extra></extra>",
         "legendgroup": "children",
         "marker": {
          "color": "#00cc96",
          "pattern": {
           "shape": ""
          }
         },
         "name": "children",
         "offsetgroup": "children",
         "orientation": "v",
         "showlegend": true,
         "textposition": "auto",
         "x": [
          "mean",
          "std",
          "min",
          "25%",
          "50%",
          "75%",
          "max"
         ],
         "xaxis": "x",
         "y": [
          1.0949177877429,
          1.2054927397819095,
          0.0,
          0.0,
          1.0,
          2.0,
          5.0
         ],
         "yaxis": "y",
         "type": "bar"
        },
        {
         "alignmentgroup": "True",
         "hovertemplate": "variable=charges<br>index=%{x}<br>value=%{y}<extra></extra>",
         "legendgroup": "charges",
         "marker": {
          "color": "#ab63fa",
          "pattern": {
           "shape": ""
          }
         },
         "name": "charges",
         "offsetgroup": "charges",
         "orientation": "v",
         "showlegend": true,
         "textposition": "auto",
         "x": [
          "mean",
          "std",
          "min",
          "25%",
          "50%",
          "75%",
          "max"
         ],
         "xaxis": "x",
         "y": [
          13270.422265141257,
          12110.011236693994,
          1121.8739,
          4740.28715,
          9382.033,
          16639.912515,
          63770.42801
         ],
         "yaxis": "y",
         "type": "bar"
        }
       ],
       "layout": {
        "template": {
         "data": {
          "histogram2dcontour": [
           {
            "type": "histogram2dcontour",
            "colorbar": {
             "outlinewidth": 0,
             "ticks": ""
            },
            "colorscale": [
             [
              0.0,
              "#0d0887"
             ],
             [
              0.1111111111111111,
              "#46039f"
             ],
             [
              0.2222222222222222,
              "#7201a8"
             ],
             [
              0.3333333333333333,
              "#9c179e"
             ],
             [
              0.4444444444444444,
              "#bd3786"
             ],
             [
              0.5555555555555556,
              "#d8576b"
             ],
             [
              0.6666666666666666,
              "#ed7953"
             ],
             [
              0.7777777777777778,
              "#fb9f3a"
             ],
             [
              0.8888888888888888,
              "#fdca26"
             ],
             [
              1.0,
              "#f0f921"
             ]
            ]
           }
          ],
          "choropleth": [
           {
            "type": "choropleth",
            "colorbar": {
             "outlinewidth": 0,
             "ticks": ""
            }
           }
          ],
          "histogram2d": [
           {
            "type": "histogram2d",
            "colorbar": {
             "outlinewidth": 0,
             "ticks": ""
            },
            "colorscale": [
             [
              0.0,
              "#0d0887"
             ],
             [
              0.1111111111111111,
              "#46039f"
             ],
             [
              0.2222222222222222,
              "#7201a8"
             ],
             [
              0.3333333333333333,
              "#9c179e"
             ],
             [
              0.4444444444444444,
              "#bd3786"
             ],
             [
              0.5555555555555556,
              "#d8576b"
             ],
             [
              0.6666666666666666,
              "#ed7953"
             ],
             [
              0.7777777777777778,
              "#fb9f3a"
             ],
             [
              0.8888888888888888,
              "#fdca26"
             ],
             [
              1.0,
              "#f0f921"
             ]
            ]
           }
          ],
          "heatmap": [
           {
            "type": "heatmap",
            "colorbar": {
             "outlinewidth": 0,
             "ticks": ""
            },
            "colorscale": [
             [
              0.0,
              "#0d0887"
             ],
             [
              0.1111111111111111,
              "#46039f"
             ],
             [
              0.2222222222222222,
              "#7201a8"
             ],
             [
              0.3333333333333333,
              "#9c179e"
             ],
             [
              0.4444444444444444,
              "#bd3786"
             ],
             [
              0.5555555555555556,
              "#d8576b"
             ],
             [
              0.6666666666666666,
              "#ed7953"
             ],
             [
              0.7777777777777778,
              "#fb9f3a"
             ],
             [
              0.8888888888888888,
              "#fdca26"
             ],
             [
              1.0,
              "#f0f921"
             ]
            ]
           }
          ],
          "heatmapgl": [
           {
            "type": "heatmapgl",
            "colorbar": {
             "outlinewidth": 0,
             "ticks": ""
            },
            "colorscale": [
             [
              0.0,
              "#0d0887"
             ],
             [
              0.1111111111111111,
              "#46039f"
             ],
             [
              0.2222222222222222,
              "#7201a8"
             ],
             [
              0.3333333333333333,
              "#9c179e"
             ],
             [
              0.4444444444444444,
              "#bd3786"
             ],
             [
              0.5555555555555556,
              "#d8576b"
             ],
             [
              0.6666666666666666,
              "#ed7953"
             ],
             [
              0.7777777777777778,
              "#fb9f3a"
             ],
             [
              0.8888888888888888,
              "#fdca26"
             ],
             [
              1.0,
              "#f0f921"
             ]
            ]
           }
          ],
          "contourcarpet": [
           {
            "type": "contourcarpet",
            "colorbar": {
             "outlinewidth": 0,
             "ticks": ""
            }
           }
          ],
          "contour": [
           {
            "type": "contour",
            "colorbar": {
             "outlinewidth": 0,
             "ticks": ""
            },
            "colorscale": [
             [
              0.0,
              "#0d0887"
             ],
             [
              0.1111111111111111,
              "#46039f"
             ],
             [
              0.2222222222222222,
              "#7201a8"
             ],
             [
              0.3333333333333333,
              "#9c179e"
             ],
             [
              0.4444444444444444,
              "#bd3786"
             ],
             [
              0.5555555555555556,
              "#d8576b"
             ],
             [
              0.6666666666666666,
              "#ed7953"
             ],
             [
              0.7777777777777778,
              "#fb9f3a"
             ],
             [
              0.8888888888888888,
              "#fdca26"
             ],
             [
              1.0,
              "#f0f921"
             ]
            ]
           }
          ],
          "surface": [
           {
            "type": "surface",
            "colorbar": {
             "outlinewidth": 0,
             "ticks": ""
            },
            "colorscale": [
             [
              0.0,
              "#0d0887"
             ],
             [
              0.1111111111111111,
              "#46039f"
             ],
             [
              0.2222222222222222,
              "#7201a8"
             ],
             [
              0.3333333333333333,
              "#9c179e"
             ],
             [
              0.4444444444444444,
              "#bd3786"
             ],
             [
              0.5555555555555556,
              "#d8576b"
             ],
             [
              0.6666666666666666,
              "#ed7953"
             ],
             [
              0.7777777777777778,
              "#fb9f3a"
             ],
             [
              0.8888888888888888,
              "#fdca26"
             ],
             [
              1.0,
              "#f0f921"
             ]
            ]
           }
          ],
          "mesh3d": [
           {
            "type": "mesh3d",
            "colorbar": {
             "outlinewidth": 0,
             "ticks": ""
            }
           }
          ],
          "scatter": [
           {
            "marker": {
             "line": {
              "color": "#283442"
             }
            },
            "type": "scatter"
           }
          ],
          "parcoords": [
           {
            "type": "parcoords",
            "line": {
             "colorbar": {
              "outlinewidth": 0,
              "ticks": ""
             }
            }
           }
          ],
          "scatterpolargl": [
           {
            "type": "scatterpolargl",
            "marker": {
             "colorbar": {
              "outlinewidth": 0,
              "ticks": ""
             }
            }
           }
          ],
          "bar": [
           {
            "error_x": {
             "color": "#f2f5fa"
            },
            "error_y": {
             "color": "#f2f5fa"
            },
            "marker": {
             "line": {
              "color": "rgb(17,17,17)",
              "width": 0.5
             },
             "pattern": {
              "fillmode": "overlay",
              "size": 10,
              "solidity": 0.2
             }
            },
            "type": "bar"
           }
          ],
          "scattergeo": [
           {
            "type": "scattergeo",
            "marker": {
             "colorbar": {
              "outlinewidth": 0,
              "ticks": ""
             }
            }
           }
          ],
          "scatterpolar": [
           {
            "type": "scatterpolar",
            "marker": {
             "colorbar": {
              "outlinewidth": 0,
              "ticks": ""
             }
            }
           }
          ],
          "histogram": [
           {
            "marker": {
             "pattern": {
              "fillmode": "overlay",
              "size": 10,
              "solidity": 0.2
             }
            },
            "type": "histogram"
           }
          ],
          "scattergl": [
           {
            "marker": {
             "line": {
              "color": "#283442"
             }
            },
            "type": "scattergl"
           }
          ],
          "scatter3d": [
           {
            "type": "scatter3d",
            "line": {
             "colorbar": {
              "outlinewidth": 0,
              "ticks": ""
             }
            },
            "marker": {
             "colorbar": {
              "outlinewidth": 0,
              "ticks": ""
             }
            }
           }
          ],
          "scattermapbox": [
           {
            "type": "scattermapbox",
            "marker": {
             "colorbar": {
              "outlinewidth": 0,
              "ticks": ""
             }
            }
           }
          ],
          "scatterternary": [
           {
            "type": "scatterternary",
            "marker": {
             "colorbar": {
              "outlinewidth": 0,
              "ticks": ""
             }
            }
           }
          ],
          "scattercarpet": [
           {
            "type": "scattercarpet",
            "marker": {
             "colorbar": {
              "outlinewidth": 0,
              "ticks": ""
             }
            }
           }
          ],
          "carpet": [
           {
            "aaxis": {
             "endlinecolor": "#A2B1C6",
             "gridcolor": "#506784",
             "linecolor": "#506784",
             "minorgridcolor": "#506784",
             "startlinecolor": "#A2B1C6"
            },
            "baxis": {
             "endlinecolor": "#A2B1C6",
             "gridcolor": "#506784",
             "linecolor": "#506784",
             "minorgridcolor": "#506784",
             "startlinecolor": "#A2B1C6"
            },
            "type": "carpet"
           }
          ],
          "table": [
           {
            "cells": {
             "fill": {
              "color": "#506784"
             },
             "line": {
              "color": "rgb(17,17,17)"
             }
            },
            "header": {
             "fill": {
              "color": "#2a3f5f"
             },
             "line": {
              "color": "rgb(17,17,17)"
             }
            },
            "type": "table"
           }
          ],
          "barpolar": [
           {
            "marker": {
             "line": {
              "color": "rgb(17,17,17)",
              "width": 0.5
             },
             "pattern": {
              "fillmode": "overlay",
              "size": 10,
              "solidity": 0.2
             }
            },
            "type": "barpolar"
           }
          ],
          "pie": [
           {
            "automargin": true,
            "type": "pie"
           }
          ]
         },
         "layout": {
          "autotypenumbers": "strict",
          "colorway": [
           "#636efa",
           "#EF553B",
           "#00cc96",
           "#ab63fa",
           "#FFA15A",
           "#19d3f3",
           "#FF6692",
           "#B6E880",
           "#FF97FF",
           "#FECB52"
          ],
          "font": {
           "color": "#f2f5fa"
          },
          "hovermode": "closest",
          "hoverlabel": {
           "align": "left"
          },
          "paper_bgcolor": "rgb(17,17,17)",
          "plot_bgcolor": "rgb(17,17,17)",
          "polar": {
           "bgcolor": "rgb(17,17,17)",
           "angularaxis": {
            "gridcolor": "#506784",
            "linecolor": "#506784",
            "ticks": ""
           },
           "radialaxis": {
            "gridcolor": "#506784",
            "linecolor": "#506784",
            "ticks": ""
           }
          },
          "ternary": {
           "bgcolor": "rgb(17,17,17)",
           "aaxis": {
            "gridcolor": "#506784",
            "linecolor": "#506784",
            "ticks": ""
           },
           "baxis": {
            "gridcolor": "#506784",
            "linecolor": "#506784",
            "ticks": ""
           },
           "caxis": {
            "gridcolor": "#506784",
            "linecolor": "#506784",
            "ticks": ""
           }
          },
          "coloraxis": {
           "colorbar": {
            "outlinewidth": 0,
            "ticks": ""
           }
          },
          "colorscale": {
           "sequential": [
            [
             0.0,
             "#0d0887"
            ],
            [
             0.1111111111111111,
             "#46039f"
            ],
            [
             0.2222222222222222,
             "#7201a8"
            ],
            [
             0.3333333333333333,
             "#9c179e"
            ],
            [
             0.4444444444444444,
             "#bd3786"
            ],
            [
             0.5555555555555556,
             "#d8576b"
            ],
            [
             0.6666666666666666,
             "#ed7953"
            ],
            [
             0.7777777777777778,
             "#fb9f3a"
            ],
            [
             0.8888888888888888,
             "#fdca26"
            ],
            [
             1.0,
             "#f0f921"
            ]
           ],
           "sequentialminus": [
            [
             0.0,
             "#0d0887"
            ],
            [
             0.1111111111111111,
             "#46039f"
            ],
            [
             0.2222222222222222,
             "#7201a8"
            ],
            [
             0.3333333333333333,
             "#9c179e"
            ],
            [
             0.4444444444444444,
             "#bd3786"
            ],
            [
             0.5555555555555556,
             "#d8576b"
            ],
            [
             0.6666666666666666,
             "#ed7953"
            ],
            [
             0.7777777777777778,
             "#fb9f3a"
            ],
            [
             0.8888888888888888,
             "#fdca26"
            ],
            [
             1.0,
             "#f0f921"
            ]
           ],
           "diverging": [
            [
             0,
             "#8e0152"
            ],
            [
             0.1,
             "#c51b7d"
            ],
            [
             0.2,
             "#de77ae"
            ],
            [
             0.3,
             "#f1b6da"
            ],
            [
             0.4,
             "#fde0ef"
            ],
            [
             0.5,
             "#f7f7f7"
            ],
            [
             0.6,
             "#e6f5d0"
            ],
            [
             0.7,
             "#b8e186"
            ],
            [
             0.8,
             "#7fbc41"
            ],
            [
             0.9,
             "#4d9221"
            ],
            [
             1,
             "#276419"
            ]
           ]
          },
          "xaxis": {
           "gridcolor": "#283442",
           "linecolor": "#506784",
           "ticks": "",
           "title": {
            "standoff": 15
           },
           "zerolinecolor": "#283442",
           "automargin": true,
           "zerolinewidth": 2
          },
          "yaxis": {
           "gridcolor": "#283442",
           "linecolor": "#506784",
           "ticks": "",
           "title": {
            "standoff": 15
           },
           "zerolinecolor": "#283442",
           "automargin": true,
           "zerolinewidth": 2
          },
          "scene": {
           "xaxis": {
            "backgroundcolor": "rgb(17,17,17)",
            "gridcolor": "#506784",
            "linecolor": "#506784",
            "showbackground": true,
            "ticks": "",
            "zerolinecolor": "#C8D4E3",
            "gridwidth": 2
           },
           "yaxis": {
            "backgroundcolor": "rgb(17,17,17)",
            "gridcolor": "#506784",
            "linecolor": "#506784",
            "showbackground": true,
            "ticks": "",
            "zerolinecolor": "#C8D4E3",
            "gridwidth": 2
           },
           "zaxis": {
            "backgroundcolor": "rgb(17,17,17)",
            "gridcolor": "#506784",
            "linecolor": "#506784",
            "showbackground": true,
            "ticks": "",
            "zerolinecolor": "#C8D4E3",
            "gridwidth": 2
           }
          },
          "shapedefaults": {
           "line": {
            "color": "#f2f5fa"
           }
          },
          "annotationdefaults": {
           "arrowcolor": "#f2f5fa",
           "arrowhead": 0,
           "arrowwidth": 1
          },
          "geo": {
           "bgcolor": "rgb(17,17,17)",
           "landcolor": "rgb(17,17,17)",
           "subunitcolor": "#506784",
           "showland": true,
           "showlakes": true,
           "lakecolor": "rgb(17,17,17)"
          },
          "title": {
           "x": 0.05
          },
          "updatemenudefaults": {
           "bgcolor": "#506784",
           "borderwidth": 0
          },
          "sliderdefaults": {
           "bgcolor": "#C8D4E3",
           "borderwidth": 1,
           "bordercolor": "rgb(17,17,17)",
           "tickwidth": 0
          },
          "mapbox": {
           "style": "dark"
          }
         }
        },
        "xaxis": {
         "anchor": "y",
         "domain": [
          0.0,
          1.0
         ],
         "title": {
          "text": "stats"
         }
        },
        "yaxis": {
         "anchor": "x",
         "domain": [
          0.0,
          1.0
         ],
         "title": {
          "text": "age"
         }
        },
        "legend": {
         "title": {
          "text": "variable"
         },
         "tracegroupgap": 0
        },
        "margin": {
         "t": 60
        },
        "barmode": "relative"
       },
       "config": {
        "plotlyServerURL": "https://plot.ly"
       }
      },
      "text/html": "<div>                            <div id=\"7ff40b33-e1f3-44b4-93f5-6e65ce65cc26\" class=\"plotly-graph-div\" style=\"height:525px; width:100%;\"></div>            <script type=\"text/javascript\">                require([\"plotly\"], function(Plotly) {                    window.PLOTLYENV=window.PLOTLYENV || {};                                    if (document.getElementById(\"7ff40b33-e1f3-44b4-93f5-6e65ce65cc26\")) {                    Plotly.newPlot(                        \"7ff40b33-e1f3-44b4-93f5-6e65ce65cc26\",                        [{\"alignmentgroup\":\"True\",\"hovertemplate\":\"variable=age<br>index=%{x}<br>value=%{y}<extra></extra>\",\"legendgroup\":\"age\",\"marker\":{\"color\":\"#636efa\",\"pattern\":{\"shape\":\"\"}},\"name\":\"age\",\"offsetgroup\":\"age\",\"orientation\":\"v\",\"showlegend\":true,\"textposition\":\"auto\",\"x\":[\"mean\",\"std\",\"min\",\"25%\",\"50%\",\"75%\",\"max\"],\"xaxis\":\"x\",\"y\":[39.20702541106129,14.049960379216172,18.0,27.0,39.0,51.0,64.0],\"yaxis\":\"y\",\"type\":\"bar\"},{\"alignmentgroup\":\"True\",\"hovertemplate\":\"variable=bmi<br>index=%{x}<br>value=%{y}<extra></extra>\",\"legendgroup\":\"bmi\",\"marker\":{\"color\":\"#EF553B\",\"pattern\":{\"shape\":\"\"}},\"name\":\"bmi\",\"offsetgroup\":\"bmi\",\"orientation\":\"v\",\"showlegend\":true,\"textposition\":\"auto\",\"x\":[\"mean\",\"std\",\"min\",\"25%\",\"50%\",\"75%\",\"max\"],\"xaxis\":\"x\",\"y\":[30.663396860986538,6.098186911679017,15.96,26.29625,30.4,34.69375,53.13],\"yaxis\":\"y\",\"type\":\"bar\"},{\"alignmentgroup\":\"True\",\"hovertemplate\":\"variable=children<br>index=%{x}<br>value=%{y}<extra></extra>\",\"legendgroup\":\"children\",\"marker\":{\"color\":\"#00cc96\",\"pattern\":{\"shape\":\"\"}},\"name\":\"children\",\"offsetgroup\":\"children\",\"orientation\":\"v\",\"showlegend\":true,\"textposition\":\"auto\",\"x\":[\"mean\",\"std\",\"min\",\"25%\",\"50%\",\"75%\",\"max\"],\"xaxis\":\"x\",\"y\":[1.0949177877429,1.2054927397819095,0.0,0.0,1.0,2.0,5.0],\"yaxis\":\"y\",\"type\":\"bar\"},{\"alignmentgroup\":\"True\",\"hovertemplate\":\"variable=charges<br>index=%{x}<br>value=%{y}<extra></extra>\",\"legendgroup\":\"charges\",\"marker\":{\"color\":\"#ab63fa\",\"pattern\":{\"shape\":\"\"}},\"name\":\"charges\",\"offsetgroup\":\"charges\",\"orientation\":\"v\",\"showlegend\":true,\"textposition\":\"auto\",\"x\":[\"mean\",\"std\",\"min\",\"25%\",\"50%\",\"75%\",\"max\"],\"xaxis\":\"x\",\"y\":[13270.422265141257,12110.011236693994,1121.8739,4740.28715,9382.033,16639.912515,63770.42801],\"yaxis\":\"y\",\"type\":\"bar\"}],                        {\"template\":{\"data\":{\"histogram2dcontour\":[{\"type\":\"histogram2dcontour\",\"colorbar\":{\"outlinewidth\":0,\"ticks\":\"\"},\"colorscale\":[[0.0,\"#0d0887\"],[0.1111111111111111,\"#46039f\"],[0.2222222222222222,\"#7201a8\"],[0.3333333333333333,\"#9c179e\"],[0.4444444444444444,\"#bd3786\"],[0.5555555555555556,\"#d8576b\"],[0.6666666666666666,\"#ed7953\"],[0.7777777777777778,\"#fb9f3a\"],[0.8888888888888888,\"#fdca26\"],[1.0,\"#f0f921\"]]}],\"choropleth\":[{\"type\":\"choropleth\",\"colorbar\":{\"outlinewidth\":0,\"ticks\":\"\"}}],\"histogram2d\":[{\"type\":\"histogram2d\",\"colorbar\":{\"outlinewidth\":0,\"ticks\":\"\"},\"colorscale\":[[0.0,\"#0d0887\"],[0.1111111111111111,\"#46039f\"],[0.2222222222222222,\"#7201a8\"],[0.3333333333333333,\"#9c179e\"],[0.4444444444444444,\"#bd3786\"],[0.5555555555555556,\"#d8576b\"],[0.6666666666666666,\"#ed7953\"],[0.7777777777777778,\"#fb9f3a\"],[0.8888888888888888,\"#fdca26\"],[1.0,\"#f0f921\"]]}],\"heatmap\":[{\"type\":\"heatmap\",\"colorbar\":{\"outlinewidth\":0,\"ticks\":\"\"},\"colorscale\":[[0.0,\"#0d0887\"],[0.1111111111111111,\"#46039f\"],[0.2222222222222222,\"#7201a8\"],[0.3333333333333333,\"#9c179e\"],[0.4444444444444444,\"#bd3786\"],[0.5555555555555556,\"#d8576b\"],[0.6666666666666666,\"#ed7953\"],[0.7777777777777778,\"#fb9f3a\"],[0.8888888888888888,\"#fdca26\"],[1.0,\"#f0f921\"]]}],\"heatmapgl\":[{\"type\":\"heatmapgl\",\"colorbar\":{\"outlinewidth\":0,\"ticks\":\"\"},\"colorscale\":[[0.0,\"#0d0887\"],[0.1111111111111111,\"#46039f\"],[0.2222222222222222,\"#7201a8\"],[0.3333333333333333,\"#9c179e\"],[0.4444444444444444,\"#bd3786\"],[0.5555555555555556,\"#d8576b\"],[0.6666666666666666,\"#ed7953\"],[0.7777777777777778,\"#fb9f3a\"],[0.8888888888888888,\"#fdca26\"],[1.0,\"#f0f921\"]]}],\"contourcarpet\":[{\"type\":\"contourcarpet\",\"colorbar\":{\"outlinewidth\":0,\"ticks\":\"\"}}],\"contour\":[{\"type\":\"contour\",\"colorbar\":{\"outlinewidth\":0,\"ticks\":\"\"},\"colorscale\":[[0.0,\"#0d0887\"],[0.1111111111111111,\"#46039f\"],[0.2222222222222222,\"#7201a8\"],[0.3333333333333333,\"#9c179e\"],[0.4444444444444444,\"#bd3786\"],[0.5555555555555556,\"#d8576b\"],[0.6666666666666666,\"#ed7953\"],[0.7777777777777778,\"#fb9f3a\"],[0.8888888888888888,\"#fdca26\"],[1.0,\"#f0f921\"]]}],\"surface\":[{\"type\":\"surface\",\"colorbar\":{\"outlinewidth\":0,\"ticks\":\"\"},\"colorscale\":[[0.0,\"#0d0887\"],[0.1111111111111111,\"#46039f\"],[0.2222222222222222,\"#7201a8\"],[0.3333333333333333,\"#9c179e\"],[0.4444444444444444,\"#bd3786\"],[0.5555555555555556,\"#d8576b\"],[0.6666666666666666,\"#ed7953\"],[0.7777777777777778,\"#fb9f3a\"],[0.8888888888888888,\"#fdca26\"],[1.0,\"#f0f921\"]]}],\"mesh3d\":[{\"type\":\"mesh3d\",\"colorbar\":{\"outlinewidth\":0,\"ticks\":\"\"}}],\"scatter\":[{\"marker\":{\"line\":{\"color\":\"#283442\"}},\"type\":\"scatter\"}],\"parcoords\":[{\"type\":\"parcoords\",\"line\":{\"colorbar\":{\"outlinewidth\":0,\"ticks\":\"\"}}}],\"scatterpolargl\":[{\"type\":\"scatterpolargl\",\"marker\":{\"colorbar\":{\"outlinewidth\":0,\"ticks\":\"\"}}}],\"bar\":[{\"error_x\":{\"color\":\"#f2f5fa\"},\"error_y\":{\"color\":\"#f2f5fa\"},\"marker\":{\"line\":{\"color\":\"rgb(17,17,17)\",\"width\":0.5},\"pattern\":{\"fillmode\":\"overlay\",\"size\":10,\"solidity\":0.2}},\"type\":\"bar\"}],\"scattergeo\":[{\"type\":\"scattergeo\",\"marker\":{\"colorbar\":{\"outlinewidth\":0,\"ticks\":\"\"}}}],\"scatterpolar\":[{\"type\":\"scatterpolar\",\"marker\":{\"colorbar\":{\"outlinewidth\":0,\"ticks\":\"\"}}}],\"histogram\":[{\"marker\":{\"pattern\":{\"fillmode\":\"overlay\",\"size\":10,\"solidity\":0.2}},\"type\":\"histogram\"}],\"scattergl\":[{\"marker\":{\"line\":{\"color\":\"#283442\"}},\"type\":\"scattergl\"}],\"scatter3d\":[{\"type\":\"scatter3d\",\"line\":{\"colorbar\":{\"outlinewidth\":0,\"ticks\":\"\"}},\"marker\":{\"colorbar\":{\"outlinewidth\":0,\"ticks\":\"\"}}}],\"scattermapbox\":[{\"type\":\"scattermapbox\",\"marker\":{\"colorbar\":{\"outlinewidth\":0,\"ticks\":\"\"}}}],\"scatterternary\":[{\"type\":\"scatterternary\",\"marker\":{\"colorbar\":{\"outlinewidth\":0,\"ticks\":\"\"}}}],\"scattercarpet\":[{\"type\":\"scattercarpet\",\"marker\":{\"colorbar\":{\"outlinewidth\":0,\"ticks\":\"\"}}}],\"carpet\":[{\"aaxis\":{\"endlinecolor\":\"#A2B1C6\",\"gridcolor\":\"#506784\",\"linecolor\":\"#506784\",\"minorgridcolor\":\"#506784\",\"startlinecolor\":\"#A2B1C6\"},\"baxis\":{\"endlinecolor\":\"#A2B1C6\",\"gridcolor\":\"#506784\",\"linecolor\":\"#506784\",\"minorgridcolor\":\"#506784\",\"startlinecolor\":\"#A2B1C6\"},\"type\":\"carpet\"}],\"table\":[{\"cells\":{\"fill\":{\"color\":\"#506784\"},\"line\":{\"color\":\"rgb(17,17,17)\"}},\"header\":{\"fill\":{\"color\":\"#2a3f5f\"},\"line\":{\"color\":\"rgb(17,17,17)\"}},\"type\":\"table\"}],\"barpolar\":[{\"marker\":{\"line\":{\"color\":\"rgb(17,17,17)\",\"width\":0.5},\"pattern\":{\"fillmode\":\"overlay\",\"size\":10,\"solidity\":0.2}},\"type\":\"barpolar\"}],\"pie\":[{\"automargin\":true,\"type\":\"pie\"}]},\"layout\":{\"autotypenumbers\":\"strict\",\"colorway\":[\"#636efa\",\"#EF553B\",\"#00cc96\",\"#ab63fa\",\"#FFA15A\",\"#19d3f3\",\"#FF6692\",\"#B6E880\",\"#FF97FF\",\"#FECB52\"],\"font\":{\"color\":\"#f2f5fa\"},\"hovermode\":\"closest\",\"hoverlabel\":{\"align\":\"left\"},\"paper_bgcolor\":\"rgb(17,17,17)\",\"plot_bgcolor\":\"rgb(17,17,17)\",\"polar\":{\"bgcolor\":\"rgb(17,17,17)\",\"angularaxis\":{\"gridcolor\":\"#506784\",\"linecolor\":\"#506784\",\"ticks\":\"\"},\"radialaxis\":{\"gridcolor\":\"#506784\",\"linecolor\":\"#506784\",\"ticks\":\"\"}},\"ternary\":{\"bgcolor\":\"rgb(17,17,17)\",\"aaxis\":{\"gridcolor\":\"#506784\",\"linecolor\":\"#506784\",\"ticks\":\"\"},\"baxis\":{\"gridcolor\":\"#506784\",\"linecolor\":\"#506784\",\"ticks\":\"\"},\"caxis\":{\"gridcolor\":\"#506784\",\"linecolor\":\"#506784\",\"ticks\":\"\"}},\"coloraxis\":{\"colorbar\":{\"outlinewidth\":0,\"ticks\":\"\"}},\"colorscale\":{\"sequential\":[[0.0,\"#0d0887\"],[0.1111111111111111,\"#46039f\"],[0.2222222222222222,\"#7201a8\"],[0.3333333333333333,\"#9c179e\"],[0.4444444444444444,\"#bd3786\"],[0.5555555555555556,\"#d8576b\"],[0.6666666666666666,\"#ed7953\"],[0.7777777777777778,\"#fb9f3a\"],[0.8888888888888888,\"#fdca26\"],[1.0,\"#f0f921\"]],\"sequentialminus\":[[0.0,\"#0d0887\"],[0.1111111111111111,\"#46039f\"],[0.2222222222222222,\"#7201a8\"],[0.3333333333333333,\"#9c179e\"],[0.4444444444444444,\"#bd3786\"],[0.5555555555555556,\"#d8576b\"],[0.6666666666666666,\"#ed7953\"],[0.7777777777777778,\"#fb9f3a\"],[0.8888888888888888,\"#fdca26\"],[1.0,\"#f0f921\"]],\"diverging\":[[0,\"#8e0152\"],[0.1,\"#c51b7d\"],[0.2,\"#de77ae\"],[0.3,\"#f1b6da\"],[0.4,\"#fde0ef\"],[0.5,\"#f7f7f7\"],[0.6,\"#e6f5d0\"],[0.7,\"#b8e186\"],[0.8,\"#7fbc41\"],[0.9,\"#4d9221\"],[1,\"#276419\"]]},\"xaxis\":{\"gridcolor\":\"#283442\",\"linecolor\":\"#506784\",\"ticks\":\"\",\"title\":{\"standoff\":15},\"zerolinecolor\":\"#283442\",\"automargin\":true,\"zerolinewidth\":2},\"yaxis\":{\"gridcolor\":\"#283442\",\"linecolor\":\"#506784\",\"ticks\":\"\",\"title\":{\"standoff\":15},\"zerolinecolor\":\"#283442\",\"automargin\":true,\"zerolinewidth\":2},\"scene\":{\"xaxis\":{\"backgroundcolor\":\"rgb(17,17,17)\",\"gridcolor\":\"#506784\",\"linecolor\":\"#506784\",\"showbackground\":true,\"ticks\":\"\",\"zerolinecolor\":\"#C8D4E3\",\"gridwidth\":2},\"yaxis\":{\"backgroundcolor\":\"rgb(17,17,17)\",\"gridcolor\":\"#506784\",\"linecolor\":\"#506784\",\"showbackground\":true,\"ticks\":\"\",\"zerolinecolor\":\"#C8D4E3\",\"gridwidth\":2},\"zaxis\":{\"backgroundcolor\":\"rgb(17,17,17)\",\"gridcolor\":\"#506784\",\"linecolor\":\"#506784\",\"showbackground\":true,\"ticks\":\"\",\"zerolinecolor\":\"#C8D4E3\",\"gridwidth\":2}},\"shapedefaults\":{\"line\":{\"color\":\"#f2f5fa\"}},\"annotationdefaults\":{\"arrowcolor\":\"#f2f5fa\",\"arrowhead\":0,\"arrowwidth\":1},\"geo\":{\"bgcolor\":\"rgb(17,17,17)\",\"landcolor\":\"rgb(17,17,17)\",\"subunitcolor\":\"#506784\",\"showland\":true,\"showlakes\":true,\"lakecolor\":\"rgb(17,17,17)\"},\"title\":{\"x\":0.05},\"updatemenudefaults\":{\"bgcolor\":\"#506784\",\"borderwidth\":0},\"sliderdefaults\":{\"bgcolor\":\"#C8D4E3\",\"borderwidth\":1,\"bordercolor\":\"rgb(17,17,17)\",\"tickwidth\":0},\"mapbox\":{\"style\":\"dark\"}}},\"xaxis\":{\"anchor\":\"y\",\"domain\":[0.0,1.0],\"title\":{\"text\":\"stats\"}},\"yaxis\":{\"anchor\":\"x\",\"domain\":[0.0,1.0],\"title\":{\"text\":\"age\"}},\"legend\":{\"title\":{\"text\":\"variable\"},\"tracegroupgap\":0},\"margin\":{\"t\":60},\"barmode\":\"relative\"},                        {\"responsive\": true}                    ).then(function(){\n                            \nvar gd = document.getElementById('7ff40b33-e1f3-44b4-93f5-6e65ce65cc26');\nvar x = new MutationObserver(function (mutations, observer) {{\n        var display = window.getComputedStyle(gd).display;\n        if (!display || display === 'none') {{\n            console.log([gd, 'removed!']);\n            Plotly.purge(gd);\n            observer.disconnect();\n        }}\n}});\n\n// Listen for the removal of the full notebook cells\nvar notebookContainer = gd.closest('#notebook-container');\nif (notebookContainer) {{\n    x.observe(notebookContainer, {childList: true});\n}}\n\n// Listen for the clearing of the current output cell\nvar outputEl = gd.closest('.output');\nif (outputEl) {{\n    x.observe(outputEl, {childList: true});\n}}\n\n                        })                };                });            </script>        </div>"
     },
     "metadata": {},
     "output_type": "display_data"
    }
   ],
   "source": [
    "# titles = [\"mean\", \"std\", \"mode\", \"min\", \"25%\", \"50%\", \"75%\", \"max\"]\n",
    "print(data.age.describe().to_dict())\n",
    "\n",
    "fig  = px.bar(data.describe()[1:])\n",
    "fig.update_layout(xaxis_title=\"stats\", yaxis_title=\"age\")\n",
    "fig.show()\n"
   ],
   "metadata": {
    "collapsed": false
   }
  },
  {
   "cell_type": "code",
   "execution_count": 35,
   "outputs": [
    {
     "name": "stdout",
     "output_type": "stream",
     "text": [
      "mean bmi: 30.663397\n",
      "mean charges: 13270.422265\n",
      "mode bmi: 32.300000\n",
      "mode charges: 1639.563100\n",
      "median bmi: 30.400000\n",
      "median bmi: 9382.033000\n"
     ]
    },
    {
     "data": {
      "application/vnd.plotly.v1+json": {
       "data": [
        {
         "alignmentgroup": "True",
         "hovertemplate": "x=%{x}<br>y=%{y}<extra></extra>",
         "legendgroup": "",
         "marker": {
          "color": "#636efa",
          "pattern": {
           "shape": ""
          }
         },
         "name": "",
         "offsetgroup": "",
         "orientation": "v",
         "showlegend": false,
         "textposition": "auto",
         "x": [
          "mean",
          "mode",
          "median"
         ],
         "xaxis": "x",
         "y": [
          30.663396860986538,
          32.3,
          30.4
         ],
         "yaxis": "y",
         "type": "bar"
        }
       ],
       "layout": {
        "template": {
         "data": {
          "histogram2dcontour": [
           {
            "type": "histogram2dcontour",
            "colorbar": {
             "outlinewidth": 0,
             "ticks": ""
            },
            "colorscale": [
             [
              0.0,
              "#0d0887"
             ],
             [
              0.1111111111111111,
              "#46039f"
             ],
             [
              0.2222222222222222,
              "#7201a8"
             ],
             [
              0.3333333333333333,
              "#9c179e"
             ],
             [
              0.4444444444444444,
              "#bd3786"
             ],
             [
              0.5555555555555556,
              "#d8576b"
             ],
             [
              0.6666666666666666,
              "#ed7953"
             ],
             [
              0.7777777777777778,
              "#fb9f3a"
             ],
             [
              0.8888888888888888,
              "#fdca26"
             ],
             [
              1.0,
              "#f0f921"
             ]
            ]
           }
          ],
          "choropleth": [
           {
            "type": "choropleth",
            "colorbar": {
             "outlinewidth": 0,
             "ticks": ""
            }
           }
          ],
          "histogram2d": [
           {
            "type": "histogram2d",
            "colorbar": {
             "outlinewidth": 0,
             "ticks": ""
            },
            "colorscale": [
             [
              0.0,
              "#0d0887"
             ],
             [
              0.1111111111111111,
              "#46039f"
             ],
             [
              0.2222222222222222,
              "#7201a8"
             ],
             [
              0.3333333333333333,
              "#9c179e"
             ],
             [
              0.4444444444444444,
              "#bd3786"
             ],
             [
              0.5555555555555556,
              "#d8576b"
             ],
             [
              0.6666666666666666,
              "#ed7953"
             ],
             [
              0.7777777777777778,
              "#fb9f3a"
             ],
             [
              0.8888888888888888,
              "#fdca26"
             ],
             [
              1.0,
              "#f0f921"
             ]
            ]
           }
          ],
          "heatmap": [
           {
            "type": "heatmap",
            "colorbar": {
             "outlinewidth": 0,
             "ticks": ""
            },
            "colorscale": [
             [
              0.0,
              "#0d0887"
             ],
             [
              0.1111111111111111,
              "#46039f"
             ],
             [
              0.2222222222222222,
              "#7201a8"
             ],
             [
              0.3333333333333333,
              "#9c179e"
             ],
             [
              0.4444444444444444,
              "#bd3786"
             ],
             [
              0.5555555555555556,
              "#d8576b"
             ],
             [
              0.6666666666666666,
              "#ed7953"
             ],
             [
              0.7777777777777778,
              "#fb9f3a"
             ],
             [
              0.8888888888888888,
              "#fdca26"
             ],
             [
              1.0,
              "#f0f921"
             ]
            ]
           }
          ],
          "heatmapgl": [
           {
            "type": "heatmapgl",
            "colorbar": {
             "outlinewidth": 0,
             "ticks": ""
            },
            "colorscale": [
             [
              0.0,
              "#0d0887"
             ],
             [
              0.1111111111111111,
              "#46039f"
             ],
             [
              0.2222222222222222,
              "#7201a8"
             ],
             [
              0.3333333333333333,
              "#9c179e"
             ],
             [
              0.4444444444444444,
              "#bd3786"
             ],
             [
              0.5555555555555556,
              "#d8576b"
             ],
             [
              0.6666666666666666,
              "#ed7953"
             ],
             [
              0.7777777777777778,
              "#fb9f3a"
             ],
             [
              0.8888888888888888,
              "#fdca26"
             ],
             [
              1.0,
              "#f0f921"
             ]
            ]
           }
          ],
          "contourcarpet": [
           {
            "type": "contourcarpet",
            "colorbar": {
             "outlinewidth": 0,
             "ticks": ""
            }
           }
          ],
          "contour": [
           {
            "type": "contour",
            "colorbar": {
             "outlinewidth": 0,
             "ticks": ""
            },
            "colorscale": [
             [
              0.0,
              "#0d0887"
             ],
             [
              0.1111111111111111,
              "#46039f"
             ],
             [
              0.2222222222222222,
              "#7201a8"
             ],
             [
              0.3333333333333333,
              "#9c179e"
             ],
             [
              0.4444444444444444,
              "#bd3786"
             ],
             [
              0.5555555555555556,
              "#d8576b"
             ],
             [
              0.6666666666666666,
              "#ed7953"
             ],
             [
              0.7777777777777778,
              "#fb9f3a"
             ],
             [
              0.8888888888888888,
              "#fdca26"
             ],
             [
              1.0,
              "#f0f921"
             ]
            ]
           }
          ],
          "surface": [
           {
            "type": "surface",
            "colorbar": {
             "outlinewidth": 0,
             "ticks": ""
            },
            "colorscale": [
             [
              0.0,
              "#0d0887"
             ],
             [
              0.1111111111111111,
              "#46039f"
             ],
             [
              0.2222222222222222,
              "#7201a8"
             ],
             [
              0.3333333333333333,
              "#9c179e"
             ],
             [
              0.4444444444444444,
              "#bd3786"
             ],
             [
              0.5555555555555556,
              "#d8576b"
             ],
             [
              0.6666666666666666,
              "#ed7953"
             ],
             [
              0.7777777777777778,
              "#fb9f3a"
             ],
             [
              0.8888888888888888,
              "#fdca26"
             ],
             [
              1.0,
              "#f0f921"
             ]
            ]
           }
          ],
          "mesh3d": [
           {
            "type": "mesh3d",
            "colorbar": {
             "outlinewidth": 0,
             "ticks": ""
            }
           }
          ],
          "scatter": [
           {
            "marker": {
             "line": {
              "color": "#283442"
             }
            },
            "type": "scatter"
           }
          ],
          "parcoords": [
           {
            "type": "parcoords",
            "line": {
             "colorbar": {
              "outlinewidth": 0,
              "ticks": ""
             }
            }
           }
          ],
          "scatterpolargl": [
           {
            "type": "scatterpolargl",
            "marker": {
             "colorbar": {
              "outlinewidth": 0,
              "ticks": ""
             }
            }
           }
          ],
          "bar": [
           {
            "error_x": {
             "color": "#f2f5fa"
            },
            "error_y": {
             "color": "#f2f5fa"
            },
            "marker": {
             "line": {
              "color": "rgb(17,17,17)",
              "width": 0.5
             },
             "pattern": {
              "fillmode": "overlay",
              "size": 10,
              "solidity": 0.2
             }
            },
            "type": "bar"
           }
          ],
          "scattergeo": [
           {
            "type": "scattergeo",
            "marker": {
             "colorbar": {
              "outlinewidth": 0,
              "ticks": ""
             }
            }
           }
          ],
          "scatterpolar": [
           {
            "type": "scatterpolar",
            "marker": {
             "colorbar": {
              "outlinewidth": 0,
              "ticks": ""
             }
            }
           }
          ],
          "histogram": [
           {
            "marker": {
             "pattern": {
              "fillmode": "overlay",
              "size": 10,
              "solidity": 0.2
             }
            },
            "type": "histogram"
           }
          ],
          "scattergl": [
           {
            "marker": {
             "line": {
              "color": "#283442"
             }
            },
            "type": "scattergl"
           }
          ],
          "scatter3d": [
           {
            "type": "scatter3d",
            "line": {
             "colorbar": {
              "outlinewidth": 0,
              "ticks": ""
             }
            },
            "marker": {
             "colorbar": {
              "outlinewidth": 0,
              "ticks": ""
             }
            }
           }
          ],
          "scattermapbox": [
           {
            "type": "scattermapbox",
            "marker": {
             "colorbar": {
              "outlinewidth": 0,
              "ticks": ""
             }
            }
           }
          ],
          "scatterternary": [
           {
            "type": "scatterternary",
            "marker": {
             "colorbar": {
              "outlinewidth": 0,
              "ticks": ""
             }
            }
           }
          ],
          "scattercarpet": [
           {
            "type": "scattercarpet",
            "marker": {
             "colorbar": {
              "outlinewidth": 0,
              "ticks": ""
             }
            }
           }
          ],
          "carpet": [
           {
            "aaxis": {
             "endlinecolor": "#A2B1C6",
             "gridcolor": "#506784",
             "linecolor": "#506784",
             "minorgridcolor": "#506784",
             "startlinecolor": "#A2B1C6"
            },
            "baxis": {
             "endlinecolor": "#A2B1C6",
             "gridcolor": "#506784",
             "linecolor": "#506784",
             "minorgridcolor": "#506784",
             "startlinecolor": "#A2B1C6"
            },
            "type": "carpet"
           }
          ],
          "table": [
           {
            "cells": {
             "fill": {
              "color": "#506784"
             },
             "line": {
              "color": "rgb(17,17,17)"
             }
            },
            "header": {
             "fill": {
              "color": "#2a3f5f"
             },
             "line": {
              "color": "rgb(17,17,17)"
             }
            },
            "type": "table"
           }
          ],
          "barpolar": [
           {
            "marker": {
             "line": {
              "color": "rgb(17,17,17)",
              "width": 0.5
             },
             "pattern": {
              "fillmode": "overlay",
              "size": 10,
              "solidity": 0.2
             }
            },
            "type": "barpolar"
           }
          ],
          "pie": [
           {
            "automargin": true,
            "type": "pie"
           }
          ]
         },
         "layout": {
          "autotypenumbers": "strict",
          "colorway": [
           "#636efa",
           "#EF553B",
           "#00cc96",
           "#ab63fa",
           "#FFA15A",
           "#19d3f3",
           "#FF6692",
           "#B6E880",
           "#FF97FF",
           "#FECB52"
          ],
          "font": {
           "color": "#f2f5fa"
          },
          "hovermode": "closest",
          "hoverlabel": {
           "align": "left"
          },
          "paper_bgcolor": "rgb(17,17,17)",
          "plot_bgcolor": "rgb(17,17,17)",
          "polar": {
           "bgcolor": "rgb(17,17,17)",
           "angularaxis": {
            "gridcolor": "#506784",
            "linecolor": "#506784",
            "ticks": ""
           },
           "radialaxis": {
            "gridcolor": "#506784",
            "linecolor": "#506784",
            "ticks": ""
           }
          },
          "ternary": {
           "bgcolor": "rgb(17,17,17)",
           "aaxis": {
            "gridcolor": "#506784",
            "linecolor": "#506784",
            "ticks": ""
           },
           "baxis": {
            "gridcolor": "#506784",
            "linecolor": "#506784",
            "ticks": ""
           },
           "caxis": {
            "gridcolor": "#506784",
            "linecolor": "#506784",
            "ticks": ""
           }
          },
          "coloraxis": {
           "colorbar": {
            "outlinewidth": 0,
            "ticks": ""
           }
          },
          "colorscale": {
           "sequential": [
            [
             0.0,
             "#0d0887"
            ],
            [
             0.1111111111111111,
             "#46039f"
            ],
            [
             0.2222222222222222,
             "#7201a8"
            ],
            [
             0.3333333333333333,
             "#9c179e"
            ],
            [
             0.4444444444444444,
             "#bd3786"
            ],
            [
             0.5555555555555556,
             "#d8576b"
            ],
            [
             0.6666666666666666,
             "#ed7953"
            ],
            [
             0.7777777777777778,
             "#fb9f3a"
            ],
            [
             0.8888888888888888,
             "#fdca26"
            ],
            [
             1.0,
             "#f0f921"
            ]
           ],
           "sequentialminus": [
            [
             0.0,
             "#0d0887"
            ],
            [
             0.1111111111111111,
             "#46039f"
            ],
            [
             0.2222222222222222,
             "#7201a8"
            ],
            [
             0.3333333333333333,
             "#9c179e"
            ],
            [
             0.4444444444444444,
             "#bd3786"
            ],
            [
             0.5555555555555556,
             "#d8576b"
            ],
            [
             0.6666666666666666,
             "#ed7953"
            ],
            [
             0.7777777777777778,
             "#fb9f3a"
            ],
            [
             0.8888888888888888,
             "#fdca26"
            ],
            [
             1.0,
             "#f0f921"
            ]
           ],
           "diverging": [
            [
             0,
             "#8e0152"
            ],
            [
             0.1,
             "#c51b7d"
            ],
            [
             0.2,
             "#de77ae"
            ],
            [
             0.3,
             "#f1b6da"
            ],
            [
             0.4,
             "#fde0ef"
            ],
            [
             0.5,
             "#f7f7f7"
            ],
            [
             0.6,
             "#e6f5d0"
            ],
            [
             0.7,
             "#b8e186"
            ],
            [
             0.8,
             "#7fbc41"
            ],
            [
             0.9,
             "#4d9221"
            ],
            [
             1,
             "#276419"
            ]
           ]
          },
          "xaxis": {
           "gridcolor": "#283442",
           "linecolor": "#506784",
           "ticks": "",
           "title": {
            "standoff": 15
           },
           "zerolinecolor": "#283442",
           "automargin": true,
           "zerolinewidth": 2
          },
          "yaxis": {
           "gridcolor": "#283442",
           "linecolor": "#506784",
           "ticks": "",
           "title": {
            "standoff": 15
           },
           "zerolinecolor": "#283442",
           "automargin": true,
           "zerolinewidth": 2
          },
          "scene": {
           "xaxis": {
            "backgroundcolor": "rgb(17,17,17)",
            "gridcolor": "#506784",
            "linecolor": "#506784",
            "showbackground": true,
            "ticks": "",
            "zerolinecolor": "#C8D4E3",
            "gridwidth": 2
           },
           "yaxis": {
            "backgroundcolor": "rgb(17,17,17)",
            "gridcolor": "#506784",
            "linecolor": "#506784",
            "showbackground": true,
            "ticks": "",
            "zerolinecolor": "#C8D4E3",
            "gridwidth": 2
           },
           "zaxis": {
            "backgroundcolor": "rgb(17,17,17)",
            "gridcolor": "#506784",
            "linecolor": "#506784",
            "showbackground": true,
            "ticks": "",
            "zerolinecolor": "#C8D4E3",
            "gridwidth": 2
           }
          },
          "shapedefaults": {
           "line": {
            "color": "#f2f5fa"
           }
          },
          "annotationdefaults": {
           "arrowcolor": "#f2f5fa",
           "arrowhead": 0,
           "arrowwidth": 1
          },
          "geo": {
           "bgcolor": "rgb(17,17,17)",
           "landcolor": "rgb(17,17,17)",
           "subunitcolor": "#506784",
           "showland": true,
           "showlakes": true,
           "lakecolor": "rgb(17,17,17)"
          },
          "title": {
           "x": 0.05
          },
          "updatemenudefaults": {
           "bgcolor": "#506784",
           "borderwidth": 0
          },
          "sliderdefaults": {
           "bgcolor": "#C8D4E3",
           "borderwidth": 1,
           "bordercolor": "rgb(17,17,17)",
           "tickwidth": 0
          },
          "mapbox": {
           "style": "dark"
          }
         }
        },
        "xaxis": {
         "anchor": "y",
         "domain": [
          0.0,
          1.0
         ],
         "title": {
          "text": "stats"
         }
        },
        "yaxis": {
         "anchor": "x",
         "domain": [
          0.0,
          1.0
         ],
         "title": {
          "text": "index"
         }
        },
        "legend": {
         "tracegroupgap": 0
        },
        "title": {
         "text": "bmi"
        },
        "barmode": "relative"
       },
       "config": {
        "plotlyServerURL": "https://plot.ly"
       }
      },
      "text/html": "<div>                            <div id=\"b35518ee-f45b-4fe4-be86-0aef1c6f21bd\" class=\"plotly-graph-div\" style=\"height:525px; width:100%;\"></div>            <script type=\"text/javascript\">                require([\"plotly\"], function(Plotly) {                    window.PLOTLYENV=window.PLOTLYENV || {};                                    if (document.getElementById(\"b35518ee-f45b-4fe4-be86-0aef1c6f21bd\")) {                    Plotly.newPlot(                        \"b35518ee-f45b-4fe4-be86-0aef1c6f21bd\",                        [{\"alignmentgroup\":\"True\",\"hovertemplate\":\"x=%{x}<br>y=%{y}<extra></extra>\",\"legendgroup\":\"\",\"marker\":{\"color\":\"#636efa\",\"pattern\":{\"shape\":\"\"}},\"name\":\"\",\"offsetgroup\":\"\",\"orientation\":\"v\",\"showlegend\":false,\"textposition\":\"auto\",\"x\":[\"mean\",\"mode\",\"median\"],\"xaxis\":\"x\",\"y\":[30.663396860986538,32.3,30.4],\"yaxis\":\"y\",\"type\":\"bar\"}],                        {\"template\":{\"data\":{\"histogram2dcontour\":[{\"type\":\"histogram2dcontour\",\"colorbar\":{\"outlinewidth\":0,\"ticks\":\"\"},\"colorscale\":[[0.0,\"#0d0887\"],[0.1111111111111111,\"#46039f\"],[0.2222222222222222,\"#7201a8\"],[0.3333333333333333,\"#9c179e\"],[0.4444444444444444,\"#bd3786\"],[0.5555555555555556,\"#d8576b\"],[0.6666666666666666,\"#ed7953\"],[0.7777777777777778,\"#fb9f3a\"],[0.8888888888888888,\"#fdca26\"],[1.0,\"#f0f921\"]]}],\"choropleth\":[{\"type\":\"choropleth\",\"colorbar\":{\"outlinewidth\":0,\"ticks\":\"\"}}],\"histogram2d\":[{\"type\":\"histogram2d\",\"colorbar\":{\"outlinewidth\":0,\"ticks\":\"\"},\"colorscale\":[[0.0,\"#0d0887\"],[0.1111111111111111,\"#46039f\"],[0.2222222222222222,\"#7201a8\"],[0.3333333333333333,\"#9c179e\"],[0.4444444444444444,\"#bd3786\"],[0.5555555555555556,\"#d8576b\"],[0.6666666666666666,\"#ed7953\"],[0.7777777777777778,\"#fb9f3a\"],[0.8888888888888888,\"#fdca26\"],[1.0,\"#f0f921\"]]}],\"heatmap\":[{\"type\":\"heatmap\",\"colorbar\":{\"outlinewidth\":0,\"ticks\":\"\"},\"colorscale\":[[0.0,\"#0d0887\"],[0.1111111111111111,\"#46039f\"],[0.2222222222222222,\"#7201a8\"],[0.3333333333333333,\"#9c179e\"],[0.4444444444444444,\"#bd3786\"],[0.5555555555555556,\"#d8576b\"],[0.6666666666666666,\"#ed7953\"],[0.7777777777777778,\"#fb9f3a\"],[0.8888888888888888,\"#fdca26\"],[1.0,\"#f0f921\"]]}],\"heatmapgl\":[{\"type\":\"heatmapgl\",\"colorbar\":{\"outlinewidth\":0,\"ticks\":\"\"},\"colorscale\":[[0.0,\"#0d0887\"],[0.1111111111111111,\"#46039f\"],[0.2222222222222222,\"#7201a8\"],[0.3333333333333333,\"#9c179e\"],[0.4444444444444444,\"#bd3786\"],[0.5555555555555556,\"#d8576b\"],[0.6666666666666666,\"#ed7953\"],[0.7777777777777778,\"#fb9f3a\"],[0.8888888888888888,\"#fdca26\"],[1.0,\"#f0f921\"]]}],\"contourcarpet\":[{\"type\":\"contourcarpet\",\"colorbar\":{\"outlinewidth\":0,\"ticks\":\"\"}}],\"contour\":[{\"type\":\"contour\",\"colorbar\":{\"outlinewidth\":0,\"ticks\":\"\"},\"colorscale\":[[0.0,\"#0d0887\"],[0.1111111111111111,\"#46039f\"],[0.2222222222222222,\"#7201a8\"],[0.3333333333333333,\"#9c179e\"],[0.4444444444444444,\"#bd3786\"],[0.5555555555555556,\"#d8576b\"],[0.6666666666666666,\"#ed7953\"],[0.7777777777777778,\"#fb9f3a\"],[0.8888888888888888,\"#fdca26\"],[1.0,\"#f0f921\"]]}],\"surface\":[{\"type\":\"surface\",\"colorbar\":{\"outlinewidth\":0,\"ticks\":\"\"},\"colorscale\":[[0.0,\"#0d0887\"],[0.1111111111111111,\"#46039f\"],[0.2222222222222222,\"#7201a8\"],[0.3333333333333333,\"#9c179e\"],[0.4444444444444444,\"#bd3786\"],[0.5555555555555556,\"#d8576b\"],[0.6666666666666666,\"#ed7953\"],[0.7777777777777778,\"#fb9f3a\"],[0.8888888888888888,\"#fdca26\"],[1.0,\"#f0f921\"]]}],\"mesh3d\":[{\"type\":\"mesh3d\",\"colorbar\":{\"outlinewidth\":0,\"ticks\":\"\"}}],\"scatter\":[{\"marker\":{\"line\":{\"color\":\"#283442\"}},\"type\":\"scatter\"}],\"parcoords\":[{\"type\":\"parcoords\",\"line\":{\"colorbar\":{\"outlinewidth\":0,\"ticks\":\"\"}}}],\"scatterpolargl\":[{\"type\":\"scatterpolargl\",\"marker\":{\"colorbar\":{\"outlinewidth\":0,\"ticks\":\"\"}}}],\"bar\":[{\"error_x\":{\"color\":\"#f2f5fa\"},\"error_y\":{\"color\":\"#f2f5fa\"},\"marker\":{\"line\":{\"color\":\"rgb(17,17,17)\",\"width\":0.5},\"pattern\":{\"fillmode\":\"overlay\",\"size\":10,\"solidity\":0.2}},\"type\":\"bar\"}],\"scattergeo\":[{\"type\":\"scattergeo\",\"marker\":{\"colorbar\":{\"outlinewidth\":0,\"ticks\":\"\"}}}],\"scatterpolar\":[{\"type\":\"scatterpolar\",\"marker\":{\"colorbar\":{\"outlinewidth\":0,\"ticks\":\"\"}}}],\"histogram\":[{\"marker\":{\"pattern\":{\"fillmode\":\"overlay\",\"size\":10,\"solidity\":0.2}},\"type\":\"histogram\"}],\"scattergl\":[{\"marker\":{\"line\":{\"color\":\"#283442\"}},\"type\":\"scattergl\"}],\"scatter3d\":[{\"type\":\"scatter3d\",\"line\":{\"colorbar\":{\"outlinewidth\":0,\"ticks\":\"\"}},\"marker\":{\"colorbar\":{\"outlinewidth\":0,\"ticks\":\"\"}}}],\"scattermapbox\":[{\"type\":\"scattermapbox\",\"marker\":{\"colorbar\":{\"outlinewidth\":0,\"ticks\":\"\"}}}],\"scatterternary\":[{\"type\":\"scatterternary\",\"marker\":{\"colorbar\":{\"outlinewidth\":0,\"ticks\":\"\"}}}],\"scattercarpet\":[{\"type\":\"scattercarpet\",\"marker\":{\"colorbar\":{\"outlinewidth\":0,\"ticks\":\"\"}}}],\"carpet\":[{\"aaxis\":{\"endlinecolor\":\"#A2B1C6\",\"gridcolor\":\"#506784\",\"linecolor\":\"#506784\",\"minorgridcolor\":\"#506784\",\"startlinecolor\":\"#A2B1C6\"},\"baxis\":{\"endlinecolor\":\"#A2B1C6\",\"gridcolor\":\"#506784\",\"linecolor\":\"#506784\",\"minorgridcolor\":\"#506784\",\"startlinecolor\":\"#A2B1C6\"},\"type\":\"carpet\"}],\"table\":[{\"cells\":{\"fill\":{\"color\":\"#506784\"},\"line\":{\"color\":\"rgb(17,17,17)\"}},\"header\":{\"fill\":{\"color\":\"#2a3f5f\"},\"line\":{\"color\":\"rgb(17,17,17)\"}},\"type\":\"table\"}],\"barpolar\":[{\"marker\":{\"line\":{\"color\":\"rgb(17,17,17)\",\"width\":0.5},\"pattern\":{\"fillmode\":\"overlay\",\"size\":10,\"solidity\":0.2}},\"type\":\"barpolar\"}],\"pie\":[{\"automargin\":true,\"type\":\"pie\"}]},\"layout\":{\"autotypenumbers\":\"strict\",\"colorway\":[\"#636efa\",\"#EF553B\",\"#00cc96\",\"#ab63fa\",\"#FFA15A\",\"#19d3f3\",\"#FF6692\",\"#B6E880\",\"#FF97FF\",\"#FECB52\"],\"font\":{\"color\":\"#f2f5fa\"},\"hovermode\":\"closest\",\"hoverlabel\":{\"align\":\"left\"},\"paper_bgcolor\":\"rgb(17,17,17)\",\"plot_bgcolor\":\"rgb(17,17,17)\",\"polar\":{\"bgcolor\":\"rgb(17,17,17)\",\"angularaxis\":{\"gridcolor\":\"#506784\",\"linecolor\":\"#506784\",\"ticks\":\"\"},\"radialaxis\":{\"gridcolor\":\"#506784\",\"linecolor\":\"#506784\",\"ticks\":\"\"}},\"ternary\":{\"bgcolor\":\"rgb(17,17,17)\",\"aaxis\":{\"gridcolor\":\"#506784\",\"linecolor\":\"#506784\",\"ticks\":\"\"},\"baxis\":{\"gridcolor\":\"#506784\",\"linecolor\":\"#506784\",\"ticks\":\"\"},\"caxis\":{\"gridcolor\":\"#506784\",\"linecolor\":\"#506784\",\"ticks\":\"\"}},\"coloraxis\":{\"colorbar\":{\"outlinewidth\":0,\"ticks\":\"\"}},\"colorscale\":{\"sequential\":[[0.0,\"#0d0887\"],[0.1111111111111111,\"#46039f\"],[0.2222222222222222,\"#7201a8\"],[0.3333333333333333,\"#9c179e\"],[0.4444444444444444,\"#bd3786\"],[0.5555555555555556,\"#d8576b\"],[0.6666666666666666,\"#ed7953\"],[0.7777777777777778,\"#fb9f3a\"],[0.8888888888888888,\"#fdca26\"],[1.0,\"#f0f921\"]],\"sequentialminus\":[[0.0,\"#0d0887\"],[0.1111111111111111,\"#46039f\"],[0.2222222222222222,\"#7201a8\"],[0.3333333333333333,\"#9c179e\"],[0.4444444444444444,\"#bd3786\"],[0.5555555555555556,\"#d8576b\"],[0.6666666666666666,\"#ed7953\"],[0.7777777777777778,\"#fb9f3a\"],[0.8888888888888888,\"#fdca26\"],[1.0,\"#f0f921\"]],\"diverging\":[[0,\"#8e0152\"],[0.1,\"#c51b7d\"],[0.2,\"#de77ae\"],[0.3,\"#f1b6da\"],[0.4,\"#fde0ef\"],[0.5,\"#f7f7f7\"],[0.6,\"#e6f5d0\"],[0.7,\"#b8e186\"],[0.8,\"#7fbc41\"],[0.9,\"#4d9221\"],[1,\"#276419\"]]},\"xaxis\":{\"gridcolor\":\"#283442\",\"linecolor\":\"#506784\",\"ticks\":\"\",\"title\":{\"standoff\":15},\"zerolinecolor\":\"#283442\",\"automargin\":true,\"zerolinewidth\":2},\"yaxis\":{\"gridcolor\":\"#283442\",\"linecolor\":\"#506784\",\"ticks\":\"\",\"title\":{\"standoff\":15},\"zerolinecolor\":\"#283442\",\"automargin\":true,\"zerolinewidth\":2},\"scene\":{\"xaxis\":{\"backgroundcolor\":\"rgb(17,17,17)\",\"gridcolor\":\"#506784\",\"linecolor\":\"#506784\",\"showbackground\":true,\"ticks\":\"\",\"zerolinecolor\":\"#C8D4E3\",\"gridwidth\":2},\"yaxis\":{\"backgroundcolor\":\"rgb(17,17,17)\",\"gridcolor\":\"#506784\",\"linecolor\":\"#506784\",\"showbackground\":true,\"ticks\":\"\",\"zerolinecolor\":\"#C8D4E3\",\"gridwidth\":2},\"zaxis\":{\"backgroundcolor\":\"rgb(17,17,17)\",\"gridcolor\":\"#506784\",\"linecolor\":\"#506784\",\"showbackground\":true,\"ticks\":\"\",\"zerolinecolor\":\"#C8D4E3\",\"gridwidth\":2}},\"shapedefaults\":{\"line\":{\"color\":\"#f2f5fa\"}},\"annotationdefaults\":{\"arrowcolor\":\"#f2f5fa\",\"arrowhead\":0,\"arrowwidth\":1},\"geo\":{\"bgcolor\":\"rgb(17,17,17)\",\"landcolor\":\"rgb(17,17,17)\",\"subunitcolor\":\"#506784\",\"showland\":true,\"showlakes\":true,\"lakecolor\":\"rgb(17,17,17)\"},\"title\":{\"x\":0.05},\"updatemenudefaults\":{\"bgcolor\":\"#506784\",\"borderwidth\":0},\"sliderdefaults\":{\"bgcolor\":\"#C8D4E3\",\"borderwidth\":1,\"bordercolor\":\"rgb(17,17,17)\",\"tickwidth\":0},\"mapbox\":{\"style\":\"dark\"}}},\"xaxis\":{\"anchor\":\"y\",\"domain\":[0.0,1.0],\"title\":{\"text\":\"stats\"}},\"yaxis\":{\"anchor\":\"x\",\"domain\":[0.0,1.0],\"title\":{\"text\":\"index\"}},\"legend\":{\"tracegroupgap\":0},\"title\":{\"text\":\"bmi\"},\"barmode\":\"relative\"},                        {\"responsive\": true}                    ).then(function(){\n                            \nvar gd = document.getElementById('b35518ee-f45b-4fe4-be86-0aef1c6f21bd');\nvar x = new MutationObserver(function (mutations, observer) {{\n        var display = window.getComputedStyle(gd).display;\n        if (!display || display === 'none') {{\n            console.log([gd, 'removed!']);\n            Plotly.purge(gd);\n            observer.disconnect();\n        }}\n}});\n\n// Listen for the removal of the full notebook cells\nvar notebookContainer = gd.closest('#notebook-container');\nif (notebookContainer) {{\n    x.observe(notebookContainer, {childList: true});\n}}\n\n// Listen for the clearing of the current output cell\nvar outputEl = gd.closest('.output');\nif (outputEl) {{\n    x.observe(outputEl, {childList: true});\n}}\n\n                        })                };                });            </script>        </div>"
     },
     "metadata": {},
     "output_type": "display_data"
    },
    {
     "data": {
      "application/vnd.plotly.v1+json": {
       "data": [
        {
         "alignmentgroup": "True",
         "hovertemplate": "x=%{x}<br>y=%{y}<extra></extra>",
         "legendgroup": "",
         "marker": {
          "color": "#636efa",
          "pattern": {
           "shape": ""
          }
         },
         "name": "",
         "offsetgroup": "",
         "orientation": "v",
         "showlegend": false,
         "textposition": "auto",
         "x": [
          "mean",
          "mode",
          "median"
         ],
         "xaxis": "x",
         "y": [
          13270.422265141257,
          1639.5631,
          9382.033
         ],
         "yaxis": "y",
         "type": "bar"
        }
       ],
       "layout": {
        "template": {
         "data": {
          "histogram2dcontour": [
           {
            "type": "histogram2dcontour",
            "colorbar": {
             "outlinewidth": 0,
             "ticks": ""
            },
            "colorscale": [
             [
              0.0,
              "#0d0887"
             ],
             [
              0.1111111111111111,
              "#46039f"
             ],
             [
              0.2222222222222222,
              "#7201a8"
             ],
             [
              0.3333333333333333,
              "#9c179e"
             ],
             [
              0.4444444444444444,
              "#bd3786"
             ],
             [
              0.5555555555555556,
              "#d8576b"
             ],
             [
              0.6666666666666666,
              "#ed7953"
             ],
             [
              0.7777777777777778,
              "#fb9f3a"
             ],
             [
              0.8888888888888888,
              "#fdca26"
             ],
             [
              1.0,
              "#f0f921"
             ]
            ]
           }
          ],
          "choropleth": [
           {
            "type": "choropleth",
            "colorbar": {
             "outlinewidth": 0,
             "ticks": ""
            }
           }
          ],
          "histogram2d": [
           {
            "type": "histogram2d",
            "colorbar": {
             "outlinewidth": 0,
             "ticks": ""
            },
            "colorscale": [
             [
              0.0,
              "#0d0887"
             ],
             [
              0.1111111111111111,
              "#46039f"
             ],
             [
              0.2222222222222222,
              "#7201a8"
             ],
             [
              0.3333333333333333,
              "#9c179e"
             ],
             [
              0.4444444444444444,
              "#bd3786"
             ],
             [
              0.5555555555555556,
              "#d8576b"
             ],
             [
              0.6666666666666666,
              "#ed7953"
             ],
             [
              0.7777777777777778,
              "#fb9f3a"
             ],
             [
              0.8888888888888888,
              "#fdca26"
             ],
             [
              1.0,
              "#f0f921"
             ]
            ]
           }
          ],
          "heatmap": [
           {
            "type": "heatmap",
            "colorbar": {
             "outlinewidth": 0,
             "ticks": ""
            },
            "colorscale": [
             [
              0.0,
              "#0d0887"
             ],
             [
              0.1111111111111111,
              "#46039f"
             ],
             [
              0.2222222222222222,
              "#7201a8"
             ],
             [
              0.3333333333333333,
              "#9c179e"
             ],
             [
              0.4444444444444444,
              "#bd3786"
             ],
             [
              0.5555555555555556,
              "#d8576b"
             ],
             [
              0.6666666666666666,
              "#ed7953"
             ],
             [
              0.7777777777777778,
              "#fb9f3a"
             ],
             [
              0.8888888888888888,
              "#fdca26"
             ],
             [
              1.0,
              "#f0f921"
             ]
            ]
           }
          ],
          "heatmapgl": [
           {
            "type": "heatmapgl",
            "colorbar": {
             "outlinewidth": 0,
             "ticks": ""
            },
            "colorscale": [
             [
              0.0,
              "#0d0887"
             ],
             [
              0.1111111111111111,
              "#46039f"
             ],
             [
              0.2222222222222222,
              "#7201a8"
             ],
             [
              0.3333333333333333,
              "#9c179e"
             ],
             [
              0.4444444444444444,
              "#bd3786"
             ],
             [
              0.5555555555555556,
              "#d8576b"
             ],
             [
              0.6666666666666666,
              "#ed7953"
             ],
             [
              0.7777777777777778,
              "#fb9f3a"
             ],
             [
              0.8888888888888888,
              "#fdca26"
             ],
             [
              1.0,
              "#f0f921"
             ]
            ]
           }
          ],
          "contourcarpet": [
           {
            "type": "contourcarpet",
            "colorbar": {
             "outlinewidth": 0,
             "ticks": ""
            }
           }
          ],
          "contour": [
           {
            "type": "contour",
            "colorbar": {
             "outlinewidth": 0,
             "ticks": ""
            },
            "colorscale": [
             [
              0.0,
              "#0d0887"
             ],
             [
              0.1111111111111111,
              "#46039f"
             ],
             [
              0.2222222222222222,
              "#7201a8"
             ],
             [
              0.3333333333333333,
              "#9c179e"
             ],
             [
              0.4444444444444444,
              "#bd3786"
             ],
             [
              0.5555555555555556,
              "#d8576b"
             ],
             [
              0.6666666666666666,
              "#ed7953"
             ],
             [
              0.7777777777777778,
              "#fb9f3a"
             ],
             [
              0.8888888888888888,
              "#fdca26"
             ],
             [
              1.0,
              "#f0f921"
             ]
            ]
           }
          ],
          "surface": [
           {
            "type": "surface",
            "colorbar": {
             "outlinewidth": 0,
             "ticks": ""
            },
            "colorscale": [
             [
              0.0,
              "#0d0887"
             ],
             [
              0.1111111111111111,
              "#46039f"
             ],
             [
              0.2222222222222222,
              "#7201a8"
             ],
             [
              0.3333333333333333,
              "#9c179e"
             ],
             [
              0.4444444444444444,
              "#bd3786"
             ],
             [
              0.5555555555555556,
              "#d8576b"
             ],
             [
              0.6666666666666666,
              "#ed7953"
             ],
             [
              0.7777777777777778,
              "#fb9f3a"
             ],
             [
              0.8888888888888888,
              "#fdca26"
             ],
             [
              1.0,
              "#f0f921"
             ]
            ]
           }
          ],
          "mesh3d": [
           {
            "type": "mesh3d",
            "colorbar": {
             "outlinewidth": 0,
             "ticks": ""
            }
           }
          ],
          "scatter": [
           {
            "marker": {
             "line": {
              "color": "#283442"
             }
            },
            "type": "scatter"
           }
          ],
          "parcoords": [
           {
            "type": "parcoords",
            "line": {
             "colorbar": {
              "outlinewidth": 0,
              "ticks": ""
             }
            }
           }
          ],
          "scatterpolargl": [
           {
            "type": "scatterpolargl",
            "marker": {
             "colorbar": {
              "outlinewidth": 0,
              "ticks": ""
             }
            }
           }
          ],
          "bar": [
           {
            "error_x": {
             "color": "#f2f5fa"
            },
            "error_y": {
             "color": "#f2f5fa"
            },
            "marker": {
             "line": {
              "color": "rgb(17,17,17)",
              "width": 0.5
             },
             "pattern": {
              "fillmode": "overlay",
              "size": 10,
              "solidity": 0.2
             }
            },
            "type": "bar"
           }
          ],
          "scattergeo": [
           {
            "type": "scattergeo",
            "marker": {
             "colorbar": {
              "outlinewidth": 0,
              "ticks": ""
             }
            }
           }
          ],
          "scatterpolar": [
           {
            "type": "scatterpolar",
            "marker": {
             "colorbar": {
              "outlinewidth": 0,
              "ticks": ""
             }
            }
           }
          ],
          "histogram": [
           {
            "marker": {
             "pattern": {
              "fillmode": "overlay",
              "size": 10,
              "solidity": 0.2
             }
            },
            "type": "histogram"
           }
          ],
          "scattergl": [
           {
            "marker": {
             "line": {
              "color": "#283442"
             }
            },
            "type": "scattergl"
           }
          ],
          "scatter3d": [
           {
            "type": "scatter3d",
            "line": {
             "colorbar": {
              "outlinewidth": 0,
              "ticks": ""
             }
            },
            "marker": {
             "colorbar": {
              "outlinewidth": 0,
              "ticks": ""
             }
            }
           }
          ],
          "scattermapbox": [
           {
            "type": "scattermapbox",
            "marker": {
             "colorbar": {
              "outlinewidth": 0,
              "ticks": ""
             }
            }
           }
          ],
          "scatterternary": [
           {
            "type": "scatterternary",
            "marker": {
             "colorbar": {
              "outlinewidth": 0,
              "ticks": ""
             }
            }
           }
          ],
          "scattercarpet": [
           {
            "type": "scattercarpet",
            "marker": {
             "colorbar": {
              "outlinewidth": 0,
              "ticks": ""
             }
            }
           }
          ],
          "carpet": [
           {
            "aaxis": {
             "endlinecolor": "#A2B1C6",
             "gridcolor": "#506784",
             "linecolor": "#506784",
             "minorgridcolor": "#506784",
             "startlinecolor": "#A2B1C6"
            },
            "baxis": {
             "endlinecolor": "#A2B1C6",
             "gridcolor": "#506784",
             "linecolor": "#506784",
             "minorgridcolor": "#506784",
             "startlinecolor": "#A2B1C6"
            },
            "type": "carpet"
           }
          ],
          "table": [
           {
            "cells": {
             "fill": {
              "color": "#506784"
             },
             "line": {
              "color": "rgb(17,17,17)"
             }
            },
            "header": {
             "fill": {
              "color": "#2a3f5f"
             },
             "line": {
              "color": "rgb(17,17,17)"
             }
            },
            "type": "table"
           }
          ],
          "barpolar": [
           {
            "marker": {
             "line": {
              "color": "rgb(17,17,17)",
              "width": 0.5
             },
             "pattern": {
              "fillmode": "overlay",
              "size": 10,
              "solidity": 0.2
             }
            },
            "type": "barpolar"
           }
          ],
          "pie": [
           {
            "automargin": true,
            "type": "pie"
           }
          ]
         },
         "layout": {
          "autotypenumbers": "strict",
          "colorway": [
           "#636efa",
           "#EF553B",
           "#00cc96",
           "#ab63fa",
           "#FFA15A",
           "#19d3f3",
           "#FF6692",
           "#B6E880",
           "#FF97FF",
           "#FECB52"
          ],
          "font": {
           "color": "#f2f5fa"
          },
          "hovermode": "closest",
          "hoverlabel": {
           "align": "left"
          },
          "paper_bgcolor": "rgb(17,17,17)",
          "plot_bgcolor": "rgb(17,17,17)",
          "polar": {
           "bgcolor": "rgb(17,17,17)",
           "angularaxis": {
            "gridcolor": "#506784",
            "linecolor": "#506784",
            "ticks": ""
           },
           "radialaxis": {
            "gridcolor": "#506784",
            "linecolor": "#506784",
            "ticks": ""
           }
          },
          "ternary": {
           "bgcolor": "rgb(17,17,17)",
           "aaxis": {
            "gridcolor": "#506784",
            "linecolor": "#506784",
            "ticks": ""
           },
           "baxis": {
            "gridcolor": "#506784",
            "linecolor": "#506784",
            "ticks": ""
           },
           "caxis": {
            "gridcolor": "#506784",
            "linecolor": "#506784",
            "ticks": ""
           }
          },
          "coloraxis": {
           "colorbar": {
            "outlinewidth": 0,
            "ticks": ""
           }
          },
          "colorscale": {
           "sequential": [
            [
             0.0,
             "#0d0887"
            ],
            [
             0.1111111111111111,
             "#46039f"
            ],
            [
             0.2222222222222222,
             "#7201a8"
            ],
            [
             0.3333333333333333,
             "#9c179e"
            ],
            [
             0.4444444444444444,
             "#bd3786"
            ],
            [
             0.5555555555555556,
             "#d8576b"
            ],
            [
             0.6666666666666666,
             "#ed7953"
            ],
            [
             0.7777777777777778,
             "#fb9f3a"
            ],
            [
             0.8888888888888888,
             "#fdca26"
            ],
            [
             1.0,
             "#f0f921"
            ]
           ],
           "sequentialminus": [
            [
             0.0,
             "#0d0887"
            ],
            [
             0.1111111111111111,
             "#46039f"
            ],
            [
             0.2222222222222222,
             "#7201a8"
            ],
            [
             0.3333333333333333,
             "#9c179e"
            ],
            [
             0.4444444444444444,
             "#bd3786"
            ],
            [
             0.5555555555555556,
             "#d8576b"
            ],
            [
             0.6666666666666666,
             "#ed7953"
            ],
            [
             0.7777777777777778,
             "#fb9f3a"
            ],
            [
             0.8888888888888888,
             "#fdca26"
            ],
            [
             1.0,
             "#f0f921"
            ]
           ],
           "diverging": [
            [
             0,
             "#8e0152"
            ],
            [
             0.1,
             "#c51b7d"
            ],
            [
             0.2,
             "#de77ae"
            ],
            [
             0.3,
             "#f1b6da"
            ],
            [
             0.4,
             "#fde0ef"
            ],
            [
             0.5,
             "#f7f7f7"
            ],
            [
             0.6,
             "#e6f5d0"
            ],
            [
             0.7,
             "#b8e186"
            ],
            [
             0.8,
             "#7fbc41"
            ],
            [
             0.9,
             "#4d9221"
            ],
            [
             1,
             "#276419"
            ]
           ]
          },
          "xaxis": {
           "gridcolor": "#283442",
           "linecolor": "#506784",
           "ticks": "",
           "title": {
            "standoff": 15
           },
           "zerolinecolor": "#283442",
           "automargin": true,
           "zerolinewidth": 2
          },
          "yaxis": {
           "gridcolor": "#283442",
           "linecolor": "#506784",
           "ticks": "",
           "title": {
            "standoff": 15
           },
           "zerolinecolor": "#283442",
           "automargin": true,
           "zerolinewidth": 2
          },
          "scene": {
           "xaxis": {
            "backgroundcolor": "rgb(17,17,17)",
            "gridcolor": "#506784",
            "linecolor": "#506784",
            "showbackground": true,
            "ticks": "",
            "zerolinecolor": "#C8D4E3",
            "gridwidth": 2
           },
           "yaxis": {
            "backgroundcolor": "rgb(17,17,17)",
            "gridcolor": "#506784",
            "linecolor": "#506784",
            "showbackground": true,
            "ticks": "",
            "zerolinecolor": "#C8D4E3",
            "gridwidth": 2
           },
           "zaxis": {
            "backgroundcolor": "rgb(17,17,17)",
            "gridcolor": "#506784",
            "linecolor": "#506784",
            "showbackground": true,
            "ticks": "",
            "zerolinecolor": "#C8D4E3",
            "gridwidth": 2
           }
          },
          "shapedefaults": {
           "line": {
            "color": "#f2f5fa"
           }
          },
          "annotationdefaults": {
           "arrowcolor": "#f2f5fa",
           "arrowhead": 0,
           "arrowwidth": 1
          },
          "geo": {
           "bgcolor": "rgb(17,17,17)",
           "landcolor": "rgb(17,17,17)",
           "subunitcolor": "#506784",
           "showland": true,
           "showlakes": true,
           "lakecolor": "rgb(17,17,17)"
          },
          "title": {
           "x": 0.05
          },
          "updatemenudefaults": {
           "bgcolor": "#506784",
           "borderwidth": 0
          },
          "sliderdefaults": {
           "bgcolor": "#C8D4E3",
           "borderwidth": 1,
           "bordercolor": "rgb(17,17,17)",
           "tickwidth": 0
          },
          "mapbox": {
           "style": "dark"
          }
         }
        },
        "xaxis": {
         "anchor": "y",
         "domain": [
          0.0,
          1.0
         ],
         "title": {
          "text": "stats"
         }
        },
        "yaxis": {
         "anchor": "x",
         "domain": [
          0.0,
          1.0
         ],
         "title": {
          "text": "value"
         }
        },
        "legend": {
         "tracegroupgap": 0
        },
        "title": {
         "text": "charges"
        },
        "barmode": "relative"
       },
       "config": {
        "plotlyServerURL": "https://plot.ly"
       }
      },
      "text/html": "<div>                            <div id=\"c3eaa60f-2014-414f-a594-fe3555576db6\" class=\"plotly-graph-div\" style=\"height:525px; width:100%;\"></div>            <script type=\"text/javascript\">                require([\"plotly\"], function(Plotly) {                    window.PLOTLYENV=window.PLOTLYENV || {};                                    if (document.getElementById(\"c3eaa60f-2014-414f-a594-fe3555576db6\")) {                    Plotly.newPlot(                        \"c3eaa60f-2014-414f-a594-fe3555576db6\",                        [{\"alignmentgroup\":\"True\",\"hovertemplate\":\"x=%{x}<br>y=%{y}<extra></extra>\",\"legendgroup\":\"\",\"marker\":{\"color\":\"#636efa\",\"pattern\":{\"shape\":\"\"}},\"name\":\"\",\"offsetgroup\":\"\",\"orientation\":\"v\",\"showlegend\":false,\"textposition\":\"auto\",\"x\":[\"mean\",\"mode\",\"median\"],\"xaxis\":\"x\",\"y\":[13270.422265141257,1639.5631,9382.033],\"yaxis\":\"y\",\"type\":\"bar\"}],                        {\"template\":{\"data\":{\"histogram2dcontour\":[{\"type\":\"histogram2dcontour\",\"colorbar\":{\"outlinewidth\":0,\"ticks\":\"\"},\"colorscale\":[[0.0,\"#0d0887\"],[0.1111111111111111,\"#46039f\"],[0.2222222222222222,\"#7201a8\"],[0.3333333333333333,\"#9c179e\"],[0.4444444444444444,\"#bd3786\"],[0.5555555555555556,\"#d8576b\"],[0.6666666666666666,\"#ed7953\"],[0.7777777777777778,\"#fb9f3a\"],[0.8888888888888888,\"#fdca26\"],[1.0,\"#f0f921\"]]}],\"choropleth\":[{\"type\":\"choropleth\",\"colorbar\":{\"outlinewidth\":0,\"ticks\":\"\"}}],\"histogram2d\":[{\"type\":\"histogram2d\",\"colorbar\":{\"outlinewidth\":0,\"ticks\":\"\"},\"colorscale\":[[0.0,\"#0d0887\"],[0.1111111111111111,\"#46039f\"],[0.2222222222222222,\"#7201a8\"],[0.3333333333333333,\"#9c179e\"],[0.4444444444444444,\"#bd3786\"],[0.5555555555555556,\"#d8576b\"],[0.6666666666666666,\"#ed7953\"],[0.7777777777777778,\"#fb9f3a\"],[0.8888888888888888,\"#fdca26\"],[1.0,\"#f0f921\"]]}],\"heatmap\":[{\"type\":\"heatmap\",\"colorbar\":{\"outlinewidth\":0,\"ticks\":\"\"},\"colorscale\":[[0.0,\"#0d0887\"],[0.1111111111111111,\"#46039f\"],[0.2222222222222222,\"#7201a8\"],[0.3333333333333333,\"#9c179e\"],[0.4444444444444444,\"#bd3786\"],[0.5555555555555556,\"#d8576b\"],[0.6666666666666666,\"#ed7953\"],[0.7777777777777778,\"#fb9f3a\"],[0.8888888888888888,\"#fdca26\"],[1.0,\"#f0f921\"]]}],\"heatmapgl\":[{\"type\":\"heatmapgl\",\"colorbar\":{\"outlinewidth\":0,\"ticks\":\"\"},\"colorscale\":[[0.0,\"#0d0887\"],[0.1111111111111111,\"#46039f\"],[0.2222222222222222,\"#7201a8\"],[0.3333333333333333,\"#9c179e\"],[0.4444444444444444,\"#bd3786\"],[0.5555555555555556,\"#d8576b\"],[0.6666666666666666,\"#ed7953\"],[0.7777777777777778,\"#fb9f3a\"],[0.8888888888888888,\"#fdca26\"],[1.0,\"#f0f921\"]]}],\"contourcarpet\":[{\"type\":\"contourcarpet\",\"colorbar\":{\"outlinewidth\":0,\"ticks\":\"\"}}],\"contour\":[{\"type\":\"contour\",\"colorbar\":{\"outlinewidth\":0,\"ticks\":\"\"},\"colorscale\":[[0.0,\"#0d0887\"],[0.1111111111111111,\"#46039f\"],[0.2222222222222222,\"#7201a8\"],[0.3333333333333333,\"#9c179e\"],[0.4444444444444444,\"#bd3786\"],[0.5555555555555556,\"#d8576b\"],[0.6666666666666666,\"#ed7953\"],[0.7777777777777778,\"#fb9f3a\"],[0.8888888888888888,\"#fdca26\"],[1.0,\"#f0f921\"]]}],\"surface\":[{\"type\":\"surface\",\"colorbar\":{\"outlinewidth\":0,\"ticks\":\"\"},\"colorscale\":[[0.0,\"#0d0887\"],[0.1111111111111111,\"#46039f\"],[0.2222222222222222,\"#7201a8\"],[0.3333333333333333,\"#9c179e\"],[0.4444444444444444,\"#bd3786\"],[0.5555555555555556,\"#d8576b\"],[0.6666666666666666,\"#ed7953\"],[0.7777777777777778,\"#fb9f3a\"],[0.8888888888888888,\"#fdca26\"],[1.0,\"#f0f921\"]]}],\"mesh3d\":[{\"type\":\"mesh3d\",\"colorbar\":{\"outlinewidth\":0,\"ticks\":\"\"}}],\"scatter\":[{\"marker\":{\"line\":{\"color\":\"#283442\"}},\"type\":\"scatter\"}],\"parcoords\":[{\"type\":\"parcoords\",\"line\":{\"colorbar\":{\"outlinewidth\":0,\"ticks\":\"\"}}}],\"scatterpolargl\":[{\"type\":\"scatterpolargl\",\"marker\":{\"colorbar\":{\"outlinewidth\":0,\"ticks\":\"\"}}}],\"bar\":[{\"error_x\":{\"color\":\"#f2f5fa\"},\"error_y\":{\"color\":\"#f2f5fa\"},\"marker\":{\"line\":{\"color\":\"rgb(17,17,17)\",\"width\":0.5},\"pattern\":{\"fillmode\":\"overlay\",\"size\":10,\"solidity\":0.2}},\"type\":\"bar\"}],\"scattergeo\":[{\"type\":\"scattergeo\",\"marker\":{\"colorbar\":{\"outlinewidth\":0,\"ticks\":\"\"}}}],\"scatterpolar\":[{\"type\":\"scatterpolar\",\"marker\":{\"colorbar\":{\"outlinewidth\":0,\"ticks\":\"\"}}}],\"histogram\":[{\"marker\":{\"pattern\":{\"fillmode\":\"overlay\",\"size\":10,\"solidity\":0.2}},\"type\":\"histogram\"}],\"scattergl\":[{\"marker\":{\"line\":{\"color\":\"#283442\"}},\"type\":\"scattergl\"}],\"scatter3d\":[{\"type\":\"scatter3d\",\"line\":{\"colorbar\":{\"outlinewidth\":0,\"ticks\":\"\"}},\"marker\":{\"colorbar\":{\"outlinewidth\":0,\"ticks\":\"\"}}}],\"scattermapbox\":[{\"type\":\"scattermapbox\",\"marker\":{\"colorbar\":{\"outlinewidth\":0,\"ticks\":\"\"}}}],\"scatterternary\":[{\"type\":\"scatterternary\",\"marker\":{\"colorbar\":{\"outlinewidth\":0,\"ticks\":\"\"}}}],\"scattercarpet\":[{\"type\":\"scattercarpet\",\"marker\":{\"colorbar\":{\"outlinewidth\":0,\"ticks\":\"\"}}}],\"carpet\":[{\"aaxis\":{\"endlinecolor\":\"#A2B1C6\",\"gridcolor\":\"#506784\",\"linecolor\":\"#506784\",\"minorgridcolor\":\"#506784\",\"startlinecolor\":\"#A2B1C6\"},\"baxis\":{\"endlinecolor\":\"#A2B1C6\",\"gridcolor\":\"#506784\",\"linecolor\":\"#506784\",\"minorgridcolor\":\"#506784\",\"startlinecolor\":\"#A2B1C6\"},\"type\":\"carpet\"}],\"table\":[{\"cells\":{\"fill\":{\"color\":\"#506784\"},\"line\":{\"color\":\"rgb(17,17,17)\"}},\"header\":{\"fill\":{\"color\":\"#2a3f5f\"},\"line\":{\"color\":\"rgb(17,17,17)\"}},\"type\":\"table\"}],\"barpolar\":[{\"marker\":{\"line\":{\"color\":\"rgb(17,17,17)\",\"width\":0.5},\"pattern\":{\"fillmode\":\"overlay\",\"size\":10,\"solidity\":0.2}},\"type\":\"barpolar\"}],\"pie\":[{\"automargin\":true,\"type\":\"pie\"}]},\"layout\":{\"autotypenumbers\":\"strict\",\"colorway\":[\"#636efa\",\"#EF553B\",\"#00cc96\",\"#ab63fa\",\"#FFA15A\",\"#19d3f3\",\"#FF6692\",\"#B6E880\",\"#FF97FF\",\"#FECB52\"],\"font\":{\"color\":\"#f2f5fa\"},\"hovermode\":\"closest\",\"hoverlabel\":{\"align\":\"left\"},\"paper_bgcolor\":\"rgb(17,17,17)\",\"plot_bgcolor\":\"rgb(17,17,17)\",\"polar\":{\"bgcolor\":\"rgb(17,17,17)\",\"angularaxis\":{\"gridcolor\":\"#506784\",\"linecolor\":\"#506784\",\"ticks\":\"\"},\"radialaxis\":{\"gridcolor\":\"#506784\",\"linecolor\":\"#506784\",\"ticks\":\"\"}},\"ternary\":{\"bgcolor\":\"rgb(17,17,17)\",\"aaxis\":{\"gridcolor\":\"#506784\",\"linecolor\":\"#506784\",\"ticks\":\"\"},\"baxis\":{\"gridcolor\":\"#506784\",\"linecolor\":\"#506784\",\"ticks\":\"\"},\"caxis\":{\"gridcolor\":\"#506784\",\"linecolor\":\"#506784\",\"ticks\":\"\"}},\"coloraxis\":{\"colorbar\":{\"outlinewidth\":0,\"ticks\":\"\"}},\"colorscale\":{\"sequential\":[[0.0,\"#0d0887\"],[0.1111111111111111,\"#46039f\"],[0.2222222222222222,\"#7201a8\"],[0.3333333333333333,\"#9c179e\"],[0.4444444444444444,\"#bd3786\"],[0.5555555555555556,\"#d8576b\"],[0.6666666666666666,\"#ed7953\"],[0.7777777777777778,\"#fb9f3a\"],[0.8888888888888888,\"#fdca26\"],[1.0,\"#f0f921\"]],\"sequentialminus\":[[0.0,\"#0d0887\"],[0.1111111111111111,\"#46039f\"],[0.2222222222222222,\"#7201a8\"],[0.3333333333333333,\"#9c179e\"],[0.4444444444444444,\"#bd3786\"],[0.5555555555555556,\"#d8576b\"],[0.6666666666666666,\"#ed7953\"],[0.7777777777777778,\"#fb9f3a\"],[0.8888888888888888,\"#fdca26\"],[1.0,\"#f0f921\"]],\"diverging\":[[0,\"#8e0152\"],[0.1,\"#c51b7d\"],[0.2,\"#de77ae\"],[0.3,\"#f1b6da\"],[0.4,\"#fde0ef\"],[0.5,\"#f7f7f7\"],[0.6,\"#e6f5d0\"],[0.7,\"#b8e186\"],[0.8,\"#7fbc41\"],[0.9,\"#4d9221\"],[1,\"#276419\"]]},\"xaxis\":{\"gridcolor\":\"#283442\",\"linecolor\":\"#506784\",\"ticks\":\"\",\"title\":{\"standoff\":15},\"zerolinecolor\":\"#283442\",\"automargin\":true,\"zerolinewidth\":2},\"yaxis\":{\"gridcolor\":\"#283442\",\"linecolor\":\"#506784\",\"ticks\":\"\",\"title\":{\"standoff\":15},\"zerolinecolor\":\"#283442\",\"automargin\":true,\"zerolinewidth\":2},\"scene\":{\"xaxis\":{\"backgroundcolor\":\"rgb(17,17,17)\",\"gridcolor\":\"#506784\",\"linecolor\":\"#506784\",\"showbackground\":true,\"ticks\":\"\",\"zerolinecolor\":\"#C8D4E3\",\"gridwidth\":2},\"yaxis\":{\"backgroundcolor\":\"rgb(17,17,17)\",\"gridcolor\":\"#506784\",\"linecolor\":\"#506784\",\"showbackground\":true,\"ticks\":\"\",\"zerolinecolor\":\"#C8D4E3\",\"gridwidth\":2},\"zaxis\":{\"backgroundcolor\":\"rgb(17,17,17)\",\"gridcolor\":\"#506784\",\"linecolor\":\"#506784\",\"showbackground\":true,\"ticks\":\"\",\"zerolinecolor\":\"#C8D4E3\",\"gridwidth\":2}},\"shapedefaults\":{\"line\":{\"color\":\"#f2f5fa\"}},\"annotationdefaults\":{\"arrowcolor\":\"#f2f5fa\",\"arrowhead\":0,\"arrowwidth\":1},\"geo\":{\"bgcolor\":\"rgb(17,17,17)\",\"landcolor\":\"rgb(17,17,17)\",\"subunitcolor\":\"#506784\",\"showland\":true,\"showlakes\":true,\"lakecolor\":\"rgb(17,17,17)\"},\"title\":{\"x\":0.05},\"updatemenudefaults\":{\"bgcolor\":\"#506784\",\"borderwidth\":0},\"sliderdefaults\":{\"bgcolor\":\"#C8D4E3\",\"borderwidth\":1,\"bordercolor\":\"rgb(17,17,17)\",\"tickwidth\":0},\"mapbox\":{\"style\":\"dark\"}}},\"xaxis\":{\"anchor\":\"y\",\"domain\":[0.0,1.0],\"title\":{\"text\":\"stats\"}},\"yaxis\":{\"anchor\":\"x\",\"domain\":[0.0,1.0],\"title\":{\"text\":\"value\"}},\"legend\":{\"tracegroupgap\":0},\"title\":{\"text\":\"charges\"},\"barmode\":\"relative\"},                        {\"responsive\": true}                    ).then(function(){\n                            \nvar gd = document.getElementById('c3eaa60f-2014-414f-a594-fe3555576db6');\nvar x = new MutationObserver(function (mutations, observer) {{\n        var display = window.getComputedStyle(gd).display;\n        if (!display || display === 'none') {{\n            console.log([gd, 'removed!']);\n            Plotly.purge(gd);\n            observer.disconnect();\n        }}\n}});\n\n// Listen for the removal of the full notebook cells\nvar notebookContainer = gd.closest('#notebook-container');\nif (notebookContainer) {{\n    x.observe(notebookContainer, {childList: true});\n}}\n\n// Listen for the clearing of the current output cell\nvar outputEl = gd.closest('.output');\nif (outputEl) {{\n    x.observe(outputEl, {childList: true});\n}}\n\n                        })                };                });            </script>        </div>"
     },
     "metadata": {},
     "output_type": "display_data"
    }
   ],
   "source": [
    "mean_bmi = np.mean(data.bmi)\n",
    "mean_charges = np.mean(data.charges)\n",
    "\n",
    "mode_bmi = sts.mode(data.bmi).__getitem__(0)[0]\n",
    "mode_charges = sts.mode(data.charges).__getitem__(0)[0]\n",
    "\n",
    "median_bmi = np.median(data.bmi)\n",
    "median_charges = np.median(data.charges)\n",
    "\n",
    "print('mean bmi: %f'%mean_bmi)\n",
    "print('mean charges: %f'%mean_charges)\n",
    "print('mode bmi: %f'%mode_bmi)\n",
    "print('mode charges: %f'%mode_charges)\n",
    "print('median bmi: %f'%median_bmi)\n",
    "print('median bmi: %f'%median_charges)\n",
    "\n",
    "\n",
    "fig  = px.bar(y=[mean_bmi, mode_bmi, median_bmi], x=[\"mean\", \"mode\", \"median\"], title=\"bmi\")\n",
    "fig.update_layout(xaxis_title=\"stats\", yaxis_title=\"index\")\n",
    "fig.show()\n",
    "\n",
    "fig  = px.bar(y=[mean_charges, mode_charges, median_charges], x=[\"mean\", \"mode\", \"median\"], title=\"charges\")\n",
    "fig.update_layout(xaxis_title=\"stats\", yaxis_title=\"value\")\n",
    "fig.show()\n"
   ],
   "metadata": {
    "collapsed": false
   }
  },
  {
   "cell_type": "code",
   "execution_count": 36,
   "outputs": [
    {
     "data": {
      "application/vnd.plotly.v1+json": {
       "data": [
        {
         "alignmentgroup": "True",
         "boxpoints": "all",
         "hovertemplate": "variable=%{x}<br>value=%{y}<extra></extra>",
         "legendgroup": "",
         "marker": {
          "color": "#636efa"
         },
         "name": "",
         "notched": false,
         "offsetgroup": "",
         "orientation": "v",
         "showlegend": false,
         "x": [
          "bmi",
          "bmi",
          "bmi",
          "bmi",
          "bmi",
          "bmi",
          "bmi",
          "bmi",
          "bmi",
          "bmi",
          "bmi",
          "bmi",
          "bmi",
          "bmi",
          "bmi",
          "bmi",
          "bmi",
          "bmi",
          "bmi",
          "bmi",
          "bmi",
          "bmi",
          "bmi",
          "bmi",
          "bmi",
          "bmi",
          "bmi",
          "bmi",
          "bmi",
          "bmi",
          "bmi",
          "bmi",
          "bmi",
          "bmi",
          "bmi",
          "bmi",
          "bmi",
          "bmi",
          "bmi",
          "bmi",
          "bmi",
          "bmi",
          "bmi",
          "bmi",
          "bmi",
          "bmi",
          "bmi",
          "bmi",
          "bmi",
          "bmi",
          "bmi",
          "bmi",
          "bmi",
          "bmi",
          "bmi",
          "bmi",
          "bmi",
          "bmi",
          "bmi",
          "bmi",
          "bmi",
          "bmi",
          "bmi",
          "bmi",
          "bmi",
          "bmi",
          "bmi",
          "bmi",
          "bmi",
          "bmi",
          "bmi",
          "bmi",
          "bmi",
          "bmi",
          "bmi",
          "bmi",
          "bmi",
          "bmi",
          "bmi",
          "bmi",
          "bmi",
          "bmi",
          "bmi",
          "bmi",
          "bmi",
          "bmi",
          "bmi",
          "bmi",
          "bmi",
          "bmi",
          "bmi",
          "bmi",
          "bmi",
          "bmi",
          "bmi",
          "bmi",
          "bmi",
          "bmi",
          "bmi",
          "bmi",
          "bmi",
          "bmi",
          "bmi",
          "bmi",
          "bmi",
          "bmi",
          "bmi",
          "bmi",
          "bmi",
          "bmi",
          "bmi",
          "bmi",
          "bmi",
          "bmi",
          "bmi",
          "bmi",
          "bmi",
          "bmi",
          "bmi",
          "bmi",
          "bmi",
          "bmi",
          "bmi",
          "bmi",
          "bmi",
          "bmi",
          "bmi",
          "bmi",
          "bmi",
          "bmi",
          "bmi",
          "bmi",
          "bmi",
          "bmi",
          "bmi",
          "bmi",
          "bmi",
          "bmi",
          "bmi",
          "bmi",
          "bmi",
          "bmi",
          "bmi",
          "bmi",
          "bmi",
          "bmi",
          "bmi",
          "bmi",
          "bmi",
          "bmi",
          "bmi",
          "bmi",
          "bmi",
          "bmi",
          "bmi",
          "bmi",
          "bmi",
          "bmi",
          "bmi",
          "bmi",
          "bmi",
          "bmi",
          "bmi",
          "bmi",
          "bmi",
          "bmi",
          "bmi",
          "bmi",
          "bmi",
          "bmi",
          "bmi",
          "bmi",
          "bmi",
          "bmi",
          "bmi",
          "bmi",
          "bmi",
          "bmi",
          "bmi",
          "bmi",
          "bmi",
          "bmi",
          "bmi",
          "bmi",
          "bmi",
          "bmi",
          "bmi",
          "bmi",
          "bmi",
          "bmi",
          "bmi",
          "bmi",
          "bmi",
          "bmi",
          "bmi",
          "bmi",
          "bmi",
          "bmi",
          "bmi",
          "bmi",
          "bmi",
          "bmi",
          "bmi",
          "bmi",
          "bmi",
          "bmi",
          "bmi",
          "bmi",
          "bmi",
          "bmi",
          "bmi",
          "bmi",
          "bmi",
          "bmi",
          "bmi",
          "bmi",
          "bmi",
          "bmi",
          "bmi",
          "bmi",
          "bmi",
          "bmi",
          "bmi",
          "bmi",
          "bmi",
          "bmi",
          "bmi",
          "bmi",
          "bmi",
          "bmi",
          "bmi",
          "bmi",
          "bmi",
          "bmi",
          "bmi",
          "bmi",
          "bmi",
          "bmi",
          "bmi",
          "bmi",
          "bmi",
          "bmi",
          "bmi",
          "bmi",
          "bmi",
          "bmi",
          "bmi",
          "bmi",
          "bmi",
          "bmi",
          "bmi",
          "bmi",
          "bmi",
          "bmi",
          "bmi",
          "bmi",
          "bmi",
          "bmi",
          "bmi",
          "bmi",
          "bmi",
          "bmi",
          "bmi",
          "bmi",
          "bmi",
          "bmi",
          "bmi",
          "bmi",
          "bmi",
          "bmi",
          "bmi",
          "bmi",
          "bmi",
          "bmi",
          "bmi",
          "bmi",
          "bmi",
          "bmi",
          "bmi",
          "bmi",
          "bmi",
          "bmi",
          "bmi",
          "bmi",
          "bmi",
          "bmi",
          "bmi",
          "bmi",
          "bmi",
          "bmi",
          "bmi",
          "bmi",
          "bmi",
          "bmi",
          "bmi",
          "bmi",
          "bmi",
          "bmi",
          "bmi",
          "bmi",
          "bmi",
          "bmi",
          "bmi",
          "bmi",
          "bmi",
          "bmi",
          "bmi",
          "bmi",
          "bmi",
          "bmi",
          "bmi",
          "bmi",
          "bmi",
          "bmi",
          "bmi",
          "bmi",
          "bmi",
          "bmi",
          "bmi",
          "bmi",
          "bmi",
          "bmi",
          "bmi",
          "bmi",
          "bmi",
          "bmi",
          "bmi",
          "bmi",
          "bmi",
          "bmi",
          "bmi",
          "bmi",
          "bmi",
          "bmi",
          "bmi",
          "bmi",
          "bmi",
          "bmi",
          "bmi",
          "bmi",
          "bmi",
          "bmi",
          "bmi",
          "bmi",
          "bmi",
          "bmi",
          "bmi",
          "bmi",
          "bmi",
          "bmi",
          "bmi",
          "bmi",
          "bmi",
          "bmi",
          "bmi",
          "bmi",
          "bmi",
          "bmi",
          "bmi",
          "bmi",
          "bmi",
          "bmi",
          "bmi",
          "bmi",
          "bmi",
          "bmi",
          "bmi",
          "bmi",
          "bmi",
          "bmi",
          "bmi",
          "bmi",
          "bmi",
          "bmi",
          "bmi",
          "bmi",
          "bmi",
          "bmi",
          "bmi",
          "bmi",
          "bmi",
          "bmi",
          "bmi",
          "bmi",
          "bmi",
          "bmi",
          "bmi",
          "bmi",
          "bmi",
          "bmi",
          "bmi",
          "bmi",
          "bmi",
          "bmi",
          "bmi",
          "bmi",
          "bmi",
          "bmi",
          "bmi",
          "bmi",
          "bmi",
          "bmi",
          "bmi",
          "bmi",
          "bmi",
          "bmi",
          "bmi",
          "bmi",
          "bmi",
          "bmi",
          "bmi",
          "bmi",
          "bmi",
          "bmi",
          "bmi",
          "bmi",
          "bmi",
          "bmi",
          "bmi",
          "bmi",
          "bmi",
          "bmi",
          "bmi",
          "bmi",
          "bmi",
          "bmi",
          "bmi",
          "bmi",
          "bmi",
          "bmi",
          "bmi",
          "bmi",
          "bmi",
          "bmi",
          "bmi",
          "bmi",
          "bmi",
          "bmi",
          "bmi",
          "bmi",
          "bmi",
          "bmi",
          "bmi",
          "bmi",
          "bmi",
          "bmi",
          "bmi",
          "bmi",
          "bmi",
          "bmi",
          "bmi",
          "bmi",
          "bmi",
          "bmi",
          "bmi",
          "bmi",
          "bmi",
          "bmi",
          "bmi",
          "bmi",
          "bmi",
          "bmi",
          "bmi",
          "bmi",
          "bmi",
          "bmi",
          "bmi",
          "bmi",
          "bmi",
          "bmi",
          "bmi",
          "bmi",
          "bmi",
          "bmi",
          "bmi",
          "bmi",
          "bmi",
          "bmi",
          "bmi",
          "bmi",
          "bmi",
          "bmi",
          "bmi",
          "bmi",
          "bmi",
          "bmi",
          "bmi",
          "bmi",
          "bmi",
          "bmi",
          "bmi",
          "bmi",
          "bmi",
          "bmi",
          "bmi",
          "bmi",
          "bmi",
          "bmi",
          "bmi",
          "bmi",
          "bmi",
          "bmi",
          "bmi",
          "bmi",
          "bmi",
          "bmi",
          "bmi",
          "bmi",
          "bmi",
          "bmi",
          "bmi",
          "bmi",
          "bmi",
          "bmi",
          "bmi",
          "bmi",
          "bmi",
          "bmi",
          "bmi",
          "bmi",
          "bmi",
          "bmi",
          "bmi",
          "bmi",
          "bmi",
          "bmi",
          "bmi",
          "bmi",
          "bmi",
          "bmi",
          "bmi",
          "bmi",
          "bmi",
          "bmi",
          "bmi",
          "bmi",
          "bmi",
          "bmi",
          "bmi",
          "bmi",
          "bmi",
          "bmi",
          "bmi",
          "bmi",
          "bmi",
          "bmi",
          "bmi",
          "bmi",
          "bmi",
          "bmi",
          "bmi",
          "bmi",
          "bmi",
          "bmi",
          "bmi",
          "bmi",
          "bmi",
          "bmi",
          "bmi",
          "bmi",
          "bmi",
          "bmi",
          "bmi",
          "bmi",
          "bmi",
          "bmi",
          "bmi",
          "bmi",
          "bmi",
          "bmi",
          "bmi",
          "bmi",
          "bmi",
          "bmi",
          "bmi",
          "bmi",
          "bmi",
          "bmi",
          "bmi",
          "bmi",
          "bmi",
          "bmi",
          "bmi",
          "bmi",
          "bmi",
          "bmi",
          "bmi",
          "bmi",
          "bmi",
          "bmi",
          "bmi",
          "bmi",
          "bmi",
          "bmi",
          "bmi",
          "bmi",
          "bmi",
          "bmi",
          "bmi",
          "bmi",
          "bmi",
          "bmi",
          "bmi",
          "bmi",
          "bmi",
          "bmi",
          "bmi",
          "bmi",
          "bmi",
          "bmi",
          "bmi",
          "bmi",
          "bmi",
          "bmi",
          "bmi",
          "bmi",
          "bmi",
          "bmi",
          "bmi",
          "bmi",
          "bmi",
          "bmi",
          "bmi",
          "bmi",
          "bmi",
          "bmi",
          "bmi",
          "bmi",
          "bmi",
          "bmi",
          "bmi",
          "bmi",
          "bmi",
          "bmi",
          "bmi",
          "bmi",
          "bmi",
          "bmi",
          "bmi",
          "bmi",
          "bmi",
          "bmi",
          "bmi",
          "bmi",
          "bmi",
          "bmi",
          "bmi",
          "bmi",
          "bmi",
          "bmi",
          "bmi",
          "bmi",
          "bmi",
          "bmi",
          "bmi",
          "bmi",
          "bmi",
          "bmi",
          "bmi",
          "bmi",
          "bmi",
          "bmi",
          "bmi",
          "bmi",
          "bmi",
          "bmi",
          "bmi",
          "bmi",
          "bmi",
          "bmi",
          "bmi",
          "bmi",
          "bmi",
          "bmi",
          "bmi",
          "bmi",
          "bmi",
          "bmi",
          "bmi",
          "bmi",
          "bmi",
          "bmi",
          "bmi",
          "bmi",
          "bmi",
          "bmi",
          "bmi",
          "bmi",
          "bmi",
          "bmi",
          "bmi",
          "bmi",
          "bmi",
          "bmi",
          "bmi",
          "bmi",
          "bmi",
          "bmi",
          "bmi",
          "bmi",
          "bmi",
          "bmi",
          "bmi",
          "bmi",
          "bmi",
          "bmi",
          "bmi",
          "bmi",
          "bmi",
          "bmi",
          "bmi",
          "bmi",
          "bmi",
          "bmi",
          "bmi",
          "bmi",
          "bmi",
          "bmi",
          "bmi",
          "bmi",
          "bmi",
          "bmi",
          "bmi",
          "bmi",
          "bmi",
          "bmi",
          "bmi",
          "bmi",
          "bmi",
          "bmi",
          "bmi",
          "bmi",
          "bmi",
          "bmi",
          "bmi",
          "bmi",
          "bmi",
          "bmi",
          "bmi",
          "bmi",
          "bmi",
          "bmi",
          "bmi",
          "bmi",
          "bmi",
          "bmi",
          "bmi",
          "bmi",
          "bmi",
          "bmi",
          "bmi",
          "bmi",
          "bmi",
          "bmi",
          "bmi",
          "bmi",
          "bmi",
          "bmi",
          "bmi",
          "bmi",
          "bmi",
          "bmi",
          "bmi",
          "bmi",
          "bmi",
          "bmi",
          "bmi",
          "bmi",
          "bmi",
          "bmi",
          "bmi",
          "bmi",
          "bmi",
          "bmi",
          "bmi",
          "bmi",
          "bmi",
          "bmi",
          "bmi",
          "bmi",
          "bmi",
          "bmi",
          "bmi",
          "bmi",
          "bmi",
          "bmi",
          "bmi",
          "bmi",
          "bmi",
          "bmi",
          "bmi",
          "bmi",
          "bmi",
          "bmi",
          "bmi",
          "bmi",
          "bmi",
          "bmi",
          "bmi",
          "bmi",
          "bmi",
          "bmi",
          "bmi",
          "bmi",
          "bmi",
          "bmi",
          "bmi",
          "bmi",
          "bmi",
          "bmi",
          "bmi",
          "bmi",
          "bmi",
          "bmi",
          "bmi",
          "bmi",
          "bmi",
          "bmi",
          "bmi",
          "bmi",
          "bmi",
          "bmi",
          "bmi",
          "bmi",
          "bmi",
          "bmi",
          "bmi",
          "bmi",
          "bmi",
          "bmi",
          "bmi",
          "bmi",
          "bmi",
          "bmi",
          "bmi",
          "bmi",
          "bmi",
          "bmi",
          "bmi",
          "bmi",
          "bmi",
          "bmi",
          "bmi",
          "bmi",
          "bmi",
          "bmi",
          "bmi",
          "bmi",
          "bmi",
          "bmi",
          "bmi",
          "bmi",
          "bmi",
          "bmi",
          "bmi",
          "bmi",
          "bmi",
          "bmi",
          "bmi",
          "bmi",
          "bmi",
          "bmi",
          "bmi",
          "bmi",
          "bmi",
          "bmi",
          "bmi",
          "bmi",
          "bmi",
          "bmi",
          "bmi",
          "bmi",
          "bmi",
          "bmi",
          "bmi",
          "bmi",
          "bmi",
          "bmi",
          "bmi",
          "bmi",
          "bmi",
          "bmi",
          "bmi",
          "bmi",
          "bmi",
          "bmi",
          "bmi",
          "bmi",
          "bmi",
          "bmi",
          "bmi",
          "bmi",
          "bmi",
          "bmi",
          "bmi",
          "bmi",
          "bmi",
          "bmi",
          "bmi",
          "bmi",
          "bmi",
          "bmi",
          "bmi",
          "bmi",
          "bmi",
          "bmi",
          "bmi",
          "bmi",
          "bmi",
          "bmi",
          "bmi",
          "bmi",
          "bmi",
          "bmi",
          "bmi",
          "bmi",
          "bmi",
          "bmi",
          "bmi",
          "bmi",
          "bmi",
          "bmi",
          "bmi",
          "bmi",
          "bmi",
          "bmi",
          "bmi",
          "bmi",
          "bmi",
          "bmi",
          "bmi",
          "bmi",
          "bmi",
          "bmi",
          "bmi",
          "bmi",
          "bmi",
          "bmi",
          "bmi",
          "bmi",
          "bmi",
          "bmi",
          "bmi",
          "bmi",
          "bmi",
          "bmi",
          "bmi",
          "bmi",
          "bmi",
          "bmi",
          "bmi",
          "bmi",
          "bmi",
          "bmi",
          "bmi",
          "bmi",
          "bmi",
          "bmi",
          "bmi",
          "bmi",
          "bmi",
          "bmi",
          "bmi",
          "bmi",
          "bmi",
          "bmi",
          "bmi",
          "bmi",
          "bmi",
          "bmi",
          "bmi",
          "bmi",
          "bmi",
          "bmi",
          "bmi",
          "bmi",
          "bmi",
          "bmi",
          "bmi",
          "bmi",
          "bmi",
          "bmi",
          "bmi",
          "bmi",
          "bmi",
          "bmi",
          "bmi",
          "bmi",
          "bmi",
          "bmi",
          "bmi",
          "bmi",
          "bmi",
          "bmi",
          "bmi",
          "bmi",
          "bmi",
          "bmi",
          "bmi",
          "bmi",
          "bmi",
          "bmi",
          "bmi",
          "bmi",
          "bmi",
          "bmi",
          "bmi",
          "bmi",
          "bmi",
          "bmi",
          "bmi",
          "bmi",
          "bmi",
          "bmi",
          "bmi",
          "bmi",
          "bmi",
          "bmi",
          "bmi",
          "bmi",
          "bmi",
          "bmi",
          "bmi",
          "bmi",
          "bmi",
          "bmi",
          "bmi",
          "bmi",
          "bmi",
          "bmi",
          "bmi",
          "bmi",
          "bmi",
          "bmi",
          "bmi",
          "bmi",
          "bmi",
          "bmi",
          "bmi",
          "bmi",
          "bmi",
          "bmi",
          "bmi",
          "bmi",
          "bmi",
          "bmi",
          "bmi",
          "bmi",
          "bmi",
          "bmi",
          "bmi",
          "bmi",
          "bmi",
          "bmi",
          "bmi",
          "bmi",
          "bmi",
          "bmi",
          "bmi",
          "bmi",
          "bmi",
          "bmi",
          "bmi",
          "bmi",
          "bmi",
          "bmi",
          "bmi",
          "bmi",
          "bmi",
          "bmi",
          "bmi",
          "bmi",
          "bmi",
          "bmi",
          "bmi",
          "bmi",
          "bmi",
          "bmi",
          "bmi",
          "bmi",
          "bmi",
          "bmi",
          "bmi",
          "bmi",
          "bmi",
          "bmi",
          "bmi",
          "bmi",
          "bmi",
          "bmi",
          "bmi",
          "bmi",
          "bmi",
          "bmi",
          "bmi",
          "bmi",
          "bmi",
          "bmi",
          "bmi",
          "bmi",
          "bmi",
          "bmi",
          "bmi",
          "bmi",
          "bmi",
          "bmi",
          "bmi",
          "bmi",
          "bmi",
          "bmi",
          "bmi",
          "bmi",
          "bmi",
          "bmi",
          "bmi",
          "bmi",
          "bmi",
          "bmi",
          "bmi",
          "bmi",
          "bmi",
          "bmi",
          "bmi",
          "bmi",
          "bmi",
          "bmi",
          "bmi",
          "bmi",
          "bmi",
          "bmi",
          "bmi",
          "bmi",
          "bmi",
          "bmi",
          "bmi",
          "bmi",
          "bmi",
          "bmi",
          "bmi",
          "bmi",
          "bmi",
          "bmi",
          "bmi",
          "bmi",
          "bmi",
          "bmi",
          "bmi",
          "bmi",
          "bmi",
          "bmi",
          "bmi",
          "bmi",
          "bmi",
          "bmi",
          "bmi",
          "bmi",
          "bmi",
          "bmi",
          "bmi",
          "bmi",
          "bmi",
          "bmi",
          "bmi",
          "bmi",
          "bmi",
          "bmi",
          "bmi",
          "bmi",
          "bmi",
          "bmi",
          "bmi",
          "bmi",
          "bmi",
          "bmi",
          "bmi",
          "bmi",
          "bmi",
          "bmi",
          "bmi",
          "bmi",
          "bmi",
          "bmi",
          "bmi",
          "bmi",
          "bmi",
          "bmi",
          "bmi",
          "bmi",
          "bmi",
          "bmi",
          "bmi",
          "bmi",
          "bmi",
          "bmi",
          "bmi",
          "bmi",
          "bmi",
          "bmi",
          "bmi",
          "bmi",
          "bmi",
          "bmi",
          "bmi",
          "bmi",
          "bmi",
          "bmi",
          "bmi",
          "bmi",
          "bmi",
          "bmi",
          "bmi",
          "bmi",
          "bmi",
          "bmi",
          "bmi",
          "bmi",
          "bmi",
          "bmi",
          "bmi",
          "bmi",
          "bmi",
          "bmi",
          "bmi",
          "bmi",
          "bmi",
          "bmi",
          "bmi",
          "bmi",
          "bmi",
          "bmi",
          "bmi",
          "bmi",
          "bmi",
          "bmi",
          "bmi",
          "bmi",
          "bmi",
          "bmi",
          "bmi",
          "bmi",
          "bmi",
          "bmi",
          "bmi",
          "bmi",
          "bmi",
          "bmi",
          "bmi",
          "bmi",
          "bmi",
          "bmi",
          "bmi",
          "bmi",
          "bmi",
          "bmi",
          "bmi",
          "bmi",
          "bmi",
          "bmi",
          "bmi",
          "bmi",
          "bmi",
          "bmi",
          "bmi",
          "bmi",
          "bmi",
          "bmi",
          "bmi",
          "bmi",
          "bmi",
          "bmi",
          "bmi",
          "bmi",
          "bmi",
          "bmi",
          "bmi",
          "bmi",
          "bmi",
          "bmi",
          "bmi",
          "bmi",
          "bmi",
          "bmi",
          "bmi",
          "bmi",
          "bmi",
          "bmi",
          "bmi",
          "bmi",
          "bmi",
          "bmi",
          "bmi",
          "bmi",
          "bmi",
          "bmi",
          "bmi",
          "bmi",
          "bmi",
          "bmi",
          "bmi",
          "bmi",
          "bmi",
          "bmi",
          "bmi",
          "bmi",
          "bmi",
          "bmi",
          "bmi",
          "bmi",
          "bmi",
          "bmi",
          "bmi",
          "bmi",
          "bmi",
          "bmi",
          "bmi",
          "bmi",
          "bmi",
          "bmi",
          "bmi",
          "bmi",
          "bmi",
          "bmi",
          "bmi",
          "bmi",
          "bmi",
          "bmi",
          "bmi",
          "bmi",
          "bmi",
          "bmi",
          "bmi",
          "bmi",
          "bmi",
          "bmi",
          "bmi",
          "bmi",
          "bmi",
          "bmi"
         ],
         "x0": " ",
         "xaxis": "x",
         "y": [
          27.9,
          33.77,
          33.0,
          22.705,
          28.88,
          25.74,
          33.44,
          27.74,
          29.83,
          25.84,
          26.22,
          26.29,
          34.4,
          39.82,
          42.13,
          24.6,
          30.78,
          23.845,
          40.3,
          35.3,
          36.005,
          32.4,
          34.1,
          31.92,
          28.025,
          27.72,
          23.085,
          32.775,
          17.385,
          36.3,
          35.6,
          26.315,
          28.6,
          28.31,
          36.4,
          20.425,
          32.965,
          20.8,
          36.67,
          39.9,
          26.6,
          36.63,
          21.78,
          30.8,
          37.05,
          37.3,
          38.665,
          34.77,
          24.53,
          35.2,
          35.625,
          33.63,
          28.0,
          34.43,
          28.69,
          36.955,
          31.825,
          31.68,
          22.88,
          37.335,
          27.36,
          33.66,
          24.7,
          25.935,
          22.42,
          28.9,
          39.1,
          26.315,
          36.19,
          23.98,
          24.75,
          28.5,
          28.1,
          32.01,
          27.4,
          34.01,
          29.59,
          35.53,
          39.805,
          32.965,
          26.885,
          38.285,
          37.62,
          41.23,
          34.8,
          22.895,
          31.16,
          27.2,
          27.74,
          26.98,
          39.49,
          24.795,
          29.83,
          34.77,
          31.3,
          37.62,
          30.8,
          38.28,
          19.95,
          19.3,
          31.6,
          25.46,
          30.115,
          29.92,
          27.5,
          28.025,
          28.4,
          30.875,
          27.94,
          35.09,
          33.63,
          29.7,
          30.8,
          35.72,
          32.205,
          28.595,
          49.06,
          27.94,
          27.17,
          23.37,
          37.1,
          23.75,
          28.975,
          31.35,
          33.915,
          28.785,
          28.3,
          37.4,
          17.765,
          34.7,
          26.505,
          22.04,
          35.9,
          25.555,
          28.785,
          28.05,
          34.1,
          25.175,
          31.9,
          36.0,
          22.42,
          32.49,
          25.3,
          29.735,
          28.69,
          38.83,
          30.495,
          37.73,
          37.43,
          28.4,
          24.13,
          29.7,
          37.145,
          23.37,
          25.46,
          39.52,
          24.42,
          25.175,
          35.53,
          27.83,
          26.6,
          36.85,
          39.6,
          29.8,
          29.64,
          28.215,
          37.0,
          33.155,
          31.825,
          18.905,
          41.47,
          30.3,
          15.96,
          34.8,
          33.345,
          37.7,
          27.835,
          29.2,
          28.9,
          33.155,
          28.595,
          38.28,
          19.95,
          26.41,
          30.69,
          41.895,
          29.92,
          30.9,
          32.2,
          32.11,
          31.57,
          26.2,
          25.74,
          26.6,
          34.43,
          30.59,
          32.8,
          28.6,
          18.05,
          39.33,
          32.11,
          32.23,
          24.035,
          36.08,
          22.3,
          28.88,
          26.4,
          27.74,
          31.8,
          41.23,
          33.0,
          30.875,
          28.5,
          26.73,
          30.9,
          37.1,
          26.6,
          23.1,
          29.92,
          23.21,
          33.7,
          33.25,
          30.8,
          34.8,
          24.64,
          33.88,
          38.06,
          41.91,
          31.635,
          25.46,
          36.195,
          27.83,
          17.8,
          27.5,
          24.51,
          22.22,
          26.73,
          38.39,
          29.07,
          38.06,
          36.67,
          22.135,
          26.8,
          35.3,
          27.74,
          30.02,
          38.06,
          35.86,
          20.9,
          28.975,
          17.29,
          32.2,
          34.21,
          30.3,
          31.825,
          25.365,
          33.63,
          40.15,
          24.415,
          31.92,
          25.2,
          26.84,
          24.32,
          36.955,
          38.06,
          42.35,
          19.8,
          32.395,
          30.2,
          25.84,
          29.37,
          34.2,
          37.05,
          27.455,
          27.55,
          26.6,
          20.615,
          24.3,
          31.79,
          21.56,
          28.12,
          40.565,
          27.645,
          32.395,
          31.2,
          26.62,
          48.07,
          26.22,
          36.765,
          26.4,
          33.4,
          29.64,
          45.54,
          28.82,
          26.8,
          22.99,
          27.7,
          25.41,
          34.39,
          28.88,
          27.55,
          22.61,
          37.51,
          33.0,
          38.0,
          33.345,
          27.5,
          33.33,
          34.865,
          33.06,
          26.6,
          24.7,
          35.97,
          35.86,
          31.4,
          33.25,
          32.205,
          32.775,
          27.645,
          37.335,
          25.27,
          29.64,
          30.8,
          40.945,
          27.2,
          34.105,
          23.21,
          36.48,
          33.8,
          36.7,
          36.385,
          27.36,
          31.16,
          28.785,
          35.72,
          34.5,
          25.74,
          27.55,
          32.3,
          27.72,
          27.6,
          30.02,
          27.55,
          36.765,
          41.47,
          29.26,
          35.75,
          33.345,
          29.92,
          27.835,
          23.18,
          25.6,
          27.7,
          35.245,
          38.28,
          27.6,
          43.89,
          29.83,
          41.91,
          20.79,
          32.3,
          30.5,
          21.7,
          26.4,
          21.89,
          30.78,
          32.3,
          24.985,
          32.015,
          30.4,
          21.09,
          22.23,
          33.155,
          32.9,
          33.33,
          28.31,
          24.89,
          40.15,
          30.115,
          31.46,
          17.955,
          30.685,
          33.0,
          43.34,
          22.135,
          34.4,
          39.05,
          25.365,
          22.61,
          30.21,
          35.625,
          37.43,
          31.445,
          31.35,
          32.3,
          19.855,
          34.4,
          31.02,
          25.6,
          38.17,
          20.6,
          47.52,
          32.965,
          32.3,
          20.4,
          38.38,
          24.31,
          23.6,
          21.12,
          30.03,
          17.48,
          20.235,
          17.195,
          23.9,
          35.15,
          35.64,
          34.1,
          22.6,
          39.16,
          26.98,
          33.88,
          35.86,
          32.775,
          30.59,
          30.2,
          24.31,
          27.265,
          29.165,
          16.815,
          30.4,
          33.1,
          20.235,
          26.9,
          30.5,
          28.595,
          33.11,
          31.73,
          28.9,
          46.75,
          29.45,
          32.68,
          33.5,
          43.01,
          36.52,
          26.695,
          33.1,
          29.64,
          25.65,
          29.6,
          38.6,
          29.6,
          24.13,
          23.4,
          29.735,
          46.53,
          37.4,
          30.14,
          30.495,
          39.6,
          33.0,
          36.63,
          30.0,
          38.095,
          25.935,
          25.175,
          28.38,
          28.7,
          33.82,
          24.32,
          24.09,
          32.67,
          30.115,
          29.8,
          33.345,
          25.1,
          28.31,
          28.5,
          35.625,
          36.85,
          32.56,
          41.325,
          37.51,
          31.35,
          39.5,
          34.3,
          31.065,
          21.47,
          28.7,
          38.06,
          31.16,
          32.9,
          25.08,
          25.08,
          43.4,
          25.7,
          27.93,
          23.6,
          28.7,
          23.98,
          39.2,
          34.4,
          26.03,
          23.21,
          30.25,
          28.93,
          30.875,
          31.35,
          23.75,
          25.27,
          28.7,
          32.11,
          33.66,
          22.42,
          30.4,
          28.3,
          35.7,
          35.31,
          30.495,
          31.0,
          30.875,
          27.36,
          44.22,
          33.915,
          37.73,
          26.07,
          33.88,
          30.59,
          25.8,
          39.425,
          25.46,
          42.13,
          31.73,
          29.7,
          36.19,
          40.48,
          28.025,
          38.9,
          30.2,
          28.05,
          31.35,
          38.0,
          31.79,
          36.3,
          47.41,
          30.21,
          25.84,
          35.435,
          46.7,
          28.595,
          46.2,
          30.8,
          28.93,
          21.4,
          31.73,
          41.325,
          23.8,
          33.44,
          34.21,
          34.105,
          35.53,
          19.95,
          32.68,
          30.5,
          44.77,
          32.12,
          30.495,
          40.565,
          30.59,
          31.9,
          40.565,
          29.1,
          37.29,
          43.12,
          36.86,
          34.295,
          27.17,
          26.84,
          38.095,
          30.2,
          23.465,
          25.46,
          30.59,
          45.43,
          23.65,
          20.7,
          28.27,
          20.235,
          30.21,
          35.91,
          30.69,
          29.0,
          19.57,
          31.13,
          21.85,
          40.26,
          33.725,
          29.48,
          33.25,
          32.6,
          37.525,
          39.16,
          31.635,
          25.3,
          39.05,
          28.31,
          34.1,
          25.175,
          23.655,
          26.98,
          37.8,
          29.37,
          34.8,
          33.155,
          19.0,
          33.0,
          36.63,
          28.595,
          25.6,
          33.11,
          37.1,
          31.4,
          34.1,
          21.3,
          33.535,
          28.785,
          26.03,
          28.88,
          42.46,
          38.0,
          38.95,
          36.1,
          29.3,
          35.53,
          22.705,
          39.7,
          38.19,
          24.51,
          38.095,
          26.41,
          33.66,
          42.4,
          28.31,
          33.915,
          34.96,
          35.31,
          30.78,
          26.22,
          23.37,
          28.5,
          32.965,
          42.68,
          39.6,
          31.13,
          36.3,
          35.2,
          25.3,
          42.4,
          33.155,
          35.91,
          28.785,
          46.53,
          23.98,
          31.54,
          33.66,
          22.99,
          38.06,
          28.7,
          32.775,
          32.015,
          29.81,
          31.57,
          31.16,
          29.7,
          31.02,
          43.89,
          21.375,
          40.81,
          31.35,
          36.1,
          23.18,
          17.4,
          20.3,
          35.3,
          24.32,
          18.5,
          26.41,
          26.125,
          41.69,
          24.1,
          31.13,
          27.36,
          36.2,
          32.395,
          23.655,
          34.8,
          40.185,
          32.3,
          35.75,
          33.725,
          39.27,
          34.87,
          44.745,
          41.47,
          26.41,
          29.545,
          32.9,
          38.06,
          28.69,
          30.495,
          27.74,
          35.2,
          23.54,
          30.685,
          40.47,
          22.6,
          28.9,
          22.61,
          24.32,
          36.67,
          33.44,
          40.66,
          36.6,
          37.4,
          35.4,
          27.075,
          39.05,
          28.405,
          21.755,
          40.28,
          36.08,
          24.42,
          21.4,
          30.1,
          27.265,
          32.1,
          34.77,
          38.39,
          23.7,
          31.73,
          35.5,
          24.035,
          29.15,
          34.105,
          26.62,
          26.41,
          30.115,
          27.0,
          21.755,
          36.0,
          30.875,
          26.4,
          28.975,
          37.905,
          22.77,
          33.63,
          27.645,
          22.8,
          27.83,
          37.43,
          38.17,
          34.58,
          35.2,
          27.1,
          26.03,
          25.175,
          31.825,
          32.3,
          29.0,
          39.7,
          19.475,
          36.1,
          26.7,
          36.48,
          28.88,
          34.2,
          33.33,
          32.3,
          39.805,
          34.32,
          28.88,
          24.4,
          41.14,
          35.97,
          27.6,
          29.26,
          27.7,
          36.955,
          36.86,
          22.515,
          29.92,
          41.8,
          27.6,
          23.18,
          20.9,
          31.92,
          28.5,
          44.22,
          22.895,
          33.1,
          24.795,
          26.18,
          35.97,
          22.3,
          42.24,
          26.51,
          35.815,
          41.42,
          36.575,
          30.14,
          25.84,
          30.8,
          42.94,
          21.01,
          22.515,
          34.43,
          31.46,
          24.225,
          37.1,
          26.125,
          35.53,
          33.7,
          17.67,
          31.13,
          29.81,
          24.32,
          31.825,
          31.79,
          28.025,
          30.78,
          21.85,
          33.1,
          25.84,
          23.845,
          34.39,
          33.82,
          35.97,
          31.5,
          28.31,
          23.465,
          31.35,
          31.1,
          24.7,
          32.78,
          29.81,
          30.495,
          32.45,
          34.2,
          50.38,
          24.1,
          32.775,
          30.78,
          32.3,
          35.53,
          23.75,
          23.845,
          29.6,
          33.11,
          24.13,
          32.23,
          28.1,
          47.6,
          28.0,
          33.535,
          19.855,
          25.4,
          29.9,
          37.29,
          43.7,
          23.655,
          24.3,
          36.2,
          29.48,
          24.86,
          30.1,
          21.85,
          28.12,
          27.1,
          33.44,
          28.8,
          29.5,
          34.8,
          27.36,
          22.135,
          37.05,
          26.695,
          28.93,
          28.975,
          30.02,
          39.5,
          33.63,
          26.885,
          29.04,
          24.035,
          38.94,
          32.11,
          44.0,
          20.045,
          25.555,
          40.26,
          22.515,
          22.515,
          40.92,
          27.265,
          36.85,
          35.1,
          29.355,
          32.585,
          32.34,
          39.8,
          24.6,
          28.31,
          31.73,
          26.695,
          27.5,
          24.605,
          33.99,
          26.885,
          22.895,
          28.2,
          34.21,
          25.0,
          33.2,
          31.0,
          35.815,
          23.2,
          32.11,
          23.4,
          20.1,
          39.16,
          34.21,
          46.53,
          32.5,
          25.8,
          35.3,
          37.18,
          27.5,
          29.735,
          24.225,
          26.18,
          29.48,
          23.21,
          46.09,
          40.185,
          22.61,
          39.93,
          35.8,
          35.8,
          34.2,
          31.255,
          29.7,
          18.335,
          42.9,
          28.405,
          30.2,
          27.835,
          39.49,
          30.8,
          26.79,
          34.96,
          36.67,
          39.615,
          25.9,
          35.2,
          24.795,
          36.765,
          27.1,
          24.795,
          25.365,
          25.745,
          34.32,
          28.16,
          23.56,
          20.235,
          40.5,
          35.42,
          22.895,
          40.15,
          29.15,
          39.995,
          29.92,
          25.46,
          21.375,
          25.9,
          30.59,
          30.115,
          25.8,
          30.115,
          27.645,
          34.675,
          20.52,
          19.8,
          27.835,
          31.6,
          28.27,
          20.045,
          23.275,
          34.1,
          36.85,
          36.29,
          26.885,
          22.99,
          32.7,
          25.8,
          29.6,
          19.19,
          31.73,
          29.26,
          28.215,
          24.985,
          27.74,
          22.8,
          20.13,
          33.33,
          32.3,
          27.6,
          25.46,
          24.605,
          34.2,
          35.815,
          32.68,
          37.0,
          31.02,
          36.08,
          23.32,
          45.32,
          34.6,
          26.03,
          18.715,
          31.6,
          17.29,
          23.655,
          35.2,
          27.93,
          21.565,
          38.38,
          23.0,
          37.07,
          30.495,
          28.88,
          27.265,
          28.025,
          23.085,
          30.685,
          25.8,
          35.245,
          24.7,
          25.08,
          52.58,
          22.515,
          30.9,
          36.955,
          26.41,
          29.83,
          29.8,
          21.47,
          27.645,
          28.9,
          31.79,
          39.49,
          33.82,
          32.01,
          27.94,
          41.14,
          28.595,
          25.6,
          25.3,
          37.29,
          42.655,
          21.66,
          31.9,
          37.07,
          31.445,
          31.255,
          28.88,
          18.335,
          29.59,
          32.0,
          26.03,
          31.68,
          33.66,
          21.78,
          27.835,
          19.95,
          31.5,
          30.495,
          18.3,
          28.975,
          31.54,
          47.74,
          22.1,
          36.19,
          29.83,
          32.7,
          30.4,
          33.7,
          31.35,
          34.96,
          33.77,
          30.875,
          33.99,
          19.095,
          28.6,
          38.94,
          36.08,
          29.8,
          31.24,
          29.925,
          26.22,
          30.0,
          20.35,
          32.3,
          38.39,
          25.85,
          26.315,
          24.51,
          32.67,
          29.64,
          33.33,
          35.75,
          19.95,
          31.4,
          38.17,
          36.86,
          32.395,
          42.75,
          25.08,
          29.9,
          35.86,
          32.8,
          18.6,
          23.87,
          45.9,
          40.28,
          18.335,
          33.82,
          28.12,
          25.0,
          22.23,
          30.25,
          32.49,
          37.07,
          32.6,
          24.86,
          32.34,
          32.3,
          32.775,
          32.8,
          31.92,
          21.5,
          34.1,
          30.305,
          36.48,
          32.56,
          35.815,
          27.93,
          22.135,
          44.88,
          23.18,
          30.59,
          41.1,
          34.58,
          42.13,
          38.83,
          28.215,
          28.31,
          26.125,
          40.37,
          24.6,
          35.2,
          34.105,
          27.36,
          26.7,
          41.91,
          29.26,
          32.11,
          27.1,
          24.13,
          27.4,
          34.865,
          29.81,
          41.325,
          29.925,
          30.3,
          27.36,
          28.49,
          23.56,
          35.625,
          32.68,
          25.27,
          28.0,
          32.775,
          21.755,
          32.395,
          36.575,
          21.755,
          27.93,
          30.02,
          33.55,
          29.355,
          25.8,
          24.32,
          40.375,
          32.11,
          32.3,
          27.28,
          17.86,
          34.8,
          33.4,
          25.555,
          37.1,
          30.875,
          34.1,
          21.47,
          33.3,
          31.255,
          39.14,
          25.08,
          37.29,
          34.6,
          30.21,
          21.945,
          24.97,
          25.3,
          24.42,
          23.94,
          39.82,
          16.815,
          37.18,
          34.43,
          30.305,
          34.485,
          21.8,
          24.605,
          23.3,
          27.83,
          31.065,
          21.66,
          28.215,
          22.705,
          42.13,
          41.8,
          36.96,
          21.28,
          33.11,
          33.33,
          24.3,
          25.7,
          29.4,
          39.82,
          33.63,
          29.83,
          19.8,
          27.3,
          29.3,
          27.72,
          37.9,
          36.385,
          27.645,
          37.715,
          23.18,
          20.52,
          37.1,
          28.05,
          29.9,
          33.345,
          23.76,
          30.5,
          31.065,
          33.3,
          27.5,
          33.915,
          34.485,
          25.52,
          27.61,
          27.06,
          23.7,
          30.4,
          29.735,
          29.925,
          26.79,
          33.33,
          27.645,
          21.66,
          30.03,
          36.3,
          24.32,
          17.29,
          25.9,
          39.4,
          34.32,
          19.95,
          34.9,
          23.21,
          25.745,
          25.175,
          22.0,
          26.125,
          26.51,
          27.455,
          25.745,
          30.36,
          30.875,
          20.8,
          27.8,
          24.605,
          27.72,
          21.85,
          28.12,
          30.2,
          32.2,
          26.315,
          26.695,
          42.9,
          34.7,
          23.655,
          28.31,
          20.6,
          53.13,
          39.71,
          26.315,
          31.065,
          26.695,
          38.83,
          40.37,
          25.935,
          33.535,
          32.87,
          30.03,
          24.225,
          38.6,
          25.74,
          33.4,
          44.7,
          30.97,
          31.92,
          36.85,
          25.8,
          29.07
         ],
         "y0": " ",
         "yaxis": "y",
         "type": "box"
        }
       ],
       "layout": {
        "template": {
         "data": {
          "histogram2dcontour": [
           {
            "type": "histogram2dcontour",
            "colorbar": {
             "outlinewidth": 0,
             "ticks": ""
            },
            "colorscale": [
             [
              0.0,
              "#0d0887"
             ],
             [
              0.1111111111111111,
              "#46039f"
             ],
             [
              0.2222222222222222,
              "#7201a8"
             ],
             [
              0.3333333333333333,
              "#9c179e"
             ],
             [
              0.4444444444444444,
              "#bd3786"
             ],
             [
              0.5555555555555556,
              "#d8576b"
             ],
             [
              0.6666666666666666,
              "#ed7953"
             ],
             [
              0.7777777777777778,
              "#fb9f3a"
             ],
             [
              0.8888888888888888,
              "#fdca26"
             ],
             [
              1.0,
              "#f0f921"
             ]
            ]
           }
          ],
          "choropleth": [
           {
            "type": "choropleth",
            "colorbar": {
             "outlinewidth": 0,
             "ticks": ""
            }
           }
          ],
          "histogram2d": [
           {
            "type": "histogram2d",
            "colorbar": {
             "outlinewidth": 0,
             "ticks": ""
            },
            "colorscale": [
             [
              0.0,
              "#0d0887"
             ],
             [
              0.1111111111111111,
              "#46039f"
             ],
             [
              0.2222222222222222,
              "#7201a8"
             ],
             [
              0.3333333333333333,
              "#9c179e"
             ],
             [
              0.4444444444444444,
              "#bd3786"
             ],
             [
              0.5555555555555556,
              "#d8576b"
             ],
             [
              0.6666666666666666,
              "#ed7953"
             ],
             [
              0.7777777777777778,
              "#fb9f3a"
             ],
             [
              0.8888888888888888,
              "#fdca26"
             ],
             [
              1.0,
              "#f0f921"
             ]
            ]
           }
          ],
          "heatmap": [
           {
            "type": "heatmap",
            "colorbar": {
             "outlinewidth": 0,
             "ticks": ""
            },
            "colorscale": [
             [
              0.0,
              "#0d0887"
             ],
             [
              0.1111111111111111,
              "#46039f"
             ],
             [
              0.2222222222222222,
              "#7201a8"
             ],
             [
              0.3333333333333333,
              "#9c179e"
             ],
             [
              0.4444444444444444,
              "#bd3786"
             ],
             [
              0.5555555555555556,
              "#d8576b"
             ],
             [
              0.6666666666666666,
              "#ed7953"
             ],
             [
              0.7777777777777778,
              "#fb9f3a"
             ],
             [
              0.8888888888888888,
              "#fdca26"
             ],
             [
              1.0,
              "#f0f921"
             ]
            ]
           }
          ],
          "heatmapgl": [
           {
            "type": "heatmapgl",
            "colorbar": {
             "outlinewidth": 0,
             "ticks": ""
            },
            "colorscale": [
             [
              0.0,
              "#0d0887"
             ],
             [
              0.1111111111111111,
              "#46039f"
             ],
             [
              0.2222222222222222,
              "#7201a8"
             ],
             [
              0.3333333333333333,
              "#9c179e"
             ],
             [
              0.4444444444444444,
              "#bd3786"
             ],
             [
              0.5555555555555556,
              "#d8576b"
             ],
             [
              0.6666666666666666,
              "#ed7953"
             ],
             [
              0.7777777777777778,
              "#fb9f3a"
             ],
             [
              0.8888888888888888,
              "#fdca26"
             ],
             [
              1.0,
              "#f0f921"
             ]
            ]
           }
          ],
          "contourcarpet": [
           {
            "type": "contourcarpet",
            "colorbar": {
             "outlinewidth": 0,
             "ticks": ""
            }
           }
          ],
          "contour": [
           {
            "type": "contour",
            "colorbar": {
             "outlinewidth": 0,
             "ticks": ""
            },
            "colorscale": [
             [
              0.0,
              "#0d0887"
             ],
             [
              0.1111111111111111,
              "#46039f"
             ],
             [
              0.2222222222222222,
              "#7201a8"
             ],
             [
              0.3333333333333333,
              "#9c179e"
             ],
             [
              0.4444444444444444,
              "#bd3786"
             ],
             [
              0.5555555555555556,
              "#d8576b"
             ],
             [
              0.6666666666666666,
              "#ed7953"
             ],
             [
              0.7777777777777778,
              "#fb9f3a"
             ],
             [
              0.8888888888888888,
              "#fdca26"
             ],
             [
              1.0,
              "#f0f921"
             ]
            ]
           }
          ],
          "surface": [
           {
            "type": "surface",
            "colorbar": {
             "outlinewidth": 0,
             "ticks": ""
            },
            "colorscale": [
             [
              0.0,
              "#0d0887"
             ],
             [
              0.1111111111111111,
              "#46039f"
             ],
             [
              0.2222222222222222,
              "#7201a8"
             ],
             [
              0.3333333333333333,
              "#9c179e"
             ],
             [
              0.4444444444444444,
              "#bd3786"
             ],
             [
              0.5555555555555556,
              "#d8576b"
             ],
             [
              0.6666666666666666,
              "#ed7953"
             ],
             [
              0.7777777777777778,
              "#fb9f3a"
             ],
             [
              0.8888888888888888,
              "#fdca26"
             ],
             [
              1.0,
              "#f0f921"
             ]
            ]
           }
          ],
          "mesh3d": [
           {
            "type": "mesh3d",
            "colorbar": {
             "outlinewidth": 0,
             "ticks": ""
            }
           }
          ],
          "scatter": [
           {
            "marker": {
             "line": {
              "color": "#283442"
             }
            },
            "type": "scatter"
           }
          ],
          "parcoords": [
           {
            "type": "parcoords",
            "line": {
             "colorbar": {
              "outlinewidth": 0,
              "ticks": ""
             }
            }
           }
          ],
          "scatterpolargl": [
           {
            "type": "scatterpolargl",
            "marker": {
             "colorbar": {
              "outlinewidth": 0,
              "ticks": ""
             }
            }
           }
          ],
          "bar": [
           {
            "error_x": {
             "color": "#f2f5fa"
            },
            "error_y": {
             "color": "#f2f5fa"
            },
            "marker": {
             "line": {
              "color": "rgb(17,17,17)",
              "width": 0.5
             },
             "pattern": {
              "fillmode": "overlay",
              "size": 10,
              "solidity": 0.2
             }
            },
            "type": "bar"
           }
          ],
          "scattergeo": [
           {
            "type": "scattergeo",
            "marker": {
             "colorbar": {
              "outlinewidth": 0,
              "ticks": ""
             }
            }
           }
          ],
          "scatterpolar": [
           {
            "type": "scatterpolar",
            "marker": {
             "colorbar": {
              "outlinewidth": 0,
              "ticks": ""
             }
            }
           }
          ],
          "histogram": [
           {
            "marker": {
             "pattern": {
              "fillmode": "overlay",
              "size": 10,
              "solidity": 0.2
             }
            },
            "type": "histogram"
           }
          ],
          "scattergl": [
           {
            "marker": {
             "line": {
              "color": "#283442"
             }
            },
            "type": "scattergl"
           }
          ],
          "scatter3d": [
           {
            "type": "scatter3d",
            "line": {
             "colorbar": {
              "outlinewidth": 0,
              "ticks": ""
             }
            },
            "marker": {
             "colorbar": {
              "outlinewidth": 0,
              "ticks": ""
             }
            }
           }
          ],
          "scattermapbox": [
           {
            "type": "scattermapbox",
            "marker": {
             "colorbar": {
              "outlinewidth": 0,
              "ticks": ""
             }
            }
           }
          ],
          "scatterternary": [
           {
            "type": "scatterternary",
            "marker": {
             "colorbar": {
              "outlinewidth": 0,
              "ticks": ""
             }
            }
           }
          ],
          "scattercarpet": [
           {
            "type": "scattercarpet",
            "marker": {
             "colorbar": {
              "outlinewidth": 0,
              "ticks": ""
             }
            }
           }
          ],
          "carpet": [
           {
            "aaxis": {
             "endlinecolor": "#A2B1C6",
             "gridcolor": "#506784",
             "linecolor": "#506784",
             "minorgridcolor": "#506784",
             "startlinecolor": "#A2B1C6"
            },
            "baxis": {
             "endlinecolor": "#A2B1C6",
             "gridcolor": "#506784",
             "linecolor": "#506784",
             "minorgridcolor": "#506784",
             "startlinecolor": "#A2B1C6"
            },
            "type": "carpet"
           }
          ],
          "table": [
           {
            "cells": {
             "fill": {
              "color": "#506784"
             },
             "line": {
              "color": "rgb(17,17,17)"
             }
            },
            "header": {
             "fill": {
              "color": "#2a3f5f"
             },
             "line": {
              "color": "rgb(17,17,17)"
             }
            },
            "type": "table"
           }
          ],
          "barpolar": [
           {
            "marker": {
             "line": {
              "color": "rgb(17,17,17)",
              "width": 0.5
             },
             "pattern": {
              "fillmode": "overlay",
              "size": 10,
              "solidity": 0.2
             }
            },
            "type": "barpolar"
           }
          ],
          "pie": [
           {
            "automargin": true,
            "type": "pie"
           }
          ]
         },
         "layout": {
          "autotypenumbers": "strict",
          "colorway": [
           "#636efa",
           "#EF553B",
           "#00cc96",
           "#ab63fa",
           "#FFA15A",
           "#19d3f3",
           "#FF6692",
           "#B6E880",
           "#FF97FF",
           "#FECB52"
          ],
          "font": {
           "color": "#f2f5fa"
          },
          "hovermode": "closest",
          "hoverlabel": {
           "align": "left"
          },
          "paper_bgcolor": "rgb(17,17,17)",
          "plot_bgcolor": "rgb(17,17,17)",
          "polar": {
           "bgcolor": "rgb(17,17,17)",
           "angularaxis": {
            "gridcolor": "#506784",
            "linecolor": "#506784",
            "ticks": ""
           },
           "radialaxis": {
            "gridcolor": "#506784",
            "linecolor": "#506784",
            "ticks": ""
           }
          },
          "ternary": {
           "bgcolor": "rgb(17,17,17)",
           "aaxis": {
            "gridcolor": "#506784",
            "linecolor": "#506784",
            "ticks": ""
           },
           "baxis": {
            "gridcolor": "#506784",
            "linecolor": "#506784",
            "ticks": ""
           },
           "caxis": {
            "gridcolor": "#506784",
            "linecolor": "#506784",
            "ticks": ""
           }
          },
          "coloraxis": {
           "colorbar": {
            "outlinewidth": 0,
            "ticks": ""
           }
          },
          "colorscale": {
           "sequential": [
            [
             0.0,
             "#0d0887"
            ],
            [
             0.1111111111111111,
             "#46039f"
            ],
            [
             0.2222222222222222,
             "#7201a8"
            ],
            [
             0.3333333333333333,
             "#9c179e"
            ],
            [
             0.4444444444444444,
             "#bd3786"
            ],
            [
             0.5555555555555556,
             "#d8576b"
            ],
            [
             0.6666666666666666,
             "#ed7953"
            ],
            [
             0.7777777777777778,
             "#fb9f3a"
            ],
            [
             0.8888888888888888,
             "#fdca26"
            ],
            [
             1.0,
             "#f0f921"
            ]
           ],
           "sequentialminus": [
            [
             0.0,
             "#0d0887"
            ],
            [
             0.1111111111111111,
             "#46039f"
            ],
            [
             0.2222222222222222,
             "#7201a8"
            ],
            [
             0.3333333333333333,
             "#9c179e"
            ],
            [
             0.4444444444444444,
             "#bd3786"
            ],
            [
             0.5555555555555556,
             "#d8576b"
            ],
            [
             0.6666666666666666,
             "#ed7953"
            ],
            [
             0.7777777777777778,
             "#fb9f3a"
            ],
            [
             0.8888888888888888,
             "#fdca26"
            ],
            [
             1.0,
             "#f0f921"
            ]
           ],
           "diverging": [
            [
             0,
             "#8e0152"
            ],
            [
             0.1,
             "#c51b7d"
            ],
            [
             0.2,
             "#de77ae"
            ],
            [
             0.3,
             "#f1b6da"
            ],
            [
             0.4,
             "#fde0ef"
            ],
            [
             0.5,
             "#f7f7f7"
            ],
            [
             0.6,
             "#e6f5d0"
            ],
            [
             0.7,
             "#b8e186"
            ],
            [
             0.8,
             "#7fbc41"
            ],
            [
             0.9,
             "#4d9221"
            ],
            [
             1,
             "#276419"
            ]
           ]
          },
          "xaxis": {
           "gridcolor": "#283442",
           "linecolor": "#506784",
           "ticks": "",
           "title": {
            "standoff": 15
           },
           "zerolinecolor": "#283442",
           "automargin": true,
           "zerolinewidth": 2
          },
          "yaxis": {
           "gridcolor": "#283442",
           "linecolor": "#506784",
           "ticks": "",
           "title": {
            "standoff": 15
           },
           "zerolinecolor": "#283442",
           "automargin": true,
           "zerolinewidth": 2
          },
          "scene": {
           "xaxis": {
            "backgroundcolor": "rgb(17,17,17)",
            "gridcolor": "#506784",
            "linecolor": "#506784",
            "showbackground": true,
            "ticks": "",
            "zerolinecolor": "#C8D4E3",
            "gridwidth": 2
           },
           "yaxis": {
            "backgroundcolor": "rgb(17,17,17)",
            "gridcolor": "#506784",
            "linecolor": "#506784",
            "showbackground": true,
            "ticks": "",
            "zerolinecolor": "#C8D4E3",
            "gridwidth": 2
           },
           "zaxis": {
            "backgroundcolor": "rgb(17,17,17)",
            "gridcolor": "#506784",
            "linecolor": "#506784",
            "showbackground": true,
            "ticks": "",
            "zerolinecolor": "#C8D4E3",
            "gridwidth": 2
           }
          },
          "shapedefaults": {
           "line": {
            "color": "#f2f5fa"
           }
          },
          "annotationdefaults": {
           "arrowcolor": "#f2f5fa",
           "arrowhead": 0,
           "arrowwidth": 1
          },
          "geo": {
           "bgcolor": "rgb(17,17,17)",
           "landcolor": "rgb(17,17,17)",
           "subunitcolor": "#506784",
           "showland": true,
           "showlakes": true,
           "lakecolor": "rgb(17,17,17)"
          },
          "title": {
           "x": 0.05
          },
          "updatemenudefaults": {
           "bgcolor": "#506784",
           "borderwidth": 0
          },
          "sliderdefaults": {
           "bgcolor": "#C8D4E3",
           "borderwidth": 1,
           "bordercolor": "rgb(17,17,17)",
           "tickwidth": 0
          },
          "mapbox": {
           "style": "dark"
          }
         }
        },
        "xaxis": {
         "anchor": "y",
         "domain": [
          0.0,
          1.0
         ],
         "title": {
          "text": "variable"
         }
        },
        "yaxis": {
         "anchor": "x",
         "domain": [
          0.0,
          1.0
         ],
         "title": {
          "text": "value"
         }
        },
        "legend": {
         "tracegroupgap": 0
        },
        "margin": {
         "t": 60
        },
        "boxmode": "group"
       },
       "config": {
        "plotlyServerURL": "https://plot.ly"
       }
      },
      "text/html": "<div>                            <div id=\"ec624b2d-49ba-4a04-aa55-00387c1b05b3\" class=\"plotly-graph-div\" style=\"height:525px; width:100%;\"></div>            <script type=\"text/javascript\">                require([\"plotly\"], function(Plotly) {                    window.PLOTLYENV=window.PLOTLYENV || {};                                    if (document.getElementById(\"ec624b2d-49ba-4a04-aa55-00387c1b05b3\")) {                    Plotly.newPlot(                        \"ec624b2d-49ba-4a04-aa55-00387c1b05b3\",                        [{\"alignmentgroup\":\"True\",\"boxpoints\":\"all\",\"hovertemplate\":\"variable=%{x}<br>value=%{y}<extra></extra>\",\"legendgroup\":\"\",\"marker\":{\"color\":\"#636efa\"},\"name\":\"\",\"notched\":false,\"offsetgroup\":\"\",\"orientation\":\"v\",\"showlegend\":false,\"x\":[\"bmi\",\"bmi\",\"bmi\",\"bmi\",\"bmi\",\"bmi\",\"bmi\",\"bmi\",\"bmi\",\"bmi\",\"bmi\",\"bmi\",\"bmi\",\"bmi\",\"bmi\",\"bmi\",\"bmi\",\"bmi\",\"bmi\",\"bmi\",\"bmi\",\"bmi\",\"bmi\",\"bmi\",\"bmi\",\"bmi\",\"bmi\",\"bmi\",\"bmi\",\"bmi\",\"bmi\",\"bmi\",\"bmi\",\"bmi\",\"bmi\",\"bmi\",\"bmi\",\"bmi\",\"bmi\",\"bmi\",\"bmi\",\"bmi\",\"bmi\",\"bmi\",\"bmi\",\"bmi\",\"bmi\",\"bmi\",\"bmi\",\"bmi\",\"bmi\",\"bmi\",\"bmi\",\"bmi\",\"bmi\",\"bmi\",\"bmi\",\"bmi\",\"bmi\",\"bmi\",\"bmi\",\"bmi\",\"bmi\",\"bmi\",\"bmi\",\"bmi\",\"bmi\",\"bmi\",\"bmi\",\"bmi\",\"bmi\",\"bmi\",\"bmi\",\"bmi\",\"bmi\",\"bmi\",\"bmi\",\"bmi\",\"bmi\",\"bmi\",\"bmi\",\"bmi\",\"bmi\",\"bmi\",\"bmi\",\"bmi\",\"bmi\",\"bmi\",\"bmi\",\"bmi\",\"bmi\",\"bmi\",\"bmi\",\"bmi\",\"bmi\",\"bmi\",\"bmi\",\"bmi\",\"bmi\",\"bmi\",\"bmi\",\"bmi\",\"bmi\",\"bmi\",\"bmi\",\"bmi\",\"bmi\",\"bmi\",\"bmi\",\"bmi\",\"bmi\",\"bmi\",\"bmi\",\"bmi\",\"bmi\",\"bmi\",\"bmi\",\"bmi\",\"bmi\",\"bmi\",\"bmi\",\"bmi\",\"bmi\",\"bmi\",\"bmi\",\"bmi\",\"bmi\",\"bmi\",\"bmi\",\"bmi\",\"bmi\",\"bmi\",\"bmi\",\"bmi\",\"bmi\",\"bmi\",\"bmi\",\"bmi\",\"bmi\",\"bmi\",\"bmi\",\"bmi\",\"bmi\",\"bmi\",\"bmi\",\"bmi\",\"bmi\",\"bmi\",\"bmi\",\"bmi\",\"bmi\",\"bmi\",\"bmi\",\"bmi\",\"bmi\",\"bmi\",\"bmi\",\"bmi\",\"bmi\",\"bmi\",\"bmi\",\"bmi\",\"bmi\",\"bmi\",\"bmi\",\"bmi\",\"bmi\",\"bmi\",\"bmi\",\"bmi\",\"bmi\",\"bmi\",\"bmi\",\"bmi\",\"bmi\",\"bmi\",\"bmi\",\"bmi\",\"bmi\",\"bmi\",\"bmi\",\"bmi\",\"bmi\",\"bmi\",\"bmi\",\"bmi\",\"bmi\",\"bmi\",\"bmi\",\"bmi\",\"bmi\",\"bmi\",\"bmi\",\"bmi\",\"bmi\",\"bmi\",\"bmi\",\"bmi\",\"bmi\",\"bmi\",\"bmi\",\"bmi\",\"bmi\",\"bmi\",\"bmi\",\"bmi\",\"bmi\",\"bmi\",\"bmi\",\"bmi\",\"bmi\",\"bmi\",\"bmi\",\"bmi\",\"bmi\",\"bmi\",\"bmi\",\"bmi\",\"bmi\",\"bmi\",\"bmi\",\"bmi\",\"bmi\",\"bmi\",\"bmi\",\"bmi\",\"bmi\",\"bmi\",\"bmi\",\"bmi\",\"bmi\",\"bmi\",\"bmi\",\"bmi\",\"bmi\",\"bmi\",\"bmi\",\"bmi\",\"bmi\",\"bmi\",\"bmi\",\"bmi\",\"bmi\",\"bmi\",\"bmi\",\"bmi\",\"bmi\",\"bmi\",\"bmi\",\"bmi\",\"bmi\",\"bmi\",\"bmi\",\"bmi\",\"bmi\",\"bmi\",\"bmi\",\"bmi\",\"bmi\",\"bmi\",\"bmi\",\"bmi\",\"bmi\",\"bmi\",\"bmi\",\"bmi\",\"bmi\",\"bmi\",\"bmi\",\"bmi\",\"bmi\",\"bmi\",\"bmi\",\"bmi\",\"bmi\",\"bmi\",\"bmi\",\"bmi\",\"bmi\",\"bmi\",\"bmi\",\"bmi\",\"bmi\",\"bmi\",\"bmi\",\"bmi\",\"bmi\",\"bmi\",\"bmi\",\"bmi\",\"bmi\",\"bmi\",\"bmi\",\"bmi\",\"bmi\",\"bmi\",\"bmi\",\"bmi\",\"bmi\",\"bmi\",\"bmi\",\"bmi\",\"bmi\",\"bmi\",\"bmi\",\"bmi\",\"bmi\",\"bmi\",\"bmi\",\"bmi\",\"bmi\",\"bmi\",\"bmi\",\"bmi\",\"bmi\",\"bmi\",\"bmi\",\"bmi\",\"bmi\",\"bmi\",\"bmi\",\"bmi\",\"bmi\",\"bmi\",\"bmi\",\"bmi\",\"bmi\",\"bmi\",\"bmi\",\"bmi\",\"bmi\",\"bmi\",\"bmi\",\"bmi\",\"bmi\",\"bmi\",\"bmi\",\"bmi\",\"bmi\",\"bmi\",\"bmi\",\"bmi\",\"bmi\",\"bmi\",\"bmi\",\"bmi\",\"bmi\",\"bmi\",\"bmi\",\"bmi\",\"bmi\",\"bmi\",\"bmi\",\"bmi\",\"bmi\",\"bmi\",\"bmi\",\"bmi\",\"bmi\",\"bmi\",\"bmi\",\"bmi\",\"bmi\",\"bmi\",\"bmi\",\"bmi\",\"bmi\",\"bmi\",\"bmi\",\"bmi\",\"bmi\",\"bmi\",\"bmi\",\"bmi\",\"bmi\",\"bmi\",\"bmi\",\"bmi\",\"bmi\",\"bmi\",\"bmi\",\"bmi\",\"bmi\",\"bmi\",\"bmi\",\"bmi\",\"bmi\",\"bmi\",\"bmi\",\"bmi\",\"bmi\",\"bmi\",\"bmi\",\"bmi\",\"bmi\",\"bmi\",\"bmi\",\"bmi\",\"bmi\",\"bmi\",\"bmi\",\"bmi\",\"bmi\",\"bmi\",\"bmi\",\"bmi\",\"bmi\",\"bmi\",\"bmi\",\"bmi\",\"bmi\",\"bmi\",\"bmi\",\"bmi\",\"bmi\",\"bmi\",\"bmi\",\"bmi\",\"bmi\",\"bmi\",\"bmi\",\"bmi\",\"bmi\",\"bmi\",\"bmi\",\"bmi\",\"bmi\",\"bmi\",\"bmi\",\"bmi\",\"bmi\",\"bmi\",\"bmi\",\"bmi\",\"bmi\",\"bmi\",\"bmi\",\"bmi\",\"bmi\",\"bmi\",\"bmi\",\"bmi\",\"bmi\",\"bmi\",\"bmi\",\"bmi\",\"bmi\",\"bmi\",\"bmi\",\"bmi\",\"bmi\",\"bmi\",\"bmi\",\"bmi\",\"bmi\",\"bmi\",\"bmi\",\"bmi\",\"bmi\",\"bmi\",\"bmi\",\"bmi\",\"bmi\",\"bmi\",\"bmi\",\"bmi\",\"bmi\",\"bmi\",\"bmi\",\"bmi\",\"bmi\",\"bmi\",\"bmi\",\"bmi\",\"bmi\",\"bmi\",\"bmi\",\"bmi\",\"bmi\",\"bmi\",\"bmi\",\"bmi\",\"bmi\",\"bmi\",\"bmi\",\"bmi\",\"bmi\",\"bmi\",\"bmi\",\"bmi\",\"bmi\",\"bmi\",\"bmi\",\"bmi\",\"bmi\",\"bmi\",\"bmi\",\"bmi\",\"bmi\",\"bmi\",\"bmi\",\"bmi\",\"bmi\",\"bmi\",\"bmi\",\"bmi\",\"bmi\",\"bmi\",\"bmi\",\"bmi\",\"bmi\",\"bmi\",\"bmi\",\"bmi\",\"bmi\",\"bmi\",\"bmi\",\"bmi\",\"bmi\",\"bmi\",\"bmi\",\"bmi\",\"bmi\",\"bmi\",\"bmi\",\"bmi\",\"bmi\",\"bmi\",\"bmi\",\"bmi\",\"bmi\",\"bmi\",\"bmi\",\"bmi\",\"bmi\",\"bmi\",\"bmi\",\"bmi\",\"bmi\",\"bmi\",\"bmi\",\"bmi\",\"bmi\",\"bmi\",\"bmi\",\"bmi\",\"bmi\",\"bmi\",\"bmi\",\"bmi\",\"bmi\",\"bmi\",\"bmi\",\"bmi\",\"bmi\",\"bmi\",\"bmi\",\"bmi\",\"bmi\",\"bmi\",\"bmi\",\"bmi\",\"bmi\",\"bmi\",\"bmi\",\"bmi\",\"bmi\",\"bmi\",\"bmi\",\"bmi\",\"bmi\",\"bmi\",\"bmi\",\"bmi\",\"bmi\",\"bmi\",\"bmi\",\"bmi\",\"bmi\",\"bmi\",\"bmi\",\"bmi\",\"bmi\",\"bmi\",\"bmi\",\"bmi\",\"bmi\",\"bmi\",\"bmi\",\"bmi\",\"bmi\",\"bmi\",\"bmi\",\"bmi\",\"bmi\",\"bmi\",\"bmi\",\"bmi\",\"bmi\",\"bmi\",\"bmi\",\"bmi\",\"bmi\",\"bmi\",\"bmi\",\"bmi\",\"bmi\",\"bmi\",\"bmi\",\"bmi\",\"bmi\",\"bmi\",\"bmi\",\"bmi\",\"bmi\",\"bmi\",\"bmi\",\"bmi\",\"bmi\",\"bmi\",\"bmi\",\"bmi\",\"bmi\",\"bmi\",\"bmi\",\"bmi\",\"bmi\",\"bmi\",\"bmi\",\"bmi\",\"bmi\",\"bmi\",\"bmi\",\"bmi\",\"bmi\",\"bmi\",\"bmi\",\"bmi\",\"bmi\",\"bmi\",\"bmi\",\"bmi\",\"bmi\",\"bmi\",\"bmi\",\"bmi\",\"bmi\",\"bmi\",\"bmi\",\"bmi\",\"bmi\",\"bmi\",\"bmi\",\"bmi\",\"bmi\",\"bmi\",\"bmi\",\"bmi\",\"bmi\",\"bmi\",\"bmi\",\"bmi\",\"bmi\",\"bmi\",\"bmi\",\"bmi\",\"bmi\",\"bmi\",\"bmi\",\"bmi\",\"bmi\",\"bmi\",\"bmi\",\"bmi\",\"bmi\",\"bmi\",\"bmi\",\"bmi\",\"bmi\",\"bmi\",\"bmi\",\"bmi\",\"bmi\",\"bmi\",\"bmi\",\"bmi\",\"bmi\",\"bmi\",\"bmi\",\"bmi\",\"bmi\",\"bmi\",\"bmi\",\"bmi\",\"bmi\",\"bmi\",\"bmi\",\"bmi\",\"bmi\",\"bmi\",\"bmi\",\"bmi\",\"bmi\",\"bmi\",\"bmi\",\"bmi\",\"bmi\",\"bmi\",\"bmi\",\"bmi\",\"bmi\",\"bmi\",\"bmi\",\"bmi\",\"bmi\",\"bmi\",\"bmi\",\"bmi\",\"bmi\",\"bmi\",\"bmi\",\"bmi\",\"bmi\",\"bmi\",\"bmi\",\"bmi\",\"bmi\",\"bmi\",\"bmi\",\"bmi\",\"bmi\",\"bmi\",\"bmi\",\"bmi\",\"bmi\",\"bmi\",\"bmi\",\"bmi\",\"bmi\",\"bmi\",\"bmi\",\"bmi\",\"bmi\",\"bmi\",\"bmi\",\"bmi\",\"bmi\",\"bmi\",\"bmi\",\"bmi\",\"bmi\",\"bmi\",\"bmi\",\"bmi\",\"bmi\",\"bmi\",\"bmi\",\"bmi\",\"bmi\",\"bmi\",\"bmi\",\"bmi\",\"bmi\",\"bmi\",\"bmi\",\"bmi\",\"bmi\",\"bmi\",\"bmi\",\"bmi\",\"bmi\",\"bmi\",\"bmi\",\"bmi\",\"bmi\",\"bmi\",\"bmi\",\"bmi\",\"bmi\",\"bmi\",\"bmi\",\"bmi\",\"bmi\",\"bmi\",\"bmi\",\"bmi\",\"bmi\",\"bmi\",\"bmi\",\"bmi\",\"bmi\",\"bmi\",\"bmi\",\"bmi\",\"bmi\",\"bmi\",\"bmi\",\"bmi\",\"bmi\",\"bmi\",\"bmi\",\"bmi\",\"bmi\",\"bmi\",\"bmi\",\"bmi\",\"bmi\",\"bmi\",\"bmi\",\"bmi\",\"bmi\",\"bmi\",\"bmi\",\"bmi\",\"bmi\",\"bmi\",\"bmi\",\"bmi\",\"bmi\",\"bmi\",\"bmi\",\"bmi\",\"bmi\",\"bmi\",\"bmi\",\"bmi\",\"bmi\",\"bmi\",\"bmi\",\"bmi\",\"bmi\",\"bmi\",\"bmi\",\"bmi\",\"bmi\",\"bmi\",\"bmi\",\"bmi\",\"bmi\",\"bmi\",\"bmi\",\"bmi\",\"bmi\",\"bmi\",\"bmi\",\"bmi\",\"bmi\",\"bmi\",\"bmi\",\"bmi\",\"bmi\",\"bmi\",\"bmi\",\"bmi\",\"bmi\",\"bmi\",\"bmi\",\"bmi\",\"bmi\",\"bmi\",\"bmi\",\"bmi\",\"bmi\",\"bmi\",\"bmi\",\"bmi\",\"bmi\",\"bmi\",\"bmi\",\"bmi\",\"bmi\",\"bmi\",\"bmi\",\"bmi\",\"bmi\",\"bmi\",\"bmi\",\"bmi\",\"bmi\",\"bmi\",\"bmi\",\"bmi\",\"bmi\",\"bmi\",\"bmi\",\"bmi\",\"bmi\",\"bmi\",\"bmi\",\"bmi\",\"bmi\",\"bmi\",\"bmi\",\"bmi\",\"bmi\",\"bmi\",\"bmi\",\"bmi\",\"bmi\",\"bmi\",\"bmi\",\"bmi\",\"bmi\",\"bmi\",\"bmi\",\"bmi\",\"bmi\",\"bmi\",\"bmi\",\"bmi\",\"bmi\",\"bmi\",\"bmi\",\"bmi\",\"bmi\",\"bmi\",\"bmi\",\"bmi\",\"bmi\",\"bmi\",\"bmi\",\"bmi\",\"bmi\",\"bmi\",\"bmi\",\"bmi\",\"bmi\",\"bmi\",\"bmi\",\"bmi\",\"bmi\",\"bmi\",\"bmi\",\"bmi\",\"bmi\",\"bmi\",\"bmi\",\"bmi\",\"bmi\",\"bmi\",\"bmi\",\"bmi\",\"bmi\",\"bmi\",\"bmi\",\"bmi\",\"bmi\",\"bmi\",\"bmi\",\"bmi\",\"bmi\",\"bmi\",\"bmi\",\"bmi\",\"bmi\",\"bmi\",\"bmi\",\"bmi\",\"bmi\",\"bmi\",\"bmi\",\"bmi\",\"bmi\",\"bmi\",\"bmi\",\"bmi\",\"bmi\",\"bmi\",\"bmi\",\"bmi\",\"bmi\",\"bmi\",\"bmi\",\"bmi\",\"bmi\",\"bmi\",\"bmi\",\"bmi\",\"bmi\",\"bmi\",\"bmi\",\"bmi\",\"bmi\",\"bmi\",\"bmi\",\"bmi\",\"bmi\",\"bmi\",\"bmi\",\"bmi\",\"bmi\",\"bmi\",\"bmi\",\"bmi\",\"bmi\",\"bmi\",\"bmi\",\"bmi\",\"bmi\",\"bmi\",\"bmi\",\"bmi\",\"bmi\",\"bmi\",\"bmi\",\"bmi\",\"bmi\",\"bmi\",\"bmi\",\"bmi\",\"bmi\",\"bmi\",\"bmi\",\"bmi\",\"bmi\",\"bmi\",\"bmi\",\"bmi\",\"bmi\",\"bmi\",\"bmi\",\"bmi\",\"bmi\",\"bmi\",\"bmi\",\"bmi\",\"bmi\",\"bmi\",\"bmi\",\"bmi\",\"bmi\",\"bmi\",\"bmi\",\"bmi\",\"bmi\",\"bmi\",\"bmi\",\"bmi\",\"bmi\",\"bmi\",\"bmi\",\"bmi\",\"bmi\",\"bmi\",\"bmi\",\"bmi\",\"bmi\",\"bmi\",\"bmi\",\"bmi\",\"bmi\",\"bmi\",\"bmi\",\"bmi\",\"bmi\",\"bmi\",\"bmi\",\"bmi\",\"bmi\",\"bmi\",\"bmi\",\"bmi\",\"bmi\",\"bmi\",\"bmi\",\"bmi\",\"bmi\",\"bmi\",\"bmi\",\"bmi\",\"bmi\",\"bmi\",\"bmi\",\"bmi\",\"bmi\",\"bmi\",\"bmi\",\"bmi\",\"bmi\",\"bmi\",\"bmi\",\"bmi\",\"bmi\",\"bmi\",\"bmi\",\"bmi\",\"bmi\",\"bmi\",\"bmi\",\"bmi\",\"bmi\",\"bmi\",\"bmi\",\"bmi\",\"bmi\",\"bmi\",\"bmi\",\"bmi\",\"bmi\",\"bmi\",\"bmi\",\"bmi\",\"bmi\",\"bmi\",\"bmi\",\"bmi\",\"bmi\",\"bmi\",\"bmi\",\"bmi\",\"bmi\",\"bmi\",\"bmi\",\"bmi\",\"bmi\",\"bmi\",\"bmi\",\"bmi\",\"bmi\",\"bmi\",\"bmi\",\"bmi\",\"bmi\",\"bmi\",\"bmi\",\"bmi\",\"bmi\",\"bmi\",\"bmi\",\"bmi\",\"bmi\",\"bmi\",\"bmi\",\"bmi\",\"bmi\",\"bmi\",\"bmi\",\"bmi\",\"bmi\",\"bmi\",\"bmi\",\"bmi\",\"bmi\",\"bmi\",\"bmi\",\"bmi\",\"bmi\",\"bmi\",\"bmi\",\"bmi\",\"bmi\",\"bmi\",\"bmi\",\"bmi\",\"bmi\",\"bmi\",\"bmi\",\"bmi\",\"bmi\",\"bmi\",\"bmi\",\"bmi\",\"bmi\",\"bmi\",\"bmi\",\"bmi\",\"bmi\",\"bmi\",\"bmi\",\"bmi\",\"bmi\",\"bmi\",\"bmi\",\"bmi\",\"bmi\",\"bmi\",\"bmi\",\"bmi\",\"bmi\",\"bmi\",\"bmi\",\"bmi\",\"bmi\",\"bmi\",\"bmi\",\"bmi\",\"bmi\",\"bmi\",\"bmi\",\"bmi\",\"bmi\",\"bmi\",\"bmi\",\"bmi\",\"bmi\",\"bmi\",\"bmi\",\"bmi\",\"bmi\",\"bmi\",\"bmi\",\"bmi\",\"bmi\",\"bmi\",\"bmi\",\"bmi\",\"bmi\",\"bmi\",\"bmi\",\"bmi\",\"bmi\",\"bmi\",\"bmi\",\"bmi\",\"bmi\",\"bmi\",\"bmi\",\"bmi\",\"bmi\",\"bmi\",\"bmi\",\"bmi\",\"bmi\",\"bmi\",\"bmi\",\"bmi\",\"bmi\",\"bmi\",\"bmi\",\"bmi\",\"bmi\",\"bmi\",\"bmi\",\"bmi\",\"bmi\",\"bmi\",\"bmi\",\"bmi\",\"bmi\",\"bmi\",\"bmi\",\"bmi\",\"bmi\",\"bmi\",\"bmi\",\"bmi\",\"bmi\",\"bmi\",\"bmi\",\"bmi\",\"bmi\",\"bmi\",\"bmi\",\"bmi\",\"bmi\",\"bmi\",\"bmi\",\"bmi\",\"bmi\",\"bmi\",\"bmi\",\"bmi\",\"bmi\",\"bmi\",\"bmi\",\"bmi\",\"bmi\",\"bmi\",\"bmi\",\"bmi\",\"bmi\",\"bmi\",\"bmi\",\"bmi\",\"bmi\",\"bmi\",\"bmi\",\"bmi\",\"bmi\",\"bmi\",\"bmi\",\"bmi\",\"bmi\",\"bmi\",\"bmi\",\"bmi\",\"bmi\",\"bmi\",\"bmi\",\"bmi\",\"bmi\",\"bmi\",\"bmi\",\"bmi\",\"bmi\",\"bmi\",\"bmi\",\"bmi\",\"bmi\",\"bmi\",\"bmi\",\"bmi\",\"bmi\",\"bmi\",\"bmi\",\"bmi\",\"bmi\",\"bmi\",\"bmi\",\"bmi\",\"bmi\",\"bmi\",\"bmi\",\"bmi\",\"bmi\",\"bmi\",\"bmi\",\"bmi\",\"bmi\",\"bmi\",\"bmi\",\"bmi\",\"bmi\",\"bmi\",\"bmi\",\"bmi\",\"bmi\",\"bmi\",\"bmi\",\"bmi\",\"bmi\",\"bmi\",\"bmi\",\"bmi\",\"bmi\",\"bmi\",\"bmi\",\"bmi\"],\"x0\":\" \",\"xaxis\":\"x\",\"y\":[27.9,33.77,33.0,22.705,28.88,25.74,33.44,27.74,29.83,25.84,26.22,26.29,34.4,39.82,42.13,24.6,30.78,23.845,40.3,35.3,36.005,32.4,34.1,31.92,28.025,27.72,23.085,32.775,17.385,36.3,35.6,26.315,28.6,28.31,36.4,20.425,32.965,20.8,36.67,39.9,26.6,36.63,21.78,30.8,37.05,37.3,38.665,34.77,24.53,35.2,35.625,33.63,28.0,34.43,28.69,36.955,31.825,31.68,22.88,37.335,27.36,33.66,24.7,25.935,22.42,28.9,39.1,26.315,36.19,23.98,24.75,28.5,28.1,32.01,27.4,34.01,29.59,35.53,39.805,32.965,26.885,38.285,37.62,41.23,34.8,22.895,31.16,27.2,27.74,26.98,39.49,24.795,29.83,34.77,31.3,37.62,30.8,38.28,19.95,19.3,31.6,25.46,30.115,29.92,27.5,28.025,28.4,30.875,27.94,35.09,33.63,29.7,30.8,35.72,32.205,28.595,49.06,27.94,27.17,23.37,37.1,23.75,28.975,31.35,33.915,28.785,28.3,37.4,17.765,34.7,26.505,22.04,35.9,25.555,28.785,28.05,34.1,25.175,31.9,36.0,22.42,32.49,25.3,29.735,28.69,38.83,30.495,37.73,37.43,28.4,24.13,29.7,37.145,23.37,25.46,39.52,24.42,25.175,35.53,27.83,26.6,36.85,39.6,29.8,29.64,28.215,37.0,33.155,31.825,18.905,41.47,30.3,15.96,34.8,33.345,37.7,27.835,29.2,28.9,33.155,28.595,38.28,19.95,26.41,30.69,41.895,29.92,30.9,32.2,32.11,31.57,26.2,25.74,26.6,34.43,30.59,32.8,28.6,18.05,39.33,32.11,32.23,24.035,36.08,22.3,28.88,26.4,27.74,31.8,41.23,33.0,30.875,28.5,26.73,30.9,37.1,26.6,23.1,29.92,23.21,33.7,33.25,30.8,34.8,24.64,33.88,38.06,41.91,31.635,25.46,36.195,27.83,17.8,27.5,24.51,22.22,26.73,38.39,29.07,38.06,36.67,22.135,26.8,35.3,27.74,30.02,38.06,35.86,20.9,28.975,17.29,32.2,34.21,30.3,31.825,25.365,33.63,40.15,24.415,31.92,25.2,26.84,24.32,36.955,38.06,42.35,19.8,32.395,30.2,25.84,29.37,34.2,37.05,27.455,27.55,26.6,20.615,24.3,31.79,21.56,28.12,40.565,27.645,32.395,31.2,26.62,48.07,26.22,36.765,26.4,33.4,29.64,45.54,28.82,26.8,22.99,27.7,25.41,34.39,28.88,27.55,22.61,37.51,33.0,38.0,33.345,27.5,33.33,34.865,33.06,26.6,24.7,35.97,35.86,31.4,33.25,32.205,32.775,27.645,37.335,25.27,29.64,30.8,40.945,27.2,34.105,23.21,36.48,33.8,36.7,36.385,27.36,31.16,28.785,35.72,34.5,25.74,27.55,32.3,27.72,27.6,30.02,27.55,36.765,41.47,29.26,35.75,33.345,29.92,27.835,23.18,25.6,27.7,35.245,38.28,27.6,43.89,29.83,41.91,20.79,32.3,30.5,21.7,26.4,21.89,30.78,32.3,24.985,32.015,30.4,21.09,22.23,33.155,32.9,33.33,28.31,24.89,40.15,30.115,31.46,17.955,30.685,33.0,43.34,22.135,34.4,39.05,25.365,22.61,30.21,35.625,37.43,31.445,31.35,32.3,19.855,34.4,31.02,25.6,38.17,20.6,47.52,32.965,32.3,20.4,38.38,24.31,23.6,21.12,30.03,17.48,20.235,17.195,23.9,35.15,35.64,34.1,22.6,39.16,26.98,33.88,35.86,32.775,30.59,30.2,24.31,27.265,29.165,16.815,30.4,33.1,20.235,26.9,30.5,28.595,33.11,31.73,28.9,46.75,29.45,32.68,33.5,43.01,36.52,26.695,33.1,29.64,25.65,29.6,38.6,29.6,24.13,23.4,29.735,46.53,37.4,30.14,30.495,39.6,33.0,36.63,30.0,38.095,25.935,25.175,28.38,28.7,33.82,24.32,24.09,32.67,30.115,29.8,33.345,25.1,28.31,28.5,35.625,36.85,32.56,41.325,37.51,31.35,39.5,34.3,31.065,21.47,28.7,38.06,31.16,32.9,25.08,25.08,43.4,25.7,27.93,23.6,28.7,23.98,39.2,34.4,26.03,23.21,30.25,28.93,30.875,31.35,23.75,25.27,28.7,32.11,33.66,22.42,30.4,28.3,35.7,35.31,30.495,31.0,30.875,27.36,44.22,33.915,37.73,26.07,33.88,30.59,25.8,39.425,25.46,42.13,31.73,29.7,36.19,40.48,28.025,38.9,30.2,28.05,31.35,38.0,31.79,36.3,47.41,30.21,25.84,35.435,46.7,28.595,46.2,30.8,28.93,21.4,31.73,41.325,23.8,33.44,34.21,34.105,35.53,19.95,32.68,30.5,44.77,32.12,30.495,40.565,30.59,31.9,40.565,29.1,37.29,43.12,36.86,34.295,27.17,26.84,38.095,30.2,23.465,25.46,30.59,45.43,23.65,20.7,28.27,20.235,30.21,35.91,30.69,29.0,19.57,31.13,21.85,40.26,33.725,29.48,33.25,32.6,37.525,39.16,31.635,25.3,39.05,28.31,34.1,25.175,23.655,26.98,37.8,29.37,34.8,33.155,19.0,33.0,36.63,28.595,25.6,33.11,37.1,31.4,34.1,21.3,33.535,28.785,26.03,28.88,42.46,38.0,38.95,36.1,29.3,35.53,22.705,39.7,38.19,24.51,38.095,26.41,33.66,42.4,28.31,33.915,34.96,35.31,30.78,26.22,23.37,28.5,32.965,42.68,39.6,31.13,36.3,35.2,25.3,42.4,33.155,35.91,28.785,46.53,23.98,31.54,33.66,22.99,38.06,28.7,32.775,32.015,29.81,31.57,31.16,29.7,31.02,43.89,21.375,40.81,31.35,36.1,23.18,17.4,20.3,35.3,24.32,18.5,26.41,26.125,41.69,24.1,31.13,27.36,36.2,32.395,23.655,34.8,40.185,32.3,35.75,33.725,39.27,34.87,44.745,41.47,26.41,29.545,32.9,38.06,28.69,30.495,27.74,35.2,23.54,30.685,40.47,22.6,28.9,22.61,24.32,36.67,33.44,40.66,36.6,37.4,35.4,27.075,39.05,28.405,21.755,40.28,36.08,24.42,21.4,30.1,27.265,32.1,34.77,38.39,23.7,31.73,35.5,24.035,29.15,34.105,26.62,26.41,30.115,27.0,21.755,36.0,30.875,26.4,28.975,37.905,22.77,33.63,27.645,22.8,27.83,37.43,38.17,34.58,35.2,27.1,26.03,25.175,31.825,32.3,29.0,39.7,19.475,36.1,26.7,36.48,28.88,34.2,33.33,32.3,39.805,34.32,28.88,24.4,41.14,35.97,27.6,29.26,27.7,36.955,36.86,22.515,29.92,41.8,27.6,23.18,20.9,31.92,28.5,44.22,22.895,33.1,24.795,26.18,35.97,22.3,42.24,26.51,35.815,41.42,36.575,30.14,25.84,30.8,42.94,21.01,22.515,34.43,31.46,24.225,37.1,26.125,35.53,33.7,17.67,31.13,29.81,24.32,31.825,31.79,28.025,30.78,21.85,33.1,25.84,23.845,34.39,33.82,35.97,31.5,28.31,23.465,31.35,31.1,24.7,32.78,29.81,30.495,32.45,34.2,50.38,24.1,32.775,30.78,32.3,35.53,23.75,23.845,29.6,33.11,24.13,32.23,28.1,47.6,28.0,33.535,19.855,25.4,29.9,37.29,43.7,23.655,24.3,36.2,29.48,24.86,30.1,21.85,28.12,27.1,33.44,28.8,29.5,34.8,27.36,22.135,37.05,26.695,28.93,28.975,30.02,39.5,33.63,26.885,29.04,24.035,38.94,32.11,44.0,20.045,25.555,40.26,22.515,22.515,40.92,27.265,36.85,35.1,29.355,32.585,32.34,39.8,24.6,28.31,31.73,26.695,27.5,24.605,33.99,26.885,22.895,28.2,34.21,25.0,33.2,31.0,35.815,23.2,32.11,23.4,20.1,39.16,34.21,46.53,32.5,25.8,35.3,37.18,27.5,29.735,24.225,26.18,29.48,23.21,46.09,40.185,22.61,39.93,35.8,35.8,34.2,31.255,29.7,18.335,42.9,28.405,30.2,27.835,39.49,30.8,26.79,34.96,36.67,39.615,25.9,35.2,24.795,36.765,27.1,24.795,25.365,25.745,34.32,28.16,23.56,20.235,40.5,35.42,22.895,40.15,29.15,39.995,29.92,25.46,21.375,25.9,30.59,30.115,25.8,30.115,27.645,34.675,20.52,19.8,27.835,31.6,28.27,20.045,23.275,34.1,36.85,36.29,26.885,22.99,32.7,25.8,29.6,19.19,31.73,29.26,28.215,24.985,27.74,22.8,20.13,33.33,32.3,27.6,25.46,24.605,34.2,35.815,32.68,37.0,31.02,36.08,23.32,45.32,34.6,26.03,18.715,31.6,17.29,23.655,35.2,27.93,21.565,38.38,23.0,37.07,30.495,28.88,27.265,28.025,23.085,30.685,25.8,35.245,24.7,25.08,52.58,22.515,30.9,36.955,26.41,29.83,29.8,21.47,27.645,28.9,31.79,39.49,33.82,32.01,27.94,41.14,28.595,25.6,25.3,37.29,42.655,21.66,31.9,37.07,31.445,31.255,28.88,18.335,29.59,32.0,26.03,31.68,33.66,21.78,27.835,19.95,31.5,30.495,18.3,28.975,31.54,47.74,22.1,36.19,29.83,32.7,30.4,33.7,31.35,34.96,33.77,30.875,33.99,19.095,28.6,38.94,36.08,29.8,31.24,29.925,26.22,30.0,20.35,32.3,38.39,25.85,26.315,24.51,32.67,29.64,33.33,35.75,19.95,31.4,38.17,36.86,32.395,42.75,25.08,29.9,35.86,32.8,18.6,23.87,45.9,40.28,18.335,33.82,28.12,25.0,22.23,30.25,32.49,37.07,32.6,24.86,32.34,32.3,32.775,32.8,31.92,21.5,34.1,30.305,36.48,32.56,35.815,27.93,22.135,44.88,23.18,30.59,41.1,34.58,42.13,38.83,28.215,28.31,26.125,40.37,24.6,35.2,34.105,27.36,26.7,41.91,29.26,32.11,27.1,24.13,27.4,34.865,29.81,41.325,29.925,30.3,27.36,28.49,23.56,35.625,32.68,25.27,28.0,32.775,21.755,32.395,36.575,21.755,27.93,30.02,33.55,29.355,25.8,24.32,40.375,32.11,32.3,27.28,17.86,34.8,33.4,25.555,37.1,30.875,34.1,21.47,33.3,31.255,39.14,25.08,37.29,34.6,30.21,21.945,24.97,25.3,24.42,23.94,39.82,16.815,37.18,34.43,30.305,34.485,21.8,24.605,23.3,27.83,31.065,21.66,28.215,22.705,42.13,41.8,36.96,21.28,33.11,33.33,24.3,25.7,29.4,39.82,33.63,29.83,19.8,27.3,29.3,27.72,37.9,36.385,27.645,37.715,23.18,20.52,37.1,28.05,29.9,33.345,23.76,30.5,31.065,33.3,27.5,33.915,34.485,25.52,27.61,27.06,23.7,30.4,29.735,29.925,26.79,33.33,27.645,21.66,30.03,36.3,24.32,17.29,25.9,39.4,34.32,19.95,34.9,23.21,25.745,25.175,22.0,26.125,26.51,27.455,25.745,30.36,30.875,20.8,27.8,24.605,27.72,21.85,28.12,30.2,32.2,26.315,26.695,42.9,34.7,23.655,28.31,20.6,53.13,39.71,26.315,31.065,26.695,38.83,40.37,25.935,33.535,32.87,30.03,24.225,38.6,25.74,33.4,44.7,30.97,31.92,36.85,25.8,29.07],\"y0\":\" \",\"yaxis\":\"y\",\"type\":\"box\"}],                        {\"template\":{\"data\":{\"histogram2dcontour\":[{\"type\":\"histogram2dcontour\",\"colorbar\":{\"outlinewidth\":0,\"ticks\":\"\"},\"colorscale\":[[0.0,\"#0d0887\"],[0.1111111111111111,\"#46039f\"],[0.2222222222222222,\"#7201a8\"],[0.3333333333333333,\"#9c179e\"],[0.4444444444444444,\"#bd3786\"],[0.5555555555555556,\"#d8576b\"],[0.6666666666666666,\"#ed7953\"],[0.7777777777777778,\"#fb9f3a\"],[0.8888888888888888,\"#fdca26\"],[1.0,\"#f0f921\"]]}],\"choropleth\":[{\"type\":\"choropleth\",\"colorbar\":{\"outlinewidth\":0,\"ticks\":\"\"}}],\"histogram2d\":[{\"type\":\"histogram2d\",\"colorbar\":{\"outlinewidth\":0,\"ticks\":\"\"},\"colorscale\":[[0.0,\"#0d0887\"],[0.1111111111111111,\"#46039f\"],[0.2222222222222222,\"#7201a8\"],[0.3333333333333333,\"#9c179e\"],[0.4444444444444444,\"#bd3786\"],[0.5555555555555556,\"#d8576b\"],[0.6666666666666666,\"#ed7953\"],[0.7777777777777778,\"#fb9f3a\"],[0.8888888888888888,\"#fdca26\"],[1.0,\"#f0f921\"]]}],\"heatmap\":[{\"type\":\"heatmap\",\"colorbar\":{\"outlinewidth\":0,\"ticks\":\"\"},\"colorscale\":[[0.0,\"#0d0887\"],[0.1111111111111111,\"#46039f\"],[0.2222222222222222,\"#7201a8\"],[0.3333333333333333,\"#9c179e\"],[0.4444444444444444,\"#bd3786\"],[0.5555555555555556,\"#d8576b\"],[0.6666666666666666,\"#ed7953\"],[0.7777777777777778,\"#fb9f3a\"],[0.8888888888888888,\"#fdca26\"],[1.0,\"#f0f921\"]]}],\"heatmapgl\":[{\"type\":\"heatmapgl\",\"colorbar\":{\"outlinewidth\":0,\"ticks\":\"\"},\"colorscale\":[[0.0,\"#0d0887\"],[0.1111111111111111,\"#46039f\"],[0.2222222222222222,\"#7201a8\"],[0.3333333333333333,\"#9c179e\"],[0.4444444444444444,\"#bd3786\"],[0.5555555555555556,\"#d8576b\"],[0.6666666666666666,\"#ed7953\"],[0.7777777777777778,\"#fb9f3a\"],[0.8888888888888888,\"#fdca26\"],[1.0,\"#f0f921\"]]}],\"contourcarpet\":[{\"type\":\"contourcarpet\",\"colorbar\":{\"outlinewidth\":0,\"ticks\":\"\"}}],\"contour\":[{\"type\":\"contour\",\"colorbar\":{\"outlinewidth\":0,\"ticks\":\"\"},\"colorscale\":[[0.0,\"#0d0887\"],[0.1111111111111111,\"#46039f\"],[0.2222222222222222,\"#7201a8\"],[0.3333333333333333,\"#9c179e\"],[0.4444444444444444,\"#bd3786\"],[0.5555555555555556,\"#d8576b\"],[0.6666666666666666,\"#ed7953\"],[0.7777777777777778,\"#fb9f3a\"],[0.8888888888888888,\"#fdca26\"],[1.0,\"#f0f921\"]]}],\"surface\":[{\"type\":\"surface\",\"colorbar\":{\"outlinewidth\":0,\"ticks\":\"\"},\"colorscale\":[[0.0,\"#0d0887\"],[0.1111111111111111,\"#46039f\"],[0.2222222222222222,\"#7201a8\"],[0.3333333333333333,\"#9c179e\"],[0.4444444444444444,\"#bd3786\"],[0.5555555555555556,\"#d8576b\"],[0.6666666666666666,\"#ed7953\"],[0.7777777777777778,\"#fb9f3a\"],[0.8888888888888888,\"#fdca26\"],[1.0,\"#f0f921\"]]}],\"mesh3d\":[{\"type\":\"mesh3d\",\"colorbar\":{\"outlinewidth\":0,\"ticks\":\"\"}}],\"scatter\":[{\"marker\":{\"line\":{\"color\":\"#283442\"}},\"type\":\"scatter\"}],\"parcoords\":[{\"type\":\"parcoords\",\"line\":{\"colorbar\":{\"outlinewidth\":0,\"ticks\":\"\"}}}],\"scatterpolargl\":[{\"type\":\"scatterpolargl\",\"marker\":{\"colorbar\":{\"outlinewidth\":0,\"ticks\":\"\"}}}],\"bar\":[{\"error_x\":{\"color\":\"#f2f5fa\"},\"error_y\":{\"color\":\"#f2f5fa\"},\"marker\":{\"line\":{\"color\":\"rgb(17,17,17)\",\"width\":0.5},\"pattern\":{\"fillmode\":\"overlay\",\"size\":10,\"solidity\":0.2}},\"type\":\"bar\"}],\"scattergeo\":[{\"type\":\"scattergeo\",\"marker\":{\"colorbar\":{\"outlinewidth\":0,\"ticks\":\"\"}}}],\"scatterpolar\":[{\"type\":\"scatterpolar\",\"marker\":{\"colorbar\":{\"outlinewidth\":0,\"ticks\":\"\"}}}],\"histogram\":[{\"marker\":{\"pattern\":{\"fillmode\":\"overlay\",\"size\":10,\"solidity\":0.2}},\"type\":\"histogram\"}],\"scattergl\":[{\"marker\":{\"line\":{\"color\":\"#283442\"}},\"type\":\"scattergl\"}],\"scatter3d\":[{\"type\":\"scatter3d\",\"line\":{\"colorbar\":{\"outlinewidth\":0,\"ticks\":\"\"}},\"marker\":{\"colorbar\":{\"outlinewidth\":0,\"ticks\":\"\"}}}],\"scattermapbox\":[{\"type\":\"scattermapbox\",\"marker\":{\"colorbar\":{\"outlinewidth\":0,\"ticks\":\"\"}}}],\"scatterternary\":[{\"type\":\"scatterternary\",\"marker\":{\"colorbar\":{\"outlinewidth\":0,\"ticks\":\"\"}}}],\"scattercarpet\":[{\"type\":\"scattercarpet\",\"marker\":{\"colorbar\":{\"outlinewidth\":0,\"ticks\":\"\"}}}],\"carpet\":[{\"aaxis\":{\"endlinecolor\":\"#A2B1C6\",\"gridcolor\":\"#506784\",\"linecolor\":\"#506784\",\"minorgridcolor\":\"#506784\",\"startlinecolor\":\"#A2B1C6\"},\"baxis\":{\"endlinecolor\":\"#A2B1C6\",\"gridcolor\":\"#506784\",\"linecolor\":\"#506784\",\"minorgridcolor\":\"#506784\",\"startlinecolor\":\"#A2B1C6\"},\"type\":\"carpet\"}],\"table\":[{\"cells\":{\"fill\":{\"color\":\"#506784\"},\"line\":{\"color\":\"rgb(17,17,17)\"}},\"header\":{\"fill\":{\"color\":\"#2a3f5f\"},\"line\":{\"color\":\"rgb(17,17,17)\"}},\"type\":\"table\"}],\"barpolar\":[{\"marker\":{\"line\":{\"color\":\"rgb(17,17,17)\",\"width\":0.5},\"pattern\":{\"fillmode\":\"overlay\",\"size\":10,\"solidity\":0.2}},\"type\":\"barpolar\"}],\"pie\":[{\"automargin\":true,\"type\":\"pie\"}]},\"layout\":{\"autotypenumbers\":\"strict\",\"colorway\":[\"#636efa\",\"#EF553B\",\"#00cc96\",\"#ab63fa\",\"#FFA15A\",\"#19d3f3\",\"#FF6692\",\"#B6E880\",\"#FF97FF\",\"#FECB52\"],\"font\":{\"color\":\"#f2f5fa\"},\"hovermode\":\"closest\",\"hoverlabel\":{\"align\":\"left\"},\"paper_bgcolor\":\"rgb(17,17,17)\",\"plot_bgcolor\":\"rgb(17,17,17)\",\"polar\":{\"bgcolor\":\"rgb(17,17,17)\",\"angularaxis\":{\"gridcolor\":\"#506784\",\"linecolor\":\"#506784\",\"ticks\":\"\"},\"radialaxis\":{\"gridcolor\":\"#506784\",\"linecolor\":\"#506784\",\"ticks\":\"\"}},\"ternary\":{\"bgcolor\":\"rgb(17,17,17)\",\"aaxis\":{\"gridcolor\":\"#506784\",\"linecolor\":\"#506784\",\"ticks\":\"\"},\"baxis\":{\"gridcolor\":\"#506784\",\"linecolor\":\"#506784\",\"ticks\":\"\"},\"caxis\":{\"gridcolor\":\"#506784\",\"linecolor\":\"#506784\",\"ticks\":\"\"}},\"coloraxis\":{\"colorbar\":{\"outlinewidth\":0,\"ticks\":\"\"}},\"colorscale\":{\"sequential\":[[0.0,\"#0d0887\"],[0.1111111111111111,\"#46039f\"],[0.2222222222222222,\"#7201a8\"],[0.3333333333333333,\"#9c179e\"],[0.4444444444444444,\"#bd3786\"],[0.5555555555555556,\"#d8576b\"],[0.6666666666666666,\"#ed7953\"],[0.7777777777777778,\"#fb9f3a\"],[0.8888888888888888,\"#fdca26\"],[1.0,\"#f0f921\"]],\"sequentialminus\":[[0.0,\"#0d0887\"],[0.1111111111111111,\"#46039f\"],[0.2222222222222222,\"#7201a8\"],[0.3333333333333333,\"#9c179e\"],[0.4444444444444444,\"#bd3786\"],[0.5555555555555556,\"#d8576b\"],[0.6666666666666666,\"#ed7953\"],[0.7777777777777778,\"#fb9f3a\"],[0.8888888888888888,\"#fdca26\"],[1.0,\"#f0f921\"]],\"diverging\":[[0,\"#8e0152\"],[0.1,\"#c51b7d\"],[0.2,\"#de77ae\"],[0.3,\"#f1b6da\"],[0.4,\"#fde0ef\"],[0.5,\"#f7f7f7\"],[0.6,\"#e6f5d0\"],[0.7,\"#b8e186\"],[0.8,\"#7fbc41\"],[0.9,\"#4d9221\"],[1,\"#276419\"]]},\"xaxis\":{\"gridcolor\":\"#283442\",\"linecolor\":\"#506784\",\"ticks\":\"\",\"title\":{\"standoff\":15},\"zerolinecolor\":\"#283442\",\"automargin\":true,\"zerolinewidth\":2},\"yaxis\":{\"gridcolor\":\"#283442\",\"linecolor\":\"#506784\",\"ticks\":\"\",\"title\":{\"standoff\":15},\"zerolinecolor\":\"#283442\",\"automargin\":true,\"zerolinewidth\":2},\"scene\":{\"xaxis\":{\"backgroundcolor\":\"rgb(17,17,17)\",\"gridcolor\":\"#506784\",\"linecolor\":\"#506784\",\"showbackground\":true,\"ticks\":\"\",\"zerolinecolor\":\"#C8D4E3\",\"gridwidth\":2},\"yaxis\":{\"backgroundcolor\":\"rgb(17,17,17)\",\"gridcolor\":\"#506784\",\"linecolor\":\"#506784\",\"showbackground\":true,\"ticks\":\"\",\"zerolinecolor\":\"#C8D4E3\",\"gridwidth\":2},\"zaxis\":{\"backgroundcolor\":\"rgb(17,17,17)\",\"gridcolor\":\"#506784\",\"linecolor\":\"#506784\",\"showbackground\":true,\"ticks\":\"\",\"zerolinecolor\":\"#C8D4E3\",\"gridwidth\":2}},\"shapedefaults\":{\"line\":{\"color\":\"#f2f5fa\"}},\"annotationdefaults\":{\"arrowcolor\":\"#f2f5fa\",\"arrowhead\":0,\"arrowwidth\":1},\"geo\":{\"bgcolor\":\"rgb(17,17,17)\",\"landcolor\":\"rgb(17,17,17)\",\"subunitcolor\":\"#506784\",\"showland\":true,\"showlakes\":true,\"lakecolor\":\"rgb(17,17,17)\"},\"title\":{\"x\":0.05},\"updatemenudefaults\":{\"bgcolor\":\"#506784\",\"borderwidth\":0},\"sliderdefaults\":{\"bgcolor\":\"#C8D4E3\",\"borderwidth\":1,\"bordercolor\":\"rgb(17,17,17)\",\"tickwidth\":0},\"mapbox\":{\"style\":\"dark\"}}},\"xaxis\":{\"anchor\":\"y\",\"domain\":[0.0,1.0],\"title\":{\"text\":\"variable\"}},\"yaxis\":{\"anchor\":\"x\",\"domain\":[0.0,1.0],\"title\":{\"text\":\"value\"}},\"legend\":{\"tracegroupgap\":0},\"margin\":{\"t\":60},\"boxmode\":\"group\"},                        {\"responsive\": true}                    ).then(function(){\n                            \nvar gd = document.getElementById('ec624b2d-49ba-4a04-aa55-00387c1b05b3');\nvar x = new MutationObserver(function (mutations, observer) {{\n        var display = window.getComputedStyle(gd).display;\n        if (!display || display === 'none') {{\n            console.log([gd, 'removed!']);\n            Plotly.purge(gd);\n            observer.disconnect();\n        }}\n}});\n\n// Listen for the removal of the full notebook cells\nvar notebookContainer = gd.closest('#notebook-container');\nif (notebookContainer) {{\n    x.observe(notebookContainer, {childList: true});\n}}\n\n// Listen for the clearing of the current output cell\nvar outputEl = gd.closest('.output');\nif (outputEl) {{\n    x.observe(outputEl, {childList: true});\n}}\n\n                        })                };                });            </script>        </div>"
     },
     "metadata": {},
     "output_type": "display_data"
    },
    {
     "data": {
      "application/vnd.plotly.v1+json": {
       "data": [
        {
         "alignmentgroup": "True",
         "boxpoints": "all",
         "hovertemplate": "variable=%{x}<br>value=%{y}<extra></extra>",
         "legendgroup": "",
         "marker": {
          "color": "#636efa"
         },
         "name": "",
         "notched": false,
         "offsetgroup": "",
         "orientation": "v",
         "showlegend": false,
         "x": [
          "age",
          "age",
          "age",
          "age",
          "age",
          "age",
          "age",
          "age",
          "age",
          "age",
          "age",
          "age",
          "age",
          "age",
          "age",
          "age",
          "age",
          "age",
          "age",
          "age",
          "age",
          "age",
          "age",
          "age",
          "age",
          "age",
          "age",
          "age",
          "age",
          "age",
          "age",
          "age",
          "age",
          "age",
          "age",
          "age",
          "age",
          "age",
          "age",
          "age",
          "age",
          "age",
          "age",
          "age",
          "age",
          "age",
          "age",
          "age",
          "age",
          "age",
          "age",
          "age",
          "age",
          "age",
          "age",
          "age",
          "age",
          "age",
          "age",
          "age",
          "age",
          "age",
          "age",
          "age",
          "age",
          "age",
          "age",
          "age",
          "age",
          "age",
          "age",
          "age",
          "age",
          "age",
          "age",
          "age",
          "age",
          "age",
          "age",
          "age",
          "age",
          "age",
          "age",
          "age",
          "age",
          "age",
          "age",
          "age",
          "age",
          "age",
          "age",
          "age",
          "age",
          "age",
          "age",
          "age",
          "age",
          "age",
          "age",
          "age",
          "age",
          "age",
          "age",
          "age",
          "age",
          "age",
          "age",
          "age",
          "age",
          "age",
          "age",
          "age",
          "age",
          "age",
          "age",
          "age",
          "age",
          "age",
          "age",
          "age",
          "age",
          "age",
          "age",
          "age",
          "age",
          "age",
          "age",
          "age",
          "age",
          "age",
          "age",
          "age",
          "age",
          "age",
          "age",
          "age",
          "age",
          "age",
          "age",
          "age",
          "age",
          "age",
          "age",
          "age",
          "age",
          "age",
          "age",
          "age",
          "age",
          "age",
          "age",
          "age",
          "age",
          "age",
          "age",
          "age",
          "age",
          "age",
          "age",
          "age",
          "age",
          "age",
          "age",
          "age",
          "age",
          "age",
          "age",
          "age",
          "age",
          "age",
          "age",
          "age",
          "age",
          "age",
          "age",
          "age",
          "age",
          "age",
          "age",
          "age",
          "age",
          "age",
          "age",
          "age",
          "age",
          "age",
          "age",
          "age",
          "age",
          "age",
          "age",
          "age",
          "age",
          "age",
          "age",
          "age",
          "age",
          "age",
          "age",
          "age",
          "age",
          "age",
          "age",
          "age",
          "age",
          "age",
          "age",
          "age",
          "age",
          "age",
          "age",
          "age",
          "age",
          "age",
          "age",
          "age",
          "age",
          "age",
          "age",
          "age",
          "age",
          "age",
          "age",
          "age",
          "age",
          "age",
          "age",
          "age",
          "age",
          "age",
          "age",
          "age",
          "age",
          "age",
          "age",
          "age",
          "age",
          "age",
          "age",
          "age",
          "age",
          "age",
          "age",
          "age",
          "age",
          "age",
          "age",
          "age",
          "age",
          "age",
          "age",
          "age",
          "age",
          "age",
          "age",
          "age",
          "age",
          "age",
          "age",
          "age",
          "age",
          "age",
          "age",
          "age",
          "age",
          "age",
          "age",
          "age",
          "age",
          "age",
          "age",
          "age",
          "age",
          "age",
          "age",
          "age",
          "age",
          "age",
          "age",
          "age",
          "age",
          "age",
          "age",
          "age",
          "age",
          "age",
          "age",
          "age",
          "age",
          "age",
          "age",
          "age",
          "age",
          "age",
          "age",
          "age",
          "age",
          "age",
          "age",
          "age",
          "age",
          "age",
          "age",
          "age",
          "age",
          "age",
          "age",
          "age",
          "age",
          "age",
          "age",
          "age",
          "age",
          "age",
          "age",
          "age",
          "age",
          "age",
          "age",
          "age",
          "age",
          "age",
          "age",
          "age",
          "age",
          "age",
          "age",
          "age",
          "age",
          "age",
          "age",
          "age",
          "age",
          "age",
          "age",
          "age",
          "age",
          "age",
          "age",
          "age",
          "age",
          "age",
          "age",
          "age",
          "age",
          "age",
          "age",
          "age",
          "age",
          "age",
          "age",
          "age",
          "age",
          "age",
          "age",
          "age",
          "age",
          "age",
          "age",
          "age",
          "age",
          "age",
          "age",
          "age",
          "age",
          "age",
          "age",
          "age",
          "age",
          "age",
          "age",
          "age",
          "age",
          "age",
          "age",
          "age",
          "age",
          "age",
          "age",
          "age",
          "age",
          "age",
          "age",
          "age",
          "age",
          "age",
          "age",
          "age",
          "age",
          "age",
          "age",
          "age",
          "age",
          "age",
          "age",
          "age",
          "age",
          "age",
          "age",
          "age",
          "age",
          "age",
          "age",
          "age",
          "age",
          "age",
          "age",
          "age",
          "age",
          "age",
          "age",
          "age",
          "age",
          "age",
          "age",
          "age",
          "age",
          "age",
          "age",
          "age",
          "age",
          "age",
          "age",
          "age",
          "age",
          "age",
          "age",
          "age",
          "age",
          "age",
          "age",
          "age",
          "age",
          "age",
          "age",
          "age",
          "age",
          "age",
          "age",
          "age",
          "age",
          "age",
          "age",
          "age",
          "age",
          "age",
          "age",
          "age",
          "age",
          "age",
          "age",
          "age",
          "age",
          "age",
          "age",
          "age",
          "age",
          "age",
          "age",
          "age",
          "age",
          "age",
          "age",
          "age",
          "age",
          "age",
          "age",
          "age",
          "age",
          "age",
          "age",
          "age",
          "age",
          "age",
          "age",
          "age",
          "age",
          "age",
          "age",
          "age",
          "age",
          "age",
          "age",
          "age",
          "age",
          "age",
          "age",
          "age",
          "age",
          "age",
          "age",
          "age",
          "age",
          "age",
          "age",
          "age",
          "age",
          "age",
          "age",
          "age",
          "age",
          "age",
          "age",
          "age",
          "age",
          "age",
          "age",
          "age",
          "age",
          "age",
          "age",
          "age",
          "age",
          "age",
          "age",
          "age",
          "age",
          "age",
          "age",
          "age",
          "age",
          "age",
          "age",
          "age",
          "age",
          "age",
          "age",
          "age",
          "age",
          "age",
          "age",
          "age",
          "age",
          "age",
          "age",
          "age",
          "age",
          "age",
          "age",
          "age",
          "age",
          "age",
          "age",
          "age",
          "age",
          "age",
          "age",
          "age",
          "age",
          "age",
          "age",
          "age",
          "age",
          "age",
          "age",
          "age",
          "age",
          "age",
          "age",
          "age",
          "age",
          "age",
          "age",
          "age",
          "age",
          "age",
          "age",
          "age",
          "age",
          "age",
          "age",
          "age",
          "age",
          "age",
          "age",
          "age",
          "age",
          "age",
          "age",
          "age",
          "age",
          "age",
          "age",
          "age",
          "age",
          "age",
          "age",
          "age",
          "age",
          "age",
          "age",
          "age",
          "age",
          "age",
          "age",
          "age",
          "age",
          "age",
          "age",
          "age",
          "age",
          "age",
          "age",
          "age",
          "age",
          "age",
          "age",
          "age",
          "age",
          "age",
          "age",
          "age",
          "age",
          "age",
          "age",
          "age",
          "age",
          "age",
          "age",
          "age",
          "age",
          "age",
          "age",
          "age",
          "age",
          "age",
          "age",
          "age",
          "age",
          "age",
          "age",
          "age",
          "age",
          "age",
          "age",
          "age",
          "age",
          "age",
          "age",
          "age",
          "age",
          "age",
          "age",
          "age",
          "age",
          "age",
          "age",
          "age",
          "age",
          "age",
          "age",
          "age",
          "age",
          "age",
          "age",
          "age",
          "age",
          "age",
          "age",
          "age",
          "age",
          "age",
          "age",
          "age",
          "age",
          "age",
          "age",
          "age",
          "age",
          "age",
          "age",
          "age",
          "age",
          "age",
          "age",
          "age",
          "age",
          "age",
          "age",
          "age",
          "age",
          "age",
          "age",
          "age",
          "age",
          "age",
          "age",
          "age",
          "age",
          "age",
          "age",
          "age",
          "age",
          "age",
          "age",
          "age",
          "age",
          "age",
          "age",
          "age",
          "age",
          "age",
          "age",
          "age",
          "age",
          "age",
          "age",
          "age",
          "age",
          "age",
          "age",
          "age",
          "age",
          "age",
          "age",
          "age",
          "age",
          "age",
          "age",
          "age",
          "age",
          "age",
          "age",
          "age",
          "age",
          "age",
          "age",
          "age",
          "age",
          "age",
          "age",
          "age",
          "age",
          "age",
          "age",
          "age",
          "age",
          "age",
          "age",
          "age",
          "age",
          "age",
          "age",
          "age",
          "age",
          "age",
          "age",
          "age",
          "age",
          "age",
          "age",
          "age",
          "age",
          "age",
          "age",
          "age",
          "age",
          "age",
          "age",
          "age",
          "age",
          "age",
          "age",
          "age",
          "age",
          "age",
          "age",
          "age",
          "age",
          "age",
          "age",
          "age",
          "age",
          "age",
          "age",
          "age",
          "age",
          "age",
          "age",
          "age",
          "age",
          "age",
          "age",
          "age",
          "age",
          "age",
          "age",
          "age",
          "age",
          "age",
          "age",
          "age",
          "age",
          "age",
          "age",
          "age",
          "age",
          "age",
          "age",
          "age",
          "age",
          "age",
          "age",
          "age",
          "age",
          "age",
          "age",
          "age",
          "age",
          "age",
          "age",
          "age",
          "age",
          "age",
          "age",
          "age",
          "age",
          "age",
          "age",
          "age",
          "age",
          "age",
          "age",
          "age",
          "age",
          "age",
          "age",
          "age",
          "age",
          "age",
          "age",
          "age",
          "age",
          "age",
          "age",
          "age",
          "age",
          "age",
          "age",
          "age",
          "age",
          "age",
          "age",
          "age",
          "age",
          "age",
          "age",
          "age",
          "age",
          "age",
          "age",
          "age",
          "age",
          "age",
          "age",
          "age",
          "age",
          "age",
          "age",
          "age",
          "age",
          "age",
          "age",
          "age",
          "age",
          "age",
          "age",
          "age",
          "age",
          "age",
          "age",
          "age",
          "age",
          "age",
          "age",
          "age",
          "age",
          "age",
          "age",
          "age",
          "age",
          "age",
          "age",
          "age",
          "age",
          "age",
          "age",
          "age",
          "age",
          "age",
          "age",
          "age",
          "age",
          "age",
          "age",
          "age",
          "age",
          "age",
          "age",
          "age",
          "age",
          "age",
          "age",
          "age",
          "age",
          "age",
          "age",
          "age",
          "age",
          "age",
          "age",
          "age",
          "age",
          "age",
          "age",
          "age",
          "age",
          "age",
          "age",
          "age",
          "age",
          "age",
          "age",
          "age",
          "age",
          "age",
          "age",
          "age",
          "age",
          "age",
          "age",
          "age",
          "age",
          "age",
          "age",
          "age",
          "age",
          "age",
          "age",
          "age",
          "age",
          "age",
          "age",
          "age",
          "age",
          "age",
          "age",
          "age",
          "age",
          "age",
          "age",
          "age",
          "age",
          "age",
          "age",
          "age",
          "age",
          "age",
          "age",
          "age",
          "age",
          "age",
          "age",
          "age",
          "age",
          "age",
          "age",
          "age",
          "age",
          "age",
          "age",
          "age",
          "age",
          "age",
          "age",
          "age",
          "age",
          "age",
          "age",
          "age",
          "age",
          "age",
          "age",
          "age",
          "age",
          "age",
          "age",
          "age",
          "age",
          "age",
          "age",
          "age",
          "age",
          "age",
          "age",
          "age",
          "age",
          "age",
          "age",
          "age",
          "age",
          "age",
          "age",
          "age",
          "age",
          "age",
          "age",
          "age",
          "age",
          "age",
          "age",
          "age",
          "age",
          "age",
          "age",
          "age",
          "age",
          "age",
          "age",
          "age",
          "age",
          "age",
          "age",
          "age",
          "age",
          "age",
          "age",
          "age",
          "age",
          "age",
          "age",
          "age",
          "age",
          "age",
          "age",
          "age",
          "age",
          "age",
          "age",
          "age",
          "age",
          "age",
          "age",
          "age",
          "age",
          "age",
          "age",
          "age",
          "age",
          "age",
          "age",
          "age",
          "age",
          "age",
          "age",
          "age",
          "age",
          "age",
          "age",
          "age",
          "age",
          "age",
          "age",
          "age",
          "age",
          "age",
          "age",
          "age",
          "age",
          "age",
          "age",
          "age",
          "age",
          "age",
          "age",
          "age",
          "age",
          "age",
          "age",
          "age",
          "age",
          "age",
          "age",
          "age",
          "age",
          "age",
          "age",
          "age",
          "age",
          "age",
          "age",
          "age",
          "age",
          "age",
          "age",
          "age",
          "age",
          "age",
          "age",
          "age",
          "age",
          "age",
          "age",
          "age",
          "age",
          "age",
          "age",
          "age",
          "age",
          "age",
          "age",
          "age",
          "age",
          "age",
          "age",
          "age",
          "age",
          "age",
          "age",
          "age",
          "age",
          "age",
          "age",
          "age",
          "age",
          "age",
          "age",
          "age",
          "age",
          "age",
          "age",
          "age",
          "age",
          "age",
          "age",
          "age",
          "age",
          "age",
          "age",
          "age",
          "age",
          "age",
          "age",
          "age",
          "age",
          "age",
          "age",
          "age",
          "age",
          "age",
          "age",
          "age",
          "age",
          "age",
          "age",
          "age",
          "age",
          "age",
          "age",
          "age",
          "age",
          "age",
          "age",
          "age",
          "age",
          "age",
          "age",
          "age",
          "age",
          "age",
          "age",
          "age",
          "age",
          "age",
          "age",
          "age",
          "age",
          "age",
          "age",
          "age",
          "age",
          "age",
          "age",
          "age",
          "age",
          "age",
          "age",
          "age",
          "age",
          "age",
          "age",
          "age",
          "age",
          "age",
          "age",
          "age",
          "age",
          "age",
          "age",
          "age",
          "age",
          "age",
          "age",
          "age",
          "age",
          "age",
          "age",
          "age",
          "age",
          "age",
          "age",
          "age",
          "age",
          "age",
          "age",
          "age",
          "age",
          "age",
          "age",
          "age",
          "age",
          "age",
          "age",
          "age",
          "age",
          "age",
          "age",
          "age",
          "age",
          "age",
          "age",
          "age",
          "age",
          "age",
          "age",
          "age",
          "age",
          "age",
          "age",
          "age",
          "age",
          "age",
          "age",
          "age",
          "age",
          "age",
          "age",
          "age",
          "age",
          "age",
          "age",
          "age",
          "age",
          "age",
          "age",
          "age",
          "age",
          "age",
          "age",
          "age",
          "age",
          "age",
          "age",
          "age",
          "age",
          "age",
          "age",
          "age",
          "age",
          "age",
          "age",
          "age",
          "age",
          "age",
          "age",
          "age",
          "age",
          "age",
          "age",
          "age",
          "age",
          "age",
          "age",
          "age",
          "age",
          "age",
          "age",
          "age",
          "age",
          "age",
          "age",
          "age",
          "age",
          "age",
          "age",
          "age",
          "age",
          "age",
          "age",
          "age",
          "age",
          "age",
          "age",
          "age",
          "age",
          "age",
          "age",
          "age",
          "age",
          "age",
          "age",
          "age",
          "age",
          "age",
          "age",
          "age",
          "age",
          "age",
          "age",
          "age",
          "age",
          "age",
          "age",
          "age",
          "age",
          "age",
          "age",
          "age",
          "age",
          "age",
          "age",
          "age",
          "age",
          "age",
          "age",
          "age",
          "age",
          "age"
         ],
         "x0": " ",
         "xaxis": "x",
         "y": [
          19,
          18,
          28,
          33,
          32,
          31,
          46,
          37,
          37,
          60,
          25,
          62,
          23,
          56,
          27,
          19,
          52,
          23,
          56,
          30,
          60,
          30,
          18,
          34,
          37,
          59,
          63,
          55,
          23,
          31,
          22,
          18,
          19,
          63,
          28,
          19,
          62,
          26,
          35,
          60,
          24,
          31,
          41,
          37,
          38,
          55,
          18,
          28,
          60,
          36,
          18,
          21,
          48,
          36,
          40,
          58,
          58,
          18,
          53,
          34,
          43,
          25,
          64,
          28,
          20,
          19,
          61,
          40,
          40,
          28,
          27,
          31,
          53,
          58,
          44,
          57,
          29,
          21,
          22,
          41,
          31,
          45,
          22,
          48,
          37,
          45,
          57,
          56,
          46,
          55,
          21,
          53,
          59,
          35,
          64,
          28,
          54,
          55,
          56,
          38,
          41,
          30,
          18,
          61,
          34,
          20,
          19,
          26,
          29,
          63,
          54,
          55,
          37,
          21,
          52,
          60,
          58,
          29,
          49,
          37,
          44,
          18,
          20,
          44,
          47,
          26,
          19,
          52,
          32,
          38,
          59,
          61,
          53,
          19,
          20,
          22,
          19,
          22,
          54,
          22,
          34,
          26,
          34,
          29,
          30,
          29,
          46,
          51,
          53,
          19,
          35,
          48,
          32,
          42,
          40,
          44,
          48,
          18,
          30,
          50,
          42,
          18,
          54,
          32,
          37,
          47,
          20,
          32,
          19,
          27,
          63,
          49,
          18,
          35,
          24,
          63,
          38,
          54,
          46,
          41,
          58,
          18,
          22,
          44,
          44,
          36,
          26,
          30,
          41,
          29,
          61,
          36,
          25,
          56,
          18,
          19,
          39,
          45,
          51,
          64,
          19,
          48,
          60,
          27,
          46,
          28,
          59,
          35,
          63,
          40,
          20,
          40,
          24,
          34,
          45,
          41,
          53,
          27,
          26,
          24,
          34,
          53,
          32,
          19,
          42,
          55,
          28,
          58,
          41,
          47,
          42,
          59,
          19,
          59,
          39,
          40,
          18,
          31,
          19,
          44,
          23,
          33,
          55,
          40,
          63,
          54,
          60,
          24,
          19,
          29,
          18,
          63,
          54,
          27,
          50,
          55,
          56,
          38,
          51,
          19,
          58,
          20,
          52,
          19,
          53,
          46,
          40,
          59,
          45,
          49,
          18,
          50,
          41,
          50,
          25,
          47,
          19,
          22,
          59,
          51,
          40,
          54,
          30,
          55,
          52,
          46,
          46,
          63,
          59,
          52,
          28,
          29,
          25,
          22,
          25,
          18,
          19,
          47,
          31,
          48,
          36,
          53,
          56,
          28,
          57,
          29,
          28,
          30,
          58,
          41,
          50,
          19,
          43,
          49,
          27,
          52,
          50,
          54,
          44,
          32,
          34,
          26,
          34,
          57,
          29,
          40,
          27,
          45,
          64,
          52,
          61,
          52,
          61,
          56,
          43,
          64,
          60,
          62,
          50,
          46,
          24,
          62,
          60,
          63,
          49,
          34,
          33,
          46,
          36,
          19,
          57,
          50,
          30,
          33,
          18,
          46,
          46,
          47,
          23,
          18,
          48,
          35,
          19,
          21,
          21,
          49,
          56,
          42,
          44,
          18,
          61,
          57,
          42,
          26,
          20,
          23,
          39,
          24,
          64,
          62,
          27,
          55,
          55,
          35,
          44,
          19,
          58,
          50,
          26,
          24,
          48,
          19,
          48,
          49,
          46,
          46,
          43,
          21,
          64,
          18,
          51,
          47,
          64,
          49,
          31,
          52,
          33,
          47,
          38,
          32,
          19,
          44,
          26,
          25,
          19,
          43,
          52,
          36,
          64,
          63,
          64,
          61,
          40,
          25,
          48,
          45,
          38,
          18,
          21,
          27,
          19,
          29,
          42,
          60,
          31,
          60,
          22,
          35,
          52,
          26,
          31,
          33,
          18,
          59,
          56,
          45,
          60,
          56,
          40,
          35,
          39,
          30,
          24,
          20,
          32,
          59,
          55,
          57,
          56,
          40,
          49,
          42,
          62,
          56,
          19,
          30,
          60,
          56,
          28,
          18,
          27,
          18,
          19,
          47,
          54,
          61,
          24,
          25,
          21,
          23,
          63,
          49,
          18,
          51,
          48,
          31,
          54,
          19,
          44,
          53,
          19,
          61,
          18,
          61,
          21,
          20,
          31,
          45,
          44,
          62,
          29,
          43,
          51,
          19,
          38,
          37,
          22,
          21,
          24,
          57,
          56,
          27,
          51,
          19,
          39,
          58,
          20,
          45,
          35,
          31,
          50,
          32,
          51,
          38,
          42,
          18,
          19,
          51,
          46,
          18,
          57,
          62,
          59,
          37,
          64,
          38,
          33,
          46,
          46,
          53,
          34,
          20,
          63,
          54,
          54,
          49,
          28,
          54,
          25,
          43,
          63,
          32,
          62,
          52,
          25,
          28,
          46,
          34,
          35,
          19,
          46,
          54,
          27,
          50,
          18,
          19,
          38,
          41,
          49,
          48,
          31,
          18,
          30,
          62,
          57,
          58,
          22,
          31,
          52,
          25,
          59,
          19,
          39,
          32,
          19,
          33,
          21,
          34,
          61,
          38,
          58,
          47,
          20,
          21,
          41,
          46,
          42,
          34,
          43,
          52,
          18,
          51,
          56,
          64,
          19,
          51,
          27,
          59,
          28,
          30,
          47,
          38,
          18,
          34,
          20,
          47,
          56,
          49,
          19,
          55,
          30,
          37,
          49,
          18,
          59,
          29,
          36,
          33,
          58,
          44,
          53,
          24,
          29,
          40,
          51,
          64,
          19,
          35,
          39,
          56,
          33,
          42,
          61,
          23,
          43,
          48,
          39,
          40,
          18,
          58,
          49,
          53,
          48,
          45,
          59,
          52,
          26,
          27,
          48,
          57,
          37,
          57,
          32,
          18,
          64,
          43,
          49,
          40,
          62,
          40,
          30,
          29,
          36,
          41,
          44,
          45,
          55,
          60,
          56,
          49,
          21,
          19,
          39,
          53,
          33,
          53,
          42,
          40,
          47,
          27,
          21,
          47,
          20,
          24,
          27,
          26,
          53,
          41,
          56,
          23,
          21,
          50,
          53,
          34,
          47,
          33,
          51,
          49,
          31,
          36,
          18,
          50,
          43,
          20,
          24,
          60,
          49,
          60,
          51,
          58,
          51,
          53,
          62,
          19,
          50,
          30,
          41,
          29,
          18,
          41,
          35,
          53,
          24,
          48,
          59,
          49,
          37,
          26,
          23,
          29,
          45,
          27,
          53,
          31,
          50,
          50,
          34,
          19,
          47,
          28,
          37,
          21,
          64,
          58,
          24,
          31,
          39,
          47,
          30,
          18,
          22,
          23,
          33,
          27,
          45,
          57,
          47,
          42,
          64,
          38,
          61,
          53,
          44,
          19,
          41,
          51,
          40,
          45,
          35,
          53,
          30,
          18,
          51,
          50,
          31,
          35,
          60,
          21,
          29,
          62,
          39,
          19,
          22,
          53,
          39,
          27,
          30,
          30,
          58,
          33,
          42,
          64,
          21,
          18,
          23,
          45,
          40,
          19,
          18,
          25,
          46,
          33,
          54,
          28,
          36,
          20,
          24,
          23,
          47,
          33,
          45,
          26,
          18,
          44,
          60,
          64,
          56,
          36,
          41,
          39,
          63,
          36,
          28,
          58,
          36,
          42,
          36,
          56,
          35,
          59,
          21,
          59,
          23,
          57,
          53,
          60,
          51,
          23,
          27,
          55,
          37,
          61,
          46,
          53,
          49,
          20,
          48,
          25,
          25,
          57,
          37,
          38,
          55,
          36,
          51,
          40,
          18,
          57,
          61,
          25,
          50,
          26,
          42,
          43,
          44,
          23,
          49,
          33,
          41,
          37,
          22,
          23,
          21,
          51,
          25,
          32,
          57,
          36,
          22,
          57,
          64,
          36,
          54,
          47,
          62,
          61,
          43,
          19,
          18,
          19,
          49,
          60,
          26,
          49,
          60,
          26,
          27,
          44,
          63,
          32,
          22,
          18,
          59,
          44,
          33,
          24,
          43,
          45,
          61,
          35,
          62,
          62,
          38,
          34,
          43,
          50,
          19,
          57,
          62,
          41,
          26,
          39,
          46,
          45,
          32,
          59,
          44,
          39,
          18,
          53,
          18,
          50,
          18,
          19,
          62,
          56,
          42,
          37,
          42,
          25,
          57,
          51,
          30,
          44,
          34,
          31,
          54,
          24,
          43,
          48,
          19,
          29,
          63,
          46,
          52,
          35,
          51,
          44,
          21,
          39,
          50,
          34,
          22,
          19,
          26,
          29,
          48,
          26,
          45,
          36,
          54,
          34,
          31,
          27,
          20,
          44,
          43,
          45,
          34,
          24,
          26,
          38,
          50,
          38,
          27,
          39,
          39,
          63,
          33,
          36,
          30,
          24,
          24,
          48,
          47,
          29,
          28,
          47,
          25,
          51,
          48,
          43,
          61,
          48,
          38,
          59,
          19,
          26,
          54,
          21,
          51,
          22,
          47,
          18,
          47,
          21,
          19,
          23,
          54,
          37,
          46,
          55,
          30,
          18,
          61,
          54,
          22,
          45,
          22,
          19,
          35,
          18,
          20,
          28,
          55,
          43,
          43,
          22,
          25,
          49,
          44,
          64,
          49,
          47,
          27,
          55,
          48,
          45,
          24,
          32,
          24,
          57,
          59,
          36,
          29,
          42,
          48,
          39,
          63,
          54,
          37,
          63,
          21,
          54,
          60,
          32,
          47,
          21,
          28,
          63,
          18,
          32,
          38,
          32,
          62,
          39,
          55,
          57,
          52,
          56,
          47,
          55,
          23,
          22,
          50,
          18,
          51,
          22,
          52,
          25,
          33,
          53,
          29,
          58,
          37,
          54,
          49,
          50,
          26,
          45,
          54,
          38,
          48,
          28,
          23,
          55,
          41,
          25,
          33,
          30,
          23,
          46,
          53,
          27,
          23,
          63,
          55,
          35,
          34,
          19,
          39,
          27,
          57,
          52,
          28,
          50,
          44,
          26,
          33,
          19,
          50,
          41,
          52,
          39,
          50,
          52,
          60,
          20,
          55,
          42,
          18,
          58,
          43,
          35,
          48,
          36,
          19,
          23,
          20,
          32,
          43,
          34,
          30,
          18,
          41,
          35,
          57,
          29,
          32,
          37,
          18,
          43,
          56,
          38,
          29,
          22,
          52,
          40,
          23,
          31,
          42,
          24,
          25,
          48,
          23,
          45,
          20,
          62,
          43,
          23,
          31,
          41,
          58,
          48,
          31,
          19,
          19,
          41,
          40,
          31,
          37,
          46,
          22,
          51,
          18,
          35,
          59,
          36,
          37,
          59,
          36,
          39,
          18,
          52,
          27,
          18,
          40,
          29,
          46,
          38,
          30,
          40,
          50,
          20,
          41,
          33,
          38,
          42,
          56,
          58,
          52,
          20,
          54,
          58,
          45,
          26,
          63,
          58,
          37,
          25,
          52,
          64,
          22,
          28,
          18,
          28,
          45,
          33,
          18,
          32,
          24,
          19,
          20,
          40,
          34,
          42,
          51,
          54,
          55,
          52,
          32,
          28,
          41,
          43,
          49,
          64,
          55,
          24,
          20,
          45,
          26,
          25,
          43,
          35,
          26,
          57,
          22,
          32,
          39,
          25,
          48,
          47,
          18,
          18,
          61,
          47,
          28,
          36,
          20,
          44,
          38,
          19,
          21,
          46,
          58,
          20,
          18,
          28,
          33,
          19,
          45,
          62,
          25,
          43,
          42,
          24,
          29,
          32,
          25,
          41,
          42,
          33,
          34,
          19,
          30,
          18,
          19,
          18,
          35,
          39,
          31,
          62,
          62,
          42,
          31,
          61,
          42,
          51,
          23,
          52,
          57,
          23,
          52,
          50,
          18,
          18,
          21,
          61
         ],
         "y0": " ",
         "yaxis": "y",
         "type": "box"
        }
       ],
       "layout": {
        "template": {
         "data": {
          "histogram2dcontour": [
           {
            "type": "histogram2dcontour",
            "colorbar": {
             "outlinewidth": 0,
             "ticks": ""
            },
            "colorscale": [
             [
              0.0,
              "#0d0887"
             ],
             [
              0.1111111111111111,
              "#46039f"
             ],
             [
              0.2222222222222222,
              "#7201a8"
             ],
             [
              0.3333333333333333,
              "#9c179e"
             ],
             [
              0.4444444444444444,
              "#bd3786"
             ],
             [
              0.5555555555555556,
              "#d8576b"
             ],
             [
              0.6666666666666666,
              "#ed7953"
             ],
             [
              0.7777777777777778,
              "#fb9f3a"
             ],
             [
              0.8888888888888888,
              "#fdca26"
             ],
             [
              1.0,
              "#f0f921"
             ]
            ]
           }
          ],
          "choropleth": [
           {
            "type": "choropleth",
            "colorbar": {
             "outlinewidth": 0,
             "ticks": ""
            }
           }
          ],
          "histogram2d": [
           {
            "type": "histogram2d",
            "colorbar": {
             "outlinewidth": 0,
             "ticks": ""
            },
            "colorscale": [
             [
              0.0,
              "#0d0887"
             ],
             [
              0.1111111111111111,
              "#46039f"
             ],
             [
              0.2222222222222222,
              "#7201a8"
             ],
             [
              0.3333333333333333,
              "#9c179e"
             ],
             [
              0.4444444444444444,
              "#bd3786"
             ],
             [
              0.5555555555555556,
              "#d8576b"
             ],
             [
              0.6666666666666666,
              "#ed7953"
             ],
             [
              0.7777777777777778,
              "#fb9f3a"
             ],
             [
              0.8888888888888888,
              "#fdca26"
             ],
             [
              1.0,
              "#f0f921"
             ]
            ]
           }
          ],
          "heatmap": [
           {
            "type": "heatmap",
            "colorbar": {
             "outlinewidth": 0,
             "ticks": ""
            },
            "colorscale": [
             [
              0.0,
              "#0d0887"
             ],
             [
              0.1111111111111111,
              "#46039f"
             ],
             [
              0.2222222222222222,
              "#7201a8"
             ],
             [
              0.3333333333333333,
              "#9c179e"
             ],
             [
              0.4444444444444444,
              "#bd3786"
             ],
             [
              0.5555555555555556,
              "#d8576b"
             ],
             [
              0.6666666666666666,
              "#ed7953"
             ],
             [
              0.7777777777777778,
              "#fb9f3a"
             ],
             [
              0.8888888888888888,
              "#fdca26"
             ],
             [
              1.0,
              "#f0f921"
             ]
            ]
           }
          ],
          "heatmapgl": [
           {
            "type": "heatmapgl",
            "colorbar": {
             "outlinewidth": 0,
             "ticks": ""
            },
            "colorscale": [
             [
              0.0,
              "#0d0887"
             ],
             [
              0.1111111111111111,
              "#46039f"
             ],
             [
              0.2222222222222222,
              "#7201a8"
             ],
             [
              0.3333333333333333,
              "#9c179e"
             ],
             [
              0.4444444444444444,
              "#bd3786"
             ],
             [
              0.5555555555555556,
              "#d8576b"
             ],
             [
              0.6666666666666666,
              "#ed7953"
             ],
             [
              0.7777777777777778,
              "#fb9f3a"
             ],
             [
              0.8888888888888888,
              "#fdca26"
             ],
             [
              1.0,
              "#f0f921"
             ]
            ]
           }
          ],
          "contourcarpet": [
           {
            "type": "contourcarpet",
            "colorbar": {
             "outlinewidth": 0,
             "ticks": ""
            }
           }
          ],
          "contour": [
           {
            "type": "contour",
            "colorbar": {
             "outlinewidth": 0,
             "ticks": ""
            },
            "colorscale": [
             [
              0.0,
              "#0d0887"
             ],
             [
              0.1111111111111111,
              "#46039f"
             ],
             [
              0.2222222222222222,
              "#7201a8"
             ],
             [
              0.3333333333333333,
              "#9c179e"
             ],
             [
              0.4444444444444444,
              "#bd3786"
             ],
             [
              0.5555555555555556,
              "#d8576b"
             ],
             [
              0.6666666666666666,
              "#ed7953"
             ],
             [
              0.7777777777777778,
              "#fb9f3a"
             ],
             [
              0.8888888888888888,
              "#fdca26"
             ],
             [
              1.0,
              "#f0f921"
             ]
            ]
           }
          ],
          "surface": [
           {
            "type": "surface",
            "colorbar": {
             "outlinewidth": 0,
             "ticks": ""
            },
            "colorscale": [
             [
              0.0,
              "#0d0887"
             ],
             [
              0.1111111111111111,
              "#46039f"
             ],
             [
              0.2222222222222222,
              "#7201a8"
             ],
             [
              0.3333333333333333,
              "#9c179e"
             ],
             [
              0.4444444444444444,
              "#bd3786"
             ],
             [
              0.5555555555555556,
              "#d8576b"
             ],
             [
              0.6666666666666666,
              "#ed7953"
             ],
             [
              0.7777777777777778,
              "#fb9f3a"
             ],
             [
              0.8888888888888888,
              "#fdca26"
             ],
             [
              1.0,
              "#f0f921"
             ]
            ]
           }
          ],
          "mesh3d": [
           {
            "type": "mesh3d",
            "colorbar": {
             "outlinewidth": 0,
             "ticks": ""
            }
           }
          ],
          "scatter": [
           {
            "marker": {
             "line": {
              "color": "#283442"
             }
            },
            "type": "scatter"
           }
          ],
          "parcoords": [
           {
            "type": "parcoords",
            "line": {
             "colorbar": {
              "outlinewidth": 0,
              "ticks": ""
             }
            }
           }
          ],
          "scatterpolargl": [
           {
            "type": "scatterpolargl",
            "marker": {
             "colorbar": {
              "outlinewidth": 0,
              "ticks": ""
             }
            }
           }
          ],
          "bar": [
           {
            "error_x": {
             "color": "#f2f5fa"
            },
            "error_y": {
             "color": "#f2f5fa"
            },
            "marker": {
             "line": {
              "color": "rgb(17,17,17)",
              "width": 0.5
             },
             "pattern": {
              "fillmode": "overlay",
              "size": 10,
              "solidity": 0.2
             }
            },
            "type": "bar"
           }
          ],
          "scattergeo": [
           {
            "type": "scattergeo",
            "marker": {
             "colorbar": {
              "outlinewidth": 0,
              "ticks": ""
             }
            }
           }
          ],
          "scatterpolar": [
           {
            "type": "scatterpolar",
            "marker": {
             "colorbar": {
              "outlinewidth": 0,
              "ticks": ""
             }
            }
           }
          ],
          "histogram": [
           {
            "marker": {
             "pattern": {
              "fillmode": "overlay",
              "size": 10,
              "solidity": 0.2
             }
            },
            "type": "histogram"
           }
          ],
          "scattergl": [
           {
            "marker": {
             "line": {
              "color": "#283442"
             }
            },
            "type": "scattergl"
           }
          ],
          "scatter3d": [
           {
            "type": "scatter3d",
            "line": {
             "colorbar": {
              "outlinewidth": 0,
              "ticks": ""
             }
            },
            "marker": {
             "colorbar": {
              "outlinewidth": 0,
              "ticks": ""
             }
            }
           }
          ],
          "scattermapbox": [
           {
            "type": "scattermapbox",
            "marker": {
             "colorbar": {
              "outlinewidth": 0,
              "ticks": ""
             }
            }
           }
          ],
          "scatterternary": [
           {
            "type": "scatterternary",
            "marker": {
             "colorbar": {
              "outlinewidth": 0,
              "ticks": ""
             }
            }
           }
          ],
          "scattercarpet": [
           {
            "type": "scattercarpet",
            "marker": {
             "colorbar": {
              "outlinewidth": 0,
              "ticks": ""
             }
            }
           }
          ],
          "carpet": [
           {
            "aaxis": {
             "endlinecolor": "#A2B1C6",
             "gridcolor": "#506784",
             "linecolor": "#506784",
             "minorgridcolor": "#506784",
             "startlinecolor": "#A2B1C6"
            },
            "baxis": {
             "endlinecolor": "#A2B1C6",
             "gridcolor": "#506784",
             "linecolor": "#506784",
             "minorgridcolor": "#506784",
             "startlinecolor": "#A2B1C6"
            },
            "type": "carpet"
           }
          ],
          "table": [
           {
            "cells": {
             "fill": {
              "color": "#506784"
             },
             "line": {
              "color": "rgb(17,17,17)"
             }
            },
            "header": {
             "fill": {
              "color": "#2a3f5f"
             },
             "line": {
              "color": "rgb(17,17,17)"
             }
            },
            "type": "table"
           }
          ],
          "barpolar": [
           {
            "marker": {
             "line": {
              "color": "rgb(17,17,17)",
              "width": 0.5
             },
             "pattern": {
              "fillmode": "overlay",
              "size": 10,
              "solidity": 0.2
             }
            },
            "type": "barpolar"
           }
          ],
          "pie": [
           {
            "automargin": true,
            "type": "pie"
           }
          ]
         },
         "layout": {
          "autotypenumbers": "strict",
          "colorway": [
           "#636efa",
           "#EF553B",
           "#00cc96",
           "#ab63fa",
           "#FFA15A",
           "#19d3f3",
           "#FF6692",
           "#B6E880",
           "#FF97FF",
           "#FECB52"
          ],
          "font": {
           "color": "#f2f5fa"
          },
          "hovermode": "closest",
          "hoverlabel": {
           "align": "left"
          },
          "paper_bgcolor": "rgb(17,17,17)",
          "plot_bgcolor": "rgb(17,17,17)",
          "polar": {
           "bgcolor": "rgb(17,17,17)",
           "angularaxis": {
            "gridcolor": "#506784",
            "linecolor": "#506784",
            "ticks": ""
           },
           "radialaxis": {
            "gridcolor": "#506784",
            "linecolor": "#506784",
            "ticks": ""
           }
          },
          "ternary": {
           "bgcolor": "rgb(17,17,17)",
           "aaxis": {
            "gridcolor": "#506784",
            "linecolor": "#506784",
            "ticks": ""
           },
           "baxis": {
            "gridcolor": "#506784",
            "linecolor": "#506784",
            "ticks": ""
           },
           "caxis": {
            "gridcolor": "#506784",
            "linecolor": "#506784",
            "ticks": ""
           }
          },
          "coloraxis": {
           "colorbar": {
            "outlinewidth": 0,
            "ticks": ""
           }
          },
          "colorscale": {
           "sequential": [
            [
             0.0,
             "#0d0887"
            ],
            [
             0.1111111111111111,
             "#46039f"
            ],
            [
             0.2222222222222222,
             "#7201a8"
            ],
            [
             0.3333333333333333,
             "#9c179e"
            ],
            [
             0.4444444444444444,
             "#bd3786"
            ],
            [
             0.5555555555555556,
             "#d8576b"
            ],
            [
             0.6666666666666666,
             "#ed7953"
            ],
            [
             0.7777777777777778,
             "#fb9f3a"
            ],
            [
             0.8888888888888888,
             "#fdca26"
            ],
            [
             1.0,
             "#f0f921"
            ]
           ],
           "sequentialminus": [
            [
             0.0,
             "#0d0887"
            ],
            [
             0.1111111111111111,
             "#46039f"
            ],
            [
             0.2222222222222222,
             "#7201a8"
            ],
            [
             0.3333333333333333,
             "#9c179e"
            ],
            [
             0.4444444444444444,
             "#bd3786"
            ],
            [
             0.5555555555555556,
             "#d8576b"
            ],
            [
             0.6666666666666666,
             "#ed7953"
            ],
            [
             0.7777777777777778,
             "#fb9f3a"
            ],
            [
             0.8888888888888888,
             "#fdca26"
            ],
            [
             1.0,
             "#f0f921"
            ]
           ],
           "diverging": [
            [
             0,
             "#8e0152"
            ],
            [
             0.1,
             "#c51b7d"
            ],
            [
             0.2,
             "#de77ae"
            ],
            [
             0.3,
             "#f1b6da"
            ],
            [
             0.4,
             "#fde0ef"
            ],
            [
             0.5,
             "#f7f7f7"
            ],
            [
             0.6,
             "#e6f5d0"
            ],
            [
             0.7,
             "#b8e186"
            ],
            [
             0.8,
             "#7fbc41"
            ],
            [
             0.9,
             "#4d9221"
            ],
            [
             1,
             "#276419"
            ]
           ]
          },
          "xaxis": {
           "gridcolor": "#283442",
           "linecolor": "#506784",
           "ticks": "",
           "title": {
            "standoff": 15
           },
           "zerolinecolor": "#283442",
           "automargin": true,
           "zerolinewidth": 2
          },
          "yaxis": {
           "gridcolor": "#283442",
           "linecolor": "#506784",
           "ticks": "",
           "title": {
            "standoff": 15
           },
           "zerolinecolor": "#283442",
           "automargin": true,
           "zerolinewidth": 2
          },
          "scene": {
           "xaxis": {
            "backgroundcolor": "rgb(17,17,17)",
            "gridcolor": "#506784",
            "linecolor": "#506784",
            "showbackground": true,
            "ticks": "",
            "zerolinecolor": "#C8D4E3",
            "gridwidth": 2
           },
           "yaxis": {
            "backgroundcolor": "rgb(17,17,17)",
            "gridcolor": "#506784",
            "linecolor": "#506784",
            "showbackground": true,
            "ticks": "",
            "zerolinecolor": "#C8D4E3",
            "gridwidth": 2
           },
           "zaxis": {
            "backgroundcolor": "rgb(17,17,17)",
            "gridcolor": "#506784",
            "linecolor": "#506784",
            "showbackground": true,
            "ticks": "",
            "zerolinecolor": "#C8D4E3",
            "gridwidth": 2
           }
          },
          "shapedefaults": {
           "line": {
            "color": "#f2f5fa"
           }
          },
          "annotationdefaults": {
           "arrowcolor": "#f2f5fa",
           "arrowhead": 0,
           "arrowwidth": 1
          },
          "geo": {
           "bgcolor": "rgb(17,17,17)",
           "landcolor": "rgb(17,17,17)",
           "subunitcolor": "#506784",
           "showland": true,
           "showlakes": true,
           "lakecolor": "rgb(17,17,17)"
          },
          "title": {
           "x": 0.05
          },
          "updatemenudefaults": {
           "bgcolor": "#506784",
           "borderwidth": 0
          },
          "sliderdefaults": {
           "bgcolor": "#C8D4E3",
           "borderwidth": 1,
           "bordercolor": "rgb(17,17,17)",
           "tickwidth": 0
          },
          "mapbox": {
           "style": "dark"
          }
         }
        },
        "xaxis": {
         "anchor": "y",
         "domain": [
          0.0,
          1.0
         ],
         "title": {
          "text": "variable"
         }
        },
        "yaxis": {
         "anchor": "x",
         "domain": [
          0.0,
          1.0
         ],
         "title": {
          "text": "value"
         }
        },
        "legend": {
         "tracegroupgap": 0
        },
        "margin": {
         "t": 60
        },
        "boxmode": "group"
       },
       "config": {
        "plotlyServerURL": "https://plot.ly"
       }
      },
      "text/html": "<div>                            <div id=\"8c9a34b9-3f22-4ac3-9c4e-d024c00861c3\" class=\"plotly-graph-div\" style=\"height:525px; width:100%;\"></div>            <script type=\"text/javascript\">                require([\"plotly\"], function(Plotly) {                    window.PLOTLYENV=window.PLOTLYENV || {};                                    if (document.getElementById(\"8c9a34b9-3f22-4ac3-9c4e-d024c00861c3\")) {                    Plotly.newPlot(                        \"8c9a34b9-3f22-4ac3-9c4e-d024c00861c3\",                        [{\"alignmentgroup\":\"True\",\"boxpoints\":\"all\",\"hovertemplate\":\"variable=%{x}<br>value=%{y}<extra></extra>\",\"legendgroup\":\"\",\"marker\":{\"color\":\"#636efa\"},\"name\":\"\",\"notched\":false,\"offsetgroup\":\"\",\"orientation\":\"v\",\"showlegend\":false,\"x\":[\"age\",\"age\",\"age\",\"age\",\"age\",\"age\",\"age\",\"age\",\"age\",\"age\",\"age\",\"age\",\"age\",\"age\",\"age\",\"age\",\"age\",\"age\",\"age\",\"age\",\"age\",\"age\",\"age\",\"age\",\"age\",\"age\",\"age\",\"age\",\"age\",\"age\",\"age\",\"age\",\"age\",\"age\",\"age\",\"age\",\"age\",\"age\",\"age\",\"age\",\"age\",\"age\",\"age\",\"age\",\"age\",\"age\",\"age\",\"age\",\"age\",\"age\",\"age\",\"age\",\"age\",\"age\",\"age\",\"age\",\"age\",\"age\",\"age\",\"age\",\"age\",\"age\",\"age\",\"age\",\"age\",\"age\",\"age\",\"age\",\"age\",\"age\",\"age\",\"age\",\"age\",\"age\",\"age\",\"age\",\"age\",\"age\",\"age\",\"age\",\"age\",\"age\",\"age\",\"age\",\"age\",\"age\",\"age\",\"age\",\"age\",\"age\",\"age\",\"age\",\"age\",\"age\",\"age\",\"age\",\"age\",\"age\",\"age\",\"age\",\"age\",\"age\",\"age\",\"age\",\"age\",\"age\",\"age\",\"age\",\"age\",\"age\",\"age\",\"age\",\"age\",\"age\",\"age\",\"age\",\"age\",\"age\",\"age\",\"age\",\"age\",\"age\",\"age\",\"age\",\"age\",\"age\",\"age\",\"age\",\"age\",\"age\",\"age\",\"age\",\"age\",\"age\",\"age\",\"age\",\"age\",\"age\",\"age\",\"age\",\"age\",\"age\",\"age\",\"age\",\"age\",\"age\",\"age\",\"age\",\"age\",\"age\",\"age\",\"age\",\"age\",\"age\",\"age\",\"age\",\"age\",\"age\",\"age\",\"age\",\"age\",\"age\",\"age\",\"age\",\"age\",\"age\",\"age\",\"age\",\"age\",\"age\",\"age\",\"age\",\"age\",\"age\",\"age\",\"age\",\"age\",\"age\",\"age\",\"age\",\"age\",\"age\",\"age\",\"age\",\"age\",\"age\",\"age\",\"age\",\"age\",\"age\",\"age\",\"age\",\"age\",\"age\",\"age\",\"age\",\"age\",\"age\",\"age\",\"age\",\"age\",\"age\",\"age\",\"age\",\"age\",\"age\",\"age\",\"age\",\"age\",\"age\",\"age\",\"age\",\"age\",\"age\",\"age\",\"age\",\"age\",\"age\",\"age\",\"age\",\"age\",\"age\",\"age\",\"age\",\"age\",\"age\",\"age\",\"age\",\"age\",\"age\",\"age\",\"age\",\"age\",\"age\",\"age\",\"age\",\"age\",\"age\",\"age\",\"age\",\"age\",\"age\",\"age\",\"age\",\"age\",\"age\",\"age\",\"age\",\"age\",\"age\",\"age\",\"age\",\"age\",\"age\",\"age\",\"age\",\"age\",\"age\",\"age\",\"age\",\"age\",\"age\",\"age\",\"age\",\"age\",\"age\",\"age\",\"age\",\"age\",\"age\",\"age\",\"age\",\"age\",\"age\",\"age\",\"age\",\"age\",\"age\",\"age\",\"age\",\"age\",\"age\",\"age\",\"age\",\"age\",\"age\",\"age\",\"age\",\"age\",\"age\",\"age\",\"age\",\"age\",\"age\",\"age\",\"age\",\"age\",\"age\",\"age\",\"age\",\"age\",\"age\",\"age\",\"age\",\"age\",\"age\",\"age\",\"age\",\"age\",\"age\",\"age\",\"age\",\"age\",\"age\",\"age\",\"age\",\"age\",\"age\",\"age\",\"age\",\"age\",\"age\",\"age\",\"age\",\"age\",\"age\",\"age\",\"age\",\"age\",\"age\",\"age\",\"age\",\"age\",\"age\",\"age\",\"age\",\"age\",\"age\",\"age\",\"age\",\"age\",\"age\",\"age\",\"age\",\"age\",\"age\",\"age\",\"age\",\"age\",\"age\",\"age\",\"age\",\"age\",\"age\",\"age\",\"age\",\"age\",\"age\",\"age\",\"age\",\"age\",\"age\",\"age\",\"age\",\"age\",\"age\",\"age\",\"age\",\"age\",\"age\",\"age\",\"age\",\"age\",\"age\",\"age\",\"age\",\"age\",\"age\",\"age\",\"age\",\"age\",\"age\",\"age\",\"age\",\"age\",\"age\",\"age\",\"age\",\"age\",\"age\",\"age\",\"age\",\"age\",\"age\",\"age\",\"age\",\"age\",\"age\",\"age\",\"age\",\"age\",\"age\",\"age\",\"age\",\"age\",\"age\",\"age\",\"age\",\"age\",\"age\",\"age\",\"age\",\"age\",\"age\",\"age\",\"age\",\"age\",\"age\",\"age\",\"age\",\"age\",\"age\",\"age\",\"age\",\"age\",\"age\",\"age\",\"age\",\"age\",\"age\",\"age\",\"age\",\"age\",\"age\",\"age\",\"age\",\"age\",\"age\",\"age\",\"age\",\"age\",\"age\",\"age\",\"age\",\"age\",\"age\",\"age\",\"age\",\"age\",\"age\",\"age\",\"age\",\"age\",\"age\",\"age\",\"age\",\"age\",\"age\",\"age\",\"age\",\"age\",\"age\",\"age\",\"age\",\"age\",\"age\",\"age\",\"age\",\"age\",\"age\",\"age\",\"age\",\"age\",\"age\",\"age\",\"age\",\"age\",\"age\",\"age\",\"age\",\"age\",\"age\",\"age\",\"age\",\"age\",\"age\",\"age\",\"age\",\"age\",\"age\",\"age\",\"age\",\"age\",\"age\",\"age\",\"age\",\"age\",\"age\",\"age\",\"age\",\"age\",\"age\",\"age\",\"age\",\"age\",\"age\",\"age\",\"age\",\"age\",\"age\",\"age\",\"age\",\"age\",\"age\",\"age\",\"age\",\"age\",\"age\",\"age\",\"age\",\"age\",\"age\",\"age\",\"age\",\"age\",\"age\",\"age\",\"age\",\"age\",\"age\",\"age\",\"age\",\"age\",\"age\",\"age\",\"age\",\"age\",\"age\",\"age\",\"age\",\"age\",\"age\",\"age\",\"age\",\"age\",\"age\",\"age\",\"age\",\"age\",\"age\",\"age\",\"age\",\"age\",\"age\",\"age\",\"age\",\"age\",\"age\",\"age\",\"age\",\"age\",\"age\",\"age\",\"age\",\"age\",\"age\",\"age\",\"age\",\"age\",\"age\",\"age\",\"age\",\"age\",\"age\",\"age\",\"age\",\"age\",\"age\",\"age\",\"age\",\"age\",\"age\",\"age\",\"age\",\"age\",\"age\",\"age\",\"age\",\"age\",\"age\",\"age\",\"age\",\"age\",\"age\",\"age\",\"age\",\"age\",\"age\",\"age\",\"age\",\"age\",\"age\",\"age\",\"age\",\"age\",\"age\",\"age\",\"age\",\"age\",\"age\",\"age\",\"age\",\"age\",\"age\",\"age\",\"age\",\"age\",\"age\",\"age\",\"age\",\"age\",\"age\",\"age\",\"age\",\"age\",\"age\",\"age\",\"age\",\"age\",\"age\",\"age\",\"age\",\"age\",\"age\",\"age\",\"age\",\"age\",\"age\",\"age\",\"age\",\"age\",\"age\",\"age\",\"age\",\"age\",\"age\",\"age\",\"age\",\"age\",\"age\",\"age\",\"age\",\"age\",\"age\",\"age\",\"age\",\"age\",\"age\",\"age\",\"age\",\"age\",\"age\",\"age\",\"age\",\"age\",\"age\",\"age\",\"age\",\"age\",\"age\",\"age\",\"age\",\"age\",\"age\",\"age\",\"age\",\"age\",\"age\",\"age\",\"age\",\"age\",\"age\",\"age\",\"age\",\"age\",\"age\",\"age\",\"age\",\"age\",\"age\",\"age\",\"age\",\"age\",\"age\",\"age\",\"age\",\"age\",\"age\",\"age\",\"age\",\"age\",\"age\",\"age\",\"age\",\"age\",\"age\",\"age\",\"age\",\"age\",\"age\",\"age\",\"age\",\"age\",\"age\",\"age\",\"age\",\"age\",\"age\",\"age\",\"age\",\"age\",\"age\",\"age\",\"age\",\"age\",\"age\",\"age\",\"age\",\"age\",\"age\",\"age\",\"age\",\"age\",\"age\",\"age\",\"age\",\"age\",\"age\",\"age\",\"age\",\"age\",\"age\",\"age\",\"age\",\"age\",\"age\",\"age\",\"age\",\"age\",\"age\",\"age\",\"age\",\"age\",\"age\",\"age\",\"age\",\"age\",\"age\",\"age\",\"age\",\"age\",\"age\",\"age\",\"age\",\"age\",\"age\",\"age\",\"age\",\"age\",\"age\",\"age\",\"age\",\"age\",\"age\",\"age\",\"age\",\"age\",\"age\",\"age\",\"age\",\"age\",\"age\",\"age\",\"age\",\"age\",\"age\",\"age\",\"age\",\"age\",\"age\",\"age\",\"age\",\"age\",\"age\",\"age\",\"age\",\"age\",\"age\",\"age\",\"age\",\"age\",\"age\",\"age\",\"age\",\"age\",\"age\",\"age\",\"age\",\"age\",\"age\",\"age\",\"age\",\"age\",\"age\",\"age\",\"age\",\"age\",\"age\",\"age\",\"age\",\"age\",\"age\",\"age\",\"age\",\"age\",\"age\",\"age\",\"age\",\"age\",\"age\",\"age\",\"age\",\"age\",\"age\",\"age\",\"age\",\"age\",\"age\",\"age\",\"age\",\"age\",\"age\",\"age\",\"age\",\"age\",\"age\",\"age\",\"age\",\"age\",\"age\",\"age\",\"age\",\"age\",\"age\",\"age\",\"age\",\"age\",\"age\",\"age\",\"age\",\"age\",\"age\",\"age\",\"age\",\"age\",\"age\",\"age\",\"age\",\"age\",\"age\",\"age\",\"age\",\"age\",\"age\",\"age\",\"age\",\"age\",\"age\",\"age\",\"age\",\"age\",\"age\",\"age\",\"age\",\"age\",\"age\",\"age\",\"age\",\"age\",\"age\",\"age\",\"age\",\"age\",\"age\",\"age\",\"age\",\"age\",\"age\",\"age\",\"age\",\"age\",\"age\",\"age\",\"age\",\"age\",\"age\",\"age\",\"age\",\"age\",\"age\",\"age\",\"age\",\"age\",\"age\",\"age\",\"age\",\"age\",\"age\",\"age\",\"age\",\"age\",\"age\",\"age\",\"age\",\"age\",\"age\",\"age\",\"age\",\"age\",\"age\",\"age\",\"age\",\"age\",\"age\",\"age\",\"age\",\"age\",\"age\",\"age\",\"age\",\"age\",\"age\",\"age\",\"age\",\"age\",\"age\",\"age\",\"age\",\"age\",\"age\",\"age\",\"age\",\"age\",\"age\",\"age\",\"age\",\"age\",\"age\",\"age\",\"age\",\"age\",\"age\",\"age\",\"age\",\"age\",\"age\",\"age\",\"age\",\"age\",\"age\",\"age\",\"age\",\"age\",\"age\",\"age\",\"age\",\"age\",\"age\",\"age\",\"age\",\"age\",\"age\",\"age\",\"age\",\"age\",\"age\",\"age\",\"age\",\"age\",\"age\",\"age\",\"age\",\"age\",\"age\",\"age\",\"age\",\"age\",\"age\",\"age\",\"age\",\"age\",\"age\",\"age\",\"age\",\"age\",\"age\",\"age\",\"age\",\"age\",\"age\",\"age\",\"age\",\"age\",\"age\",\"age\",\"age\",\"age\",\"age\",\"age\",\"age\",\"age\",\"age\",\"age\",\"age\",\"age\",\"age\",\"age\",\"age\",\"age\",\"age\",\"age\",\"age\",\"age\",\"age\",\"age\",\"age\",\"age\",\"age\",\"age\",\"age\",\"age\",\"age\",\"age\",\"age\",\"age\",\"age\",\"age\",\"age\",\"age\",\"age\",\"age\",\"age\",\"age\",\"age\",\"age\",\"age\",\"age\",\"age\",\"age\",\"age\",\"age\",\"age\",\"age\",\"age\",\"age\",\"age\",\"age\",\"age\",\"age\",\"age\",\"age\",\"age\",\"age\",\"age\",\"age\",\"age\",\"age\",\"age\",\"age\",\"age\",\"age\",\"age\",\"age\",\"age\",\"age\",\"age\",\"age\",\"age\",\"age\",\"age\",\"age\",\"age\",\"age\",\"age\",\"age\",\"age\",\"age\",\"age\",\"age\",\"age\",\"age\",\"age\",\"age\",\"age\",\"age\",\"age\",\"age\",\"age\",\"age\",\"age\",\"age\",\"age\",\"age\",\"age\",\"age\",\"age\",\"age\",\"age\",\"age\",\"age\",\"age\",\"age\",\"age\",\"age\",\"age\",\"age\",\"age\",\"age\",\"age\",\"age\",\"age\",\"age\",\"age\",\"age\",\"age\",\"age\",\"age\",\"age\",\"age\",\"age\",\"age\",\"age\",\"age\",\"age\",\"age\",\"age\",\"age\",\"age\",\"age\",\"age\",\"age\",\"age\",\"age\",\"age\",\"age\",\"age\",\"age\",\"age\",\"age\",\"age\",\"age\",\"age\",\"age\",\"age\",\"age\",\"age\",\"age\",\"age\",\"age\",\"age\",\"age\",\"age\",\"age\",\"age\",\"age\",\"age\",\"age\",\"age\",\"age\",\"age\",\"age\",\"age\",\"age\",\"age\",\"age\",\"age\",\"age\",\"age\",\"age\",\"age\",\"age\",\"age\",\"age\",\"age\",\"age\",\"age\",\"age\",\"age\",\"age\",\"age\",\"age\",\"age\",\"age\",\"age\",\"age\",\"age\",\"age\",\"age\",\"age\",\"age\",\"age\",\"age\",\"age\",\"age\",\"age\",\"age\",\"age\",\"age\",\"age\",\"age\",\"age\",\"age\",\"age\",\"age\",\"age\",\"age\",\"age\",\"age\",\"age\",\"age\",\"age\",\"age\",\"age\",\"age\",\"age\",\"age\",\"age\",\"age\",\"age\",\"age\",\"age\",\"age\",\"age\",\"age\",\"age\",\"age\",\"age\",\"age\",\"age\",\"age\",\"age\",\"age\",\"age\",\"age\",\"age\",\"age\",\"age\",\"age\",\"age\",\"age\",\"age\",\"age\",\"age\",\"age\",\"age\",\"age\",\"age\",\"age\",\"age\",\"age\",\"age\",\"age\",\"age\",\"age\",\"age\",\"age\",\"age\",\"age\",\"age\",\"age\",\"age\",\"age\",\"age\",\"age\",\"age\",\"age\",\"age\",\"age\",\"age\",\"age\",\"age\",\"age\",\"age\",\"age\",\"age\",\"age\",\"age\",\"age\",\"age\",\"age\",\"age\",\"age\",\"age\",\"age\",\"age\",\"age\",\"age\",\"age\",\"age\",\"age\",\"age\",\"age\",\"age\",\"age\",\"age\",\"age\",\"age\",\"age\",\"age\",\"age\",\"age\",\"age\",\"age\",\"age\",\"age\",\"age\",\"age\",\"age\",\"age\",\"age\",\"age\",\"age\",\"age\",\"age\",\"age\",\"age\",\"age\",\"age\"],\"x0\":\" \",\"xaxis\":\"x\",\"y\":[19,18,28,33,32,31,46,37,37,60,25,62,23,56,27,19,52,23,56,30,60,30,18,34,37,59,63,55,23,31,22,18,19,63,28,19,62,26,35,60,24,31,41,37,38,55,18,28,60,36,18,21,48,36,40,58,58,18,53,34,43,25,64,28,20,19,61,40,40,28,27,31,53,58,44,57,29,21,22,41,31,45,22,48,37,45,57,56,46,55,21,53,59,35,64,28,54,55,56,38,41,30,18,61,34,20,19,26,29,63,54,55,37,21,52,60,58,29,49,37,44,18,20,44,47,26,19,52,32,38,59,61,53,19,20,22,19,22,54,22,34,26,34,29,30,29,46,51,53,19,35,48,32,42,40,44,48,18,30,50,42,18,54,32,37,47,20,32,19,27,63,49,18,35,24,63,38,54,46,41,58,18,22,44,44,36,26,30,41,29,61,36,25,56,18,19,39,45,51,64,19,48,60,27,46,28,59,35,63,40,20,40,24,34,45,41,53,27,26,24,34,53,32,19,42,55,28,58,41,47,42,59,19,59,39,40,18,31,19,44,23,33,55,40,63,54,60,24,19,29,18,63,54,27,50,55,56,38,51,19,58,20,52,19,53,46,40,59,45,49,18,50,41,50,25,47,19,22,59,51,40,54,30,55,52,46,46,63,59,52,28,29,25,22,25,18,19,47,31,48,36,53,56,28,57,29,28,30,58,41,50,19,43,49,27,52,50,54,44,32,34,26,34,57,29,40,27,45,64,52,61,52,61,56,43,64,60,62,50,46,24,62,60,63,49,34,33,46,36,19,57,50,30,33,18,46,46,47,23,18,48,35,19,21,21,49,56,42,44,18,61,57,42,26,20,23,39,24,64,62,27,55,55,35,44,19,58,50,26,24,48,19,48,49,46,46,43,21,64,18,51,47,64,49,31,52,33,47,38,32,19,44,26,25,19,43,52,36,64,63,64,61,40,25,48,45,38,18,21,27,19,29,42,60,31,60,22,35,52,26,31,33,18,59,56,45,60,56,40,35,39,30,24,20,32,59,55,57,56,40,49,42,62,56,19,30,60,56,28,18,27,18,19,47,54,61,24,25,21,23,63,49,18,51,48,31,54,19,44,53,19,61,18,61,21,20,31,45,44,62,29,43,51,19,38,37,22,21,24,57,56,27,51,19,39,58,20,45,35,31,50,32,51,38,42,18,19,51,46,18,57,62,59,37,64,38,33,46,46,53,34,20,63,54,54,49,28,54,25,43,63,32,62,52,25,28,46,34,35,19,46,54,27,50,18,19,38,41,49,48,31,18,30,62,57,58,22,31,52,25,59,19,39,32,19,33,21,34,61,38,58,47,20,21,41,46,42,34,43,52,18,51,56,64,19,51,27,59,28,30,47,38,18,34,20,47,56,49,19,55,30,37,49,18,59,29,36,33,58,44,53,24,29,40,51,64,19,35,39,56,33,42,61,23,43,48,39,40,18,58,49,53,48,45,59,52,26,27,48,57,37,57,32,18,64,43,49,40,62,40,30,29,36,41,44,45,55,60,56,49,21,19,39,53,33,53,42,40,47,27,21,47,20,24,27,26,53,41,56,23,21,50,53,34,47,33,51,49,31,36,18,50,43,20,24,60,49,60,51,58,51,53,62,19,50,30,41,29,18,41,35,53,24,48,59,49,37,26,23,29,45,27,53,31,50,50,34,19,47,28,37,21,64,58,24,31,39,47,30,18,22,23,33,27,45,57,47,42,64,38,61,53,44,19,41,51,40,45,35,53,30,18,51,50,31,35,60,21,29,62,39,19,22,53,39,27,30,30,58,33,42,64,21,18,23,45,40,19,18,25,46,33,54,28,36,20,24,23,47,33,45,26,18,44,60,64,56,36,41,39,63,36,28,58,36,42,36,56,35,59,21,59,23,57,53,60,51,23,27,55,37,61,46,53,49,20,48,25,25,57,37,38,55,36,51,40,18,57,61,25,50,26,42,43,44,23,49,33,41,37,22,23,21,51,25,32,57,36,22,57,64,36,54,47,62,61,43,19,18,19,49,60,26,49,60,26,27,44,63,32,22,18,59,44,33,24,43,45,61,35,62,62,38,34,43,50,19,57,62,41,26,39,46,45,32,59,44,39,18,53,18,50,18,19,62,56,42,37,42,25,57,51,30,44,34,31,54,24,43,48,19,29,63,46,52,35,51,44,21,39,50,34,22,19,26,29,48,26,45,36,54,34,31,27,20,44,43,45,34,24,26,38,50,38,27,39,39,63,33,36,30,24,24,48,47,29,28,47,25,51,48,43,61,48,38,59,19,26,54,21,51,22,47,18,47,21,19,23,54,37,46,55,30,18,61,54,22,45,22,19,35,18,20,28,55,43,43,22,25,49,44,64,49,47,27,55,48,45,24,32,24,57,59,36,29,42,48,39,63,54,37,63,21,54,60,32,47,21,28,63,18,32,38,32,62,39,55,57,52,56,47,55,23,22,50,18,51,22,52,25,33,53,29,58,37,54,49,50,26,45,54,38,48,28,23,55,41,25,33,30,23,46,53,27,23,63,55,35,34,19,39,27,57,52,28,50,44,26,33,19,50,41,52,39,50,52,60,20,55,42,18,58,43,35,48,36,19,23,20,32,43,34,30,18,41,35,57,29,32,37,18,43,56,38,29,22,52,40,23,31,42,24,25,48,23,45,20,62,43,23,31,41,58,48,31,19,19,41,40,31,37,46,22,51,18,35,59,36,37,59,36,39,18,52,27,18,40,29,46,38,30,40,50,20,41,33,38,42,56,58,52,20,54,58,45,26,63,58,37,25,52,64,22,28,18,28,45,33,18,32,24,19,20,40,34,42,51,54,55,52,32,28,41,43,49,64,55,24,20,45,26,25,43,35,26,57,22,32,39,25,48,47,18,18,61,47,28,36,20,44,38,19,21,46,58,20,18,28,33,19,45,62,25,43,42,24,29,32,25,41,42,33,34,19,30,18,19,18,35,39,31,62,62,42,31,61,42,51,23,52,57,23,52,50,18,18,21,61],\"y0\":\" \",\"yaxis\":\"y\",\"type\":\"box\"}],                        {\"template\":{\"data\":{\"histogram2dcontour\":[{\"type\":\"histogram2dcontour\",\"colorbar\":{\"outlinewidth\":0,\"ticks\":\"\"},\"colorscale\":[[0.0,\"#0d0887\"],[0.1111111111111111,\"#46039f\"],[0.2222222222222222,\"#7201a8\"],[0.3333333333333333,\"#9c179e\"],[0.4444444444444444,\"#bd3786\"],[0.5555555555555556,\"#d8576b\"],[0.6666666666666666,\"#ed7953\"],[0.7777777777777778,\"#fb9f3a\"],[0.8888888888888888,\"#fdca26\"],[1.0,\"#f0f921\"]]}],\"choropleth\":[{\"type\":\"choropleth\",\"colorbar\":{\"outlinewidth\":0,\"ticks\":\"\"}}],\"histogram2d\":[{\"type\":\"histogram2d\",\"colorbar\":{\"outlinewidth\":0,\"ticks\":\"\"},\"colorscale\":[[0.0,\"#0d0887\"],[0.1111111111111111,\"#46039f\"],[0.2222222222222222,\"#7201a8\"],[0.3333333333333333,\"#9c179e\"],[0.4444444444444444,\"#bd3786\"],[0.5555555555555556,\"#d8576b\"],[0.6666666666666666,\"#ed7953\"],[0.7777777777777778,\"#fb9f3a\"],[0.8888888888888888,\"#fdca26\"],[1.0,\"#f0f921\"]]}],\"heatmap\":[{\"type\":\"heatmap\",\"colorbar\":{\"outlinewidth\":0,\"ticks\":\"\"},\"colorscale\":[[0.0,\"#0d0887\"],[0.1111111111111111,\"#46039f\"],[0.2222222222222222,\"#7201a8\"],[0.3333333333333333,\"#9c179e\"],[0.4444444444444444,\"#bd3786\"],[0.5555555555555556,\"#d8576b\"],[0.6666666666666666,\"#ed7953\"],[0.7777777777777778,\"#fb9f3a\"],[0.8888888888888888,\"#fdca26\"],[1.0,\"#f0f921\"]]}],\"heatmapgl\":[{\"type\":\"heatmapgl\",\"colorbar\":{\"outlinewidth\":0,\"ticks\":\"\"},\"colorscale\":[[0.0,\"#0d0887\"],[0.1111111111111111,\"#46039f\"],[0.2222222222222222,\"#7201a8\"],[0.3333333333333333,\"#9c179e\"],[0.4444444444444444,\"#bd3786\"],[0.5555555555555556,\"#d8576b\"],[0.6666666666666666,\"#ed7953\"],[0.7777777777777778,\"#fb9f3a\"],[0.8888888888888888,\"#fdca26\"],[1.0,\"#f0f921\"]]}],\"contourcarpet\":[{\"type\":\"contourcarpet\",\"colorbar\":{\"outlinewidth\":0,\"ticks\":\"\"}}],\"contour\":[{\"type\":\"contour\",\"colorbar\":{\"outlinewidth\":0,\"ticks\":\"\"},\"colorscale\":[[0.0,\"#0d0887\"],[0.1111111111111111,\"#46039f\"],[0.2222222222222222,\"#7201a8\"],[0.3333333333333333,\"#9c179e\"],[0.4444444444444444,\"#bd3786\"],[0.5555555555555556,\"#d8576b\"],[0.6666666666666666,\"#ed7953\"],[0.7777777777777778,\"#fb9f3a\"],[0.8888888888888888,\"#fdca26\"],[1.0,\"#f0f921\"]]}],\"surface\":[{\"type\":\"surface\",\"colorbar\":{\"outlinewidth\":0,\"ticks\":\"\"},\"colorscale\":[[0.0,\"#0d0887\"],[0.1111111111111111,\"#46039f\"],[0.2222222222222222,\"#7201a8\"],[0.3333333333333333,\"#9c179e\"],[0.4444444444444444,\"#bd3786\"],[0.5555555555555556,\"#d8576b\"],[0.6666666666666666,\"#ed7953\"],[0.7777777777777778,\"#fb9f3a\"],[0.8888888888888888,\"#fdca26\"],[1.0,\"#f0f921\"]]}],\"mesh3d\":[{\"type\":\"mesh3d\",\"colorbar\":{\"outlinewidth\":0,\"ticks\":\"\"}}],\"scatter\":[{\"marker\":{\"line\":{\"color\":\"#283442\"}},\"type\":\"scatter\"}],\"parcoords\":[{\"type\":\"parcoords\",\"line\":{\"colorbar\":{\"outlinewidth\":0,\"ticks\":\"\"}}}],\"scatterpolargl\":[{\"type\":\"scatterpolargl\",\"marker\":{\"colorbar\":{\"outlinewidth\":0,\"ticks\":\"\"}}}],\"bar\":[{\"error_x\":{\"color\":\"#f2f5fa\"},\"error_y\":{\"color\":\"#f2f5fa\"},\"marker\":{\"line\":{\"color\":\"rgb(17,17,17)\",\"width\":0.5},\"pattern\":{\"fillmode\":\"overlay\",\"size\":10,\"solidity\":0.2}},\"type\":\"bar\"}],\"scattergeo\":[{\"type\":\"scattergeo\",\"marker\":{\"colorbar\":{\"outlinewidth\":0,\"ticks\":\"\"}}}],\"scatterpolar\":[{\"type\":\"scatterpolar\",\"marker\":{\"colorbar\":{\"outlinewidth\":0,\"ticks\":\"\"}}}],\"histogram\":[{\"marker\":{\"pattern\":{\"fillmode\":\"overlay\",\"size\":10,\"solidity\":0.2}},\"type\":\"histogram\"}],\"scattergl\":[{\"marker\":{\"line\":{\"color\":\"#283442\"}},\"type\":\"scattergl\"}],\"scatter3d\":[{\"type\":\"scatter3d\",\"line\":{\"colorbar\":{\"outlinewidth\":0,\"ticks\":\"\"}},\"marker\":{\"colorbar\":{\"outlinewidth\":0,\"ticks\":\"\"}}}],\"scattermapbox\":[{\"type\":\"scattermapbox\",\"marker\":{\"colorbar\":{\"outlinewidth\":0,\"ticks\":\"\"}}}],\"scatterternary\":[{\"type\":\"scatterternary\",\"marker\":{\"colorbar\":{\"outlinewidth\":0,\"ticks\":\"\"}}}],\"scattercarpet\":[{\"type\":\"scattercarpet\",\"marker\":{\"colorbar\":{\"outlinewidth\":0,\"ticks\":\"\"}}}],\"carpet\":[{\"aaxis\":{\"endlinecolor\":\"#A2B1C6\",\"gridcolor\":\"#506784\",\"linecolor\":\"#506784\",\"minorgridcolor\":\"#506784\",\"startlinecolor\":\"#A2B1C6\"},\"baxis\":{\"endlinecolor\":\"#A2B1C6\",\"gridcolor\":\"#506784\",\"linecolor\":\"#506784\",\"minorgridcolor\":\"#506784\",\"startlinecolor\":\"#A2B1C6\"},\"type\":\"carpet\"}],\"table\":[{\"cells\":{\"fill\":{\"color\":\"#506784\"},\"line\":{\"color\":\"rgb(17,17,17)\"}},\"header\":{\"fill\":{\"color\":\"#2a3f5f\"},\"line\":{\"color\":\"rgb(17,17,17)\"}},\"type\":\"table\"}],\"barpolar\":[{\"marker\":{\"line\":{\"color\":\"rgb(17,17,17)\",\"width\":0.5},\"pattern\":{\"fillmode\":\"overlay\",\"size\":10,\"solidity\":0.2}},\"type\":\"barpolar\"}],\"pie\":[{\"automargin\":true,\"type\":\"pie\"}]},\"layout\":{\"autotypenumbers\":\"strict\",\"colorway\":[\"#636efa\",\"#EF553B\",\"#00cc96\",\"#ab63fa\",\"#FFA15A\",\"#19d3f3\",\"#FF6692\",\"#B6E880\",\"#FF97FF\",\"#FECB52\"],\"font\":{\"color\":\"#f2f5fa\"},\"hovermode\":\"closest\",\"hoverlabel\":{\"align\":\"left\"},\"paper_bgcolor\":\"rgb(17,17,17)\",\"plot_bgcolor\":\"rgb(17,17,17)\",\"polar\":{\"bgcolor\":\"rgb(17,17,17)\",\"angularaxis\":{\"gridcolor\":\"#506784\",\"linecolor\":\"#506784\",\"ticks\":\"\"},\"radialaxis\":{\"gridcolor\":\"#506784\",\"linecolor\":\"#506784\",\"ticks\":\"\"}},\"ternary\":{\"bgcolor\":\"rgb(17,17,17)\",\"aaxis\":{\"gridcolor\":\"#506784\",\"linecolor\":\"#506784\",\"ticks\":\"\"},\"baxis\":{\"gridcolor\":\"#506784\",\"linecolor\":\"#506784\",\"ticks\":\"\"},\"caxis\":{\"gridcolor\":\"#506784\",\"linecolor\":\"#506784\",\"ticks\":\"\"}},\"coloraxis\":{\"colorbar\":{\"outlinewidth\":0,\"ticks\":\"\"}},\"colorscale\":{\"sequential\":[[0.0,\"#0d0887\"],[0.1111111111111111,\"#46039f\"],[0.2222222222222222,\"#7201a8\"],[0.3333333333333333,\"#9c179e\"],[0.4444444444444444,\"#bd3786\"],[0.5555555555555556,\"#d8576b\"],[0.6666666666666666,\"#ed7953\"],[0.7777777777777778,\"#fb9f3a\"],[0.8888888888888888,\"#fdca26\"],[1.0,\"#f0f921\"]],\"sequentialminus\":[[0.0,\"#0d0887\"],[0.1111111111111111,\"#46039f\"],[0.2222222222222222,\"#7201a8\"],[0.3333333333333333,\"#9c179e\"],[0.4444444444444444,\"#bd3786\"],[0.5555555555555556,\"#d8576b\"],[0.6666666666666666,\"#ed7953\"],[0.7777777777777778,\"#fb9f3a\"],[0.8888888888888888,\"#fdca26\"],[1.0,\"#f0f921\"]],\"diverging\":[[0,\"#8e0152\"],[0.1,\"#c51b7d\"],[0.2,\"#de77ae\"],[0.3,\"#f1b6da\"],[0.4,\"#fde0ef\"],[0.5,\"#f7f7f7\"],[0.6,\"#e6f5d0\"],[0.7,\"#b8e186\"],[0.8,\"#7fbc41\"],[0.9,\"#4d9221\"],[1,\"#276419\"]]},\"xaxis\":{\"gridcolor\":\"#283442\",\"linecolor\":\"#506784\",\"ticks\":\"\",\"title\":{\"standoff\":15},\"zerolinecolor\":\"#283442\",\"automargin\":true,\"zerolinewidth\":2},\"yaxis\":{\"gridcolor\":\"#283442\",\"linecolor\":\"#506784\",\"ticks\":\"\",\"title\":{\"standoff\":15},\"zerolinecolor\":\"#283442\",\"automargin\":true,\"zerolinewidth\":2},\"scene\":{\"xaxis\":{\"backgroundcolor\":\"rgb(17,17,17)\",\"gridcolor\":\"#506784\",\"linecolor\":\"#506784\",\"showbackground\":true,\"ticks\":\"\",\"zerolinecolor\":\"#C8D4E3\",\"gridwidth\":2},\"yaxis\":{\"backgroundcolor\":\"rgb(17,17,17)\",\"gridcolor\":\"#506784\",\"linecolor\":\"#506784\",\"showbackground\":true,\"ticks\":\"\",\"zerolinecolor\":\"#C8D4E3\",\"gridwidth\":2},\"zaxis\":{\"backgroundcolor\":\"rgb(17,17,17)\",\"gridcolor\":\"#506784\",\"linecolor\":\"#506784\",\"showbackground\":true,\"ticks\":\"\",\"zerolinecolor\":\"#C8D4E3\",\"gridwidth\":2}},\"shapedefaults\":{\"line\":{\"color\":\"#f2f5fa\"}},\"annotationdefaults\":{\"arrowcolor\":\"#f2f5fa\",\"arrowhead\":0,\"arrowwidth\":1},\"geo\":{\"bgcolor\":\"rgb(17,17,17)\",\"landcolor\":\"rgb(17,17,17)\",\"subunitcolor\":\"#506784\",\"showland\":true,\"showlakes\":true,\"lakecolor\":\"rgb(17,17,17)\"},\"title\":{\"x\":0.05},\"updatemenudefaults\":{\"bgcolor\":\"#506784\",\"borderwidth\":0},\"sliderdefaults\":{\"bgcolor\":\"#C8D4E3\",\"borderwidth\":1,\"bordercolor\":\"rgb(17,17,17)\",\"tickwidth\":0},\"mapbox\":{\"style\":\"dark\"}}},\"xaxis\":{\"anchor\":\"y\",\"domain\":[0.0,1.0],\"title\":{\"text\":\"variable\"}},\"yaxis\":{\"anchor\":\"x\",\"domain\":[0.0,1.0],\"title\":{\"text\":\"value\"}},\"legend\":{\"tracegroupgap\":0},\"margin\":{\"t\":60},\"boxmode\":\"group\"},                        {\"responsive\": true}                    ).then(function(){\n                            \nvar gd = document.getElementById('8c9a34b9-3f22-4ac3-9c4e-d024c00861c3');\nvar x = new MutationObserver(function (mutations, observer) {{\n        var display = window.getComputedStyle(gd).display;\n        if (!display || display === 'none') {{\n            console.log([gd, 'removed!']);\n            Plotly.purge(gd);\n            observer.disconnect();\n        }}\n}});\n\n// Listen for the removal of the full notebook cells\nvar notebookContainer = gd.closest('#notebook-container');\nif (notebookContainer) {{\n    x.observe(notebookContainer, {childList: true});\n}}\n\n// Listen for the clearing of the current output cell\nvar outputEl = gd.closest('.output');\nif (outputEl) {{\n    x.observe(outputEl, {childList: true});\n}}\n\n                        })                };                });            </script>        </div>"
     },
     "metadata": {},
     "output_type": "display_data"
    },
    {
     "data": {
      "application/vnd.plotly.v1+json": {
       "data": [
        {
         "alignmentgroup": "True",
         "boxpoints": "all",
         "hovertemplate": "variable=%{x}<br>value=%{y}<extra></extra>",
         "legendgroup": "",
         "marker": {
          "color": "#636efa"
         },
         "name": "",
         "notched": false,
         "offsetgroup": "",
         "orientation": "v",
         "showlegend": false,
         "x": [
          "children",
          "children",
          "children",
          "children",
          "children",
          "children",
          "children",
          "children",
          "children",
          "children",
          "children",
          "children",
          "children",
          "children",
          "children",
          "children",
          "children",
          "children",
          "children",
          "children",
          "children",
          "children",
          "children",
          "children",
          "children",
          "children",
          "children",
          "children",
          "children",
          "children",
          "children",
          "children",
          "children",
          "children",
          "children",
          "children",
          "children",
          "children",
          "children",
          "children",
          "children",
          "children",
          "children",
          "children",
          "children",
          "children",
          "children",
          "children",
          "children",
          "children",
          "children",
          "children",
          "children",
          "children",
          "children",
          "children",
          "children",
          "children",
          "children",
          "children",
          "children",
          "children",
          "children",
          "children",
          "children",
          "children",
          "children",
          "children",
          "children",
          "children",
          "children",
          "children",
          "children",
          "children",
          "children",
          "children",
          "children",
          "children",
          "children",
          "children",
          "children",
          "children",
          "children",
          "children",
          "children",
          "children",
          "children",
          "children",
          "children",
          "children",
          "children",
          "children",
          "children",
          "children",
          "children",
          "children",
          "children",
          "children",
          "children",
          "children",
          "children",
          "children",
          "children",
          "children",
          "children",
          "children",
          "children",
          "children",
          "children",
          "children",
          "children",
          "children",
          "children",
          "children",
          "children",
          "children",
          "children",
          "children",
          "children",
          "children",
          "children",
          "children",
          "children",
          "children",
          "children",
          "children",
          "children",
          "children",
          "children",
          "children",
          "children",
          "children",
          "children",
          "children",
          "children",
          "children",
          "children",
          "children",
          "children",
          "children",
          "children",
          "children",
          "children",
          "children",
          "children",
          "children",
          "children",
          "children",
          "children",
          "children",
          "children",
          "children",
          "children",
          "children",
          "children",
          "children",
          "children",
          "children",
          "children",
          "children",
          "children",
          "children",
          "children",
          "children",
          "children",
          "children",
          "children",
          "children",
          "children",
          "children",
          "children",
          "children",
          "children",
          "children",
          "children",
          "children",
          "children",
          "children",
          "children",
          "children",
          "children",
          "children",
          "children",
          "children",
          "children",
          "children",
          "children",
          "children",
          "children",
          "children",
          "children",
          "children",
          "children",
          "children",
          "children",
          "children",
          "children",
          "children",
          "children",
          "children",
          "children",
          "children",
          "children",
          "children",
          "children",
          "children",
          "children",
          "children",
          "children",
          "children",
          "children",
          "children",
          "children",
          "children",
          "children",
          "children",
          "children",
          "children",
          "children",
          "children",
          "children",
          "children",
          "children",
          "children",
          "children",
          "children",
          "children",
          "children",
          "children",
          "children",
          "children",
          "children",
          "children",
          "children",
          "children",
          "children",
          "children",
          "children",
          "children",
          "children",
          "children",
          "children",
          "children",
          "children",
          "children",
          "children",
          "children",
          "children",
          "children",
          "children",
          "children",
          "children",
          "children",
          "children",
          "children",
          "children",
          "children",
          "children",
          "children",
          "children",
          "children",
          "children",
          "children",
          "children",
          "children",
          "children",
          "children",
          "children",
          "children",
          "children",
          "children",
          "children",
          "children",
          "children",
          "children",
          "children",
          "children",
          "children",
          "children",
          "children",
          "children",
          "children",
          "children",
          "children",
          "children",
          "children",
          "children",
          "children",
          "children",
          "children",
          "children",
          "children",
          "children",
          "children",
          "children",
          "children",
          "children",
          "children",
          "children",
          "children",
          "children",
          "children",
          "children",
          "children",
          "children",
          "children",
          "children",
          "children",
          "children",
          "children",
          "children",
          "children",
          "children",
          "children",
          "children",
          "children",
          "children",
          "children",
          "children",
          "children",
          "children",
          "children",
          "children",
          "children",
          "children",
          "children",
          "children",
          "children",
          "children",
          "children",
          "children",
          "children",
          "children",
          "children",
          "children",
          "children",
          "children",
          "children",
          "children",
          "children",
          "children",
          "children",
          "children",
          "children",
          "children",
          "children",
          "children",
          "children",
          "children",
          "children",
          "children",
          "children",
          "children",
          "children",
          "children",
          "children",
          "children",
          "children",
          "children",
          "children",
          "children",
          "children",
          "children",
          "children",
          "children",
          "children",
          "children",
          "children",
          "children",
          "children",
          "children",
          "children",
          "children",
          "children",
          "children",
          "children",
          "children",
          "children",
          "children",
          "children",
          "children",
          "children",
          "children",
          "children",
          "children",
          "children",
          "children",
          "children",
          "children",
          "children",
          "children",
          "children",
          "children",
          "children",
          "children",
          "children",
          "children",
          "children",
          "children",
          "children",
          "children",
          "children",
          "children",
          "children",
          "children",
          "children",
          "children",
          "children",
          "children",
          "children",
          "children",
          "children",
          "children",
          "children",
          "children",
          "children",
          "children",
          "children",
          "children",
          "children",
          "children",
          "children",
          "children",
          "children",
          "children",
          "children",
          "children",
          "children",
          "children",
          "children",
          "children",
          "children",
          "children",
          "children",
          "children",
          "children",
          "children",
          "children",
          "children",
          "children",
          "children",
          "children",
          "children",
          "children",
          "children",
          "children",
          "children",
          "children",
          "children",
          "children",
          "children",
          "children",
          "children",
          "children",
          "children",
          "children",
          "children",
          "children",
          "children",
          "children",
          "children",
          "children",
          "children",
          "children",
          "children",
          "children",
          "children",
          "children",
          "children",
          "children",
          "children",
          "children",
          "children",
          "children",
          "children",
          "children",
          "children",
          "children",
          "children",
          "children",
          "children",
          "children",
          "children",
          "children",
          "children",
          "children",
          "children",
          "children",
          "children",
          "children",
          "children",
          "children",
          "children",
          "children",
          "children",
          "children",
          "children",
          "children",
          "children",
          "children",
          "children",
          "children",
          "children",
          "children",
          "children",
          "children",
          "children",
          "children",
          "children",
          "children",
          "children",
          "children",
          "children",
          "children",
          "children",
          "children",
          "children",
          "children",
          "children",
          "children",
          "children",
          "children",
          "children",
          "children",
          "children",
          "children",
          "children",
          "children",
          "children",
          "children",
          "children",
          "children",
          "children",
          "children",
          "children",
          "children",
          "children",
          "children",
          "children",
          "children",
          "children",
          "children",
          "children",
          "children",
          "children",
          "children",
          "children",
          "children",
          "children",
          "children",
          "children",
          "children",
          "children",
          "children",
          "children",
          "children",
          "children",
          "children",
          "children",
          "children",
          "children",
          "children",
          "children",
          "children",
          "children",
          "children",
          "children",
          "children",
          "children",
          "children",
          "children",
          "children",
          "children",
          "children",
          "children",
          "children",
          "children",
          "children",
          "children",
          "children",
          "children",
          "children",
          "children",
          "children",
          "children",
          "children",
          "children",
          "children",
          "children",
          "children",
          "children",
          "children",
          "children",
          "children",
          "children",
          "children",
          "children",
          "children",
          "children",
          "children",
          "children",
          "children",
          "children",
          "children",
          "children",
          "children",
          "children",
          "children",
          "children",
          "children",
          "children",
          "children",
          "children",
          "children",
          "children",
          "children",
          "children",
          "children",
          "children",
          "children",
          "children",
          "children",
          "children",
          "children",
          "children",
          "children",
          "children",
          "children",
          "children",
          "children",
          "children",
          "children",
          "children",
          "children",
          "children",
          "children",
          "children",
          "children",
          "children",
          "children",
          "children",
          "children",
          "children",
          "children",
          "children",
          "children",
          "children",
          "children",
          "children",
          "children",
          "children",
          "children",
          "children",
          "children",
          "children",
          "children",
          "children",
          "children",
          "children",
          "children",
          "children",
          "children",
          "children",
          "children",
          "children",
          "children",
          "children",
          "children",
          "children",
          "children",
          "children",
          "children",
          "children",
          "children",
          "children",
          "children",
          "children",
          "children",
          "children",
          "children",
          "children",
          "children",
          "children",
          "children",
          "children",
          "children",
          "children",
          "children",
          "children",
          "children",
          "children",
          "children",
          "children",
          "children",
          "children",
          "children",
          "children",
          "children",
          "children",
          "children",
          "children",
          "children",
          "children",
          "children",
          "children",
          "children",
          "children",
          "children",
          "children",
          "children",
          "children",
          "children",
          "children",
          "children",
          "children",
          "children",
          "children",
          "children",
          "children",
          "children",
          "children",
          "children",
          "children",
          "children",
          "children",
          "children",
          "children",
          "children",
          "children",
          "children",
          "children",
          "children",
          "children",
          "children",
          "children",
          "children",
          "children",
          "children",
          "children",
          "children",
          "children",
          "children",
          "children",
          "children",
          "children",
          "children",
          "children",
          "children",
          "children",
          "children",
          "children",
          "children",
          "children",
          "children",
          "children",
          "children",
          "children",
          "children",
          "children",
          "children",
          "children",
          "children",
          "children",
          "children",
          "children",
          "children",
          "children",
          "children",
          "children",
          "children",
          "children",
          "children",
          "children",
          "children",
          "children",
          "children",
          "children",
          "children",
          "children",
          "children",
          "children",
          "children",
          "children",
          "children",
          "children",
          "children",
          "children",
          "children",
          "children",
          "children",
          "children",
          "children",
          "children",
          "children",
          "children",
          "children",
          "children",
          "children",
          "children",
          "children",
          "children",
          "children",
          "children",
          "children",
          "children",
          "children",
          "children",
          "children",
          "children",
          "children",
          "children",
          "children",
          "children",
          "children",
          "children",
          "children",
          "children",
          "children",
          "children",
          "children",
          "children",
          "children",
          "children",
          "children",
          "children",
          "children",
          "children",
          "children",
          "children",
          "children",
          "children",
          "children",
          "children",
          "children",
          "children",
          "children",
          "children",
          "children",
          "children",
          "children",
          "children",
          "children",
          "children",
          "children",
          "children",
          "children",
          "children",
          "children",
          "children",
          "children",
          "children",
          "children",
          "children",
          "children",
          "children",
          "children",
          "children",
          "children",
          "children",
          "children",
          "children",
          "children",
          "children",
          "children",
          "children",
          "children",
          "children",
          "children",
          "children",
          "children",
          "children",
          "children",
          "children",
          "children",
          "children",
          "children",
          "children",
          "children",
          "children",
          "children",
          "children",
          "children",
          "children",
          "children",
          "children",
          "children",
          "children",
          "children",
          "children",
          "children",
          "children",
          "children",
          "children",
          "children",
          "children",
          "children",
          "children",
          "children",
          "children",
          "children",
          "children",
          "children",
          "children",
          "children",
          "children",
          "children",
          "children",
          "children",
          "children",
          "children",
          "children",
          "children",
          "children",
          "children",
          "children",
          "children",
          "children",
          "children",
          "children",
          "children",
          "children",
          "children",
          "children",
          "children",
          "children",
          "children",
          "children",
          "children",
          "children",
          "children",
          "children",
          "children",
          "children",
          "children",
          "children",
          "children",
          "children",
          "children",
          "children",
          "children",
          "children",
          "children",
          "children",
          "children",
          "children",
          "children",
          "children",
          "children",
          "children",
          "children",
          "children",
          "children",
          "children",
          "children",
          "children",
          "children",
          "children",
          "children",
          "children",
          "children",
          "children",
          "children",
          "children",
          "children",
          "children",
          "children",
          "children",
          "children",
          "children",
          "children",
          "children",
          "children",
          "children",
          "children",
          "children",
          "children",
          "children",
          "children",
          "children",
          "children",
          "children",
          "children",
          "children",
          "children",
          "children",
          "children",
          "children",
          "children",
          "children",
          "children",
          "children",
          "children",
          "children",
          "children",
          "children",
          "children",
          "children",
          "children",
          "children",
          "children",
          "children",
          "children",
          "children",
          "children",
          "children",
          "children",
          "children",
          "children",
          "children",
          "children",
          "children",
          "children",
          "children",
          "children",
          "children",
          "children",
          "children",
          "children",
          "children",
          "children",
          "children",
          "children",
          "children",
          "children",
          "children",
          "children",
          "children",
          "children",
          "children",
          "children",
          "children",
          "children",
          "children",
          "children",
          "children",
          "children",
          "children",
          "children",
          "children",
          "children",
          "children",
          "children",
          "children",
          "children",
          "children",
          "children",
          "children",
          "children",
          "children",
          "children",
          "children",
          "children",
          "children",
          "children",
          "children",
          "children",
          "children",
          "children",
          "children",
          "children",
          "children",
          "children",
          "children",
          "children",
          "children",
          "children",
          "children",
          "children",
          "children",
          "children",
          "children",
          "children",
          "children",
          "children",
          "children",
          "children",
          "children",
          "children",
          "children",
          "children",
          "children",
          "children",
          "children",
          "children",
          "children",
          "children",
          "children",
          "children",
          "children",
          "children",
          "children",
          "children",
          "children",
          "children",
          "children",
          "children",
          "children",
          "children",
          "children",
          "children",
          "children",
          "children",
          "children",
          "children",
          "children",
          "children",
          "children",
          "children",
          "children",
          "children",
          "children",
          "children",
          "children",
          "children",
          "children",
          "children",
          "children",
          "children",
          "children",
          "children",
          "children",
          "children",
          "children",
          "children",
          "children",
          "children",
          "children",
          "children",
          "children",
          "children",
          "children",
          "children",
          "children",
          "children",
          "children",
          "children",
          "children",
          "children",
          "children",
          "children",
          "children",
          "children",
          "children",
          "children",
          "children",
          "children",
          "children",
          "children",
          "children",
          "children",
          "children",
          "children",
          "children",
          "children",
          "children",
          "children",
          "children",
          "children",
          "children",
          "children",
          "children",
          "children",
          "children",
          "children",
          "children",
          "children",
          "children",
          "children",
          "children",
          "children",
          "children",
          "children",
          "children",
          "children",
          "children",
          "children",
          "children",
          "children",
          "children",
          "children",
          "children",
          "children",
          "children",
          "children",
          "children",
          "children",
          "children",
          "children",
          "children",
          "children",
          "children",
          "children",
          "children",
          "children",
          "children",
          "children",
          "children",
          "children",
          "children",
          "children",
          "children",
          "children",
          "children",
          "children",
          "children",
          "children",
          "children",
          "children",
          "children",
          "children",
          "children",
          "children",
          "children",
          "children",
          "children",
          "children",
          "children",
          "children",
          "children",
          "children",
          "children",
          "children",
          "children",
          "children",
          "children",
          "children",
          "children",
          "children",
          "children",
          "children",
          "children",
          "children",
          "children",
          "children",
          "children",
          "children",
          "children",
          "children",
          "children",
          "children",
          "children",
          "children",
          "children",
          "children",
          "children",
          "children",
          "children",
          "children",
          "children",
          "children",
          "children",
          "children",
          "children",
          "children",
          "children",
          "children",
          "children",
          "children",
          "children",
          "children",
          "children",
          "children",
          "children",
          "children",
          "children",
          "children",
          "children",
          "children",
          "children",
          "children",
          "children",
          "children",
          "children",
          "children",
          "children",
          "children",
          "children",
          "children",
          "children",
          "children",
          "children",
          "children",
          "children",
          "children",
          "children",
          "children",
          "children",
          "children",
          "children",
          "children",
          "children",
          "children",
          "children",
          "children",
          "children",
          "children",
          "children",
          "children",
          "children",
          "children",
          "children",
          "children",
          "children",
          "children",
          "children",
          "children",
          "children",
          "children",
          "children",
          "children",
          "children",
          "children",
          "children",
          "children",
          "children",
          "children",
          "children",
          "children",
          "children",
          "children",
          "children",
          "children",
          "children",
          "children",
          "children",
          "children",
          "children",
          "children",
          "children",
          "children",
          "children",
          "children",
          "children",
          "children",
          "children",
          "children",
          "children",
          "children"
         ],
         "x0": " ",
         "xaxis": "x",
         "y": [
          0,
          1,
          3,
          0,
          0,
          0,
          1,
          3,
          2,
          0,
          0,
          0,
          0,
          0,
          0,
          1,
          1,
          0,
          0,
          0,
          0,
          1,
          0,
          1,
          2,
          3,
          0,
          2,
          1,
          2,
          0,
          0,
          5,
          0,
          1,
          0,
          3,
          0,
          1,
          0,
          0,
          2,
          1,
          2,
          1,
          0,
          2,
          0,
          0,
          1,
          0,
          2,
          1,
          0,
          3,
          2,
          2,
          2,
          1,
          2,
          3,
          4,
          1,
          1,
          0,
          0,
          2,
          1,
          0,
          3,
          0,
          5,
          3,
          1,
          2,
          0,
          1,
          0,
          0,
          0,
          1,
          0,
          1,
          4,
          2,
          2,
          0,
          0,
          0,
          0,
          0,
          1,
          3,
          2,
          2,
          1,
          3,
          0,
          0,
          0,
          0,
          0,
          0,
          3,
          1,
          1,
          1,
          2,
          0,
          0,
          1,
          2,
          0,
          0,
          3,
          0,
          0,
          1,
          0,
          2,
          2,
          0,
          0,
          1,
          3,
          0,
          0,
          0,
          2,
          2,
          0,
          0,
          2,
          0,
          0,
          0,
          0,
          0,
          3,
          0,
          2,
          1,
          2,
          2,
          3,
          3,
          3,
          1,
          1,
          1,
          1,
          0,
          3,
          0,
          1,
          0,
          0,
          0,
          0,
          3,
          0,
          0,
          1,
          2,
          0,
          4,
          5,
          3,
          1,
          3,
          0,
          0,
          0,
          1,
          0,
          0,
          2,
          1,
          2,
          3,
          0,
          0,
          3,
          0,
          2,
          3,
          2,
          3,
          1,
          2,
          0,
          0,
          0,
          1,
          0,
          0,
          0,
          2,
          0,
          0,
          0,
          1,
          0,
          0,
          0,
          1,
          0,
          2,
          0,
          1,
          1,
          4,
          2,
          1,
          2,
          2,
          0,
          0,
          1,
          0,
          1,
          0,
          3,
          0,
          0,
          3,
          0,
          0,
          1,
          2,
          1,
          3,
          0,
          1,
          2,
          2,
          0,
          2,
          0,
          1,
          2,
          1,
          1,
          3,
          0,
          0,
          0,
          0,
          1,
          1,
          2,
          2,
          2,
          3,
          0,
          3,
          0,
          0,
          4,
          0,
          0,
          1,
          3,
          0,
          3,
          3,
          1,
          3,
          1,
          1,
          1,
          2,
          2,
          1,
          0,
          2,
          2,
          0,
          2,
          1,
          1,
          3,
          1,
          1,
          0,
          1,
          2,
          0,
          1,
          3,
          0,
          1,
          2,
          0,
          3,
          0,
          0,
          1,
          3,
          1,
          3,
          3,
          2,
          2,
          2,
          2,
          2,
          1,
          0,
          2,
          0,
          0,
          3,
          0,
          0,
          0,
          0,
          0,
          0,
          1,
          1,
          4,
          0,
          0,
          0,
          1,
          1,
          2,
          1,
          0,
          1,
          0,
          0,
          0,
          2,
          0,
          0,
          1,
          1,
          1,
          0,
          0,
          0,
          0,
          4,
          3,
          2,
          1,
          1,
          0,
          0,
          0,
          0,
          0,
          0,
          0,
          3,
          3,
          0,
          0,
          2,
          1,
          0,
          1,
          2,
          1,
          3,
          2,
          2,
          3,
          0,
          0,
          1,
          2,
          0,
          0,
          3,
          0,
          3,
          1,
          2,
          0,
          0,
          2,
          2,
          0,
          0,
          2,
          0,
          3,
          4,
          0,
          1,
          1,
          2,
          0,
          3,
          0,
          2,
          0,
          0,
          1,
          0,
          3,
          0,
          2,
          0,
          1,
          3,
          1,
          0,
          1,
          2,
          5,
          0,
          1,
          0,
          2,
          1,
          0,
          0,
          0,
          1,
          0,
          2,
          5,
          1,
          0,
          1,
          3,
          0,
          2,
          0,
          0,
          1,
          3,
          0,
          3,
          5,
          0,
          1,
          0,
          0,
          1,
          1,
          0,
          0,
          0,
          0,
          1,
          4,
          1,
          0,
          0,
          2,
          0,
          2,
          0,
          0,
          3,
          3,
          0,
          2,
          0,
          0,
          1,
          1,
          2,
          1,
          1,
          0,
          0,
          0,
          0,
          3,
          1,
          0,
          0,
          0,
          0,
          3,
          2,
          0,
          1,
          3,
          0,
          3,
          0,
          0,
          1,
          0,
          0,
          0,
          0,
          4,
          0,
          2,
          2,
          2,
          0,
          0,
          0,
          1,
          0,
          1,
          3,
          1,
          2,
          0,
          0,
          1,
          0,
          0,
          0,
          1,
          0,
          1,
          2,
          1,
          0,
          0,
          0,
          0,
          0,
          1,
          0,
          2,
          1,
          1,
          0,
          1,
          0,
          2,
          0,
          0,
          1,
          3,
          2,
          1,
          0,
          3,
          2,
          0,
          0,
          0,
          2,
          0,
          2,
          0,
          0,
          0,
          0,
          0,
          2,
          0,
          2,
          1,
          0,
          3,
          0,
          2,
          0,
          0,
          1,
          2,
          0,
          1,
          2,
          5,
          2,
          0,
          1,
          2,
          1,
          2,
          0,
          0,
          1,
          1,
          0,
          1,
          0,
          2,
          1,
          0,
          1,
          3,
          1,
          0,
          1,
          0,
          1,
          2,
          1,
          0,
          1,
          2,
          1,
          2,
          2,
          0,
          0,
          0,
          3,
          0,
          0,
          0,
          0,
          2,
          2,
          1,
          2,
          0,
          3,
          0,
          1,
          0,
          2,
          0,
          0,
          1,
          4,
          1,
          0,
          0,
          0,
          3,
          1,
          0,
          0,
          1,
          0,
          0,
          2,
          1,
          0,
          1,
          2,
          0,
          4,
          5,
          3,
          0,
          3,
          2,
          3,
          1,
          3,
          0,
          0,
          2,
          1,
          0,
          2,
          0,
          2,
          1,
          2,
          1,
          4,
          3,
          1,
          1,
          0,
          0,
          2,
          1,
          2,
          0,
          1,
          3,
          0,
          0,
          0,
          2,
          0,
          3,
          3,
          3,
          2,
          1,
          0,
          2,
          0,
          1,
          2,
          2,
          0,
          1,
          1,
          0,
          1,
          1,
          0,
          1,
          0,
          2,
          1,
          0,
          2,
          0,
          0,
          0,
          1,
          1,
          2,
          0,
          3,
          3,
          0,
          1,
          2,
          2,
          0,
          0,
          0,
          1,
          1,
          2,
          0,
          0,
          3,
          0,
          0,
          1,
          3,
          1,
          1,
          0,
          1,
          3,
          1,
          3,
          1,
          3,
          1,
          0,
          2,
          3,
          2,
          2,
          0,
          0,
          0,
          0,
          1,
          2,
          0,
          1,
          0,
          0,
          0,
          0,
          0,
          4,
          2,
          3,
          0,
          3,
          0,
          2,
          1,
          1,
          0,
          2,
          0,
          1,
          1,
          0,
          2,
          3,
          2,
          0,
          0,
          2,
          3,
          2,
          0,
          3,
          0,
          3,
          0,
          1,
          1,
          1,
          3,
          0,
          0,
          3,
          0,
          0,
          0,
          0,
          0,
          2,
          0,
          2,
          1,
          0,
          0,
          1,
          0,
          1,
          0,
          0,
          0,
          1,
          0,
          0,
          1,
          3,
          3,
          2,
          2,
          2,
          0,
          0,
          3,
          1,
          0,
          1,
          0,
          0,
          2,
          0,
          2,
          2,
          1,
          3,
          1,
          0,
          0,
          2,
          0,
          1,
          2,
          0,
          0,
          2,
          0,
          0,
          0,
          2,
          0,
          0,
          0,
          1,
          1,
          0,
          0,
          0,
          2,
          0,
          2,
          3,
          0,
          0,
          0,
          1,
          0,
          2,
          3,
          2,
          0,
          0,
          2,
          0,
          1,
          0,
          3,
          0,
          1,
          0,
          1,
          3,
          0,
          1,
          5,
          1,
          2,
          3,
          1,
          0,
          3,
          4,
          1,
          0,
          0,
          0,
          1,
          0,
          4,
          0,
          2,
          0,
          0,
          2,
          1,
          0,
          0,
          0,
          0,
          3,
          0,
          0,
          2,
          3,
          1,
          3,
          0,
          1,
          0,
          3,
          1,
          2,
          0,
          0,
          0,
          0,
          1,
          0,
          0,
          1,
          0,
          0,
          2,
          2,
          1,
          0,
          1,
          1,
          1,
          5,
          0,
          2,
          0,
          2,
          5,
          2,
          0,
          0,
          1,
          0,
          0,
          0,
          1,
          2,
          1,
          0,
          3,
          0,
          2,
          1,
          2,
          1,
          1,
          1,
          1,
          1,
          1,
          1,
          0,
          1,
          3,
          2,
          1,
          2,
          1,
          2,
          5,
          3,
          0,
          0,
          0,
          0,
          0,
          0,
          1,
          3,
          0,
          1,
          0,
          3,
          1,
          5,
          1,
          3,
          1,
          0,
          0,
          1,
          2,
          2,
          1,
          3,
          3,
          3,
          0,
          3,
          0,
          2,
          0,
          0,
          0,
          1,
          2,
          2,
          3,
          2,
          1,
          0,
          2,
          4,
          1,
          0,
          0,
          1,
          2,
          3,
          2,
          0,
          3,
          1,
          1,
          1,
          0,
          1,
          0,
          0,
          2,
          1,
          0,
          0,
          0,
          0,
          3,
          2,
          1,
          0,
          2,
          0,
          0,
          0,
          0,
          1,
          2,
          0,
          1,
          1,
          0,
          1,
          0,
          1,
          3,
          0,
          0,
          0,
          0,
          0,
          1,
          0,
          1,
          1,
          3,
          4,
          1,
          2,
          0,
          1,
          1,
          1,
          0,
          0,
          2,
          0,
          1,
          1,
          0,
          0,
          3,
          2,
          1,
          1,
          1,
          2,
          5,
          0,
          0,
          1,
          0,
          0,
          0,
          3,
          0,
          4,
          4,
          2,
          0,
          0,
          1,
          2,
          3,
          1,
          0,
          0,
          0,
          0,
          2,
          1,
          3,
          1,
          3,
          3,
          3,
          0,
          1,
          5,
          2,
          1,
          3,
          0,
          2,
          3,
          1,
          1,
          0,
          0,
          2,
          1,
          0,
          5,
          2,
          0,
          0,
          0,
          3,
          1,
          0,
          0,
          0,
          1,
          3,
          0,
          2,
          2,
          3,
          0,
          0,
          1,
          0,
          0,
          0,
          3,
          1,
          4,
          3,
          0,
          2,
          0,
          0,
          1,
          2,
          1,
          0,
          1,
          0,
          0,
          2,
          2,
          1,
          1,
          2,
          0,
          2,
          2,
          0,
          1,
          1,
          0,
          0,
          1,
          0,
          0,
          1,
          1,
          2,
          3,
          0,
          1,
          0,
          2,
          1,
          1,
          0,
          0,
          3,
          0,
          0,
          1,
          2,
          2,
          2,
          0,
          1,
          3,
          1,
          2,
          2,
          1,
          1,
          1,
          2,
          0,
          2,
          1,
          0,
          0,
          2,
          1,
          3,
          1,
          2,
          0,
          0,
          1,
          1,
          2,
          2,
          0,
          0,
          3,
          0,
          3,
          0,
          2,
          0,
          0,
          0,
          3,
          1,
          2,
          2,
          3,
          0,
          0,
          5,
          3,
          4,
          0,
          1,
          0,
          0,
          0,
          4,
          0,
          0,
          3,
          1,
          3,
          0,
          0,
          1,
          1,
          1,
          2,
          0,
          0,
          0,
          0,
          3,
          1,
          0,
          5,
          1,
          0,
          0,
          0,
          0,
          1,
          2,
          0,
          2,
          0,
          1,
          1,
          0,
          0,
          1,
          2,
          1,
          2,
          0,
          0,
          3,
          0,
          1,
          0,
          2,
          2,
          1,
          0,
          3,
          1,
          0,
          2,
          0,
          0,
          4,
          0,
          2,
          1,
          0,
          1,
          2,
          3,
          1,
          0,
          0,
          4,
          2,
          3,
          0,
          0,
          2,
          1,
          0,
          0,
          1,
          2,
          2,
          2,
          0,
          3,
          3,
          0,
          0,
          0,
          0
         ],
         "y0": " ",
         "yaxis": "y",
         "type": "box"
        }
       ],
       "layout": {
        "template": {
         "data": {
          "histogram2dcontour": [
           {
            "type": "histogram2dcontour",
            "colorbar": {
             "outlinewidth": 0,
             "ticks": ""
            },
            "colorscale": [
             [
              0.0,
              "#0d0887"
             ],
             [
              0.1111111111111111,
              "#46039f"
             ],
             [
              0.2222222222222222,
              "#7201a8"
             ],
             [
              0.3333333333333333,
              "#9c179e"
             ],
             [
              0.4444444444444444,
              "#bd3786"
             ],
             [
              0.5555555555555556,
              "#d8576b"
             ],
             [
              0.6666666666666666,
              "#ed7953"
             ],
             [
              0.7777777777777778,
              "#fb9f3a"
             ],
             [
              0.8888888888888888,
              "#fdca26"
             ],
             [
              1.0,
              "#f0f921"
             ]
            ]
           }
          ],
          "choropleth": [
           {
            "type": "choropleth",
            "colorbar": {
             "outlinewidth": 0,
             "ticks": ""
            }
           }
          ],
          "histogram2d": [
           {
            "type": "histogram2d",
            "colorbar": {
             "outlinewidth": 0,
             "ticks": ""
            },
            "colorscale": [
             [
              0.0,
              "#0d0887"
             ],
             [
              0.1111111111111111,
              "#46039f"
             ],
             [
              0.2222222222222222,
              "#7201a8"
             ],
             [
              0.3333333333333333,
              "#9c179e"
             ],
             [
              0.4444444444444444,
              "#bd3786"
             ],
             [
              0.5555555555555556,
              "#d8576b"
             ],
             [
              0.6666666666666666,
              "#ed7953"
             ],
             [
              0.7777777777777778,
              "#fb9f3a"
             ],
             [
              0.8888888888888888,
              "#fdca26"
             ],
             [
              1.0,
              "#f0f921"
             ]
            ]
           }
          ],
          "heatmap": [
           {
            "type": "heatmap",
            "colorbar": {
             "outlinewidth": 0,
             "ticks": ""
            },
            "colorscale": [
             [
              0.0,
              "#0d0887"
             ],
             [
              0.1111111111111111,
              "#46039f"
             ],
             [
              0.2222222222222222,
              "#7201a8"
             ],
             [
              0.3333333333333333,
              "#9c179e"
             ],
             [
              0.4444444444444444,
              "#bd3786"
             ],
             [
              0.5555555555555556,
              "#d8576b"
             ],
             [
              0.6666666666666666,
              "#ed7953"
             ],
             [
              0.7777777777777778,
              "#fb9f3a"
             ],
             [
              0.8888888888888888,
              "#fdca26"
             ],
             [
              1.0,
              "#f0f921"
             ]
            ]
           }
          ],
          "heatmapgl": [
           {
            "type": "heatmapgl",
            "colorbar": {
             "outlinewidth": 0,
             "ticks": ""
            },
            "colorscale": [
             [
              0.0,
              "#0d0887"
             ],
             [
              0.1111111111111111,
              "#46039f"
             ],
             [
              0.2222222222222222,
              "#7201a8"
             ],
             [
              0.3333333333333333,
              "#9c179e"
             ],
             [
              0.4444444444444444,
              "#bd3786"
             ],
             [
              0.5555555555555556,
              "#d8576b"
             ],
             [
              0.6666666666666666,
              "#ed7953"
             ],
             [
              0.7777777777777778,
              "#fb9f3a"
             ],
             [
              0.8888888888888888,
              "#fdca26"
             ],
             [
              1.0,
              "#f0f921"
             ]
            ]
           }
          ],
          "contourcarpet": [
           {
            "type": "contourcarpet",
            "colorbar": {
             "outlinewidth": 0,
             "ticks": ""
            }
           }
          ],
          "contour": [
           {
            "type": "contour",
            "colorbar": {
             "outlinewidth": 0,
             "ticks": ""
            },
            "colorscale": [
             [
              0.0,
              "#0d0887"
             ],
             [
              0.1111111111111111,
              "#46039f"
             ],
             [
              0.2222222222222222,
              "#7201a8"
             ],
             [
              0.3333333333333333,
              "#9c179e"
             ],
             [
              0.4444444444444444,
              "#bd3786"
             ],
             [
              0.5555555555555556,
              "#d8576b"
             ],
             [
              0.6666666666666666,
              "#ed7953"
             ],
             [
              0.7777777777777778,
              "#fb9f3a"
             ],
             [
              0.8888888888888888,
              "#fdca26"
             ],
             [
              1.0,
              "#f0f921"
             ]
            ]
           }
          ],
          "surface": [
           {
            "type": "surface",
            "colorbar": {
             "outlinewidth": 0,
             "ticks": ""
            },
            "colorscale": [
             [
              0.0,
              "#0d0887"
             ],
             [
              0.1111111111111111,
              "#46039f"
             ],
             [
              0.2222222222222222,
              "#7201a8"
             ],
             [
              0.3333333333333333,
              "#9c179e"
             ],
             [
              0.4444444444444444,
              "#bd3786"
             ],
             [
              0.5555555555555556,
              "#d8576b"
             ],
             [
              0.6666666666666666,
              "#ed7953"
             ],
             [
              0.7777777777777778,
              "#fb9f3a"
             ],
             [
              0.8888888888888888,
              "#fdca26"
             ],
             [
              1.0,
              "#f0f921"
             ]
            ]
           }
          ],
          "mesh3d": [
           {
            "type": "mesh3d",
            "colorbar": {
             "outlinewidth": 0,
             "ticks": ""
            }
           }
          ],
          "scatter": [
           {
            "marker": {
             "line": {
              "color": "#283442"
             }
            },
            "type": "scatter"
           }
          ],
          "parcoords": [
           {
            "type": "parcoords",
            "line": {
             "colorbar": {
              "outlinewidth": 0,
              "ticks": ""
             }
            }
           }
          ],
          "scatterpolargl": [
           {
            "type": "scatterpolargl",
            "marker": {
             "colorbar": {
              "outlinewidth": 0,
              "ticks": ""
             }
            }
           }
          ],
          "bar": [
           {
            "error_x": {
             "color": "#f2f5fa"
            },
            "error_y": {
             "color": "#f2f5fa"
            },
            "marker": {
             "line": {
              "color": "rgb(17,17,17)",
              "width": 0.5
             },
             "pattern": {
              "fillmode": "overlay",
              "size": 10,
              "solidity": 0.2
             }
            },
            "type": "bar"
           }
          ],
          "scattergeo": [
           {
            "type": "scattergeo",
            "marker": {
             "colorbar": {
              "outlinewidth": 0,
              "ticks": ""
             }
            }
           }
          ],
          "scatterpolar": [
           {
            "type": "scatterpolar",
            "marker": {
             "colorbar": {
              "outlinewidth": 0,
              "ticks": ""
             }
            }
           }
          ],
          "histogram": [
           {
            "marker": {
             "pattern": {
              "fillmode": "overlay",
              "size": 10,
              "solidity": 0.2
             }
            },
            "type": "histogram"
           }
          ],
          "scattergl": [
           {
            "marker": {
             "line": {
              "color": "#283442"
             }
            },
            "type": "scattergl"
           }
          ],
          "scatter3d": [
           {
            "type": "scatter3d",
            "line": {
             "colorbar": {
              "outlinewidth": 0,
              "ticks": ""
             }
            },
            "marker": {
             "colorbar": {
              "outlinewidth": 0,
              "ticks": ""
             }
            }
           }
          ],
          "scattermapbox": [
           {
            "type": "scattermapbox",
            "marker": {
             "colorbar": {
              "outlinewidth": 0,
              "ticks": ""
             }
            }
           }
          ],
          "scatterternary": [
           {
            "type": "scatterternary",
            "marker": {
             "colorbar": {
              "outlinewidth": 0,
              "ticks": ""
             }
            }
           }
          ],
          "scattercarpet": [
           {
            "type": "scattercarpet",
            "marker": {
             "colorbar": {
              "outlinewidth": 0,
              "ticks": ""
             }
            }
           }
          ],
          "carpet": [
           {
            "aaxis": {
             "endlinecolor": "#A2B1C6",
             "gridcolor": "#506784",
             "linecolor": "#506784",
             "minorgridcolor": "#506784",
             "startlinecolor": "#A2B1C6"
            },
            "baxis": {
             "endlinecolor": "#A2B1C6",
             "gridcolor": "#506784",
             "linecolor": "#506784",
             "minorgridcolor": "#506784",
             "startlinecolor": "#A2B1C6"
            },
            "type": "carpet"
           }
          ],
          "table": [
           {
            "cells": {
             "fill": {
              "color": "#506784"
             },
             "line": {
              "color": "rgb(17,17,17)"
             }
            },
            "header": {
             "fill": {
              "color": "#2a3f5f"
             },
             "line": {
              "color": "rgb(17,17,17)"
             }
            },
            "type": "table"
           }
          ],
          "barpolar": [
           {
            "marker": {
             "line": {
              "color": "rgb(17,17,17)",
              "width": 0.5
             },
             "pattern": {
              "fillmode": "overlay",
              "size": 10,
              "solidity": 0.2
             }
            },
            "type": "barpolar"
           }
          ],
          "pie": [
           {
            "automargin": true,
            "type": "pie"
           }
          ]
         },
         "layout": {
          "autotypenumbers": "strict",
          "colorway": [
           "#636efa",
           "#EF553B",
           "#00cc96",
           "#ab63fa",
           "#FFA15A",
           "#19d3f3",
           "#FF6692",
           "#B6E880",
           "#FF97FF",
           "#FECB52"
          ],
          "font": {
           "color": "#f2f5fa"
          },
          "hovermode": "closest",
          "hoverlabel": {
           "align": "left"
          },
          "paper_bgcolor": "rgb(17,17,17)",
          "plot_bgcolor": "rgb(17,17,17)",
          "polar": {
           "bgcolor": "rgb(17,17,17)",
           "angularaxis": {
            "gridcolor": "#506784",
            "linecolor": "#506784",
            "ticks": ""
           },
           "radialaxis": {
            "gridcolor": "#506784",
            "linecolor": "#506784",
            "ticks": ""
           }
          },
          "ternary": {
           "bgcolor": "rgb(17,17,17)",
           "aaxis": {
            "gridcolor": "#506784",
            "linecolor": "#506784",
            "ticks": ""
           },
           "baxis": {
            "gridcolor": "#506784",
            "linecolor": "#506784",
            "ticks": ""
           },
           "caxis": {
            "gridcolor": "#506784",
            "linecolor": "#506784",
            "ticks": ""
           }
          },
          "coloraxis": {
           "colorbar": {
            "outlinewidth": 0,
            "ticks": ""
           }
          },
          "colorscale": {
           "sequential": [
            [
             0.0,
             "#0d0887"
            ],
            [
             0.1111111111111111,
             "#46039f"
            ],
            [
             0.2222222222222222,
             "#7201a8"
            ],
            [
             0.3333333333333333,
             "#9c179e"
            ],
            [
             0.4444444444444444,
             "#bd3786"
            ],
            [
             0.5555555555555556,
             "#d8576b"
            ],
            [
             0.6666666666666666,
             "#ed7953"
            ],
            [
             0.7777777777777778,
             "#fb9f3a"
            ],
            [
             0.8888888888888888,
             "#fdca26"
            ],
            [
             1.0,
             "#f0f921"
            ]
           ],
           "sequentialminus": [
            [
             0.0,
             "#0d0887"
            ],
            [
             0.1111111111111111,
             "#46039f"
            ],
            [
             0.2222222222222222,
             "#7201a8"
            ],
            [
             0.3333333333333333,
             "#9c179e"
            ],
            [
             0.4444444444444444,
             "#bd3786"
            ],
            [
             0.5555555555555556,
             "#d8576b"
            ],
            [
             0.6666666666666666,
             "#ed7953"
            ],
            [
             0.7777777777777778,
             "#fb9f3a"
            ],
            [
             0.8888888888888888,
             "#fdca26"
            ],
            [
             1.0,
             "#f0f921"
            ]
           ],
           "diverging": [
            [
             0,
             "#8e0152"
            ],
            [
             0.1,
             "#c51b7d"
            ],
            [
             0.2,
             "#de77ae"
            ],
            [
             0.3,
             "#f1b6da"
            ],
            [
             0.4,
             "#fde0ef"
            ],
            [
             0.5,
             "#f7f7f7"
            ],
            [
             0.6,
             "#e6f5d0"
            ],
            [
             0.7,
             "#b8e186"
            ],
            [
             0.8,
             "#7fbc41"
            ],
            [
             0.9,
             "#4d9221"
            ],
            [
             1,
             "#276419"
            ]
           ]
          },
          "xaxis": {
           "gridcolor": "#283442",
           "linecolor": "#506784",
           "ticks": "",
           "title": {
            "standoff": 15
           },
           "zerolinecolor": "#283442",
           "automargin": true,
           "zerolinewidth": 2
          },
          "yaxis": {
           "gridcolor": "#283442",
           "linecolor": "#506784",
           "ticks": "",
           "title": {
            "standoff": 15
           },
           "zerolinecolor": "#283442",
           "automargin": true,
           "zerolinewidth": 2
          },
          "scene": {
           "xaxis": {
            "backgroundcolor": "rgb(17,17,17)",
            "gridcolor": "#506784",
            "linecolor": "#506784",
            "showbackground": true,
            "ticks": "",
            "zerolinecolor": "#C8D4E3",
            "gridwidth": 2
           },
           "yaxis": {
            "backgroundcolor": "rgb(17,17,17)",
            "gridcolor": "#506784",
            "linecolor": "#506784",
            "showbackground": true,
            "ticks": "",
            "zerolinecolor": "#C8D4E3",
            "gridwidth": 2
           },
           "zaxis": {
            "backgroundcolor": "rgb(17,17,17)",
            "gridcolor": "#506784",
            "linecolor": "#506784",
            "showbackground": true,
            "ticks": "",
            "zerolinecolor": "#C8D4E3",
            "gridwidth": 2
           }
          },
          "shapedefaults": {
           "line": {
            "color": "#f2f5fa"
           }
          },
          "annotationdefaults": {
           "arrowcolor": "#f2f5fa",
           "arrowhead": 0,
           "arrowwidth": 1
          },
          "geo": {
           "bgcolor": "rgb(17,17,17)",
           "landcolor": "rgb(17,17,17)",
           "subunitcolor": "#506784",
           "showland": true,
           "showlakes": true,
           "lakecolor": "rgb(17,17,17)"
          },
          "title": {
           "x": 0.05
          },
          "updatemenudefaults": {
           "bgcolor": "#506784",
           "borderwidth": 0
          },
          "sliderdefaults": {
           "bgcolor": "#C8D4E3",
           "borderwidth": 1,
           "bordercolor": "rgb(17,17,17)",
           "tickwidth": 0
          },
          "mapbox": {
           "style": "dark"
          }
         }
        },
        "xaxis": {
         "anchor": "y",
         "domain": [
          0.0,
          1.0
         ],
         "title": {
          "text": "variable"
         }
        },
        "yaxis": {
         "anchor": "x",
         "domain": [
          0.0,
          1.0
         ],
         "title": {
          "text": "value"
         }
        },
        "legend": {
         "tracegroupgap": 0
        },
        "margin": {
         "t": 60
        },
        "boxmode": "group"
       },
       "config": {
        "plotlyServerURL": "https://plot.ly"
       }
      },
      "text/html": "<div>                            <div id=\"dd5b1d49-283b-43f0-94b0-5d56bce26e9d\" class=\"plotly-graph-div\" style=\"height:525px; width:100%;\"></div>            <script type=\"text/javascript\">                require([\"plotly\"], function(Plotly) {                    window.PLOTLYENV=window.PLOTLYENV || {};                                    if (document.getElementById(\"dd5b1d49-283b-43f0-94b0-5d56bce26e9d\")) {                    Plotly.newPlot(                        \"dd5b1d49-283b-43f0-94b0-5d56bce26e9d\",                        [{\"alignmentgroup\":\"True\",\"boxpoints\":\"all\",\"hovertemplate\":\"variable=%{x}<br>value=%{y}<extra></extra>\",\"legendgroup\":\"\",\"marker\":{\"color\":\"#636efa\"},\"name\":\"\",\"notched\":false,\"offsetgroup\":\"\",\"orientation\":\"v\",\"showlegend\":false,\"x\":[\"children\",\"children\",\"children\",\"children\",\"children\",\"children\",\"children\",\"children\",\"children\",\"children\",\"children\",\"children\",\"children\",\"children\",\"children\",\"children\",\"children\",\"children\",\"children\",\"children\",\"children\",\"children\",\"children\",\"children\",\"children\",\"children\",\"children\",\"children\",\"children\",\"children\",\"children\",\"children\",\"children\",\"children\",\"children\",\"children\",\"children\",\"children\",\"children\",\"children\",\"children\",\"children\",\"children\",\"children\",\"children\",\"children\",\"children\",\"children\",\"children\",\"children\",\"children\",\"children\",\"children\",\"children\",\"children\",\"children\",\"children\",\"children\",\"children\",\"children\",\"children\",\"children\",\"children\",\"children\",\"children\",\"children\",\"children\",\"children\",\"children\",\"children\",\"children\",\"children\",\"children\",\"children\",\"children\",\"children\",\"children\",\"children\",\"children\",\"children\",\"children\",\"children\",\"children\",\"children\",\"children\",\"children\",\"children\",\"children\",\"children\",\"children\",\"children\",\"children\",\"children\",\"children\",\"children\",\"children\",\"children\",\"children\",\"children\",\"children\",\"children\",\"children\",\"children\",\"children\",\"children\",\"children\",\"children\",\"children\",\"children\",\"children\",\"children\",\"children\",\"children\",\"children\",\"children\",\"children\",\"children\",\"children\",\"children\",\"children\",\"children\",\"children\",\"children\",\"children\",\"children\",\"children\",\"children\",\"children\",\"children\",\"children\",\"children\",\"children\",\"children\",\"children\",\"children\",\"children\",\"children\",\"children\",\"children\",\"children\",\"children\",\"children\",\"children\",\"children\",\"children\",\"children\",\"children\",\"children\",\"children\",\"children\",\"children\",\"children\",\"children\",\"children\",\"children\",\"children\",\"children\",\"children\",\"children\",\"children\",\"children\",\"children\",\"children\",\"children\",\"children\",\"children\",\"children\",\"children\",\"children\",\"children\",\"children\",\"children\",\"children\",\"children\",\"children\",\"children\",\"children\",\"children\",\"children\",\"children\",\"children\",\"children\",\"children\",\"children\",\"children\",\"children\",\"children\",\"children\",\"children\",\"children\",\"children\",\"children\",\"children\",\"children\",\"children\",\"children\",\"children\",\"children\",\"children\",\"children\",\"children\",\"children\",\"children\",\"children\",\"children\",\"children\",\"children\",\"children\",\"children\",\"children\",\"children\",\"children\",\"children\",\"children\",\"children\",\"children\",\"children\",\"children\",\"children\",\"children\",\"children\",\"children\",\"children\",\"children\",\"children\",\"children\",\"children\",\"children\",\"children\",\"children\",\"children\",\"children\",\"children\",\"children\",\"children\",\"children\",\"children\",\"children\",\"children\",\"children\",\"children\",\"children\",\"children\",\"children\",\"children\",\"children\",\"children\",\"children\",\"children\",\"children\",\"children\",\"children\",\"children\",\"children\",\"children\",\"children\",\"children\",\"children\",\"children\",\"children\",\"children\",\"children\",\"children\",\"children\",\"children\",\"children\",\"children\",\"children\",\"children\",\"children\",\"children\",\"children\",\"children\",\"children\",\"children\",\"children\",\"children\",\"children\",\"children\",\"children\",\"children\",\"children\",\"children\",\"children\",\"children\",\"children\",\"children\",\"children\",\"children\",\"children\",\"children\",\"children\",\"children\",\"children\",\"children\",\"children\",\"children\",\"children\",\"children\",\"children\",\"children\",\"children\",\"children\",\"children\",\"children\",\"children\",\"children\",\"children\",\"children\",\"children\",\"children\",\"children\",\"children\",\"children\",\"children\",\"children\",\"children\",\"children\",\"children\",\"children\",\"children\",\"children\",\"children\",\"children\",\"children\",\"children\",\"children\",\"children\",\"children\",\"children\",\"children\",\"children\",\"children\",\"children\",\"children\",\"children\",\"children\",\"children\",\"children\",\"children\",\"children\",\"children\",\"children\",\"children\",\"children\",\"children\",\"children\",\"children\",\"children\",\"children\",\"children\",\"children\",\"children\",\"children\",\"children\",\"children\",\"children\",\"children\",\"children\",\"children\",\"children\",\"children\",\"children\",\"children\",\"children\",\"children\",\"children\",\"children\",\"children\",\"children\",\"children\",\"children\",\"children\",\"children\",\"children\",\"children\",\"children\",\"children\",\"children\",\"children\",\"children\",\"children\",\"children\",\"children\",\"children\",\"children\",\"children\",\"children\",\"children\",\"children\",\"children\",\"children\",\"children\",\"children\",\"children\",\"children\",\"children\",\"children\",\"children\",\"children\",\"children\",\"children\",\"children\",\"children\",\"children\",\"children\",\"children\",\"children\",\"children\",\"children\",\"children\",\"children\",\"children\",\"children\",\"children\",\"children\",\"children\",\"children\",\"children\",\"children\",\"children\",\"children\",\"children\",\"children\",\"children\",\"children\",\"children\",\"children\",\"children\",\"children\",\"children\",\"children\",\"children\",\"children\",\"children\",\"children\",\"children\",\"children\",\"children\",\"children\",\"children\",\"children\",\"children\",\"children\",\"children\",\"children\",\"children\",\"children\",\"children\",\"children\",\"children\",\"children\",\"children\",\"children\",\"children\",\"children\",\"children\",\"children\",\"children\",\"children\",\"children\",\"children\",\"children\",\"children\",\"children\",\"children\",\"children\",\"children\",\"children\",\"children\",\"children\",\"children\",\"children\",\"children\",\"children\",\"children\",\"children\",\"children\",\"children\",\"children\",\"children\",\"children\",\"children\",\"children\",\"children\",\"children\",\"children\",\"children\",\"children\",\"children\",\"children\",\"children\",\"children\",\"children\",\"children\",\"children\",\"children\",\"children\",\"children\",\"children\",\"children\",\"children\",\"children\",\"children\",\"children\",\"children\",\"children\",\"children\",\"children\",\"children\",\"children\",\"children\",\"children\",\"children\",\"children\",\"children\",\"children\",\"children\",\"children\",\"children\",\"children\",\"children\",\"children\",\"children\",\"children\",\"children\",\"children\",\"children\",\"children\",\"children\",\"children\",\"children\",\"children\",\"children\",\"children\",\"children\",\"children\",\"children\",\"children\",\"children\",\"children\",\"children\",\"children\",\"children\",\"children\",\"children\",\"children\",\"children\",\"children\",\"children\",\"children\",\"children\",\"children\",\"children\",\"children\",\"children\",\"children\",\"children\",\"children\",\"children\",\"children\",\"children\",\"children\",\"children\",\"children\",\"children\",\"children\",\"children\",\"children\",\"children\",\"children\",\"children\",\"children\",\"children\",\"children\",\"children\",\"children\",\"children\",\"children\",\"children\",\"children\",\"children\",\"children\",\"children\",\"children\",\"children\",\"children\",\"children\",\"children\",\"children\",\"children\",\"children\",\"children\",\"children\",\"children\",\"children\",\"children\",\"children\",\"children\",\"children\",\"children\",\"children\",\"children\",\"children\",\"children\",\"children\",\"children\",\"children\",\"children\",\"children\",\"children\",\"children\",\"children\",\"children\",\"children\",\"children\",\"children\",\"children\",\"children\",\"children\",\"children\",\"children\",\"children\",\"children\",\"children\",\"children\",\"children\",\"children\",\"children\",\"children\",\"children\",\"children\",\"children\",\"children\",\"children\",\"children\",\"children\",\"children\",\"children\",\"children\",\"children\",\"children\",\"children\",\"children\",\"children\",\"children\",\"children\",\"children\",\"children\",\"children\",\"children\",\"children\",\"children\",\"children\",\"children\",\"children\",\"children\",\"children\",\"children\",\"children\",\"children\",\"children\",\"children\",\"children\",\"children\",\"children\",\"children\",\"children\",\"children\",\"children\",\"children\",\"children\",\"children\",\"children\",\"children\",\"children\",\"children\",\"children\",\"children\",\"children\",\"children\",\"children\",\"children\",\"children\",\"children\",\"children\",\"children\",\"children\",\"children\",\"children\",\"children\",\"children\",\"children\",\"children\",\"children\",\"children\",\"children\",\"children\",\"children\",\"children\",\"children\",\"children\",\"children\",\"children\",\"children\",\"children\",\"children\",\"children\",\"children\",\"children\",\"children\",\"children\",\"children\",\"children\",\"children\",\"children\",\"children\",\"children\",\"children\",\"children\",\"children\",\"children\",\"children\",\"children\",\"children\",\"children\",\"children\",\"children\",\"children\",\"children\",\"children\",\"children\",\"children\",\"children\",\"children\",\"children\",\"children\",\"children\",\"children\",\"children\",\"children\",\"children\",\"children\",\"children\",\"children\",\"children\",\"children\",\"children\",\"children\",\"children\",\"children\",\"children\",\"children\",\"children\",\"children\",\"children\",\"children\",\"children\",\"children\",\"children\",\"children\",\"children\",\"children\",\"children\",\"children\",\"children\",\"children\",\"children\",\"children\",\"children\",\"children\",\"children\",\"children\",\"children\",\"children\",\"children\",\"children\",\"children\",\"children\",\"children\",\"children\",\"children\",\"children\",\"children\",\"children\",\"children\",\"children\",\"children\",\"children\",\"children\",\"children\",\"children\",\"children\",\"children\",\"children\",\"children\",\"children\",\"children\",\"children\",\"children\",\"children\",\"children\",\"children\",\"children\",\"children\",\"children\",\"children\",\"children\",\"children\",\"children\",\"children\",\"children\",\"children\",\"children\",\"children\",\"children\",\"children\",\"children\",\"children\",\"children\",\"children\",\"children\",\"children\",\"children\",\"children\",\"children\",\"children\",\"children\",\"children\",\"children\",\"children\",\"children\",\"children\",\"children\",\"children\",\"children\",\"children\",\"children\",\"children\",\"children\",\"children\",\"children\",\"children\",\"children\",\"children\",\"children\",\"children\",\"children\",\"children\",\"children\",\"children\",\"children\",\"children\",\"children\",\"children\",\"children\",\"children\",\"children\",\"children\",\"children\",\"children\",\"children\",\"children\",\"children\",\"children\",\"children\",\"children\",\"children\",\"children\",\"children\",\"children\",\"children\",\"children\",\"children\",\"children\",\"children\",\"children\",\"children\",\"children\",\"children\",\"children\",\"children\",\"children\",\"children\",\"children\",\"children\",\"children\",\"children\",\"children\",\"children\",\"children\",\"children\",\"children\",\"children\",\"children\",\"children\",\"children\",\"children\",\"children\",\"children\",\"children\",\"children\",\"children\",\"children\",\"children\",\"children\",\"children\",\"children\",\"children\",\"children\",\"children\",\"children\",\"children\",\"children\",\"children\",\"children\",\"children\",\"children\",\"children\",\"children\",\"children\",\"children\",\"children\",\"children\",\"children\",\"children\",\"children\",\"children\",\"children\",\"children\",\"children\",\"children\",\"children\",\"children\",\"children\",\"children\",\"children\",\"children\",\"children\",\"children\",\"children\",\"children\",\"children\",\"children\",\"children\",\"children\",\"children\",\"children\",\"children\",\"children\",\"children\",\"children\",\"children\",\"children\",\"children\",\"children\",\"children\",\"children\",\"children\",\"children\",\"children\",\"children\",\"children\",\"children\",\"children\",\"children\",\"children\",\"children\",\"children\",\"children\",\"children\",\"children\",\"children\",\"children\",\"children\",\"children\",\"children\",\"children\",\"children\",\"children\",\"children\",\"children\",\"children\",\"children\",\"children\",\"children\",\"children\",\"children\",\"children\",\"children\",\"children\",\"children\",\"children\",\"children\",\"children\",\"children\",\"children\",\"children\",\"children\",\"children\",\"children\",\"children\",\"children\",\"children\",\"children\",\"children\",\"children\",\"children\",\"children\",\"children\",\"children\",\"children\",\"children\",\"children\",\"children\",\"children\",\"children\",\"children\",\"children\",\"children\",\"children\",\"children\",\"children\",\"children\",\"children\",\"children\",\"children\",\"children\",\"children\",\"children\",\"children\",\"children\",\"children\",\"children\",\"children\",\"children\",\"children\",\"children\",\"children\",\"children\",\"children\",\"children\",\"children\",\"children\",\"children\",\"children\",\"children\",\"children\",\"children\",\"children\",\"children\",\"children\",\"children\",\"children\",\"children\",\"children\",\"children\",\"children\",\"children\",\"children\",\"children\",\"children\",\"children\",\"children\",\"children\",\"children\",\"children\",\"children\",\"children\",\"children\",\"children\",\"children\",\"children\",\"children\",\"children\",\"children\",\"children\",\"children\",\"children\",\"children\",\"children\",\"children\",\"children\",\"children\",\"children\",\"children\",\"children\",\"children\",\"children\",\"children\",\"children\",\"children\",\"children\",\"children\",\"children\",\"children\",\"children\",\"children\",\"children\",\"children\",\"children\",\"children\",\"children\",\"children\",\"children\",\"children\",\"children\",\"children\",\"children\",\"children\",\"children\",\"children\",\"children\",\"children\",\"children\",\"children\",\"children\",\"children\",\"children\",\"children\",\"children\",\"children\",\"children\",\"children\",\"children\",\"children\",\"children\",\"children\",\"children\",\"children\",\"children\",\"children\",\"children\",\"children\",\"children\",\"children\",\"children\",\"children\",\"children\",\"children\",\"children\",\"children\",\"children\",\"children\",\"children\",\"children\",\"children\",\"children\",\"children\",\"children\",\"children\",\"children\",\"children\",\"children\",\"children\",\"children\",\"children\",\"children\",\"children\",\"children\",\"children\",\"children\",\"children\",\"children\",\"children\",\"children\",\"children\",\"children\",\"children\",\"children\",\"children\",\"children\",\"children\",\"children\",\"children\",\"children\",\"children\",\"children\",\"children\",\"children\",\"children\",\"children\",\"children\",\"children\",\"children\",\"children\",\"children\",\"children\",\"children\",\"children\",\"children\",\"children\",\"children\",\"children\",\"children\",\"children\",\"children\",\"children\",\"children\",\"children\",\"children\",\"children\",\"children\",\"children\",\"children\",\"children\",\"children\",\"children\",\"children\",\"children\",\"children\",\"children\",\"children\",\"children\",\"children\",\"children\",\"children\",\"children\",\"children\",\"children\",\"children\",\"children\",\"children\",\"children\",\"children\",\"children\",\"children\",\"children\",\"children\",\"children\",\"children\",\"children\",\"children\",\"children\",\"children\",\"children\",\"children\",\"children\",\"children\",\"children\",\"children\",\"children\",\"children\",\"children\",\"children\",\"children\",\"children\",\"children\",\"children\",\"children\",\"children\",\"children\",\"children\",\"children\",\"children\",\"children\",\"children\",\"children\",\"children\",\"children\",\"children\",\"children\",\"children\",\"children\",\"children\",\"children\",\"children\",\"children\",\"children\",\"children\",\"children\",\"children\",\"children\",\"children\",\"children\",\"children\",\"children\",\"children\",\"children\",\"children\",\"children\",\"children\",\"children\",\"children\",\"children\",\"children\",\"children\",\"children\",\"children\",\"children\",\"children\",\"children\",\"children\",\"children\",\"children\",\"children\",\"children\",\"children\",\"children\",\"children\",\"children\",\"children\",\"children\",\"children\",\"children\",\"children\",\"children\",\"children\",\"children\",\"children\",\"children\",\"children\",\"children\",\"children\",\"children\",\"children\",\"children\",\"children\",\"children\",\"children\",\"children\",\"children\",\"children\",\"children\",\"children\",\"children\",\"children\",\"children\",\"children\",\"children\",\"children\",\"children\",\"children\",\"children\",\"children\",\"children\",\"children\",\"children\"],\"x0\":\" \",\"xaxis\":\"x\",\"y\":[0,1,3,0,0,0,1,3,2,0,0,0,0,0,0,1,1,0,0,0,0,1,0,1,2,3,0,2,1,2,0,0,5,0,1,0,3,0,1,0,0,2,1,2,1,0,2,0,0,1,0,2,1,0,3,2,2,2,1,2,3,4,1,1,0,0,2,1,0,3,0,5,3,1,2,0,1,0,0,0,1,0,1,4,2,2,0,0,0,0,0,1,3,2,2,1,3,0,0,0,0,0,0,3,1,1,1,2,0,0,1,2,0,0,3,0,0,1,0,2,2,0,0,1,3,0,0,0,2,2,0,0,2,0,0,0,0,0,3,0,2,1,2,2,3,3,3,1,1,1,1,0,3,0,1,0,0,0,0,3,0,0,1,2,0,4,5,3,1,3,0,0,0,1,0,0,2,1,2,3,0,0,3,0,2,3,2,3,1,2,0,0,0,1,0,0,0,2,0,0,0,1,0,0,0,1,0,2,0,1,1,4,2,1,2,2,0,0,1,0,1,0,3,0,0,3,0,0,1,2,1,3,0,1,2,2,0,2,0,1,2,1,1,3,0,0,0,0,1,1,2,2,2,3,0,3,0,0,4,0,0,1,3,0,3,3,1,3,1,1,1,2,2,1,0,2,2,0,2,1,1,3,1,1,0,1,2,0,1,3,0,1,2,0,3,0,0,1,3,1,3,3,2,2,2,2,2,1,0,2,0,0,3,0,0,0,0,0,0,1,1,4,0,0,0,1,1,2,1,0,1,0,0,0,2,0,0,1,1,1,0,0,0,0,4,3,2,1,1,0,0,0,0,0,0,0,3,3,0,0,2,1,0,1,2,1,3,2,2,3,0,0,1,2,0,0,3,0,3,1,2,0,0,2,2,0,0,2,0,3,4,0,1,1,2,0,3,0,2,0,0,1,0,3,0,2,0,1,3,1,0,1,2,5,0,1,0,2,1,0,0,0,1,0,2,5,1,0,1,3,0,2,0,0,1,3,0,3,5,0,1,0,0,1,1,0,0,0,0,1,4,1,0,0,2,0,2,0,0,3,3,0,2,0,0,1,1,2,1,1,0,0,0,0,3,1,0,0,0,0,3,2,0,1,3,0,3,0,0,1,0,0,0,0,4,0,2,2,2,0,0,0,1,0,1,3,1,2,0,0,1,0,0,0,1,0,1,2,1,0,0,0,0,0,1,0,2,1,1,0,1,0,2,0,0,1,3,2,1,0,3,2,0,0,0,2,0,2,0,0,0,0,0,2,0,2,1,0,3,0,2,0,0,1,2,0,1,2,5,2,0,1,2,1,2,0,0,1,1,0,1,0,2,1,0,1,3,1,0,1,0,1,2,1,0,1,2,1,2,2,0,0,0,3,0,0,0,0,2,2,1,2,0,3,0,1,0,2,0,0,1,4,1,0,0,0,3,1,0,0,1,0,0,2,1,0,1,2,0,4,5,3,0,3,2,3,1,3,0,0,2,1,0,2,0,2,1,2,1,4,3,1,1,0,0,2,1,2,0,1,3,0,0,0,2,0,3,3,3,2,1,0,2,0,1,2,2,0,1,1,0,1,1,0,1,0,2,1,0,2,0,0,0,1,1,2,0,3,3,0,1,2,2,0,0,0,1,1,2,0,0,3,0,0,1,3,1,1,0,1,3,1,3,1,3,1,0,2,3,2,2,0,0,0,0,1,2,0,1,0,0,0,0,0,4,2,3,0,3,0,2,1,1,0,2,0,1,1,0,2,3,2,0,0,2,3,2,0,3,0,3,0,1,1,1,3,0,0,3,0,0,0,0,0,2,0,2,1,0,0,1,0,1,0,0,0,1,0,0,1,3,3,2,2,2,0,0,3,1,0,1,0,0,2,0,2,2,1,3,1,0,0,2,0,1,2,0,0,2,0,0,0,2,0,0,0,1,1,0,0,0,2,0,2,3,0,0,0,1,0,2,3,2,0,0,2,0,1,0,3,0,1,0,1,3,0,1,5,1,2,3,1,0,3,4,1,0,0,0,1,0,4,0,2,0,0,2,1,0,0,0,0,3,0,0,2,3,1,3,0,1,0,3,1,2,0,0,0,0,1,0,0,1,0,0,2,2,1,0,1,1,1,5,0,2,0,2,5,2,0,0,1,0,0,0,1,2,1,0,3,0,2,1,2,1,1,1,1,1,1,1,0,1,3,2,1,2,1,2,5,3,0,0,0,0,0,0,1,3,0,1,0,3,1,5,1,3,1,0,0,1,2,2,1,3,3,3,0,3,0,2,0,0,0,1,2,2,3,2,1,0,2,4,1,0,0,1,2,3,2,0,3,1,1,1,0,1,0,0,2,1,0,0,0,0,3,2,1,0,2,0,0,0,0,1,2,0,1,1,0,1,0,1,3,0,0,0,0,0,1,0,1,1,3,4,1,2,0,1,1,1,0,0,2,0,1,1,0,0,3,2,1,1,1,2,5,0,0,1,0,0,0,3,0,4,4,2,0,0,1,2,3,1,0,0,0,0,2,1,3,1,3,3,3,0,1,5,2,1,3,0,2,3,1,1,0,0,2,1,0,5,2,0,0,0,3,1,0,0,0,1,3,0,2,2,3,0,0,1,0,0,0,3,1,4,3,0,2,0,0,1,2,1,0,1,0,0,2,2,1,1,2,0,2,2,0,1,1,0,0,1,0,0,1,1,2,3,0,1,0,2,1,1,0,0,3,0,0,1,2,2,2,0,1,3,1,2,2,1,1,1,2,0,2,1,0,0,2,1,3,1,2,0,0,1,1,2,2,0,0,3,0,3,0,2,0,0,0,3,1,2,2,3,0,0,5,3,4,0,1,0,0,0,4,0,0,3,1,3,0,0,1,1,1,2,0,0,0,0,3,1,0,5,1,0,0,0,0,1,2,0,2,0,1,1,0,0,1,2,1,2,0,0,3,0,1,0,2,2,1,0,3,1,0,2,0,0,4,0,2,1,0,1,2,3,1,0,0,4,2,3,0,0,2,1,0,0,1,2,2,2,0,3,3,0,0,0,0],\"y0\":\" \",\"yaxis\":\"y\",\"type\":\"box\"}],                        {\"template\":{\"data\":{\"histogram2dcontour\":[{\"type\":\"histogram2dcontour\",\"colorbar\":{\"outlinewidth\":0,\"ticks\":\"\"},\"colorscale\":[[0.0,\"#0d0887\"],[0.1111111111111111,\"#46039f\"],[0.2222222222222222,\"#7201a8\"],[0.3333333333333333,\"#9c179e\"],[0.4444444444444444,\"#bd3786\"],[0.5555555555555556,\"#d8576b\"],[0.6666666666666666,\"#ed7953\"],[0.7777777777777778,\"#fb9f3a\"],[0.8888888888888888,\"#fdca26\"],[1.0,\"#f0f921\"]]}],\"choropleth\":[{\"type\":\"choropleth\",\"colorbar\":{\"outlinewidth\":0,\"ticks\":\"\"}}],\"histogram2d\":[{\"type\":\"histogram2d\",\"colorbar\":{\"outlinewidth\":0,\"ticks\":\"\"},\"colorscale\":[[0.0,\"#0d0887\"],[0.1111111111111111,\"#46039f\"],[0.2222222222222222,\"#7201a8\"],[0.3333333333333333,\"#9c179e\"],[0.4444444444444444,\"#bd3786\"],[0.5555555555555556,\"#d8576b\"],[0.6666666666666666,\"#ed7953\"],[0.7777777777777778,\"#fb9f3a\"],[0.8888888888888888,\"#fdca26\"],[1.0,\"#f0f921\"]]}],\"heatmap\":[{\"type\":\"heatmap\",\"colorbar\":{\"outlinewidth\":0,\"ticks\":\"\"},\"colorscale\":[[0.0,\"#0d0887\"],[0.1111111111111111,\"#46039f\"],[0.2222222222222222,\"#7201a8\"],[0.3333333333333333,\"#9c179e\"],[0.4444444444444444,\"#bd3786\"],[0.5555555555555556,\"#d8576b\"],[0.6666666666666666,\"#ed7953\"],[0.7777777777777778,\"#fb9f3a\"],[0.8888888888888888,\"#fdca26\"],[1.0,\"#f0f921\"]]}],\"heatmapgl\":[{\"type\":\"heatmapgl\",\"colorbar\":{\"outlinewidth\":0,\"ticks\":\"\"},\"colorscale\":[[0.0,\"#0d0887\"],[0.1111111111111111,\"#46039f\"],[0.2222222222222222,\"#7201a8\"],[0.3333333333333333,\"#9c179e\"],[0.4444444444444444,\"#bd3786\"],[0.5555555555555556,\"#d8576b\"],[0.6666666666666666,\"#ed7953\"],[0.7777777777777778,\"#fb9f3a\"],[0.8888888888888888,\"#fdca26\"],[1.0,\"#f0f921\"]]}],\"contourcarpet\":[{\"type\":\"contourcarpet\",\"colorbar\":{\"outlinewidth\":0,\"ticks\":\"\"}}],\"contour\":[{\"type\":\"contour\",\"colorbar\":{\"outlinewidth\":0,\"ticks\":\"\"},\"colorscale\":[[0.0,\"#0d0887\"],[0.1111111111111111,\"#46039f\"],[0.2222222222222222,\"#7201a8\"],[0.3333333333333333,\"#9c179e\"],[0.4444444444444444,\"#bd3786\"],[0.5555555555555556,\"#d8576b\"],[0.6666666666666666,\"#ed7953\"],[0.7777777777777778,\"#fb9f3a\"],[0.8888888888888888,\"#fdca26\"],[1.0,\"#f0f921\"]]}],\"surface\":[{\"type\":\"surface\",\"colorbar\":{\"outlinewidth\":0,\"ticks\":\"\"},\"colorscale\":[[0.0,\"#0d0887\"],[0.1111111111111111,\"#46039f\"],[0.2222222222222222,\"#7201a8\"],[0.3333333333333333,\"#9c179e\"],[0.4444444444444444,\"#bd3786\"],[0.5555555555555556,\"#d8576b\"],[0.6666666666666666,\"#ed7953\"],[0.7777777777777778,\"#fb9f3a\"],[0.8888888888888888,\"#fdca26\"],[1.0,\"#f0f921\"]]}],\"mesh3d\":[{\"type\":\"mesh3d\",\"colorbar\":{\"outlinewidth\":0,\"ticks\":\"\"}}],\"scatter\":[{\"marker\":{\"line\":{\"color\":\"#283442\"}},\"type\":\"scatter\"}],\"parcoords\":[{\"type\":\"parcoords\",\"line\":{\"colorbar\":{\"outlinewidth\":0,\"ticks\":\"\"}}}],\"scatterpolargl\":[{\"type\":\"scatterpolargl\",\"marker\":{\"colorbar\":{\"outlinewidth\":0,\"ticks\":\"\"}}}],\"bar\":[{\"error_x\":{\"color\":\"#f2f5fa\"},\"error_y\":{\"color\":\"#f2f5fa\"},\"marker\":{\"line\":{\"color\":\"rgb(17,17,17)\",\"width\":0.5},\"pattern\":{\"fillmode\":\"overlay\",\"size\":10,\"solidity\":0.2}},\"type\":\"bar\"}],\"scattergeo\":[{\"type\":\"scattergeo\",\"marker\":{\"colorbar\":{\"outlinewidth\":0,\"ticks\":\"\"}}}],\"scatterpolar\":[{\"type\":\"scatterpolar\",\"marker\":{\"colorbar\":{\"outlinewidth\":0,\"ticks\":\"\"}}}],\"histogram\":[{\"marker\":{\"pattern\":{\"fillmode\":\"overlay\",\"size\":10,\"solidity\":0.2}},\"type\":\"histogram\"}],\"scattergl\":[{\"marker\":{\"line\":{\"color\":\"#283442\"}},\"type\":\"scattergl\"}],\"scatter3d\":[{\"type\":\"scatter3d\",\"line\":{\"colorbar\":{\"outlinewidth\":0,\"ticks\":\"\"}},\"marker\":{\"colorbar\":{\"outlinewidth\":0,\"ticks\":\"\"}}}],\"scattermapbox\":[{\"type\":\"scattermapbox\",\"marker\":{\"colorbar\":{\"outlinewidth\":0,\"ticks\":\"\"}}}],\"scatterternary\":[{\"type\":\"scatterternary\",\"marker\":{\"colorbar\":{\"outlinewidth\":0,\"ticks\":\"\"}}}],\"scattercarpet\":[{\"type\":\"scattercarpet\",\"marker\":{\"colorbar\":{\"outlinewidth\":0,\"ticks\":\"\"}}}],\"carpet\":[{\"aaxis\":{\"endlinecolor\":\"#A2B1C6\",\"gridcolor\":\"#506784\",\"linecolor\":\"#506784\",\"minorgridcolor\":\"#506784\",\"startlinecolor\":\"#A2B1C6\"},\"baxis\":{\"endlinecolor\":\"#A2B1C6\",\"gridcolor\":\"#506784\",\"linecolor\":\"#506784\",\"minorgridcolor\":\"#506784\",\"startlinecolor\":\"#A2B1C6\"},\"type\":\"carpet\"}],\"table\":[{\"cells\":{\"fill\":{\"color\":\"#506784\"},\"line\":{\"color\":\"rgb(17,17,17)\"}},\"header\":{\"fill\":{\"color\":\"#2a3f5f\"},\"line\":{\"color\":\"rgb(17,17,17)\"}},\"type\":\"table\"}],\"barpolar\":[{\"marker\":{\"line\":{\"color\":\"rgb(17,17,17)\",\"width\":0.5},\"pattern\":{\"fillmode\":\"overlay\",\"size\":10,\"solidity\":0.2}},\"type\":\"barpolar\"}],\"pie\":[{\"automargin\":true,\"type\":\"pie\"}]},\"layout\":{\"autotypenumbers\":\"strict\",\"colorway\":[\"#636efa\",\"#EF553B\",\"#00cc96\",\"#ab63fa\",\"#FFA15A\",\"#19d3f3\",\"#FF6692\",\"#B6E880\",\"#FF97FF\",\"#FECB52\"],\"font\":{\"color\":\"#f2f5fa\"},\"hovermode\":\"closest\",\"hoverlabel\":{\"align\":\"left\"},\"paper_bgcolor\":\"rgb(17,17,17)\",\"plot_bgcolor\":\"rgb(17,17,17)\",\"polar\":{\"bgcolor\":\"rgb(17,17,17)\",\"angularaxis\":{\"gridcolor\":\"#506784\",\"linecolor\":\"#506784\",\"ticks\":\"\"},\"radialaxis\":{\"gridcolor\":\"#506784\",\"linecolor\":\"#506784\",\"ticks\":\"\"}},\"ternary\":{\"bgcolor\":\"rgb(17,17,17)\",\"aaxis\":{\"gridcolor\":\"#506784\",\"linecolor\":\"#506784\",\"ticks\":\"\"},\"baxis\":{\"gridcolor\":\"#506784\",\"linecolor\":\"#506784\",\"ticks\":\"\"},\"caxis\":{\"gridcolor\":\"#506784\",\"linecolor\":\"#506784\",\"ticks\":\"\"}},\"coloraxis\":{\"colorbar\":{\"outlinewidth\":0,\"ticks\":\"\"}},\"colorscale\":{\"sequential\":[[0.0,\"#0d0887\"],[0.1111111111111111,\"#46039f\"],[0.2222222222222222,\"#7201a8\"],[0.3333333333333333,\"#9c179e\"],[0.4444444444444444,\"#bd3786\"],[0.5555555555555556,\"#d8576b\"],[0.6666666666666666,\"#ed7953\"],[0.7777777777777778,\"#fb9f3a\"],[0.8888888888888888,\"#fdca26\"],[1.0,\"#f0f921\"]],\"sequentialminus\":[[0.0,\"#0d0887\"],[0.1111111111111111,\"#46039f\"],[0.2222222222222222,\"#7201a8\"],[0.3333333333333333,\"#9c179e\"],[0.4444444444444444,\"#bd3786\"],[0.5555555555555556,\"#d8576b\"],[0.6666666666666666,\"#ed7953\"],[0.7777777777777778,\"#fb9f3a\"],[0.8888888888888888,\"#fdca26\"],[1.0,\"#f0f921\"]],\"diverging\":[[0,\"#8e0152\"],[0.1,\"#c51b7d\"],[0.2,\"#de77ae\"],[0.3,\"#f1b6da\"],[0.4,\"#fde0ef\"],[0.5,\"#f7f7f7\"],[0.6,\"#e6f5d0\"],[0.7,\"#b8e186\"],[0.8,\"#7fbc41\"],[0.9,\"#4d9221\"],[1,\"#276419\"]]},\"xaxis\":{\"gridcolor\":\"#283442\",\"linecolor\":\"#506784\",\"ticks\":\"\",\"title\":{\"standoff\":15},\"zerolinecolor\":\"#283442\",\"automargin\":true,\"zerolinewidth\":2},\"yaxis\":{\"gridcolor\":\"#283442\",\"linecolor\":\"#506784\",\"ticks\":\"\",\"title\":{\"standoff\":15},\"zerolinecolor\":\"#283442\",\"automargin\":true,\"zerolinewidth\":2},\"scene\":{\"xaxis\":{\"backgroundcolor\":\"rgb(17,17,17)\",\"gridcolor\":\"#506784\",\"linecolor\":\"#506784\",\"showbackground\":true,\"ticks\":\"\",\"zerolinecolor\":\"#C8D4E3\",\"gridwidth\":2},\"yaxis\":{\"backgroundcolor\":\"rgb(17,17,17)\",\"gridcolor\":\"#506784\",\"linecolor\":\"#506784\",\"showbackground\":true,\"ticks\":\"\",\"zerolinecolor\":\"#C8D4E3\",\"gridwidth\":2},\"zaxis\":{\"backgroundcolor\":\"rgb(17,17,17)\",\"gridcolor\":\"#506784\",\"linecolor\":\"#506784\",\"showbackground\":true,\"ticks\":\"\",\"zerolinecolor\":\"#C8D4E3\",\"gridwidth\":2}},\"shapedefaults\":{\"line\":{\"color\":\"#f2f5fa\"}},\"annotationdefaults\":{\"arrowcolor\":\"#f2f5fa\",\"arrowhead\":0,\"arrowwidth\":1},\"geo\":{\"bgcolor\":\"rgb(17,17,17)\",\"landcolor\":\"rgb(17,17,17)\",\"subunitcolor\":\"#506784\",\"showland\":true,\"showlakes\":true,\"lakecolor\":\"rgb(17,17,17)\"},\"title\":{\"x\":0.05},\"updatemenudefaults\":{\"bgcolor\":\"#506784\",\"borderwidth\":0},\"sliderdefaults\":{\"bgcolor\":\"#C8D4E3\",\"borderwidth\":1,\"bordercolor\":\"rgb(17,17,17)\",\"tickwidth\":0},\"mapbox\":{\"style\":\"dark\"}}},\"xaxis\":{\"anchor\":\"y\",\"domain\":[0.0,1.0],\"title\":{\"text\":\"variable\"}},\"yaxis\":{\"anchor\":\"x\",\"domain\":[0.0,1.0],\"title\":{\"text\":\"value\"}},\"legend\":{\"tracegroupgap\":0},\"margin\":{\"t\":60},\"boxmode\":\"group\"},                        {\"responsive\": true}                    ).then(function(){\n                            \nvar gd = document.getElementById('dd5b1d49-283b-43f0-94b0-5d56bce26e9d');\nvar x = new MutationObserver(function (mutations, observer) {{\n        var display = window.getComputedStyle(gd).display;\n        if (!display || display === 'none') {{\n            console.log([gd, 'removed!']);\n            Plotly.purge(gd);\n            observer.disconnect();\n        }}\n}});\n\n// Listen for the removal of the full notebook cells\nvar notebookContainer = gd.closest('#notebook-container');\nif (notebookContainer) {{\n    x.observe(notebookContainer, {childList: true});\n}}\n\n// Listen for the clearing of the current output cell\nvar outputEl = gd.closest('.output');\nif (outputEl) {{\n    x.observe(outputEl, {childList: true});\n}}\n\n                        })                };                });            </script>        </div>"
     },
     "metadata": {},
     "output_type": "display_data"
    },
    {
     "data": {
      "application/vnd.plotly.v1+json": {
       "data": [
        {
         "alignmentgroup": "True",
         "boxpoints": "all",
         "hovertemplate": "variable=%{x}<br>value=%{y}<extra></extra>",
         "legendgroup": "",
         "marker": {
          "color": "#636efa"
         },
         "name": "",
         "notched": false,
         "offsetgroup": "",
         "orientation": "v",
         "showlegend": false,
         "x": [
          "charges",
          "charges",
          "charges",
          "charges",
          "charges",
          "charges",
          "charges",
          "charges",
          "charges",
          "charges",
          "charges",
          "charges",
          "charges",
          "charges",
          "charges",
          "charges",
          "charges",
          "charges",
          "charges",
          "charges",
          "charges",
          "charges",
          "charges",
          "charges",
          "charges",
          "charges",
          "charges",
          "charges",
          "charges",
          "charges",
          "charges",
          "charges",
          "charges",
          "charges",
          "charges",
          "charges",
          "charges",
          "charges",
          "charges",
          "charges",
          "charges",
          "charges",
          "charges",
          "charges",
          "charges",
          "charges",
          "charges",
          "charges",
          "charges",
          "charges",
          "charges",
          "charges",
          "charges",
          "charges",
          "charges",
          "charges",
          "charges",
          "charges",
          "charges",
          "charges",
          "charges",
          "charges",
          "charges",
          "charges",
          "charges",
          "charges",
          "charges",
          "charges",
          "charges",
          "charges",
          "charges",
          "charges",
          "charges",
          "charges",
          "charges",
          "charges",
          "charges",
          "charges",
          "charges",
          "charges",
          "charges",
          "charges",
          "charges",
          "charges",
          "charges",
          "charges",
          "charges",
          "charges",
          "charges",
          "charges",
          "charges",
          "charges",
          "charges",
          "charges",
          "charges",
          "charges",
          "charges",
          "charges",
          "charges",
          "charges",
          "charges",
          "charges",
          "charges",
          "charges",
          "charges",
          "charges",
          "charges",
          "charges",
          "charges",
          "charges",
          "charges",
          "charges",
          "charges",
          "charges",
          "charges",
          "charges",
          "charges",
          "charges",
          "charges",
          "charges",
          "charges",
          "charges",
          "charges",
          "charges",
          "charges",
          "charges",
          "charges",
          "charges",
          "charges",
          "charges",
          "charges",
          "charges",
          "charges",
          "charges",
          "charges",
          "charges",
          "charges",
          "charges",
          "charges",
          "charges",
          "charges",
          "charges",
          "charges",
          "charges",
          "charges",
          "charges",
          "charges",
          "charges",
          "charges",
          "charges",
          "charges",
          "charges",
          "charges",
          "charges",
          "charges",
          "charges",
          "charges",
          "charges",
          "charges",
          "charges",
          "charges",
          "charges",
          "charges",
          "charges",
          "charges",
          "charges",
          "charges",
          "charges",
          "charges",
          "charges",
          "charges",
          "charges",
          "charges",
          "charges",
          "charges",
          "charges",
          "charges",
          "charges",
          "charges",
          "charges",
          "charges",
          "charges",
          "charges",
          "charges",
          "charges",
          "charges",
          "charges",
          "charges",
          "charges",
          "charges",
          "charges",
          "charges",
          "charges",
          "charges",
          "charges",
          "charges",
          "charges",
          "charges",
          "charges",
          "charges",
          "charges",
          "charges",
          "charges",
          "charges",
          "charges",
          "charges",
          "charges",
          "charges",
          "charges",
          "charges",
          "charges",
          "charges",
          "charges",
          "charges",
          "charges",
          "charges",
          "charges",
          "charges",
          "charges",
          "charges",
          "charges",
          "charges",
          "charges",
          "charges",
          "charges",
          "charges",
          "charges",
          "charges",
          "charges",
          "charges",
          "charges",
          "charges",
          "charges",
          "charges",
          "charges",
          "charges",
          "charges",
          "charges",
          "charges",
          "charges",
          "charges",
          "charges",
          "charges",
          "charges",
          "charges",
          "charges",
          "charges",
          "charges",
          "charges",
          "charges",
          "charges",
          "charges",
          "charges",
          "charges",
          "charges",
          "charges",
          "charges",
          "charges",
          "charges",
          "charges",
          "charges",
          "charges",
          "charges",
          "charges",
          "charges",
          "charges",
          "charges",
          "charges",
          "charges",
          "charges",
          "charges",
          "charges",
          "charges",
          "charges",
          "charges",
          "charges",
          "charges",
          "charges",
          "charges",
          "charges",
          "charges",
          "charges",
          "charges",
          "charges",
          "charges",
          "charges",
          "charges",
          "charges",
          "charges",
          "charges",
          "charges",
          "charges",
          "charges",
          "charges",
          "charges",
          "charges",
          "charges",
          "charges",
          "charges",
          "charges",
          "charges",
          "charges",
          "charges",
          "charges",
          "charges",
          "charges",
          "charges",
          "charges",
          "charges",
          "charges",
          "charges",
          "charges",
          "charges",
          "charges",
          "charges",
          "charges",
          "charges",
          "charges",
          "charges",
          "charges",
          "charges",
          "charges",
          "charges",
          "charges",
          "charges",
          "charges",
          "charges",
          "charges",
          "charges",
          "charges",
          "charges",
          "charges",
          "charges",
          "charges",
          "charges",
          "charges",
          "charges",
          "charges",
          "charges",
          "charges",
          "charges",
          "charges",
          "charges",
          "charges",
          "charges",
          "charges",
          "charges",
          "charges",
          "charges",
          "charges",
          "charges",
          "charges",
          "charges",
          "charges",
          "charges",
          "charges",
          "charges",
          "charges",
          "charges",
          "charges",
          "charges",
          "charges",
          "charges",
          "charges",
          "charges",
          "charges",
          "charges",
          "charges",
          "charges",
          "charges",
          "charges",
          "charges",
          "charges",
          "charges",
          "charges",
          "charges",
          "charges",
          "charges",
          "charges",
          "charges",
          "charges",
          "charges",
          "charges",
          "charges",
          "charges",
          "charges",
          "charges",
          "charges",
          "charges",
          "charges",
          "charges",
          "charges",
          "charges",
          "charges",
          "charges",
          "charges",
          "charges",
          "charges",
          "charges",
          "charges",
          "charges",
          "charges",
          "charges",
          "charges",
          "charges",
          "charges",
          "charges",
          "charges",
          "charges",
          "charges",
          "charges",
          "charges",
          "charges",
          "charges",
          "charges",
          "charges",
          "charges",
          "charges",
          "charges",
          "charges",
          "charges",
          "charges",
          "charges",
          "charges",
          "charges",
          "charges",
          "charges",
          "charges",
          "charges",
          "charges",
          "charges",
          "charges",
          "charges",
          "charges",
          "charges",
          "charges",
          "charges",
          "charges",
          "charges",
          "charges",
          "charges",
          "charges",
          "charges",
          "charges",
          "charges",
          "charges",
          "charges",
          "charges",
          "charges",
          "charges",
          "charges",
          "charges",
          "charges",
          "charges",
          "charges",
          "charges",
          "charges",
          "charges",
          "charges",
          "charges",
          "charges",
          "charges",
          "charges",
          "charges",
          "charges",
          "charges",
          "charges",
          "charges",
          "charges",
          "charges",
          "charges",
          "charges",
          "charges",
          "charges",
          "charges",
          "charges",
          "charges",
          "charges",
          "charges",
          "charges",
          "charges",
          "charges",
          "charges",
          "charges",
          "charges",
          "charges",
          "charges",
          "charges",
          "charges",
          "charges",
          "charges",
          "charges",
          "charges",
          "charges",
          "charges",
          "charges",
          "charges",
          "charges",
          "charges",
          "charges",
          "charges",
          "charges",
          "charges",
          "charges",
          "charges",
          "charges",
          "charges",
          "charges",
          "charges",
          "charges",
          "charges",
          "charges",
          "charges",
          "charges",
          "charges",
          "charges",
          "charges",
          "charges",
          "charges",
          "charges",
          "charges",
          "charges",
          "charges",
          "charges",
          "charges",
          "charges",
          "charges",
          "charges",
          "charges",
          "charges",
          "charges",
          "charges",
          "charges",
          "charges",
          "charges",
          "charges",
          "charges",
          "charges",
          "charges",
          "charges",
          "charges",
          "charges",
          "charges",
          "charges",
          "charges",
          "charges",
          "charges",
          "charges",
          "charges",
          "charges",
          "charges",
          "charges",
          "charges",
          "charges",
          "charges",
          "charges",
          "charges",
          "charges",
          "charges",
          "charges",
          "charges",
          "charges",
          "charges",
          "charges",
          "charges",
          "charges",
          "charges",
          "charges",
          "charges",
          "charges",
          "charges",
          "charges",
          "charges",
          "charges",
          "charges",
          "charges",
          "charges",
          "charges",
          "charges",
          "charges",
          "charges",
          "charges",
          "charges",
          "charges",
          "charges",
          "charges",
          "charges",
          "charges",
          "charges",
          "charges",
          "charges",
          "charges",
          "charges",
          "charges",
          "charges",
          "charges",
          "charges",
          "charges",
          "charges",
          "charges",
          "charges",
          "charges",
          "charges",
          "charges",
          "charges",
          "charges",
          "charges",
          "charges",
          "charges",
          "charges",
          "charges",
          "charges",
          "charges",
          "charges",
          "charges",
          "charges",
          "charges",
          "charges",
          "charges",
          "charges",
          "charges",
          "charges",
          "charges",
          "charges",
          "charges",
          "charges",
          "charges",
          "charges",
          "charges",
          "charges",
          "charges",
          "charges",
          "charges",
          "charges",
          "charges",
          "charges",
          "charges",
          "charges",
          "charges",
          "charges",
          "charges",
          "charges",
          "charges",
          "charges",
          "charges",
          "charges",
          "charges",
          "charges",
          "charges",
          "charges",
          "charges",
          "charges",
          "charges",
          "charges",
          "charges",
          "charges",
          "charges",
          "charges",
          "charges",
          "charges",
          "charges",
          "charges",
          "charges",
          "charges",
          "charges",
          "charges",
          "charges",
          "charges",
          "charges",
          "charges",
          "charges",
          "charges",
          "charges",
          "charges",
          "charges",
          "charges",
          "charges",
          "charges",
          "charges",
          "charges",
          "charges",
          "charges",
          "charges",
          "charges",
          "charges",
          "charges",
          "charges",
          "charges",
          "charges",
          "charges",
          "charges",
          "charges",
          "charges",
          "charges",
          "charges",
          "charges",
          "charges",
          "charges",
          "charges",
          "charges",
          "charges",
          "charges",
          "charges",
          "charges",
          "charges",
          "charges",
          "charges",
          "charges",
          "charges",
          "charges",
          "charges",
          "charges",
          "charges",
          "charges",
          "charges",
          "charges",
          "charges",
          "charges",
          "charges",
          "charges",
          "charges",
          "charges",
          "charges",
          "charges",
          "charges",
          "charges",
          "charges",
          "charges",
          "charges",
          "charges",
          "charges",
          "charges",
          "charges",
          "charges",
          "charges",
          "charges",
          "charges",
          "charges",
          "charges",
          "charges",
          "charges",
          "charges",
          "charges",
          "charges",
          "charges",
          "charges",
          "charges",
          "charges",
          "charges",
          "charges",
          "charges",
          "charges",
          "charges",
          "charges",
          "charges",
          "charges",
          "charges",
          "charges",
          "charges",
          "charges",
          "charges",
          "charges",
          "charges",
          "charges",
          "charges",
          "charges",
          "charges",
          "charges",
          "charges",
          "charges",
          "charges",
          "charges",
          "charges",
          "charges",
          "charges",
          "charges",
          "charges",
          "charges",
          "charges",
          "charges",
          "charges",
          "charges",
          "charges",
          "charges",
          "charges",
          "charges",
          "charges",
          "charges",
          "charges",
          "charges",
          "charges",
          "charges",
          "charges",
          "charges",
          "charges",
          "charges",
          "charges",
          "charges",
          "charges",
          "charges",
          "charges",
          "charges",
          "charges",
          "charges",
          "charges",
          "charges",
          "charges",
          "charges",
          "charges",
          "charges",
          "charges",
          "charges",
          "charges",
          "charges",
          "charges",
          "charges",
          "charges",
          "charges",
          "charges",
          "charges",
          "charges",
          "charges",
          "charges",
          "charges",
          "charges",
          "charges",
          "charges",
          "charges",
          "charges",
          "charges",
          "charges",
          "charges",
          "charges",
          "charges",
          "charges",
          "charges",
          "charges",
          "charges",
          "charges",
          "charges",
          "charges",
          "charges",
          "charges",
          "charges",
          "charges",
          "charges",
          "charges",
          "charges",
          "charges",
          "charges",
          "charges",
          "charges",
          "charges",
          "charges",
          "charges",
          "charges",
          "charges",
          "charges",
          "charges",
          "charges",
          "charges",
          "charges",
          "charges",
          "charges",
          "charges",
          "charges",
          "charges",
          "charges",
          "charges",
          "charges",
          "charges",
          "charges",
          "charges",
          "charges",
          "charges",
          "charges",
          "charges",
          "charges",
          "charges",
          "charges",
          "charges",
          "charges",
          "charges",
          "charges",
          "charges",
          "charges",
          "charges",
          "charges",
          "charges",
          "charges",
          "charges",
          "charges",
          "charges",
          "charges",
          "charges",
          "charges",
          "charges",
          "charges",
          "charges",
          "charges",
          "charges",
          "charges",
          "charges",
          "charges",
          "charges",
          "charges",
          "charges",
          "charges",
          "charges",
          "charges",
          "charges",
          "charges",
          "charges",
          "charges",
          "charges",
          "charges",
          "charges",
          "charges",
          "charges",
          "charges",
          "charges",
          "charges",
          "charges",
          "charges",
          "charges",
          "charges",
          "charges",
          "charges",
          "charges",
          "charges",
          "charges",
          "charges",
          "charges",
          "charges",
          "charges",
          "charges",
          "charges",
          "charges",
          "charges",
          "charges",
          "charges",
          "charges",
          "charges",
          "charges",
          "charges",
          "charges",
          "charges",
          "charges",
          "charges",
          "charges",
          "charges",
          "charges",
          "charges",
          "charges",
          "charges",
          "charges",
          "charges",
          "charges",
          "charges",
          "charges",
          "charges",
          "charges",
          "charges",
          "charges",
          "charges",
          "charges",
          "charges",
          "charges",
          "charges",
          "charges",
          "charges",
          "charges",
          "charges",
          "charges",
          "charges",
          "charges",
          "charges",
          "charges",
          "charges",
          "charges",
          "charges",
          "charges",
          "charges",
          "charges",
          "charges",
          "charges",
          "charges",
          "charges",
          "charges",
          "charges",
          "charges",
          "charges",
          "charges",
          "charges",
          "charges",
          "charges",
          "charges",
          "charges",
          "charges",
          "charges",
          "charges",
          "charges",
          "charges",
          "charges",
          "charges",
          "charges",
          "charges",
          "charges",
          "charges",
          "charges",
          "charges",
          "charges",
          "charges",
          "charges",
          "charges",
          "charges",
          "charges",
          "charges",
          "charges",
          "charges",
          "charges",
          "charges",
          "charges",
          "charges",
          "charges",
          "charges",
          "charges",
          "charges",
          "charges",
          "charges",
          "charges",
          "charges",
          "charges",
          "charges",
          "charges",
          "charges",
          "charges",
          "charges",
          "charges",
          "charges",
          "charges",
          "charges",
          "charges",
          "charges",
          "charges",
          "charges",
          "charges",
          "charges",
          "charges",
          "charges",
          "charges",
          "charges",
          "charges",
          "charges",
          "charges",
          "charges",
          "charges",
          "charges",
          "charges",
          "charges",
          "charges",
          "charges",
          "charges",
          "charges",
          "charges",
          "charges",
          "charges",
          "charges",
          "charges",
          "charges",
          "charges",
          "charges",
          "charges",
          "charges",
          "charges",
          "charges",
          "charges",
          "charges",
          "charges",
          "charges",
          "charges",
          "charges",
          "charges",
          "charges",
          "charges",
          "charges",
          "charges",
          "charges",
          "charges",
          "charges",
          "charges",
          "charges",
          "charges",
          "charges",
          "charges",
          "charges",
          "charges",
          "charges",
          "charges",
          "charges",
          "charges",
          "charges",
          "charges",
          "charges",
          "charges",
          "charges",
          "charges",
          "charges",
          "charges",
          "charges",
          "charges",
          "charges",
          "charges",
          "charges",
          "charges",
          "charges",
          "charges",
          "charges",
          "charges",
          "charges",
          "charges",
          "charges",
          "charges",
          "charges",
          "charges",
          "charges",
          "charges",
          "charges",
          "charges",
          "charges",
          "charges",
          "charges",
          "charges",
          "charges",
          "charges",
          "charges",
          "charges",
          "charges",
          "charges",
          "charges",
          "charges",
          "charges",
          "charges",
          "charges",
          "charges",
          "charges",
          "charges",
          "charges",
          "charges",
          "charges",
          "charges",
          "charges",
          "charges",
          "charges",
          "charges",
          "charges",
          "charges",
          "charges",
          "charges",
          "charges",
          "charges",
          "charges",
          "charges",
          "charges",
          "charges",
          "charges",
          "charges",
          "charges",
          "charges",
          "charges",
          "charges",
          "charges",
          "charges",
          "charges",
          "charges",
          "charges",
          "charges",
          "charges",
          "charges",
          "charges",
          "charges",
          "charges",
          "charges",
          "charges",
          "charges",
          "charges",
          "charges",
          "charges",
          "charges",
          "charges",
          "charges",
          "charges",
          "charges",
          "charges",
          "charges",
          "charges",
          "charges",
          "charges",
          "charges",
          "charges",
          "charges",
          "charges",
          "charges",
          "charges",
          "charges",
          "charges",
          "charges",
          "charges",
          "charges",
          "charges",
          "charges",
          "charges",
          "charges",
          "charges",
          "charges",
          "charges",
          "charges",
          "charges",
          "charges",
          "charges",
          "charges",
          "charges",
          "charges",
          "charges",
          "charges",
          "charges",
          "charges",
          "charges",
          "charges",
          "charges",
          "charges",
          "charges",
          "charges",
          "charges",
          "charges",
          "charges",
          "charges",
          "charges",
          "charges",
          "charges",
          "charges",
          "charges",
          "charges",
          "charges",
          "charges",
          "charges",
          "charges",
          "charges",
          "charges",
          "charges",
          "charges",
          "charges",
          "charges",
          "charges",
          "charges",
          "charges",
          "charges",
          "charges",
          "charges",
          "charges",
          "charges",
          "charges",
          "charges",
          "charges",
          "charges",
          "charges",
          "charges",
          "charges",
          "charges",
          "charges",
          "charges",
          "charges",
          "charges",
          "charges",
          "charges",
          "charges",
          "charges",
          "charges",
          "charges",
          "charges",
          "charges",
          "charges",
          "charges",
          "charges",
          "charges",
          "charges",
          "charges",
          "charges",
          "charges",
          "charges",
          "charges",
          "charges",
          "charges",
          "charges",
          "charges",
          "charges",
          "charges",
          "charges",
          "charges",
          "charges",
          "charges",
          "charges",
          "charges",
          "charges",
          "charges",
          "charges",
          "charges",
          "charges",
          "charges",
          "charges",
          "charges",
          "charges",
          "charges",
          "charges",
          "charges",
          "charges",
          "charges",
          "charges",
          "charges",
          "charges",
          "charges",
          "charges",
          "charges",
          "charges",
          "charges",
          "charges",
          "charges",
          "charges",
          "charges",
          "charges",
          "charges",
          "charges",
          "charges",
          "charges",
          "charges",
          "charges",
          "charges",
          "charges"
         ],
         "x0": " ",
         "xaxis": "x",
         "y": [
          16884.924,
          1725.5523,
          4449.462,
          21984.47061,
          3866.8552,
          3756.6216,
          8240.5896,
          7281.5056,
          6406.4107,
          28923.13692,
          2721.3208,
          27808.7251,
          1826.843,
          11090.7178,
          39611.7577,
          1837.237,
          10797.3362,
          2395.17155,
          10602.385,
          36837.467,
          13228.84695,
          4149.736,
          1137.011,
          37701.8768,
          6203.90175,
          14001.1338,
          14451.83515,
          12268.63225,
          2775.19215,
          38711.0,
          35585.576,
          2198.18985,
          4687.797,
          13770.0979,
          51194.55914,
          1625.43375,
          15612.19335,
          2302.3,
          39774.2763,
          48173.361,
          3046.062,
          4949.7587,
          6272.4772,
          6313.759,
          6079.6715,
          20630.28351,
          3393.35635,
          3556.9223,
          12629.8967,
          38709.176,
          2211.13075,
          3579.8287,
          23568.272,
          37742.5757,
          8059.6791,
          47496.49445,
          13607.36875,
          34303.1672,
          23244.7902,
          5989.52365,
          8606.2174,
          4504.6624,
          30166.61817,
          4133.64165,
          14711.7438,
          1743.214,
          14235.072,
          6389.37785,
          5920.1041,
          17663.1442,
          16577.7795,
          6799.458,
          11741.726,
          11946.6259,
          7726.854,
          11356.6609,
          3947.4131,
          1532.4697,
          2755.02095,
          6571.02435,
          4441.21315,
          7935.29115,
          37165.1638,
          11033.6617,
          39836.519,
          21098.55405,
          43578.9394,
          11073.176,
          8026.6666,
          11082.5772,
          2026.9741,
          10942.13205,
          30184.9367,
          5729.0053,
          47291.055,
          3766.8838,
          12105.32,
          10226.2842,
          22412.6485,
          15820.699,
          6186.127,
          3645.0894,
          21344.8467,
          30942.1918,
          5003.853,
          17560.37975,
          2331.519,
          3877.30425,
          2867.1196,
          47055.5321,
          10825.2537,
          11881.358,
          4646.759,
          2404.7338,
          11488.31695,
          30259.99556,
          11381.3254,
          19107.7796,
          8601.3293,
          6686.4313,
          7740.337,
          1705.6245,
          2257.47525,
          39556.4945,
          10115.00885,
          3385.39915,
          17081.08,
          9634.538,
          32734.1863,
          6082.405,
          12815.44495,
          13616.3586,
          11163.568,
          1632.56445,
          2457.21115,
          2155.6815,
          1261.442,
          2045.68525,
          27322.73386,
          2166.732,
          27375.90478,
          3490.5491,
          18972.495,
          18157.876,
          20745.9891,
          5138.2567,
          40720.55105,
          9877.6077,
          10959.6947,
          1842.519,
          5125.2157,
          7789.635,
          6334.34355,
          19964.7463,
          7077.1894,
          6948.7008,
          21223.6758,
          15518.18025,
          36950.2567,
          19749.38338,
          21348.706,
          36149.4835,
          10450.552,
          5152.134,
          5028.1466,
          10407.08585,
          4830.63,
          6128.79745,
          2719.27975,
          4827.90495,
          13405.3903,
          8116.68,
          1694.7964,
          5246.047,
          2855.43755,
          48824.45,
          6455.86265,
          10436.096,
          8823.279,
          8538.28845,
          11735.87905,
          1631.8212,
          4005.4225,
          7419.4779,
          7731.4271,
          43753.33705,
          3981.9768,
          5325.651,
          6775.961,
          4922.9159,
          12557.6053,
          4883.866,
          2137.6536,
          12044.342,
          1137.4697,
          1639.5631,
          5649.715,
          8516.829,
          9644.2525,
          14901.5167,
          2130.6759,
          8871.1517,
          13012.20865,
          37133.8982,
          7147.105,
          4337.7352,
          11743.299,
          20984.0936,
          13880.949,
          6610.1097,
          1980.07,
          8162.71625,
          3537.703,
          5002.7827,
          8520.026,
          7371.772,
          10355.641,
          2483.736,
          3392.9768,
          25081.76784,
          5012.471,
          10564.8845,
          5253.524,
          34779.615,
          19515.5416,
          11987.1682,
          2689.4954,
          24227.33724,
          7358.17565,
          9225.2564,
          7443.64305,
          14001.2867,
          1727.785,
          12333.828,
          6710.1919,
          19444.2658,
          1615.7667,
          4463.2051,
          17352.6803,
          7152.6714,
          38511.6283,
          5354.07465,
          35160.13457,
          7196.867,
          29523.1656,
          24476.47851,
          12648.7034,
          1986.9334,
          1832.094,
          4040.55825,
          12829.4551,
          47305.305,
          44260.7499,
          4260.744,
          41097.16175,
          13047.33235,
          43921.1837,
          5400.9805,
          11520.09985,
          33750.2918,
          11837.16,
          17085.2676,
          24869.8368,
          36219.40545,
          20462.99766,
          46151.1245,
          17179.522,
          14590.63205,
          7441.053,
          9282.4806,
          1719.4363,
          42856.838,
          7265.7025,
          9617.66245,
          2523.1695,
          9715.841,
          2803.69785,
          2150.469,
          12928.7911,
          9855.1314,
          22331.5668,
          48549.17835,
          4237.12655,
          11879.10405,
          9625.92,
          7742.1098,
          9432.9253,
          14256.1928,
          47896.79135,
          25992.82104,
          3172.018,
          20277.80751,
          42112.2356,
          2156.7518,
          3906.127,
          1704.5681,
          16297.846,
          21978.6769,
          38746.3551,
          9249.4952,
          6746.7425,
          24873.3849,
          12265.5069,
          4349.462,
          12646.207,
          19442.3535,
          20177.67113,
          4151.0287,
          11944.59435,
          7749.1564,
          8444.474,
          1737.376,
          42124.5153,
          8124.4084,
          34838.873,
          9722.7695,
          8835.26495,
          10435.06525,
          7421.19455,
          4667.60765,
          4894.7533,
          24671.66334,
          35491.64,
          11566.30055,
          2866.091,
          6600.20595,
          3561.8889,
          42760.5022,
          47928.03,
          9144.565,
          48517.56315,
          24393.6224,
          13429.0354,
          11658.37915,
          19144.57652,
          13822.803,
          12142.5786,
          13937.6665,
          41919.097,
          8232.6388,
          18955.22017,
          13352.0998,
          13217.0945,
          13981.85035,
          10977.2063,
          6184.2994,
          4889.9995,
          8334.45755,
          5478.0368,
          1635.73365,
          11830.6072,
          8932.084,
          3554.203,
          12404.8791,
          14133.03775,
          24603.04837,
          8944.1151,
          9620.3307,
          1837.2819,
          1607.5101,
          10043.249,
          4751.07,
          13844.506,
          2597.779,
          3180.5101,
          9778.3472,
          13430.265,
          8017.06115,
          8116.26885,
          3481.868,
          13415.0381,
          12029.2867,
          7639.41745,
          36085.219,
          1391.5287,
          18033.9679,
          21659.9301,
          38126.2465,
          16455.70785,
          27000.98473,
          15006.57945,
          42303.69215,
          20781.48892,
          5846.9176,
          8302.53565,
          1261.859,
          11856.4115,
          30284.64294,
          3176.8159,
          4618.0799,
          10736.87075,
          2138.0707,
          8964.06055,
          9290.1395,
          9411.005,
          7526.70645,
          8522.003,
          16586.49771,
          14988.432,
          1631.6683,
          9264.797,
          8083.9198,
          14692.66935,
          10269.46,
          3260.199,
          11396.9002,
          4185.0979,
          8539.671,
          6652.5288,
          4074.4537,
          1621.3402,
          19594.80965,
          14455.64405,
          5080.096,
          2134.9015,
          7345.7266,
          9140.951,
          18608.262,
          14418.2804,
          28950.4692,
          46889.2612,
          46599.1084,
          39125.33225,
          2727.3951,
          8968.33,
          9788.8659,
          6555.07035,
          7323.734819,
          3167.45585,
          18804.7524,
          23082.95533,
          4906.40965,
          5969.723,
          12638.195,
          4243.59005,
          13919.8229,
          2254.7967,
          5926.846,
          12592.5345,
          2897.3235,
          4738.2682,
          37079.372,
          1149.3959,
          28287.89766,
          26109.32905,
          7345.084,
          12730.9996,
          11454.0215,
          5910.944,
          4762.329,
          7512.267,
          4032.2407,
          1969.614,
          1769.53165,
          4686.3887,
          21797.0004,
          11881.9696,
          11840.77505,
          10601.412,
          7682.67,
          10381.4787,
          22144.032,
          15230.32405,
          11165.41765,
          1632.03625,
          19521.9682,
          13224.693,
          12643.3778,
          23288.9284,
          2201.0971,
          2497.0383,
          2203.47185,
          1744.465,
          20878.78443,
          25382.297,
          28868.6639,
          35147.52848,
          2534.39375,
          1534.3045,
          1824.2854,
          15555.18875,
          9304.7019,
          1622.1885,
          9880.068,
          9563.029,
          4347.02335,
          12475.3513,
          1253.936,
          48885.13561,
          10461.9794,
          1748.774,
          24513.09126,
          2196.4732,
          12574.049,
          17942.106,
          1967.0227,
          4931.647,
          8027.968,
          8211.1002,
          13470.86,
          36197.699,
          6837.3687,
          22218.1149,
          32548.3405,
          5974.3847,
          6796.86325,
          2643.2685,
          3077.0955,
          3044.2133,
          11455.28,
          11763.0009,
          2498.4144,
          9361.3268,
          1256.299,
          21082.16,
          11362.755,
          27724.28875,
          8413.46305,
          5240.765,
          3857.75925,
          25656.57526,
          3994.1778,
          9866.30485,
          5397.6167,
          38245.59327,
          11482.63485,
          24059.68019,
          9861.025,
          8342.90875,
          1708.0014,
          48675.5177,
          14043.4767,
          12925.886,
          19214.70553,
          13831.1152,
          6067.12675,
          5972.378,
          8825.086,
          8233.0975,
          27346.04207,
          6196.448,
          3056.3881,
          13887.204,
          63770.42801,
          10231.4999,
          23807.2406,
          3268.84665,
          11538.421,
          3213.62205,
          45863.205,
          13390.559,
          3972.9247,
          12957.118,
          11187.6567,
          17878.90068,
          3847.674,
          8334.5896,
          3935.1799,
          39983.42595,
          1646.4297,
          9193.8385,
          10923.9332,
          2494.022,
          9058.7303,
          2801.2588,
          2128.43105,
          6373.55735,
          7256.7231,
          11552.904,
          45702.02235,
          3761.292,
          2219.4451,
          4753.6368,
          31620.00106,
          13224.05705,
          12222.8983,
          1664.9996,
          58571.07448,
          9724.53,
          3206.49135,
          12913.9924,
          1639.5631,
          6356.2707,
          17626.23951,
          1242.816,
          4779.6023,
          3861.20965,
          43943.8761,
          13635.6379,
          5976.8311,
          11842.442,
          8428.0693,
          2566.4707,
          15359.1045,
          5709.1644,
          8823.98575,
          7640.3092,
          5594.8455,
          7441.501,
          33471.97189,
          1633.0444,
          9174.13565,
          11070.535,
          16085.1275,
          17468.9839,
          9283.562,
          3558.62025,
          25678.77845,
          4435.0942,
          39241.442,
          8547.6913,
          6571.544,
          2207.69745,
          6753.038,
          1880.07,
          42969.8527,
          11658.11505,
          23306.547,
          34439.8559,
          10713.644,
          3659.346,
          40182.246,
          9182.17,
          34617.84065,
          12129.61415,
          3736.4647,
          6748.5912,
          11326.71487,
          11365.952,
          42983.4585,
          10085.846,
          1977.815,
          3366.6697,
          7173.35995,
          9391.346,
          14410.9321,
          2709.1119,
          24915.04626,
          20149.3229,
          12949.1554,
          6666.243,
          32787.45859,
          13143.86485,
          4466.6214,
          18806.14547,
          10141.1362,
          6123.5688,
          8252.2843,
          1712.227,
          12430.95335,
          9800.8882,
          10579.711,
          8280.6227,
          8527.532,
          12244.531,
          24667.419,
          3410.324,
          4058.71245,
          26392.26029,
          14394.39815,
          6435.6237,
          22192.43711,
          5148.5526,
          1136.3994,
          27037.9141,
          42560.4304,
          8703.456,
          40003.33225,
          45710.20785,
          6500.2359,
          4837.5823,
          3943.5954,
          4399.731,
          6185.3208,
          46200.9851,
          7222.78625,
          12485.8009,
          46130.5265,
          12363.547,
          10156.7832,
          2585.269,
          1242.26,
          40103.89,
          9863.4718,
          4766.022,
          11244.3769,
          7729.64575,
          5438.7491,
          26236.57997,
          34806.4677,
          2104.1134,
          8068.185,
          2362.22905,
          2352.96845,
          3577.999,
          3201.24515,
          29186.48236,
          40273.6455,
          10976.24575,
          3500.6123,
          2020.5523,
          9541.69555,
          9504.3103,
          5385.3379,
          8930.93455,
          5375.038,
          44400.4064,
          10264.4421,
          6113.23105,
          5469.0066,
          1727.54,
          10107.2206,
          8310.83915,
          1984.4533,
          2457.502,
          12146.971,
          9566.9909,
          13112.6048,
          10848.1343,
          12231.6136,
          9875.6804,
          11264.541,
          12979.358,
          1263.249,
          10106.13425,
          40932.4295,
          6664.68595,
          16657.71745,
          2217.6012,
          6781.3542,
          19361.9988,
          10065.413,
          4234.927,
          9447.25035,
          14007.222,
          9583.8933,
          40419.0191,
          3484.331,
          36189.1017,
          44585.45587,
          8604.48365,
          18246.4955,
          43254.41795,
          3757.8448,
          8827.2099,
          9910.35985,
          11737.84884,
          1627.28245,
          8556.907,
          3062.50825,
          19539.243,
          1906.35825,
          14210.53595,
          11833.7823,
          17128.42608,
          5031.26955,
          7985.815,
          23065.4207,
          5428.7277,
          36307.7983,
          3925.7582,
          2416.955,
          19040.876,
          3070.8087,
          9095.06825,
          11842.62375,
          8062.764,
          7050.642,
          14319.031,
          6933.24225,
          27941.28758,
          11150.78,
          12797.20962,
          17748.5062,
          7261.741,
          10560.4917,
          6986.697,
          7448.40395,
          5934.3798,
          9869.8102,
          18259.216,
          1146.7966,
          9386.1613,
          24520.264,
          4350.5144,
          6414.178,
          12741.16745,
          1917.3184,
          5209.57885,
          13457.9608,
          5662.225,
          1252.407,
          2731.9122,
          21195.818,
          7209.4918,
          18310.742,
          4266.1658,
          4719.52405,
          11848.141,
          17904.52705,
          7046.7222,
          14313.8463,
          2103.08,
          38792.6856,
          1815.8759,
          7731.85785,
          28476.73499,
          2136.88225,
          1131.5066,
          3309.7926,
          9414.92,
          6360.9936,
          11013.7119,
          4428.88785,
          5584.3057,
          1877.9294,
          2842.76075,
          3597.596,
          23401.30575,
          55135.40209,
          7445.918,
          2680.9493,
          1621.8827,
          8219.2039,
          12523.6048,
          16069.08475,
          43813.8661,
          20773.62775,
          39597.4072,
          6117.4945,
          13393.756,
          5266.3656,
          4719.73655,
          11743.9341,
          5377.4578,
          7160.3303,
          4402.233,
          11657.7189,
          6402.29135,
          12622.1795,
          1526.312,
          12323.936,
          36021.0112,
          27533.9129,
          10072.05505,
          45008.9555,
          9872.701,
          2438.0552,
          2974.126,
          10601.63225,
          37270.1512,
          14119.62,
          42111.6647,
          11729.6795,
          24106.91255,
          1875.344,
          40974.1649,
          15817.9857,
          18218.16139,
          10965.446,
          46113.511,
          7151.092,
          12269.68865,
          5458.04645,
          8782.469,
          6600.361,
          1141.4451,
          11576.13,
          13129.60345,
          4391.652,
          8457.818,
          3392.3652,
          5966.8874,
          6849.026,
          8891.1395,
          2690.1138,
          26140.3603,
          6653.7886,
          6282.235,
          6311.952,
          3443.064,
          2789.0574,
          2585.85065,
          46255.1125,
          4877.98105,
          19719.6947,
          27218.43725,
          5272.1758,
          1682.597,
          11945.1327,
          29330.98315,
          7243.8136,
          10422.91665,
          44202.6536,
          13555.0049,
          13063.883,
          19798.05455,
          2221.56445,
          1634.5734,
          2117.33885,
          8688.85885,
          48673.5588,
          4661.28635,
          8125.7845,
          12644.589,
          4564.19145,
          4846.92015,
          7633.7206,
          15170.069,
          17496.306,
          2639.0429,
          33732.6867,
          14382.70905,
          7626.993,
          5257.50795,
          2473.3341,
          21774.32215,
          35069.37452,
          13041.921,
          5245.2269,
          13451.122,
          13462.52,
          5488.262,
          4320.41085,
          6250.435,
          25333.33284,
          2913.569,
          12032.326,
          13470.8044,
          6289.7549,
          2927.0647,
          6238.298,
          10096.97,
          7348.142,
          4673.3922,
          12233.828,
          32108.66282,
          8965.79575,
          2304.0022,
          9487.6442,
          1121.8739,
          9549.5651,
          2217.46915,
          1628.4709,
          12982.8747,
          11674.13,
          7160.094,
          39047.285,
          6358.77645,
          19933.458,
          11534.87265,
          47462.894,
          4527.18295,
          38998.546,
          20009.63365,
          3875.7341,
          41999.52,
          12609.88702,
          41034.2214,
          28468.91901,
          2730.10785,
          3353.284,
          14474.675,
          9500.57305,
          26467.09737,
          4746.344,
          23967.38305,
          7518.02535,
          3279.86855,
          8596.8278,
          10702.6424,
          4992.3764,
          2527.81865,
          1759.338,
          2322.6218,
          16138.76205,
          7804.1605,
          2902.9065,
          9704.66805,
          4889.0368,
          25517.11363,
          4500.33925,
          19199.944,
          16796.41194,
          4915.05985,
          7624.63,
          8410.04685,
          28340.18885,
          4518.82625,
          14571.8908,
          3378.91,
          7144.86265,
          10118.424,
          5484.4673,
          16420.49455,
          7986.47525,
          7418.522,
          13887.9685,
          6551.7501,
          5267.81815,
          17361.7661,
          34472.841,
          1972.95,
          21232.18226,
          8627.5411,
          4433.3877,
          4438.2634,
          24915.22085,
          23241.47453,
          9957.7216,
          8269.044,
          18767.7377,
          36580.28216,
          8765.249,
          5383.536,
          12124.9924,
          2709.24395,
          3987.926,
          12495.29085,
          26018.95052,
          8798.593,
          35595.5898,
          42211.1382,
          1711.0268,
          8569.8618,
          2020.177,
          16450.8947,
          21595.38229,
          9850.432,
          6877.9801,
          21677.28345,
          44423.803,
          4137.5227,
          13747.87235,
          12950.0712,
          12094.478,
          37484.4493,
          39725.51805,
          2250.8352,
          22493.65964,
          20234.85475,
          1704.70015,
          33475.81715,
          3161.454,
          11394.06555,
          21880.82,
          7325.0482,
          44501.3982,
          3594.17085,
          39727.614,
          8023.13545,
          14394.5579,
          9288.0267,
          25309.489,
          3353.4703,
          10594.50155,
          8277.523,
          17929.30337,
          2480.9791,
          4462.7218,
          1981.5819,
          11554.2236,
          48970.2476,
          6548.19505,
          5708.867,
          7045.499,
          8978.1851,
          5757.41345,
          14349.8544,
          10928.849,
          39871.7043,
          13974.45555,
          1909.52745,
          12096.6512,
          13204.28565,
          4562.8421,
          8551.347,
          2102.2647,
          34672.1472,
          15161.5344,
          11884.04858,
          4454.40265,
          5855.9025,
          4076.497,
          15019.76005,
          19023.26,
          10796.35025,
          11353.2276,
          9748.9106,
          10577.087,
          41676.0811,
          11286.5387,
          3591.48,
          33907.548,
          11299.343,
          4561.1885,
          44641.1974,
          1674.6323,
          23045.56616,
          3227.1211,
          16776.30405,
          11253.421,
          3471.4096,
          11363.2832,
          20420.60465,
          10338.9316,
          8988.15875,
          10493.9458,
          2904.088,
          8605.3615,
          11512.405,
          41949.2441,
          24180.9335,
          5312.16985,
          2396.0959,
          10807.4863,
          9222.4026,
          36124.5737,
          38282.7495,
          5693.4305,
          34166.273,
          8347.1643,
          46661.4424,
          18903.49141,
          40904.1995,
          14254.6082,
          10214.636,
          5836.5204,
          14358.36437,
          1728.897,
          8582.3023,
          3693.428,
          20709.02034,
          9991.03765,
          19673.33573,
          11085.5868,
          7623.518,
          3176.2877,
          3704.3545,
          36898.73308,
          9048.0273,
          7954.517,
          27117.99378,
          6338.0756,
          9630.397,
          11289.10925,
          52590.82939,
          2261.5688,
          10791.96,
          5979.731,
          2203.73595,
          12235.8392,
          40941.2854,
          5630.45785,
          11015.1747,
          7228.21565,
          39722.7462,
          14426.07385,
          2459.7201,
          3989.841,
          7727.2532,
          5124.1887,
          18963.17192,
          2200.83085,
          7153.5539,
          5227.98875,
          10982.5013,
          4529.477,
          4670.64,
          6112.35295,
          17178.6824,
          22478.6,
          11093.6229,
          6457.8434,
          4433.9159,
          2154.361,
          23887.6627,
          6496.886,
          2899.48935,
          19350.3689,
          7650.77375,
          2850.68375,
          2632.992,
          9447.3824,
          18328.2381,
          8603.8234,
          37465.34375,
          13844.7972,
          21771.3423,
          13126.67745,
          5327.40025,
          13725.47184,
          13019.16105,
          8671.19125,
          4134.08245,
          18838.70366,
          33307.5508,
          5699.8375,
          6393.60345,
          4934.705,
          6198.7518,
          8733.22925,
          2055.3249,
          9964.06,
          18223.4512,
          5116.5004,
          36910.60803,
          38415.474,
          20296.86345,
          12347.172,
          5373.36425,
          23563.01618,
          1702.4553,
          10806.839,
          3956.07145,
          12890.05765,
          5415.6612,
          4058.1161,
          41661.602,
          7537.1639,
          4718.20355,
          6593.5083,
          8442.667,
          26125.67477,
          6858.4796,
          4795.6568,
          6640.54485,
          7162.0122,
          10594.2257,
          11938.25595,
          60021.39897,
          20167.33603,
          12479.70895,
          11345.519,
          8515.7587,
          2699.56835,
          14449.8544,
          12224.35085,
          6985.50695,
          3238.4357,
          47269.854,
          49577.6624,
          4296.2712,
          3171.6149,
          1135.9407,
          5615.369,
          9101.798,
          6059.173,
          1633.9618,
          37607.5277,
          18648.4217,
          1241.565,
          16232.847,
          15828.82173,
          4415.1588,
          6474.013,
          11436.73815,
          11305.93455,
          30063.58055,
          10197.7722,
          4544.2348,
          3277.161,
          6770.1925,
          7337.748,
          10370.91255,
          26926.5144,
          10704.47,
          34254.05335,
          1880.487,
          8615.3,
          3292.52985,
          3021.80915,
          14478.33015,
          4747.0529,
          17043.3414,
          10959.33,
          2741.948,
          4357.04365,
          22462.04375,
          4189.1131,
          8283.6807,
          24535.69855,
          14283.4594,
          1720.3537,
          47403.88,
          8534.6718,
          3732.6251,
          5472.449,
          38344.566,
          7147.4728,
          7133.9025,
          34828.654,
          1515.3449,
          9301.89355,
          11931.12525,
          1964.78,
          1708.92575,
          4340.4409,
          5261.46945,
          2710.82855,
          62592.87309,
          46718.16325,
          3208.787,
          37829.7242,
          21259.37795,
          2464.6188,
          16115.3045,
          21472.4788,
          33900.653,
          6875.961,
          6940.90985,
          4571.41305,
          4536.259,
          36397.576,
          18765.87545,
          11272.33139,
          1731.677,
          1163.4627,
          19496.71917,
          7201.70085,
          5425.02335,
          28101.33305,
          12981.3457,
          43896.3763,
          4239.89265,
          13143.33665,
          7050.0213,
          9377.9047,
          22395.74424,
          10325.206,
          12629.1656,
          10795.93733,
          11411.685,
          10600.5483,
          2205.9808,
          1629.8335,
          2007.945,
          29141.3603
         ],
         "y0": " ",
         "yaxis": "y",
         "type": "box"
        }
       ],
       "layout": {
        "template": {
         "data": {
          "histogram2dcontour": [
           {
            "type": "histogram2dcontour",
            "colorbar": {
             "outlinewidth": 0,
             "ticks": ""
            },
            "colorscale": [
             [
              0.0,
              "#0d0887"
             ],
             [
              0.1111111111111111,
              "#46039f"
             ],
             [
              0.2222222222222222,
              "#7201a8"
             ],
             [
              0.3333333333333333,
              "#9c179e"
             ],
             [
              0.4444444444444444,
              "#bd3786"
             ],
             [
              0.5555555555555556,
              "#d8576b"
             ],
             [
              0.6666666666666666,
              "#ed7953"
             ],
             [
              0.7777777777777778,
              "#fb9f3a"
             ],
             [
              0.8888888888888888,
              "#fdca26"
             ],
             [
              1.0,
              "#f0f921"
             ]
            ]
           }
          ],
          "choropleth": [
           {
            "type": "choropleth",
            "colorbar": {
             "outlinewidth": 0,
             "ticks": ""
            }
           }
          ],
          "histogram2d": [
           {
            "type": "histogram2d",
            "colorbar": {
             "outlinewidth": 0,
             "ticks": ""
            },
            "colorscale": [
             [
              0.0,
              "#0d0887"
             ],
             [
              0.1111111111111111,
              "#46039f"
             ],
             [
              0.2222222222222222,
              "#7201a8"
             ],
             [
              0.3333333333333333,
              "#9c179e"
             ],
             [
              0.4444444444444444,
              "#bd3786"
             ],
             [
              0.5555555555555556,
              "#d8576b"
             ],
             [
              0.6666666666666666,
              "#ed7953"
             ],
             [
              0.7777777777777778,
              "#fb9f3a"
             ],
             [
              0.8888888888888888,
              "#fdca26"
             ],
             [
              1.0,
              "#f0f921"
             ]
            ]
           }
          ],
          "heatmap": [
           {
            "type": "heatmap",
            "colorbar": {
             "outlinewidth": 0,
             "ticks": ""
            },
            "colorscale": [
             [
              0.0,
              "#0d0887"
             ],
             [
              0.1111111111111111,
              "#46039f"
             ],
             [
              0.2222222222222222,
              "#7201a8"
             ],
             [
              0.3333333333333333,
              "#9c179e"
             ],
             [
              0.4444444444444444,
              "#bd3786"
             ],
             [
              0.5555555555555556,
              "#d8576b"
             ],
             [
              0.6666666666666666,
              "#ed7953"
             ],
             [
              0.7777777777777778,
              "#fb9f3a"
             ],
             [
              0.8888888888888888,
              "#fdca26"
             ],
             [
              1.0,
              "#f0f921"
             ]
            ]
           }
          ],
          "heatmapgl": [
           {
            "type": "heatmapgl",
            "colorbar": {
             "outlinewidth": 0,
             "ticks": ""
            },
            "colorscale": [
             [
              0.0,
              "#0d0887"
             ],
             [
              0.1111111111111111,
              "#46039f"
             ],
             [
              0.2222222222222222,
              "#7201a8"
             ],
             [
              0.3333333333333333,
              "#9c179e"
             ],
             [
              0.4444444444444444,
              "#bd3786"
             ],
             [
              0.5555555555555556,
              "#d8576b"
             ],
             [
              0.6666666666666666,
              "#ed7953"
             ],
             [
              0.7777777777777778,
              "#fb9f3a"
             ],
             [
              0.8888888888888888,
              "#fdca26"
             ],
             [
              1.0,
              "#f0f921"
             ]
            ]
           }
          ],
          "contourcarpet": [
           {
            "type": "contourcarpet",
            "colorbar": {
             "outlinewidth": 0,
             "ticks": ""
            }
           }
          ],
          "contour": [
           {
            "type": "contour",
            "colorbar": {
             "outlinewidth": 0,
             "ticks": ""
            },
            "colorscale": [
             [
              0.0,
              "#0d0887"
             ],
             [
              0.1111111111111111,
              "#46039f"
             ],
             [
              0.2222222222222222,
              "#7201a8"
             ],
             [
              0.3333333333333333,
              "#9c179e"
             ],
             [
              0.4444444444444444,
              "#bd3786"
             ],
             [
              0.5555555555555556,
              "#d8576b"
             ],
             [
              0.6666666666666666,
              "#ed7953"
             ],
             [
              0.7777777777777778,
              "#fb9f3a"
             ],
             [
              0.8888888888888888,
              "#fdca26"
             ],
             [
              1.0,
              "#f0f921"
             ]
            ]
           }
          ],
          "surface": [
           {
            "type": "surface",
            "colorbar": {
             "outlinewidth": 0,
             "ticks": ""
            },
            "colorscale": [
             [
              0.0,
              "#0d0887"
             ],
             [
              0.1111111111111111,
              "#46039f"
             ],
             [
              0.2222222222222222,
              "#7201a8"
             ],
             [
              0.3333333333333333,
              "#9c179e"
             ],
             [
              0.4444444444444444,
              "#bd3786"
             ],
             [
              0.5555555555555556,
              "#d8576b"
             ],
             [
              0.6666666666666666,
              "#ed7953"
             ],
             [
              0.7777777777777778,
              "#fb9f3a"
             ],
             [
              0.8888888888888888,
              "#fdca26"
             ],
             [
              1.0,
              "#f0f921"
             ]
            ]
           }
          ],
          "mesh3d": [
           {
            "type": "mesh3d",
            "colorbar": {
             "outlinewidth": 0,
             "ticks": ""
            }
           }
          ],
          "scatter": [
           {
            "marker": {
             "line": {
              "color": "#283442"
             }
            },
            "type": "scatter"
           }
          ],
          "parcoords": [
           {
            "type": "parcoords",
            "line": {
             "colorbar": {
              "outlinewidth": 0,
              "ticks": ""
             }
            }
           }
          ],
          "scatterpolargl": [
           {
            "type": "scatterpolargl",
            "marker": {
             "colorbar": {
              "outlinewidth": 0,
              "ticks": ""
             }
            }
           }
          ],
          "bar": [
           {
            "error_x": {
             "color": "#f2f5fa"
            },
            "error_y": {
             "color": "#f2f5fa"
            },
            "marker": {
             "line": {
              "color": "rgb(17,17,17)",
              "width": 0.5
             },
             "pattern": {
              "fillmode": "overlay",
              "size": 10,
              "solidity": 0.2
             }
            },
            "type": "bar"
           }
          ],
          "scattergeo": [
           {
            "type": "scattergeo",
            "marker": {
             "colorbar": {
              "outlinewidth": 0,
              "ticks": ""
             }
            }
           }
          ],
          "scatterpolar": [
           {
            "type": "scatterpolar",
            "marker": {
             "colorbar": {
              "outlinewidth": 0,
              "ticks": ""
             }
            }
           }
          ],
          "histogram": [
           {
            "marker": {
             "pattern": {
              "fillmode": "overlay",
              "size": 10,
              "solidity": 0.2
             }
            },
            "type": "histogram"
           }
          ],
          "scattergl": [
           {
            "marker": {
             "line": {
              "color": "#283442"
             }
            },
            "type": "scattergl"
           }
          ],
          "scatter3d": [
           {
            "type": "scatter3d",
            "line": {
             "colorbar": {
              "outlinewidth": 0,
              "ticks": ""
             }
            },
            "marker": {
             "colorbar": {
              "outlinewidth": 0,
              "ticks": ""
             }
            }
           }
          ],
          "scattermapbox": [
           {
            "type": "scattermapbox",
            "marker": {
             "colorbar": {
              "outlinewidth": 0,
              "ticks": ""
             }
            }
           }
          ],
          "scatterternary": [
           {
            "type": "scatterternary",
            "marker": {
             "colorbar": {
              "outlinewidth": 0,
              "ticks": ""
             }
            }
           }
          ],
          "scattercarpet": [
           {
            "type": "scattercarpet",
            "marker": {
             "colorbar": {
              "outlinewidth": 0,
              "ticks": ""
             }
            }
           }
          ],
          "carpet": [
           {
            "aaxis": {
             "endlinecolor": "#A2B1C6",
             "gridcolor": "#506784",
             "linecolor": "#506784",
             "minorgridcolor": "#506784",
             "startlinecolor": "#A2B1C6"
            },
            "baxis": {
             "endlinecolor": "#A2B1C6",
             "gridcolor": "#506784",
             "linecolor": "#506784",
             "minorgridcolor": "#506784",
             "startlinecolor": "#A2B1C6"
            },
            "type": "carpet"
           }
          ],
          "table": [
           {
            "cells": {
             "fill": {
              "color": "#506784"
             },
             "line": {
              "color": "rgb(17,17,17)"
             }
            },
            "header": {
             "fill": {
              "color": "#2a3f5f"
             },
             "line": {
              "color": "rgb(17,17,17)"
             }
            },
            "type": "table"
           }
          ],
          "barpolar": [
           {
            "marker": {
             "line": {
              "color": "rgb(17,17,17)",
              "width": 0.5
             },
             "pattern": {
              "fillmode": "overlay",
              "size": 10,
              "solidity": 0.2
             }
            },
            "type": "barpolar"
           }
          ],
          "pie": [
           {
            "automargin": true,
            "type": "pie"
           }
          ]
         },
         "layout": {
          "autotypenumbers": "strict",
          "colorway": [
           "#636efa",
           "#EF553B",
           "#00cc96",
           "#ab63fa",
           "#FFA15A",
           "#19d3f3",
           "#FF6692",
           "#B6E880",
           "#FF97FF",
           "#FECB52"
          ],
          "font": {
           "color": "#f2f5fa"
          },
          "hovermode": "closest",
          "hoverlabel": {
           "align": "left"
          },
          "paper_bgcolor": "rgb(17,17,17)",
          "plot_bgcolor": "rgb(17,17,17)",
          "polar": {
           "bgcolor": "rgb(17,17,17)",
           "angularaxis": {
            "gridcolor": "#506784",
            "linecolor": "#506784",
            "ticks": ""
           },
           "radialaxis": {
            "gridcolor": "#506784",
            "linecolor": "#506784",
            "ticks": ""
           }
          },
          "ternary": {
           "bgcolor": "rgb(17,17,17)",
           "aaxis": {
            "gridcolor": "#506784",
            "linecolor": "#506784",
            "ticks": ""
           },
           "baxis": {
            "gridcolor": "#506784",
            "linecolor": "#506784",
            "ticks": ""
           },
           "caxis": {
            "gridcolor": "#506784",
            "linecolor": "#506784",
            "ticks": ""
           }
          },
          "coloraxis": {
           "colorbar": {
            "outlinewidth": 0,
            "ticks": ""
           }
          },
          "colorscale": {
           "sequential": [
            [
             0.0,
             "#0d0887"
            ],
            [
             0.1111111111111111,
             "#46039f"
            ],
            [
             0.2222222222222222,
             "#7201a8"
            ],
            [
             0.3333333333333333,
             "#9c179e"
            ],
            [
             0.4444444444444444,
             "#bd3786"
            ],
            [
             0.5555555555555556,
             "#d8576b"
            ],
            [
             0.6666666666666666,
             "#ed7953"
            ],
            [
             0.7777777777777778,
             "#fb9f3a"
            ],
            [
             0.8888888888888888,
             "#fdca26"
            ],
            [
             1.0,
             "#f0f921"
            ]
           ],
           "sequentialminus": [
            [
             0.0,
             "#0d0887"
            ],
            [
             0.1111111111111111,
             "#46039f"
            ],
            [
             0.2222222222222222,
             "#7201a8"
            ],
            [
             0.3333333333333333,
             "#9c179e"
            ],
            [
             0.4444444444444444,
             "#bd3786"
            ],
            [
             0.5555555555555556,
             "#d8576b"
            ],
            [
             0.6666666666666666,
             "#ed7953"
            ],
            [
             0.7777777777777778,
             "#fb9f3a"
            ],
            [
             0.8888888888888888,
             "#fdca26"
            ],
            [
             1.0,
             "#f0f921"
            ]
           ],
           "diverging": [
            [
             0,
             "#8e0152"
            ],
            [
             0.1,
             "#c51b7d"
            ],
            [
             0.2,
             "#de77ae"
            ],
            [
             0.3,
             "#f1b6da"
            ],
            [
             0.4,
             "#fde0ef"
            ],
            [
             0.5,
             "#f7f7f7"
            ],
            [
             0.6,
             "#e6f5d0"
            ],
            [
             0.7,
             "#b8e186"
            ],
            [
             0.8,
             "#7fbc41"
            ],
            [
             0.9,
             "#4d9221"
            ],
            [
             1,
             "#276419"
            ]
           ]
          },
          "xaxis": {
           "gridcolor": "#283442",
           "linecolor": "#506784",
           "ticks": "",
           "title": {
            "standoff": 15
           },
           "zerolinecolor": "#283442",
           "automargin": true,
           "zerolinewidth": 2
          },
          "yaxis": {
           "gridcolor": "#283442",
           "linecolor": "#506784",
           "ticks": "",
           "title": {
            "standoff": 15
           },
           "zerolinecolor": "#283442",
           "automargin": true,
           "zerolinewidth": 2
          },
          "scene": {
           "xaxis": {
            "backgroundcolor": "rgb(17,17,17)",
            "gridcolor": "#506784",
            "linecolor": "#506784",
            "showbackground": true,
            "ticks": "",
            "zerolinecolor": "#C8D4E3",
            "gridwidth": 2
           },
           "yaxis": {
            "backgroundcolor": "rgb(17,17,17)",
            "gridcolor": "#506784",
            "linecolor": "#506784",
            "showbackground": true,
            "ticks": "",
            "zerolinecolor": "#C8D4E3",
            "gridwidth": 2
           },
           "zaxis": {
            "backgroundcolor": "rgb(17,17,17)",
            "gridcolor": "#506784",
            "linecolor": "#506784",
            "showbackground": true,
            "ticks": "",
            "zerolinecolor": "#C8D4E3",
            "gridwidth": 2
           }
          },
          "shapedefaults": {
           "line": {
            "color": "#f2f5fa"
           }
          },
          "annotationdefaults": {
           "arrowcolor": "#f2f5fa",
           "arrowhead": 0,
           "arrowwidth": 1
          },
          "geo": {
           "bgcolor": "rgb(17,17,17)",
           "landcolor": "rgb(17,17,17)",
           "subunitcolor": "#506784",
           "showland": true,
           "showlakes": true,
           "lakecolor": "rgb(17,17,17)"
          },
          "title": {
           "x": 0.05
          },
          "updatemenudefaults": {
           "bgcolor": "#506784",
           "borderwidth": 0
          },
          "sliderdefaults": {
           "bgcolor": "#C8D4E3",
           "borderwidth": 1,
           "bordercolor": "rgb(17,17,17)",
           "tickwidth": 0
          },
          "mapbox": {
           "style": "dark"
          }
         }
        },
        "xaxis": {
         "anchor": "y",
         "domain": [
          0.0,
          1.0
         ],
         "title": {
          "text": "variable"
         }
        },
        "yaxis": {
         "anchor": "x",
         "domain": [
          0.0,
          1.0
         ],
         "title": {
          "text": "value"
         }
        },
        "legend": {
         "tracegroupgap": 0
        },
        "margin": {
         "t": 60
        },
        "boxmode": "group"
       },
       "config": {
        "plotlyServerURL": "https://plot.ly"
       }
      },
      "text/html": "<div>                            <div id=\"7e44e782-8653-42cc-b37a-72f37f723ee3\" class=\"plotly-graph-div\" style=\"height:525px; width:100%;\"></div>            <script type=\"text/javascript\">                require([\"plotly\"], function(Plotly) {                    window.PLOTLYENV=window.PLOTLYENV || {};                                    if (document.getElementById(\"7e44e782-8653-42cc-b37a-72f37f723ee3\")) {                    Plotly.newPlot(                        \"7e44e782-8653-42cc-b37a-72f37f723ee3\",                        [{\"alignmentgroup\":\"True\",\"boxpoints\":\"all\",\"hovertemplate\":\"variable=%{x}<br>value=%{y}<extra></extra>\",\"legendgroup\":\"\",\"marker\":{\"color\":\"#636efa\"},\"name\":\"\",\"notched\":false,\"offsetgroup\":\"\",\"orientation\":\"v\",\"showlegend\":false,\"x\":[\"charges\",\"charges\",\"charges\",\"charges\",\"charges\",\"charges\",\"charges\",\"charges\",\"charges\",\"charges\",\"charges\",\"charges\",\"charges\",\"charges\",\"charges\",\"charges\",\"charges\",\"charges\",\"charges\",\"charges\",\"charges\",\"charges\",\"charges\",\"charges\",\"charges\",\"charges\",\"charges\",\"charges\",\"charges\",\"charges\",\"charges\",\"charges\",\"charges\",\"charges\",\"charges\",\"charges\",\"charges\",\"charges\",\"charges\",\"charges\",\"charges\",\"charges\",\"charges\",\"charges\",\"charges\",\"charges\",\"charges\",\"charges\",\"charges\",\"charges\",\"charges\",\"charges\",\"charges\",\"charges\",\"charges\",\"charges\",\"charges\",\"charges\",\"charges\",\"charges\",\"charges\",\"charges\",\"charges\",\"charges\",\"charges\",\"charges\",\"charges\",\"charges\",\"charges\",\"charges\",\"charges\",\"charges\",\"charges\",\"charges\",\"charges\",\"charges\",\"charges\",\"charges\",\"charges\",\"charges\",\"charges\",\"charges\",\"charges\",\"charges\",\"charges\",\"charges\",\"charges\",\"charges\",\"charges\",\"charges\",\"charges\",\"charges\",\"charges\",\"charges\",\"charges\",\"charges\",\"charges\",\"charges\",\"charges\",\"charges\",\"charges\",\"charges\",\"charges\",\"charges\",\"charges\",\"charges\",\"charges\",\"charges\",\"charges\",\"charges\",\"charges\",\"charges\",\"charges\",\"charges\",\"charges\",\"charges\",\"charges\",\"charges\",\"charges\",\"charges\",\"charges\",\"charges\",\"charges\",\"charges\",\"charges\",\"charges\",\"charges\",\"charges\",\"charges\",\"charges\",\"charges\",\"charges\",\"charges\",\"charges\",\"charges\",\"charges\",\"charges\",\"charges\",\"charges\",\"charges\",\"charges\",\"charges\",\"charges\",\"charges\",\"charges\",\"charges\",\"charges\",\"charges\",\"charges\",\"charges\",\"charges\",\"charges\",\"charges\",\"charges\",\"charges\",\"charges\",\"charges\",\"charges\",\"charges\",\"charges\",\"charges\",\"charges\",\"charges\",\"charges\",\"charges\",\"charges\",\"charges\",\"charges\",\"charges\",\"charges\",\"charges\",\"charges\",\"charges\",\"charges\",\"charges\",\"charges\",\"charges\",\"charges\",\"charges\",\"charges\",\"charges\",\"charges\",\"charges\",\"charges\",\"charges\",\"charges\",\"charges\",\"charges\",\"charges\",\"charges\",\"charges\",\"charges\",\"charges\",\"charges\",\"charges\",\"charges\",\"charges\",\"charges\",\"charges\",\"charges\",\"charges\",\"charges\",\"charges\",\"charges\",\"charges\",\"charges\",\"charges\",\"charges\",\"charges\",\"charges\",\"charges\",\"charges\",\"charges\",\"charges\",\"charges\",\"charges\",\"charges\",\"charges\",\"charges\",\"charges\",\"charges\",\"charges\",\"charges\",\"charges\",\"charges\",\"charges\",\"charges\",\"charges\",\"charges\",\"charges\",\"charges\",\"charges\",\"charges\",\"charges\",\"charges\",\"charges\",\"charges\",\"charges\",\"charges\",\"charges\",\"charges\",\"charges\",\"charges\",\"charges\",\"charges\",\"charges\",\"charges\",\"charges\",\"charges\",\"charges\",\"charges\",\"charges\",\"charges\",\"charges\",\"charges\",\"charges\",\"charges\",\"charges\",\"charges\",\"charges\",\"charges\",\"charges\",\"charges\",\"charges\",\"charges\",\"charges\",\"charges\",\"charges\",\"charges\",\"charges\",\"charges\",\"charges\",\"charges\",\"charges\",\"charges\",\"charges\",\"charges\",\"charges\",\"charges\",\"charges\",\"charges\",\"charges\",\"charges\",\"charges\",\"charges\",\"charges\",\"charges\",\"charges\",\"charges\",\"charges\",\"charges\",\"charges\",\"charges\",\"charges\",\"charges\",\"charges\",\"charges\",\"charges\",\"charges\",\"charges\",\"charges\",\"charges\",\"charges\",\"charges\",\"charges\",\"charges\",\"charges\",\"charges\",\"charges\",\"charges\",\"charges\",\"charges\",\"charges\",\"charges\",\"charges\",\"charges\",\"charges\",\"charges\",\"charges\",\"charges\",\"charges\",\"charges\",\"charges\",\"charges\",\"charges\",\"charges\",\"charges\",\"charges\",\"charges\",\"charges\",\"charges\",\"charges\",\"charges\",\"charges\",\"charges\",\"charges\",\"charges\",\"charges\",\"charges\",\"charges\",\"charges\",\"charges\",\"charges\",\"charges\",\"charges\",\"charges\",\"charges\",\"charges\",\"charges\",\"charges\",\"charges\",\"charges\",\"charges\",\"charges\",\"charges\",\"charges\",\"charges\",\"charges\",\"charges\",\"charges\",\"charges\",\"charges\",\"charges\",\"charges\",\"charges\",\"charges\",\"charges\",\"charges\",\"charges\",\"charges\",\"charges\",\"charges\",\"charges\",\"charges\",\"charges\",\"charges\",\"charges\",\"charges\",\"charges\",\"charges\",\"charges\",\"charges\",\"charges\",\"charges\",\"charges\",\"charges\",\"charges\",\"charges\",\"charges\",\"charges\",\"charges\",\"charges\",\"charges\",\"charges\",\"charges\",\"charges\",\"charges\",\"charges\",\"charges\",\"charges\",\"charges\",\"charges\",\"charges\",\"charges\",\"charges\",\"charges\",\"charges\",\"charges\",\"charges\",\"charges\",\"charges\",\"charges\",\"charges\",\"charges\",\"charges\",\"charges\",\"charges\",\"charges\",\"charges\",\"charges\",\"charges\",\"charges\",\"charges\",\"charges\",\"charges\",\"charges\",\"charges\",\"charges\",\"charges\",\"charges\",\"charges\",\"charges\",\"charges\",\"charges\",\"charges\",\"charges\",\"charges\",\"charges\",\"charges\",\"charges\",\"charges\",\"charges\",\"charges\",\"charges\",\"charges\",\"charges\",\"charges\",\"charges\",\"charges\",\"charges\",\"charges\",\"charges\",\"charges\",\"charges\",\"charges\",\"charges\",\"charges\",\"charges\",\"charges\",\"charges\",\"charges\",\"charges\",\"charges\",\"charges\",\"charges\",\"charges\",\"charges\",\"charges\",\"charges\",\"charges\",\"charges\",\"charges\",\"charges\",\"charges\",\"charges\",\"charges\",\"charges\",\"charges\",\"charges\",\"charges\",\"charges\",\"charges\",\"charges\",\"charges\",\"charges\",\"charges\",\"charges\",\"charges\",\"charges\",\"charges\",\"charges\",\"charges\",\"charges\",\"charges\",\"charges\",\"charges\",\"charges\",\"charges\",\"charges\",\"charges\",\"charges\",\"charges\",\"charges\",\"charges\",\"charges\",\"charges\",\"charges\",\"charges\",\"charges\",\"charges\",\"charges\",\"charges\",\"charges\",\"charges\",\"charges\",\"charges\",\"charges\",\"charges\",\"charges\",\"charges\",\"charges\",\"charges\",\"charges\",\"charges\",\"charges\",\"charges\",\"charges\",\"charges\",\"charges\",\"charges\",\"charges\",\"charges\",\"charges\",\"charges\",\"charges\",\"charges\",\"charges\",\"charges\",\"charges\",\"charges\",\"charges\",\"charges\",\"charges\",\"charges\",\"charges\",\"charges\",\"charges\",\"charges\",\"charges\",\"charges\",\"charges\",\"charges\",\"charges\",\"charges\",\"charges\",\"charges\",\"charges\",\"charges\",\"charges\",\"charges\",\"charges\",\"charges\",\"charges\",\"charges\",\"charges\",\"charges\",\"charges\",\"charges\",\"charges\",\"charges\",\"charges\",\"charges\",\"charges\",\"charges\",\"charges\",\"charges\",\"charges\",\"charges\",\"charges\",\"charges\",\"charges\",\"charges\",\"charges\",\"charges\",\"charges\",\"charges\",\"charges\",\"charges\",\"charges\",\"charges\",\"charges\",\"charges\",\"charges\",\"charges\",\"charges\",\"charges\",\"charges\",\"charges\",\"charges\",\"charges\",\"charges\",\"charges\",\"charges\",\"charges\",\"charges\",\"charges\",\"charges\",\"charges\",\"charges\",\"charges\",\"charges\",\"charges\",\"charges\",\"charges\",\"charges\",\"charges\",\"charges\",\"charges\",\"charges\",\"charges\",\"charges\",\"charges\",\"charges\",\"charges\",\"charges\",\"charges\",\"charges\",\"charges\",\"charges\",\"charges\",\"charges\",\"charges\",\"charges\",\"charges\",\"charges\",\"charges\",\"charges\",\"charges\",\"charges\",\"charges\",\"charges\",\"charges\",\"charges\",\"charges\",\"charges\",\"charges\",\"charges\",\"charges\",\"charges\",\"charges\",\"charges\",\"charges\",\"charges\",\"charges\",\"charges\",\"charges\",\"charges\",\"charges\",\"charges\",\"charges\",\"charges\",\"charges\",\"charges\",\"charges\",\"charges\",\"charges\",\"charges\",\"charges\",\"charges\",\"charges\",\"charges\",\"charges\",\"charges\",\"charges\",\"charges\",\"charges\",\"charges\",\"charges\",\"charges\",\"charges\",\"charges\",\"charges\",\"charges\",\"charges\",\"charges\",\"charges\",\"charges\",\"charges\",\"charges\",\"charges\",\"charges\",\"charges\",\"charges\",\"charges\",\"charges\",\"charges\",\"charges\",\"charges\",\"charges\",\"charges\",\"charges\",\"charges\",\"charges\",\"charges\",\"charges\",\"charges\",\"charges\",\"charges\",\"charges\",\"charges\",\"charges\",\"charges\",\"charges\",\"charges\",\"charges\",\"charges\",\"charges\",\"charges\",\"charges\",\"charges\",\"charges\",\"charges\",\"charges\",\"charges\",\"charges\",\"charges\",\"charges\",\"charges\",\"charges\",\"charges\",\"charges\",\"charges\",\"charges\",\"charges\",\"charges\",\"charges\",\"charges\",\"charges\",\"charges\",\"charges\",\"charges\",\"charges\",\"charges\",\"charges\",\"charges\",\"charges\",\"charges\",\"charges\",\"charges\",\"charges\",\"charges\",\"charges\",\"charges\",\"charges\",\"charges\",\"charges\",\"charges\",\"charges\",\"charges\",\"charges\",\"charges\",\"charges\",\"charges\",\"charges\",\"charges\",\"charges\",\"charges\",\"charges\",\"charges\",\"charges\",\"charges\",\"charges\",\"charges\",\"charges\",\"charges\",\"charges\",\"charges\",\"charges\",\"charges\",\"charges\",\"charges\",\"charges\",\"charges\",\"charges\",\"charges\",\"charges\",\"charges\",\"charges\",\"charges\",\"charges\",\"charges\",\"charges\",\"charges\",\"charges\",\"charges\",\"charges\",\"charges\",\"charges\",\"charges\",\"charges\",\"charges\",\"charges\",\"charges\",\"charges\",\"charges\",\"charges\",\"charges\",\"charges\",\"charges\",\"charges\",\"charges\",\"charges\",\"charges\",\"charges\",\"charges\",\"charges\",\"charges\",\"charges\",\"charges\",\"charges\",\"charges\",\"charges\",\"charges\",\"charges\",\"charges\",\"charges\",\"charges\",\"charges\",\"charges\",\"charges\",\"charges\",\"charges\",\"charges\",\"charges\",\"charges\",\"charges\",\"charges\",\"charges\",\"charges\",\"charges\",\"charges\",\"charges\",\"charges\",\"charges\",\"charges\",\"charges\",\"charges\",\"charges\",\"charges\",\"charges\",\"charges\",\"charges\",\"charges\",\"charges\",\"charges\",\"charges\",\"charges\",\"charges\",\"charges\",\"charges\",\"charges\",\"charges\",\"charges\",\"charges\",\"charges\",\"charges\",\"charges\",\"charges\",\"charges\",\"charges\",\"charges\",\"charges\",\"charges\",\"charges\",\"charges\",\"charges\",\"charges\",\"charges\",\"charges\",\"charges\",\"charges\",\"charges\",\"charges\",\"charges\",\"charges\",\"charges\",\"charges\",\"charges\",\"charges\",\"charges\",\"charges\",\"charges\",\"charges\",\"charges\",\"charges\",\"charges\",\"charges\",\"charges\",\"charges\",\"charges\",\"charges\",\"charges\",\"charges\",\"charges\",\"charges\",\"charges\",\"charges\",\"charges\",\"charges\",\"charges\",\"charges\",\"charges\",\"charges\",\"charges\",\"charges\",\"charges\",\"charges\",\"charges\",\"charges\",\"charges\",\"charges\",\"charges\",\"charges\",\"charges\",\"charges\",\"charges\",\"charges\",\"charges\",\"charges\",\"charges\",\"charges\",\"charges\",\"charges\",\"charges\",\"charges\",\"charges\",\"charges\",\"charges\",\"charges\",\"charges\",\"charges\",\"charges\",\"charges\",\"charges\",\"charges\",\"charges\",\"charges\",\"charges\",\"charges\",\"charges\",\"charges\",\"charges\",\"charges\",\"charges\",\"charges\",\"charges\",\"charges\",\"charges\",\"charges\",\"charges\",\"charges\",\"charges\",\"charges\",\"charges\",\"charges\",\"charges\",\"charges\",\"charges\",\"charges\",\"charges\",\"charges\",\"charges\",\"charges\",\"charges\",\"charges\",\"charges\",\"charges\",\"charges\",\"charges\",\"charges\",\"charges\",\"charges\",\"charges\",\"charges\",\"charges\",\"charges\",\"charges\",\"charges\",\"charges\",\"charges\",\"charges\",\"charges\",\"charges\",\"charges\",\"charges\",\"charges\",\"charges\",\"charges\",\"charges\",\"charges\",\"charges\",\"charges\",\"charges\",\"charges\",\"charges\",\"charges\",\"charges\",\"charges\",\"charges\",\"charges\",\"charges\",\"charges\",\"charges\",\"charges\",\"charges\",\"charges\",\"charges\",\"charges\",\"charges\",\"charges\",\"charges\",\"charges\",\"charges\",\"charges\",\"charges\",\"charges\",\"charges\",\"charges\",\"charges\",\"charges\",\"charges\",\"charges\",\"charges\",\"charges\",\"charges\",\"charges\",\"charges\",\"charges\",\"charges\",\"charges\",\"charges\",\"charges\",\"charges\",\"charges\",\"charges\",\"charges\",\"charges\",\"charges\",\"charges\",\"charges\",\"charges\",\"charges\",\"charges\",\"charges\",\"charges\",\"charges\",\"charges\",\"charges\",\"charges\",\"charges\",\"charges\",\"charges\",\"charges\",\"charges\",\"charges\",\"charges\",\"charges\",\"charges\",\"charges\",\"charges\",\"charges\",\"charges\",\"charges\",\"charges\",\"charges\",\"charges\",\"charges\",\"charges\",\"charges\",\"charges\",\"charges\",\"charges\",\"charges\",\"charges\",\"charges\",\"charges\",\"charges\",\"charges\",\"charges\",\"charges\",\"charges\",\"charges\",\"charges\",\"charges\",\"charges\",\"charges\",\"charges\",\"charges\",\"charges\",\"charges\",\"charges\",\"charges\",\"charges\",\"charges\",\"charges\",\"charges\",\"charges\",\"charges\",\"charges\",\"charges\",\"charges\",\"charges\",\"charges\",\"charges\",\"charges\",\"charges\",\"charges\",\"charges\",\"charges\",\"charges\",\"charges\",\"charges\",\"charges\",\"charges\",\"charges\",\"charges\",\"charges\",\"charges\",\"charges\",\"charges\",\"charges\",\"charges\",\"charges\",\"charges\",\"charges\",\"charges\",\"charges\",\"charges\",\"charges\",\"charges\",\"charges\",\"charges\",\"charges\",\"charges\",\"charges\",\"charges\",\"charges\",\"charges\",\"charges\",\"charges\",\"charges\",\"charges\",\"charges\",\"charges\",\"charges\",\"charges\",\"charges\",\"charges\",\"charges\",\"charges\",\"charges\",\"charges\",\"charges\",\"charges\",\"charges\",\"charges\",\"charges\",\"charges\",\"charges\",\"charges\",\"charges\",\"charges\",\"charges\",\"charges\",\"charges\",\"charges\",\"charges\",\"charges\",\"charges\",\"charges\",\"charges\",\"charges\",\"charges\",\"charges\",\"charges\",\"charges\",\"charges\",\"charges\",\"charges\",\"charges\",\"charges\",\"charges\",\"charges\",\"charges\",\"charges\",\"charges\",\"charges\",\"charges\",\"charges\",\"charges\",\"charges\",\"charges\",\"charges\",\"charges\",\"charges\",\"charges\",\"charges\",\"charges\",\"charges\",\"charges\",\"charges\",\"charges\",\"charges\",\"charges\",\"charges\",\"charges\",\"charges\",\"charges\",\"charges\",\"charges\",\"charges\",\"charges\",\"charges\",\"charges\",\"charges\",\"charges\",\"charges\",\"charges\",\"charges\",\"charges\",\"charges\",\"charges\",\"charges\",\"charges\",\"charges\",\"charges\",\"charges\",\"charges\",\"charges\",\"charges\",\"charges\",\"charges\",\"charges\",\"charges\",\"charges\",\"charges\",\"charges\",\"charges\",\"charges\",\"charges\",\"charges\",\"charges\",\"charges\",\"charges\",\"charges\",\"charges\",\"charges\",\"charges\",\"charges\",\"charges\",\"charges\",\"charges\",\"charges\",\"charges\",\"charges\",\"charges\",\"charges\",\"charges\",\"charges\",\"charges\",\"charges\",\"charges\",\"charges\",\"charges\",\"charges\",\"charges\",\"charges\",\"charges\",\"charges\",\"charges\",\"charges\",\"charges\",\"charges\",\"charges\",\"charges\",\"charges\",\"charges\",\"charges\",\"charges\",\"charges\",\"charges\",\"charges\",\"charges\",\"charges\",\"charges\",\"charges\",\"charges\",\"charges\",\"charges\",\"charges\",\"charges\",\"charges\",\"charges\",\"charges\",\"charges\",\"charges\",\"charges\",\"charges\",\"charges\",\"charges\",\"charges\",\"charges\",\"charges\",\"charges\",\"charges\",\"charges\",\"charges\",\"charges\",\"charges\",\"charges\",\"charges\",\"charges\",\"charges\",\"charges\",\"charges\",\"charges\",\"charges\",\"charges\",\"charges\",\"charges\",\"charges\",\"charges\",\"charges\",\"charges\",\"charges\",\"charges\",\"charges\",\"charges\"],\"x0\":\" \",\"xaxis\":\"x\",\"y\":[16884.924,1725.5523,4449.462,21984.47061,3866.8552,3756.6216,8240.5896,7281.5056,6406.4107,28923.13692,2721.3208,27808.7251,1826.843,11090.7178,39611.7577,1837.237,10797.3362,2395.17155,10602.385,36837.467,13228.84695,4149.736,1137.011,37701.8768,6203.90175,14001.1338,14451.83515,12268.63225,2775.19215,38711.0,35585.576,2198.18985,4687.797,13770.0979,51194.55914,1625.43375,15612.19335,2302.3,39774.2763,48173.361,3046.062,4949.7587,6272.4772,6313.759,6079.6715,20630.28351,3393.35635,3556.9223,12629.8967,38709.176,2211.13075,3579.8287,23568.272,37742.5757,8059.6791,47496.49445,13607.36875,34303.1672,23244.7902,5989.52365,8606.2174,4504.6624,30166.61817,4133.64165,14711.7438,1743.214,14235.072,6389.37785,5920.1041,17663.1442,16577.7795,6799.458,11741.726,11946.6259,7726.854,11356.6609,3947.4131,1532.4697,2755.02095,6571.02435,4441.21315,7935.29115,37165.1638,11033.6617,39836.519,21098.55405,43578.9394,11073.176,8026.6666,11082.5772,2026.9741,10942.13205,30184.9367,5729.0053,47291.055,3766.8838,12105.32,10226.2842,22412.6485,15820.699,6186.127,3645.0894,21344.8467,30942.1918,5003.853,17560.37975,2331.519,3877.30425,2867.1196,47055.5321,10825.2537,11881.358,4646.759,2404.7338,11488.31695,30259.99556,11381.3254,19107.7796,8601.3293,6686.4313,7740.337,1705.6245,2257.47525,39556.4945,10115.00885,3385.39915,17081.08,9634.538,32734.1863,6082.405,12815.44495,13616.3586,11163.568,1632.56445,2457.21115,2155.6815,1261.442,2045.68525,27322.73386,2166.732,27375.90478,3490.5491,18972.495,18157.876,20745.9891,5138.2567,40720.55105,9877.6077,10959.6947,1842.519,5125.2157,7789.635,6334.34355,19964.7463,7077.1894,6948.7008,21223.6758,15518.18025,36950.2567,19749.38338,21348.706,36149.4835,10450.552,5152.134,5028.1466,10407.08585,4830.63,6128.79745,2719.27975,4827.90495,13405.3903,8116.68,1694.7964,5246.047,2855.43755,48824.45,6455.86265,10436.096,8823.279,8538.28845,11735.87905,1631.8212,4005.4225,7419.4779,7731.4271,43753.33705,3981.9768,5325.651,6775.961,4922.9159,12557.6053,4883.866,2137.6536,12044.342,1137.4697,1639.5631,5649.715,8516.829,9644.2525,14901.5167,2130.6759,8871.1517,13012.20865,37133.8982,7147.105,4337.7352,11743.299,20984.0936,13880.949,6610.1097,1980.07,8162.71625,3537.703,5002.7827,8520.026,7371.772,10355.641,2483.736,3392.9768,25081.76784,5012.471,10564.8845,5253.524,34779.615,19515.5416,11987.1682,2689.4954,24227.33724,7358.17565,9225.2564,7443.64305,14001.2867,1727.785,12333.828,6710.1919,19444.2658,1615.7667,4463.2051,17352.6803,7152.6714,38511.6283,5354.07465,35160.13457,7196.867,29523.1656,24476.47851,12648.7034,1986.9334,1832.094,4040.55825,12829.4551,47305.305,44260.7499,4260.744,41097.16175,13047.33235,43921.1837,5400.9805,11520.09985,33750.2918,11837.16,17085.2676,24869.8368,36219.40545,20462.99766,46151.1245,17179.522,14590.63205,7441.053,9282.4806,1719.4363,42856.838,7265.7025,9617.66245,2523.1695,9715.841,2803.69785,2150.469,12928.7911,9855.1314,22331.5668,48549.17835,4237.12655,11879.10405,9625.92,7742.1098,9432.9253,14256.1928,47896.79135,25992.82104,3172.018,20277.80751,42112.2356,2156.7518,3906.127,1704.5681,16297.846,21978.6769,38746.3551,9249.4952,6746.7425,24873.3849,12265.5069,4349.462,12646.207,19442.3535,20177.67113,4151.0287,11944.59435,7749.1564,8444.474,1737.376,42124.5153,8124.4084,34838.873,9722.7695,8835.26495,10435.06525,7421.19455,4667.60765,4894.7533,24671.66334,35491.64,11566.30055,2866.091,6600.20595,3561.8889,42760.5022,47928.03,9144.565,48517.56315,24393.6224,13429.0354,11658.37915,19144.57652,13822.803,12142.5786,13937.6665,41919.097,8232.6388,18955.22017,13352.0998,13217.0945,13981.85035,10977.2063,6184.2994,4889.9995,8334.45755,5478.0368,1635.73365,11830.6072,8932.084,3554.203,12404.8791,14133.03775,24603.04837,8944.1151,9620.3307,1837.2819,1607.5101,10043.249,4751.07,13844.506,2597.779,3180.5101,9778.3472,13430.265,8017.06115,8116.26885,3481.868,13415.0381,12029.2867,7639.41745,36085.219,1391.5287,18033.9679,21659.9301,38126.2465,16455.70785,27000.98473,15006.57945,42303.69215,20781.48892,5846.9176,8302.53565,1261.859,11856.4115,30284.64294,3176.8159,4618.0799,10736.87075,2138.0707,8964.06055,9290.1395,9411.005,7526.70645,8522.003,16586.49771,14988.432,1631.6683,9264.797,8083.9198,14692.66935,10269.46,3260.199,11396.9002,4185.0979,8539.671,6652.5288,4074.4537,1621.3402,19594.80965,14455.64405,5080.096,2134.9015,7345.7266,9140.951,18608.262,14418.2804,28950.4692,46889.2612,46599.1084,39125.33225,2727.3951,8968.33,9788.8659,6555.07035,7323.734819,3167.45585,18804.7524,23082.95533,4906.40965,5969.723,12638.195,4243.59005,13919.8229,2254.7967,5926.846,12592.5345,2897.3235,4738.2682,37079.372,1149.3959,28287.89766,26109.32905,7345.084,12730.9996,11454.0215,5910.944,4762.329,7512.267,4032.2407,1969.614,1769.53165,4686.3887,21797.0004,11881.9696,11840.77505,10601.412,7682.67,10381.4787,22144.032,15230.32405,11165.41765,1632.03625,19521.9682,13224.693,12643.3778,23288.9284,2201.0971,2497.0383,2203.47185,1744.465,20878.78443,25382.297,28868.6639,35147.52848,2534.39375,1534.3045,1824.2854,15555.18875,9304.7019,1622.1885,9880.068,9563.029,4347.02335,12475.3513,1253.936,48885.13561,10461.9794,1748.774,24513.09126,2196.4732,12574.049,17942.106,1967.0227,4931.647,8027.968,8211.1002,13470.86,36197.699,6837.3687,22218.1149,32548.3405,5974.3847,6796.86325,2643.2685,3077.0955,3044.2133,11455.28,11763.0009,2498.4144,9361.3268,1256.299,21082.16,11362.755,27724.28875,8413.46305,5240.765,3857.75925,25656.57526,3994.1778,9866.30485,5397.6167,38245.59327,11482.63485,24059.68019,9861.025,8342.90875,1708.0014,48675.5177,14043.4767,12925.886,19214.70553,13831.1152,6067.12675,5972.378,8825.086,8233.0975,27346.04207,6196.448,3056.3881,13887.204,63770.42801,10231.4999,23807.2406,3268.84665,11538.421,3213.62205,45863.205,13390.559,3972.9247,12957.118,11187.6567,17878.90068,3847.674,8334.5896,3935.1799,39983.42595,1646.4297,9193.8385,10923.9332,2494.022,9058.7303,2801.2588,2128.43105,6373.55735,7256.7231,11552.904,45702.02235,3761.292,2219.4451,4753.6368,31620.00106,13224.05705,12222.8983,1664.9996,58571.07448,9724.53,3206.49135,12913.9924,1639.5631,6356.2707,17626.23951,1242.816,4779.6023,3861.20965,43943.8761,13635.6379,5976.8311,11842.442,8428.0693,2566.4707,15359.1045,5709.1644,8823.98575,7640.3092,5594.8455,7441.501,33471.97189,1633.0444,9174.13565,11070.535,16085.1275,17468.9839,9283.562,3558.62025,25678.77845,4435.0942,39241.442,8547.6913,6571.544,2207.69745,6753.038,1880.07,42969.8527,11658.11505,23306.547,34439.8559,10713.644,3659.346,40182.246,9182.17,34617.84065,12129.61415,3736.4647,6748.5912,11326.71487,11365.952,42983.4585,10085.846,1977.815,3366.6697,7173.35995,9391.346,14410.9321,2709.1119,24915.04626,20149.3229,12949.1554,6666.243,32787.45859,13143.86485,4466.6214,18806.14547,10141.1362,6123.5688,8252.2843,1712.227,12430.95335,9800.8882,10579.711,8280.6227,8527.532,12244.531,24667.419,3410.324,4058.71245,26392.26029,14394.39815,6435.6237,22192.43711,5148.5526,1136.3994,27037.9141,42560.4304,8703.456,40003.33225,45710.20785,6500.2359,4837.5823,3943.5954,4399.731,6185.3208,46200.9851,7222.78625,12485.8009,46130.5265,12363.547,10156.7832,2585.269,1242.26,40103.89,9863.4718,4766.022,11244.3769,7729.64575,5438.7491,26236.57997,34806.4677,2104.1134,8068.185,2362.22905,2352.96845,3577.999,3201.24515,29186.48236,40273.6455,10976.24575,3500.6123,2020.5523,9541.69555,9504.3103,5385.3379,8930.93455,5375.038,44400.4064,10264.4421,6113.23105,5469.0066,1727.54,10107.2206,8310.83915,1984.4533,2457.502,12146.971,9566.9909,13112.6048,10848.1343,12231.6136,9875.6804,11264.541,12979.358,1263.249,10106.13425,40932.4295,6664.68595,16657.71745,2217.6012,6781.3542,19361.9988,10065.413,4234.927,9447.25035,14007.222,9583.8933,40419.0191,3484.331,36189.1017,44585.45587,8604.48365,18246.4955,43254.41795,3757.8448,8827.2099,9910.35985,11737.84884,1627.28245,8556.907,3062.50825,19539.243,1906.35825,14210.53595,11833.7823,17128.42608,5031.26955,7985.815,23065.4207,5428.7277,36307.7983,3925.7582,2416.955,19040.876,3070.8087,9095.06825,11842.62375,8062.764,7050.642,14319.031,6933.24225,27941.28758,11150.78,12797.20962,17748.5062,7261.741,10560.4917,6986.697,7448.40395,5934.3798,9869.8102,18259.216,1146.7966,9386.1613,24520.264,4350.5144,6414.178,12741.16745,1917.3184,5209.57885,13457.9608,5662.225,1252.407,2731.9122,21195.818,7209.4918,18310.742,4266.1658,4719.52405,11848.141,17904.52705,7046.7222,14313.8463,2103.08,38792.6856,1815.8759,7731.85785,28476.73499,2136.88225,1131.5066,3309.7926,9414.92,6360.9936,11013.7119,4428.88785,5584.3057,1877.9294,2842.76075,3597.596,23401.30575,55135.40209,7445.918,2680.9493,1621.8827,8219.2039,12523.6048,16069.08475,43813.8661,20773.62775,39597.4072,6117.4945,13393.756,5266.3656,4719.73655,11743.9341,5377.4578,7160.3303,4402.233,11657.7189,6402.29135,12622.1795,1526.312,12323.936,36021.0112,27533.9129,10072.05505,45008.9555,9872.701,2438.0552,2974.126,10601.63225,37270.1512,14119.62,42111.6647,11729.6795,24106.91255,1875.344,40974.1649,15817.9857,18218.16139,10965.446,46113.511,7151.092,12269.68865,5458.04645,8782.469,6600.361,1141.4451,11576.13,13129.60345,4391.652,8457.818,3392.3652,5966.8874,6849.026,8891.1395,2690.1138,26140.3603,6653.7886,6282.235,6311.952,3443.064,2789.0574,2585.85065,46255.1125,4877.98105,19719.6947,27218.43725,5272.1758,1682.597,11945.1327,29330.98315,7243.8136,10422.91665,44202.6536,13555.0049,13063.883,19798.05455,2221.56445,1634.5734,2117.33885,8688.85885,48673.5588,4661.28635,8125.7845,12644.589,4564.19145,4846.92015,7633.7206,15170.069,17496.306,2639.0429,33732.6867,14382.70905,7626.993,5257.50795,2473.3341,21774.32215,35069.37452,13041.921,5245.2269,13451.122,13462.52,5488.262,4320.41085,6250.435,25333.33284,2913.569,12032.326,13470.8044,6289.7549,2927.0647,6238.298,10096.97,7348.142,4673.3922,12233.828,32108.66282,8965.79575,2304.0022,9487.6442,1121.8739,9549.5651,2217.46915,1628.4709,12982.8747,11674.13,7160.094,39047.285,6358.77645,19933.458,11534.87265,47462.894,4527.18295,38998.546,20009.63365,3875.7341,41999.52,12609.88702,41034.2214,28468.91901,2730.10785,3353.284,14474.675,9500.57305,26467.09737,4746.344,23967.38305,7518.02535,3279.86855,8596.8278,10702.6424,4992.3764,2527.81865,1759.338,2322.6218,16138.76205,7804.1605,2902.9065,9704.66805,4889.0368,25517.11363,4500.33925,19199.944,16796.41194,4915.05985,7624.63,8410.04685,28340.18885,4518.82625,14571.8908,3378.91,7144.86265,10118.424,5484.4673,16420.49455,7986.47525,7418.522,13887.9685,6551.7501,5267.81815,17361.7661,34472.841,1972.95,21232.18226,8627.5411,4433.3877,4438.2634,24915.22085,23241.47453,9957.7216,8269.044,18767.7377,36580.28216,8765.249,5383.536,12124.9924,2709.24395,3987.926,12495.29085,26018.95052,8798.593,35595.5898,42211.1382,1711.0268,8569.8618,2020.177,16450.8947,21595.38229,9850.432,6877.9801,21677.28345,44423.803,4137.5227,13747.87235,12950.0712,12094.478,37484.4493,39725.51805,2250.8352,22493.65964,20234.85475,1704.70015,33475.81715,3161.454,11394.06555,21880.82,7325.0482,44501.3982,3594.17085,39727.614,8023.13545,14394.5579,9288.0267,25309.489,3353.4703,10594.50155,8277.523,17929.30337,2480.9791,4462.7218,1981.5819,11554.2236,48970.2476,6548.19505,5708.867,7045.499,8978.1851,5757.41345,14349.8544,10928.849,39871.7043,13974.45555,1909.52745,12096.6512,13204.28565,4562.8421,8551.347,2102.2647,34672.1472,15161.5344,11884.04858,4454.40265,5855.9025,4076.497,15019.76005,19023.26,10796.35025,11353.2276,9748.9106,10577.087,41676.0811,11286.5387,3591.48,33907.548,11299.343,4561.1885,44641.1974,1674.6323,23045.56616,3227.1211,16776.30405,11253.421,3471.4096,11363.2832,20420.60465,10338.9316,8988.15875,10493.9458,2904.088,8605.3615,11512.405,41949.2441,24180.9335,5312.16985,2396.0959,10807.4863,9222.4026,36124.5737,38282.7495,5693.4305,34166.273,8347.1643,46661.4424,18903.49141,40904.1995,14254.6082,10214.636,5836.5204,14358.36437,1728.897,8582.3023,3693.428,20709.02034,9991.03765,19673.33573,11085.5868,7623.518,3176.2877,3704.3545,36898.73308,9048.0273,7954.517,27117.99378,6338.0756,9630.397,11289.10925,52590.82939,2261.5688,10791.96,5979.731,2203.73595,12235.8392,40941.2854,5630.45785,11015.1747,7228.21565,39722.7462,14426.07385,2459.7201,3989.841,7727.2532,5124.1887,18963.17192,2200.83085,7153.5539,5227.98875,10982.5013,4529.477,4670.64,6112.35295,17178.6824,22478.6,11093.6229,6457.8434,4433.9159,2154.361,23887.6627,6496.886,2899.48935,19350.3689,7650.77375,2850.68375,2632.992,9447.3824,18328.2381,8603.8234,37465.34375,13844.7972,21771.3423,13126.67745,5327.40025,13725.47184,13019.16105,8671.19125,4134.08245,18838.70366,33307.5508,5699.8375,6393.60345,4934.705,6198.7518,8733.22925,2055.3249,9964.06,18223.4512,5116.5004,36910.60803,38415.474,20296.86345,12347.172,5373.36425,23563.01618,1702.4553,10806.839,3956.07145,12890.05765,5415.6612,4058.1161,41661.602,7537.1639,4718.20355,6593.5083,8442.667,26125.67477,6858.4796,4795.6568,6640.54485,7162.0122,10594.2257,11938.25595,60021.39897,20167.33603,12479.70895,11345.519,8515.7587,2699.56835,14449.8544,12224.35085,6985.50695,3238.4357,47269.854,49577.6624,4296.2712,3171.6149,1135.9407,5615.369,9101.798,6059.173,1633.9618,37607.5277,18648.4217,1241.565,16232.847,15828.82173,4415.1588,6474.013,11436.73815,11305.93455,30063.58055,10197.7722,4544.2348,3277.161,6770.1925,7337.748,10370.91255,26926.5144,10704.47,34254.05335,1880.487,8615.3,3292.52985,3021.80915,14478.33015,4747.0529,17043.3414,10959.33,2741.948,4357.04365,22462.04375,4189.1131,8283.6807,24535.69855,14283.4594,1720.3537,47403.88,8534.6718,3732.6251,5472.449,38344.566,7147.4728,7133.9025,34828.654,1515.3449,9301.89355,11931.12525,1964.78,1708.92575,4340.4409,5261.46945,2710.82855,62592.87309,46718.16325,3208.787,37829.7242,21259.37795,2464.6188,16115.3045,21472.4788,33900.653,6875.961,6940.90985,4571.41305,4536.259,36397.576,18765.87545,11272.33139,1731.677,1163.4627,19496.71917,7201.70085,5425.02335,28101.33305,12981.3457,43896.3763,4239.89265,13143.33665,7050.0213,9377.9047,22395.74424,10325.206,12629.1656,10795.93733,11411.685,10600.5483,2205.9808,1629.8335,2007.945,29141.3603],\"y0\":\" \",\"yaxis\":\"y\",\"type\":\"box\"}],                        {\"template\":{\"data\":{\"histogram2dcontour\":[{\"type\":\"histogram2dcontour\",\"colorbar\":{\"outlinewidth\":0,\"ticks\":\"\"},\"colorscale\":[[0.0,\"#0d0887\"],[0.1111111111111111,\"#46039f\"],[0.2222222222222222,\"#7201a8\"],[0.3333333333333333,\"#9c179e\"],[0.4444444444444444,\"#bd3786\"],[0.5555555555555556,\"#d8576b\"],[0.6666666666666666,\"#ed7953\"],[0.7777777777777778,\"#fb9f3a\"],[0.8888888888888888,\"#fdca26\"],[1.0,\"#f0f921\"]]}],\"choropleth\":[{\"type\":\"choropleth\",\"colorbar\":{\"outlinewidth\":0,\"ticks\":\"\"}}],\"histogram2d\":[{\"type\":\"histogram2d\",\"colorbar\":{\"outlinewidth\":0,\"ticks\":\"\"},\"colorscale\":[[0.0,\"#0d0887\"],[0.1111111111111111,\"#46039f\"],[0.2222222222222222,\"#7201a8\"],[0.3333333333333333,\"#9c179e\"],[0.4444444444444444,\"#bd3786\"],[0.5555555555555556,\"#d8576b\"],[0.6666666666666666,\"#ed7953\"],[0.7777777777777778,\"#fb9f3a\"],[0.8888888888888888,\"#fdca26\"],[1.0,\"#f0f921\"]]}],\"heatmap\":[{\"type\":\"heatmap\",\"colorbar\":{\"outlinewidth\":0,\"ticks\":\"\"},\"colorscale\":[[0.0,\"#0d0887\"],[0.1111111111111111,\"#46039f\"],[0.2222222222222222,\"#7201a8\"],[0.3333333333333333,\"#9c179e\"],[0.4444444444444444,\"#bd3786\"],[0.5555555555555556,\"#d8576b\"],[0.6666666666666666,\"#ed7953\"],[0.7777777777777778,\"#fb9f3a\"],[0.8888888888888888,\"#fdca26\"],[1.0,\"#f0f921\"]]}],\"heatmapgl\":[{\"type\":\"heatmapgl\",\"colorbar\":{\"outlinewidth\":0,\"ticks\":\"\"},\"colorscale\":[[0.0,\"#0d0887\"],[0.1111111111111111,\"#46039f\"],[0.2222222222222222,\"#7201a8\"],[0.3333333333333333,\"#9c179e\"],[0.4444444444444444,\"#bd3786\"],[0.5555555555555556,\"#d8576b\"],[0.6666666666666666,\"#ed7953\"],[0.7777777777777778,\"#fb9f3a\"],[0.8888888888888888,\"#fdca26\"],[1.0,\"#f0f921\"]]}],\"contourcarpet\":[{\"type\":\"contourcarpet\",\"colorbar\":{\"outlinewidth\":0,\"ticks\":\"\"}}],\"contour\":[{\"type\":\"contour\",\"colorbar\":{\"outlinewidth\":0,\"ticks\":\"\"},\"colorscale\":[[0.0,\"#0d0887\"],[0.1111111111111111,\"#46039f\"],[0.2222222222222222,\"#7201a8\"],[0.3333333333333333,\"#9c179e\"],[0.4444444444444444,\"#bd3786\"],[0.5555555555555556,\"#d8576b\"],[0.6666666666666666,\"#ed7953\"],[0.7777777777777778,\"#fb9f3a\"],[0.8888888888888888,\"#fdca26\"],[1.0,\"#f0f921\"]]}],\"surface\":[{\"type\":\"surface\",\"colorbar\":{\"outlinewidth\":0,\"ticks\":\"\"},\"colorscale\":[[0.0,\"#0d0887\"],[0.1111111111111111,\"#46039f\"],[0.2222222222222222,\"#7201a8\"],[0.3333333333333333,\"#9c179e\"],[0.4444444444444444,\"#bd3786\"],[0.5555555555555556,\"#d8576b\"],[0.6666666666666666,\"#ed7953\"],[0.7777777777777778,\"#fb9f3a\"],[0.8888888888888888,\"#fdca26\"],[1.0,\"#f0f921\"]]}],\"mesh3d\":[{\"type\":\"mesh3d\",\"colorbar\":{\"outlinewidth\":0,\"ticks\":\"\"}}],\"scatter\":[{\"marker\":{\"line\":{\"color\":\"#283442\"}},\"type\":\"scatter\"}],\"parcoords\":[{\"type\":\"parcoords\",\"line\":{\"colorbar\":{\"outlinewidth\":0,\"ticks\":\"\"}}}],\"scatterpolargl\":[{\"type\":\"scatterpolargl\",\"marker\":{\"colorbar\":{\"outlinewidth\":0,\"ticks\":\"\"}}}],\"bar\":[{\"error_x\":{\"color\":\"#f2f5fa\"},\"error_y\":{\"color\":\"#f2f5fa\"},\"marker\":{\"line\":{\"color\":\"rgb(17,17,17)\",\"width\":0.5},\"pattern\":{\"fillmode\":\"overlay\",\"size\":10,\"solidity\":0.2}},\"type\":\"bar\"}],\"scattergeo\":[{\"type\":\"scattergeo\",\"marker\":{\"colorbar\":{\"outlinewidth\":0,\"ticks\":\"\"}}}],\"scatterpolar\":[{\"type\":\"scatterpolar\",\"marker\":{\"colorbar\":{\"outlinewidth\":0,\"ticks\":\"\"}}}],\"histogram\":[{\"marker\":{\"pattern\":{\"fillmode\":\"overlay\",\"size\":10,\"solidity\":0.2}},\"type\":\"histogram\"}],\"scattergl\":[{\"marker\":{\"line\":{\"color\":\"#283442\"}},\"type\":\"scattergl\"}],\"scatter3d\":[{\"type\":\"scatter3d\",\"line\":{\"colorbar\":{\"outlinewidth\":0,\"ticks\":\"\"}},\"marker\":{\"colorbar\":{\"outlinewidth\":0,\"ticks\":\"\"}}}],\"scattermapbox\":[{\"type\":\"scattermapbox\",\"marker\":{\"colorbar\":{\"outlinewidth\":0,\"ticks\":\"\"}}}],\"scatterternary\":[{\"type\":\"scatterternary\",\"marker\":{\"colorbar\":{\"outlinewidth\":0,\"ticks\":\"\"}}}],\"scattercarpet\":[{\"type\":\"scattercarpet\",\"marker\":{\"colorbar\":{\"outlinewidth\":0,\"ticks\":\"\"}}}],\"carpet\":[{\"aaxis\":{\"endlinecolor\":\"#A2B1C6\",\"gridcolor\":\"#506784\",\"linecolor\":\"#506784\",\"minorgridcolor\":\"#506784\",\"startlinecolor\":\"#A2B1C6\"},\"baxis\":{\"endlinecolor\":\"#A2B1C6\",\"gridcolor\":\"#506784\",\"linecolor\":\"#506784\",\"minorgridcolor\":\"#506784\",\"startlinecolor\":\"#A2B1C6\"},\"type\":\"carpet\"}],\"table\":[{\"cells\":{\"fill\":{\"color\":\"#506784\"},\"line\":{\"color\":\"rgb(17,17,17)\"}},\"header\":{\"fill\":{\"color\":\"#2a3f5f\"},\"line\":{\"color\":\"rgb(17,17,17)\"}},\"type\":\"table\"}],\"barpolar\":[{\"marker\":{\"line\":{\"color\":\"rgb(17,17,17)\",\"width\":0.5},\"pattern\":{\"fillmode\":\"overlay\",\"size\":10,\"solidity\":0.2}},\"type\":\"barpolar\"}],\"pie\":[{\"automargin\":true,\"type\":\"pie\"}]},\"layout\":{\"autotypenumbers\":\"strict\",\"colorway\":[\"#636efa\",\"#EF553B\",\"#00cc96\",\"#ab63fa\",\"#FFA15A\",\"#19d3f3\",\"#FF6692\",\"#B6E880\",\"#FF97FF\",\"#FECB52\"],\"font\":{\"color\":\"#f2f5fa\"},\"hovermode\":\"closest\",\"hoverlabel\":{\"align\":\"left\"},\"paper_bgcolor\":\"rgb(17,17,17)\",\"plot_bgcolor\":\"rgb(17,17,17)\",\"polar\":{\"bgcolor\":\"rgb(17,17,17)\",\"angularaxis\":{\"gridcolor\":\"#506784\",\"linecolor\":\"#506784\",\"ticks\":\"\"},\"radialaxis\":{\"gridcolor\":\"#506784\",\"linecolor\":\"#506784\",\"ticks\":\"\"}},\"ternary\":{\"bgcolor\":\"rgb(17,17,17)\",\"aaxis\":{\"gridcolor\":\"#506784\",\"linecolor\":\"#506784\",\"ticks\":\"\"},\"baxis\":{\"gridcolor\":\"#506784\",\"linecolor\":\"#506784\",\"ticks\":\"\"},\"caxis\":{\"gridcolor\":\"#506784\",\"linecolor\":\"#506784\",\"ticks\":\"\"}},\"coloraxis\":{\"colorbar\":{\"outlinewidth\":0,\"ticks\":\"\"}},\"colorscale\":{\"sequential\":[[0.0,\"#0d0887\"],[0.1111111111111111,\"#46039f\"],[0.2222222222222222,\"#7201a8\"],[0.3333333333333333,\"#9c179e\"],[0.4444444444444444,\"#bd3786\"],[0.5555555555555556,\"#d8576b\"],[0.6666666666666666,\"#ed7953\"],[0.7777777777777778,\"#fb9f3a\"],[0.8888888888888888,\"#fdca26\"],[1.0,\"#f0f921\"]],\"sequentialminus\":[[0.0,\"#0d0887\"],[0.1111111111111111,\"#46039f\"],[0.2222222222222222,\"#7201a8\"],[0.3333333333333333,\"#9c179e\"],[0.4444444444444444,\"#bd3786\"],[0.5555555555555556,\"#d8576b\"],[0.6666666666666666,\"#ed7953\"],[0.7777777777777778,\"#fb9f3a\"],[0.8888888888888888,\"#fdca26\"],[1.0,\"#f0f921\"]],\"diverging\":[[0,\"#8e0152\"],[0.1,\"#c51b7d\"],[0.2,\"#de77ae\"],[0.3,\"#f1b6da\"],[0.4,\"#fde0ef\"],[0.5,\"#f7f7f7\"],[0.6,\"#e6f5d0\"],[0.7,\"#b8e186\"],[0.8,\"#7fbc41\"],[0.9,\"#4d9221\"],[1,\"#276419\"]]},\"xaxis\":{\"gridcolor\":\"#283442\",\"linecolor\":\"#506784\",\"ticks\":\"\",\"title\":{\"standoff\":15},\"zerolinecolor\":\"#283442\",\"automargin\":true,\"zerolinewidth\":2},\"yaxis\":{\"gridcolor\":\"#283442\",\"linecolor\":\"#506784\",\"ticks\":\"\",\"title\":{\"standoff\":15},\"zerolinecolor\":\"#283442\",\"automargin\":true,\"zerolinewidth\":2},\"scene\":{\"xaxis\":{\"backgroundcolor\":\"rgb(17,17,17)\",\"gridcolor\":\"#506784\",\"linecolor\":\"#506784\",\"showbackground\":true,\"ticks\":\"\",\"zerolinecolor\":\"#C8D4E3\",\"gridwidth\":2},\"yaxis\":{\"backgroundcolor\":\"rgb(17,17,17)\",\"gridcolor\":\"#506784\",\"linecolor\":\"#506784\",\"showbackground\":true,\"ticks\":\"\",\"zerolinecolor\":\"#C8D4E3\",\"gridwidth\":2},\"zaxis\":{\"backgroundcolor\":\"rgb(17,17,17)\",\"gridcolor\":\"#506784\",\"linecolor\":\"#506784\",\"showbackground\":true,\"ticks\":\"\",\"zerolinecolor\":\"#C8D4E3\",\"gridwidth\":2}},\"shapedefaults\":{\"line\":{\"color\":\"#f2f5fa\"}},\"annotationdefaults\":{\"arrowcolor\":\"#f2f5fa\",\"arrowhead\":0,\"arrowwidth\":1},\"geo\":{\"bgcolor\":\"rgb(17,17,17)\",\"landcolor\":\"rgb(17,17,17)\",\"subunitcolor\":\"#506784\",\"showland\":true,\"showlakes\":true,\"lakecolor\":\"rgb(17,17,17)\"},\"title\":{\"x\":0.05},\"updatemenudefaults\":{\"bgcolor\":\"#506784\",\"borderwidth\":0},\"sliderdefaults\":{\"bgcolor\":\"#C8D4E3\",\"borderwidth\":1,\"bordercolor\":\"rgb(17,17,17)\",\"tickwidth\":0},\"mapbox\":{\"style\":\"dark\"}}},\"xaxis\":{\"anchor\":\"y\",\"domain\":[0.0,1.0],\"title\":{\"text\":\"variable\"}},\"yaxis\":{\"anchor\":\"x\",\"domain\":[0.0,1.0],\"title\":{\"text\":\"value\"}},\"legend\":{\"tracegroupgap\":0},\"margin\":{\"t\":60},\"boxmode\":\"group\"},                        {\"responsive\": true}                    ).then(function(){\n                            \nvar gd = document.getElementById('7e44e782-8653-42cc-b37a-72f37f723ee3');\nvar x = new MutationObserver(function (mutations, observer) {{\n        var display = window.getComputedStyle(gd).display;\n        if (!display || display === 'none') {{\n            console.log([gd, 'removed!']);\n            Plotly.purge(gd);\n            observer.disconnect();\n        }}\n}});\n\n// Listen for the removal of the full notebook cells\nvar notebookContainer = gd.closest('#notebook-container');\nif (notebookContainer) {{\n    x.observe(notebookContainer, {childList: true});\n}}\n\n// Listen for the clearing of the current output cell\nvar outputEl = gd.closest('.output');\nif (outputEl) {{\n    x.observe(outputEl, {childList: true});\n}}\n\n                        })                };                });            </script>        </div>"
     },
     "metadata": {},
     "output_type": "display_data"
    }
   ],
   "source": [
    "df = data.bmi\n",
    "fig = px.box(df, points=\"all\")\n",
    "fig.show()\n",
    "\n",
    "df = data.age\n",
    "fig = px.box(df, points=\"all\")\n",
    "fig.show()\n",
    "\n",
    "df = data.children\n",
    "fig = px.box(df, points=\"all\")\n",
    "fig.show()\n",
    "\n",
    "df = data.charges\n",
    "fig = px.box(df, points=\"all\")\n",
    "fig.show()\n"
   ],
   "metadata": {
    "collapsed": false
   }
  },
  {
   "cell_type": "code",
   "execution_count": 62,
   "outputs": [
    {
     "name": "stdout",
     "output_type": "stream",
     "text": [
      "samples mean: 13283.085086\n",
      "original mean: 13270.422265\n"
     ]
    },
    {
     "data": {
      "application/vnd.plotly.v1+json": {
       "data": [
        {
         "alignmentgroup": "True",
         "hovertemplate": "variable=0<br>index=%{x}<br>value=%{y}<extra></extra>",
         "legendgroup": "0",
         "marker": {
          "color": "#636efa",
          "pattern": {
           "shape": ""
          }
         },
         "name": "0",
         "offsetgroup": "0",
         "orientation": "v",
         "showlegend": true,
         "textposition": "auto",
         "x": [
          0,
          1,
          2,
          3,
          4,
          5,
          6,
          7,
          8,
          9,
          10,
          11,
          12,
          13,
          14,
          15,
          16,
          17,
          18,
          19,
          20,
          21,
          22,
          23,
          24,
          25,
          26,
          27,
          28,
          29,
          30,
          31,
          32,
          33,
          34,
          35,
          36,
          37,
          38,
          39,
          40,
          41,
          42,
          43,
          44,
          45,
          46,
          47,
          48,
          49,
          50,
          51,
          52,
          53,
          54,
          55,
          56,
          57,
          58,
          59,
          60,
          61,
          62,
          63,
          64,
          65,
          66,
          67,
          68,
          69,
          70,
          71,
          72,
          73,
          74,
          75,
          76,
          77,
          78,
          79,
          80,
          81,
          82,
          83,
          84,
          85,
          86,
          87,
          88,
          89,
          90,
          91,
          92,
          93,
          94,
          95,
          96,
          97,
          98,
          99,
          100,
          101,
          102,
          103,
          104,
          105,
          106,
          107,
          108,
          109,
          110,
          111,
          112,
          113,
          114,
          115,
          116,
          117,
          118,
          119,
          120,
          121,
          122,
          123,
          124,
          125,
          126,
          127,
          128,
          129,
          130,
          131,
          132,
          133,
          134,
          135,
          136,
          137,
          138,
          139,
          140,
          141,
          142,
          143,
          144,
          145,
          146,
          147,
          148,
          149,
          150,
          151,
          152,
          153,
          154,
          155,
          156,
          157,
          158,
          159,
          160,
          161,
          162,
          163,
          164,
          165,
          166,
          167,
          168,
          169,
          170,
          171,
          172,
          173,
          174,
          175,
          176,
          177,
          178,
          179,
          180,
          181,
          182,
          183,
          184,
          185,
          186,
          187,
          188,
          189,
          190,
          191,
          192,
          193,
          194,
          195,
          196,
          197,
          198,
          199,
          200,
          201,
          202,
          203,
          204,
          205,
          206,
          207,
          208,
          209,
          210,
          211,
          212,
          213,
          214,
          215,
          216,
          217,
          218,
          219,
          220,
          221,
          222,
          223,
          224,
          225,
          226,
          227,
          228,
          229,
          230,
          231,
          232,
          233,
          234,
          235,
          236,
          237,
          238,
          239,
          240,
          241,
          242,
          243,
          244,
          245,
          246,
          247,
          248,
          249,
          250,
          251,
          252,
          253,
          254,
          255,
          256,
          257,
          258,
          259,
          260,
          261,
          262,
          263,
          264,
          265,
          266,
          267,
          268,
          269,
          270,
          271,
          272,
          273,
          274,
          275,
          276,
          277,
          278,
          279,
          280,
          281,
          282,
          283,
          284,
          285,
          286,
          287,
          288,
          289,
          290,
          291,
          292,
          293,
          294,
          295,
          296,
          297,
          298,
          299,
          300,
          301,
          302,
          303,
          304,
          305,
          306,
          307,
          308,
          309,
          310,
          311,
          312,
          313,
          314,
          315,
          316,
          317,
          318,
          319,
          320,
          321,
          322,
          323,
          324,
          325,
          326,
          327,
          328,
          329,
          330,
          331,
          332,
          333,
          334,
          335,
          336,
          337,
          338,
          339,
          340,
          341,
          342,
          343,
          344,
          345,
          346,
          347,
          348,
          349,
          350,
          351,
          352,
          353,
          354,
          355,
          356,
          357,
          358,
          359,
          360,
          361,
          362,
          363,
          364,
          365,
          366,
          367,
          368,
          369,
          370,
          371,
          372,
          373,
          374,
          375,
          376,
          377,
          378,
          379,
          380,
          381,
          382,
          383,
          384,
          385,
          386,
          387,
          388,
          389,
          390,
          391,
          392,
          393,
          394,
          395,
          396,
          397,
          398,
          399,
          400,
          401,
          402,
          403,
          404,
          405,
          406,
          407,
          408,
          409,
          410,
          411,
          412,
          413,
          414,
          415,
          416,
          417,
          418,
          419,
          420,
          421,
          422,
          423,
          424,
          425,
          426,
          427,
          428,
          429,
          430,
          431,
          432,
          433,
          434,
          435,
          436,
          437,
          438,
          439,
          440,
          441,
          442,
          443,
          444,
          445,
          446,
          447,
          448,
          449,
          450,
          451,
          452,
          453,
          454,
          455,
          456,
          457,
          458,
          459,
          460,
          461,
          462,
          463,
          464,
          465,
          466,
          467,
          468,
          469,
          470,
          471,
          472,
          473,
          474,
          475,
          476,
          477,
          478,
          479,
          480,
          481,
          482,
          483,
          484,
          485,
          486,
          487,
          488,
          489,
          490,
          491,
          492,
          493,
          494,
          495,
          496,
          497,
          498,
          499
         ],
         "xaxis": "x",
         "y": [
          13326.960872299995,
          13301.174084066663,
          13180.458315300008,
          13047.256244833326,
          12883.672054729992,
          13416.029471766664,
          14339.148036966659,
          12754.735535133328,
          13621.32688376667,
          13831.081844899998,
          13513.576070933334,
          12827.325317933335,
          14301.026796600005,
          12442.020306166663,
          12817.29315849667,
          13159.586949866669,
          13300.327966829997,
          13963.573917333333,
          14074.962120900002,
          14230.892418099998,
          11716.279051600013,
          13163.198687963333,
          13352.820809999994,
          13449.58720879999,
          12407.39394396666,
          14149.590993999996,
          13509.536272799993,
          13301.66446623,
          12801.646544633322,
          12952.497639533329,
          11943.921009066666,
          13515.309222596665,
          13207.784372066664,
          13940.426494666672,
          12624.878868666665,
          12963.535443596662,
          12978.297003366662,
          13365.183206299995,
          13151.915003163329,
          12249.63989499666,
          12914.477045896669,
          12563.63600283,
          13482.841800900003,
          13523.859321199998,
          13637.902846199999,
          13526.918341100001,
          12807.415300433337,
          14200.464571599994,
          12723.800982533328,
          13719.132425966664,
          12518.796274633332,
          12440.05957633333,
          13224.910217129993,
          13955.967556429996,
          13096.600345433326,
          13027.854638266675,
          13970.20506146334,
          13847.260242399998,
          12603.142541333336,
          14386.817708766672,
          13679.293241663334,
          13126.534958633329,
          14064.7897276,
          12959.381004033321,
          12506.859956033333,
          13856.77137606333,
          13903.00489323,
          14414.822837366675,
          12546.560809000006,
          14293.231221099983,
          13861.03869153334,
          13870.037801833323,
          13221.277715466653,
          13080.584882800005,
          14307.021450299999,
          14208.812375333324,
          14080.04709816667,
          13839.564293929998,
          13155.003304100004,
          14293.455071366665,
          13986.27470756334,
          13180.084040366663,
          12439.168442899996,
          12543.232440100004,
          14022.773937366666,
          13870.28975126333,
          13428.726692696668,
          13706.258730399988,
          13272.271660399996,
          13169.132573466663,
          13622.239020666662,
          13679.976234430007,
          13146.240750700004,
          12609.425656199996,
          12555.986305400005,
          13233.127642966661,
          12230.044225866666,
          12761.662404696666,
          13057.962402966661,
          13750.727864133327,
          13240.273508599994,
          13735.085570796671,
          12601.476232296656,
          14112.139912966664,
          13074.84828706333,
          13587.440581566669,
          13221.990244466662,
          13394.471246533329,
          13548.211047163326,
          13365.856324266662,
          14239.180326100008,
          12074.039566399995,
          13427.070282899993,
          13209.363243829997,
          12948.763548566672,
          13281.01972199667,
          12791.114752100004,
          13097.962629833326,
          14560.453207566661,
          12875.458222733329,
          13914.929222100005,
          15040.9291163,
          13304.326133299997,
          12520.758343700001,
          12629.231978999996,
          14627.264657599995,
          12997.230022266669,
          13029.214840266673,
          13832.466924530005,
          12273.841885299993,
          13341.48545233,
          13021.488414000014,
          13307.43909913334,
          14227.168006130001,
          12111.663267596658,
          14097.775449400007,
          13001.624756766669,
          12429.224552666656,
          13469.159453729997,
          13142.57765396666,
          12916.957497966658,
          12983.542574329997,
          12670.252807833334,
          12645.219251199997,
          14984.412870233335,
          14192.201918733328,
          13760.468584296663,
          13465.505945133327,
          13003.587459099992,
          12219.879295333336,
          13547.758209499994,
          12645.963437766668,
          13252.278735299991,
          13010.492371629995,
          12141.345508633334,
          13266.869226699999,
          12489.176860896665,
          13566.869154200002,
          12085.935991363336,
          12480.25794319666,
          14052.953129866673,
          12447.350353796666,
          13110.703141300002,
          12948.822654633332,
          13216.082367999992,
          13103.213753796663,
          13338.758405900002,
          13212.408671629993,
          14028.132162,
          12793.352292499996,
          13229.575458833337,
          14308.15878790001,
          14082.030697663331,
          12647.216546033334,
          12253.831162866672,
          12828.61334413333,
          12108.663227096667,
          13419.583692766664,
          12808.653986833335,
          12947.822960696674,
          13260.014497733322,
          13936.333453366662,
          13590.606260599992,
          13228.698703866668,
          13631.537820733329,
          13226.74516983333,
          13134.639986966667,
          12613.052244533319,
          12390.775907896666,
          12965.00261310001,
          13350.798994966673,
          13893.789477066666,
          13067.70954363333,
          12515.229684266675,
          13604.827757299998,
          12417.591223833337,
          12743.928672566662,
          14349.44402443333,
          13377.858024199995,
          12992.625348266667,
          13318.934535166667,
          13980.02793096667,
          13109.384601166657,
          12927.67802763333,
          13370.608037366655,
          13324.249040066661,
          12582.583816263335,
          14562.27039593333,
          13625.070291266662,
          13327.953209033332,
          13393.45490076333,
          12582.832748696663,
          12988.271465266671,
          13123.008636633323,
          13156.260551099991,
          14274.698045966663,
          13326.294307499998,
          13562.447326533333,
          13012.332077963338,
          13650.998991666664,
          12430.850741066672,
          11496.770117896667,
          13319.411223699995,
          13718.38383232999,
          13571.314624163339,
          11790.764700400001,
          13844.416262066672,
          11981.89823313333,
          12920.708898096666,
          12462.995055899999,
          13238.898817099996,
          14240.749786266666,
          13681.453093499995,
          13380.097295030002,
          14579.327597399999,
          13855.968465533337,
          12891.900566433333,
          13737.446335299994,
          13739.737144033337,
          14544.262887463328,
          14078.853852433338,
          13713.301967600006,
          12660.904099700008,
          13475.258756233323,
          13745.498973999996,
          13486.000038596661,
          13430.086208733328,
          13035.959142299997,
          13035.118796966657,
          13085.328952700002,
          13373.556069366674,
          13641.874605563335,
          12746.219053766663,
          12992.96273883334,
          15071.998639266669,
          13027.57177236666,
          12763.084312229992,
          12808.262676433336,
          13980.629394933329,
          13275.78843796333,
          11766.795175329993,
          12760.077990666654,
          12844.915420499994,
          13926.303476533338,
          13056.326129296664,
          13176.170612099993,
          13432.598732999997,
          13942.963966463327,
          12989.653918296666,
          12846.934875033325,
          12753.041428300012,
          13492.439018599987,
          13000.479511433326,
          13102.640859629992,
          12986.85648106332,
          12738.188139863338,
          13303.184242733334,
          12756.285678933336,
          14322.02392633334,
          13036.2240651,
          14361.830027766662,
          12954.729110633338,
          12875.005654433335,
          12890.296279500008,
          14682.764666666664,
          13475.23240613332,
          13093.020205800003,
          13845.76490653333,
          12976.21000089999,
          12517.946446099993,
          12836.761352466658,
          12983.216203499998,
          13316.175796333331,
          13264.332981829999,
          14300.436687033325,
          12833.086692596664,
          13460.502365733331,
          12939.32887340001,
          13619.079513433331,
          13951.918638833335,
          12854.772128633336,
          13514.075030363323,
          12179.538161796665,
          12907.666366630008,
          13635.766908230002,
          12531.670835499997,
          13688.155395066666,
          13447.523126933336,
          12690.495893300003,
          13107.578076533333,
          12365.0787182,
          12564.307301699997,
          12476.603500596664,
          13550.765321196663,
          13258.151637966668,
          13396.42588626333,
          13488.894486300002,
          13448.561874233326,
          12701.608926699999,
          14283.609697566666,
          13448.10714366333,
          12954.675433499999,
          12954.342867533327,
          13760.797632433327,
          12860.947573863335,
          13006.557182830002,
          13859.584336133323,
          13464.030584,
          12284.282324599997,
          13378.400788966666,
          13057.35756346666,
          13010.653255199997,
          12801.453589366665,
          12842.174479633342,
          13877.856427533343,
          12063.526096699987,
          14533.617596200005,
          15699.802925633332,
          13660.869955799983,
          12332.038384633335,
          13073.828244199993,
          14590.600318363331,
          12889.405153033333,
          12462.532456066658,
          13223.066778666662,
          13782.58379893,
          13088.441340499996,
          13916.044736666672,
          12318.444994899997,
          13024.12985963,
          14345.98058226666,
          12827.531593963326,
          13452.604601199997,
          13963.593649629998,
          12622.83709153333,
          13048.010599499996,
          13001.178252566668,
          13469.61445403333,
          13047.514112129993,
          13971.510025529988,
          13928.856844599999,
          14097.542973399992,
          12984.431384766673,
          13316.420869866666,
          12964.09924376667,
          13826.427307233327,
          12541.396790166658,
          12307.481809100002,
          13027.154738296655,
          12925.553668899996,
          14454.160964466657,
          13884.178549799997,
          12794.6639256,
          13242.415295933337,
          13027.127382799994,
          12919.201230799996,
          12748.60632549999,
          13573.443098200003,
          13152.053762299995,
          13535.444634399986,
          13439.611381799996,
          12630.805534466668,
          13011.596845633334,
          13564.87755433333,
          13749.988441666663,
          13228.959953730011,
          13919.339982033325,
          13159.658157333328,
          13234.0907238,
          14304.197304366666,
          14004.928303996667,
          13460.58717613333,
          13378.259161133328,
          12358.80967356667,
          12249.021390133323,
          13744.459276133335,
          12753.185266633325,
          12901.814587233323,
          12717.193894600008,
          13070.616164566658,
          13302.384456933334,
          13839.360245700002,
          14657.076076033318,
          13050.243210429986,
          13436.762445029999,
          12918.161507829993,
          12269.935027299996,
          13706.047631433334,
          13920.195475433333,
          13663.68055656333,
          12400.448483999993,
          13312.265055200005,
          13320.142050233335,
          13532.25260009999,
          12267.280122066657,
          12427.081098933328,
          14103.294436796674,
          13504.054336463327,
          13121.64923982999,
          14134.563515633332,
          13450.281252166667,
          13612.826712763333,
          13283.932192966662,
          13719.84806586666,
          14345.831232433326,
          13518.698814233334,
          13103.838826529996,
          13200.859167899991,
          13348.13795233001,
          12551.71465606334,
          13432.865618633332,
          13439.741726766659,
          13461.204977963325,
          13454.075703700002,
          13788.336006166663,
          13446.540275733336,
          12847.278429733327,
          13937.128936633335,
          14276.379745000006,
          12275.46648533333,
          13047.941252433327,
          13202.495127296672,
          12737.5458741,
          14151.404800563325,
          14676.120287700003,
          13118.600306633329,
          13311.877479633331,
          12537.927605696674,
          14114.959389096666,
          14039.7735817,
          13614.91902586333,
          12588.761196033329,
          13695.171377699997,
          13790.116287063345,
          13624.989253129997,
          12958.007561333332,
          14897.6757703,
          12866.300024096665,
          13477.669030863326,
          13931.86546380001,
          13455.457868463338,
          13287.474709566657,
          12946.136940166665,
          13802.722651766668,
          13788.645151033335,
          13586.733946499995,
          12475.339516466656,
          12552.340222400006,
          14314.314483466673,
          12747.87854123333,
          11228.050517163334,
          13843.323134433336,
          14034.120478700002,
          13243.252689466672,
          12266.502061166664,
          12758.486960733335,
          13467.889764866663,
          14256.770528366662,
          13175.973127999998,
          13252.504903466655,
          14453.296614799996,
          12146.556888833335,
          13070.606795529995,
          13409.620696600003,
          12804.942908733336,
          12751.174527533334,
          12918.905081596664,
          13258.306841029995,
          13763.095739566672,
          12775.956850566658,
          13547.419033333332,
          13470.012386899989,
          12456.147685499993,
          12198.971127566669,
          13793.247008066668,
          13405.92397633333,
          13069.260588866653,
          12569.682388166655,
          13577.582474533323,
          14195.350108266663
         ],
         "yaxis": "y",
         "type": "bar"
        }
       ],
       "layout": {
        "template": {
         "data": {
          "histogram2dcontour": [
           {
            "type": "histogram2dcontour",
            "colorbar": {
             "outlinewidth": 0,
             "ticks": ""
            },
            "colorscale": [
             [
              0.0,
              "#0d0887"
             ],
             [
              0.1111111111111111,
              "#46039f"
             ],
             [
              0.2222222222222222,
              "#7201a8"
             ],
             [
              0.3333333333333333,
              "#9c179e"
             ],
             [
              0.4444444444444444,
              "#bd3786"
             ],
             [
              0.5555555555555556,
              "#d8576b"
             ],
             [
              0.6666666666666666,
              "#ed7953"
             ],
             [
              0.7777777777777778,
              "#fb9f3a"
             ],
             [
              0.8888888888888888,
              "#fdca26"
             ],
             [
              1.0,
              "#f0f921"
             ]
            ]
           }
          ],
          "choropleth": [
           {
            "type": "choropleth",
            "colorbar": {
             "outlinewidth": 0,
             "ticks": ""
            }
           }
          ],
          "histogram2d": [
           {
            "type": "histogram2d",
            "colorbar": {
             "outlinewidth": 0,
             "ticks": ""
            },
            "colorscale": [
             [
              0.0,
              "#0d0887"
             ],
             [
              0.1111111111111111,
              "#46039f"
             ],
             [
              0.2222222222222222,
              "#7201a8"
             ],
             [
              0.3333333333333333,
              "#9c179e"
             ],
             [
              0.4444444444444444,
              "#bd3786"
             ],
             [
              0.5555555555555556,
              "#d8576b"
             ],
             [
              0.6666666666666666,
              "#ed7953"
             ],
             [
              0.7777777777777778,
              "#fb9f3a"
             ],
             [
              0.8888888888888888,
              "#fdca26"
             ],
             [
              1.0,
              "#f0f921"
             ]
            ]
           }
          ],
          "heatmap": [
           {
            "type": "heatmap",
            "colorbar": {
             "outlinewidth": 0,
             "ticks": ""
            },
            "colorscale": [
             [
              0.0,
              "#0d0887"
             ],
             [
              0.1111111111111111,
              "#46039f"
             ],
             [
              0.2222222222222222,
              "#7201a8"
             ],
             [
              0.3333333333333333,
              "#9c179e"
             ],
             [
              0.4444444444444444,
              "#bd3786"
             ],
             [
              0.5555555555555556,
              "#d8576b"
             ],
             [
              0.6666666666666666,
              "#ed7953"
             ],
             [
              0.7777777777777778,
              "#fb9f3a"
             ],
             [
              0.8888888888888888,
              "#fdca26"
             ],
             [
              1.0,
              "#f0f921"
             ]
            ]
           }
          ],
          "heatmapgl": [
           {
            "type": "heatmapgl",
            "colorbar": {
             "outlinewidth": 0,
             "ticks": ""
            },
            "colorscale": [
             [
              0.0,
              "#0d0887"
             ],
             [
              0.1111111111111111,
              "#46039f"
             ],
             [
              0.2222222222222222,
              "#7201a8"
             ],
             [
              0.3333333333333333,
              "#9c179e"
             ],
             [
              0.4444444444444444,
              "#bd3786"
             ],
             [
              0.5555555555555556,
              "#d8576b"
             ],
             [
              0.6666666666666666,
              "#ed7953"
             ],
             [
              0.7777777777777778,
              "#fb9f3a"
             ],
             [
              0.8888888888888888,
              "#fdca26"
             ],
             [
              1.0,
              "#f0f921"
             ]
            ]
           }
          ],
          "contourcarpet": [
           {
            "type": "contourcarpet",
            "colorbar": {
             "outlinewidth": 0,
             "ticks": ""
            }
           }
          ],
          "contour": [
           {
            "type": "contour",
            "colorbar": {
             "outlinewidth": 0,
             "ticks": ""
            },
            "colorscale": [
             [
              0.0,
              "#0d0887"
             ],
             [
              0.1111111111111111,
              "#46039f"
             ],
             [
              0.2222222222222222,
              "#7201a8"
             ],
             [
              0.3333333333333333,
              "#9c179e"
             ],
             [
              0.4444444444444444,
              "#bd3786"
             ],
             [
              0.5555555555555556,
              "#d8576b"
             ],
             [
              0.6666666666666666,
              "#ed7953"
             ],
             [
              0.7777777777777778,
              "#fb9f3a"
             ],
             [
              0.8888888888888888,
              "#fdca26"
             ],
             [
              1.0,
              "#f0f921"
             ]
            ]
           }
          ],
          "surface": [
           {
            "type": "surface",
            "colorbar": {
             "outlinewidth": 0,
             "ticks": ""
            },
            "colorscale": [
             [
              0.0,
              "#0d0887"
             ],
             [
              0.1111111111111111,
              "#46039f"
             ],
             [
              0.2222222222222222,
              "#7201a8"
             ],
             [
              0.3333333333333333,
              "#9c179e"
             ],
             [
              0.4444444444444444,
              "#bd3786"
             ],
             [
              0.5555555555555556,
              "#d8576b"
             ],
             [
              0.6666666666666666,
              "#ed7953"
             ],
             [
              0.7777777777777778,
              "#fb9f3a"
             ],
             [
              0.8888888888888888,
              "#fdca26"
             ],
             [
              1.0,
              "#f0f921"
             ]
            ]
           }
          ],
          "mesh3d": [
           {
            "type": "mesh3d",
            "colorbar": {
             "outlinewidth": 0,
             "ticks": ""
            }
           }
          ],
          "scatter": [
           {
            "marker": {
             "line": {
              "color": "#283442"
             }
            },
            "type": "scatter"
           }
          ],
          "parcoords": [
           {
            "type": "parcoords",
            "line": {
             "colorbar": {
              "outlinewidth": 0,
              "ticks": ""
             }
            }
           }
          ],
          "scatterpolargl": [
           {
            "type": "scatterpolargl",
            "marker": {
             "colorbar": {
              "outlinewidth": 0,
              "ticks": ""
             }
            }
           }
          ],
          "bar": [
           {
            "error_x": {
             "color": "#f2f5fa"
            },
            "error_y": {
             "color": "#f2f5fa"
            },
            "marker": {
             "line": {
              "color": "rgb(17,17,17)",
              "width": 0.5
             },
             "pattern": {
              "fillmode": "overlay",
              "size": 10,
              "solidity": 0.2
             }
            },
            "type": "bar"
           }
          ],
          "scattergeo": [
           {
            "type": "scattergeo",
            "marker": {
             "colorbar": {
              "outlinewidth": 0,
              "ticks": ""
             }
            }
           }
          ],
          "scatterpolar": [
           {
            "type": "scatterpolar",
            "marker": {
             "colorbar": {
              "outlinewidth": 0,
              "ticks": ""
             }
            }
           }
          ],
          "histogram": [
           {
            "marker": {
             "pattern": {
              "fillmode": "overlay",
              "size": 10,
              "solidity": 0.2
             }
            },
            "type": "histogram"
           }
          ],
          "scattergl": [
           {
            "marker": {
             "line": {
              "color": "#283442"
             }
            },
            "type": "scattergl"
           }
          ],
          "scatter3d": [
           {
            "type": "scatter3d",
            "line": {
             "colorbar": {
              "outlinewidth": 0,
              "ticks": ""
             }
            },
            "marker": {
             "colorbar": {
              "outlinewidth": 0,
              "ticks": ""
             }
            }
           }
          ],
          "scattermapbox": [
           {
            "type": "scattermapbox",
            "marker": {
             "colorbar": {
              "outlinewidth": 0,
              "ticks": ""
             }
            }
           }
          ],
          "scatterternary": [
           {
            "type": "scatterternary",
            "marker": {
             "colorbar": {
              "outlinewidth": 0,
              "ticks": ""
             }
            }
           }
          ],
          "scattercarpet": [
           {
            "type": "scattercarpet",
            "marker": {
             "colorbar": {
              "outlinewidth": 0,
              "ticks": ""
             }
            }
           }
          ],
          "carpet": [
           {
            "aaxis": {
             "endlinecolor": "#A2B1C6",
             "gridcolor": "#506784",
             "linecolor": "#506784",
             "minorgridcolor": "#506784",
             "startlinecolor": "#A2B1C6"
            },
            "baxis": {
             "endlinecolor": "#A2B1C6",
             "gridcolor": "#506784",
             "linecolor": "#506784",
             "minorgridcolor": "#506784",
             "startlinecolor": "#A2B1C6"
            },
            "type": "carpet"
           }
          ],
          "table": [
           {
            "cells": {
             "fill": {
              "color": "#506784"
             },
             "line": {
              "color": "rgb(17,17,17)"
             }
            },
            "header": {
             "fill": {
              "color": "#2a3f5f"
             },
             "line": {
              "color": "rgb(17,17,17)"
             }
            },
            "type": "table"
           }
          ],
          "barpolar": [
           {
            "marker": {
             "line": {
              "color": "rgb(17,17,17)",
              "width": 0.5
             },
             "pattern": {
              "fillmode": "overlay",
              "size": 10,
              "solidity": 0.2
             }
            },
            "type": "barpolar"
           }
          ],
          "pie": [
           {
            "automargin": true,
            "type": "pie"
           }
          ]
         },
         "layout": {
          "autotypenumbers": "strict",
          "colorway": [
           "#636efa",
           "#EF553B",
           "#00cc96",
           "#ab63fa",
           "#FFA15A",
           "#19d3f3",
           "#FF6692",
           "#B6E880",
           "#FF97FF",
           "#FECB52"
          ],
          "font": {
           "color": "#f2f5fa"
          },
          "hovermode": "closest",
          "hoverlabel": {
           "align": "left"
          },
          "paper_bgcolor": "rgb(17,17,17)",
          "plot_bgcolor": "rgb(17,17,17)",
          "polar": {
           "bgcolor": "rgb(17,17,17)",
           "angularaxis": {
            "gridcolor": "#506784",
            "linecolor": "#506784",
            "ticks": ""
           },
           "radialaxis": {
            "gridcolor": "#506784",
            "linecolor": "#506784",
            "ticks": ""
           }
          },
          "ternary": {
           "bgcolor": "rgb(17,17,17)",
           "aaxis": {
            "gridcolor": "#506784",
            "linecolor": "#506784",
            "ticks": ""
           },
           "baxis": {
            "gridcolor": "#506784",
            "linecolor": "#506784",
            "ticks": ""
           },
           "caxis": {
            "gridcolor": "#506784",
            "linecolor": "#506784",
            "ticks": ""
           }
          },
          "coloraxis": {
           "colorbar": {
            "outlinewidth": 0,
            "ticks": ""
           }
          },
          "colorscale": {
           "sequential": [
            [
             0.0,
             "#0d0887"
            ],
            [
             0.1111111111111111,
             "#46039f"
            ],
            [
             0.2222222222222222,
             "#7201a8"
            ],
            [
             0.3333333333333333,
             "#9c179e"
            ],
            [
             0.4444444444444444,
             "#bd3786"
            ],
            [
             0.5555555555555556,
             "#d8576b"
            ],
            [
             0.6666666666666666,
             "#ed7953"
            ],
            [
             0.7777777777777778,
             "#fb9f3a"
            ],
            [
             0.8888888888888888,
             "#fdca26"
            ],
            [
             1.0,
             "#f0f921"
            ]
           ],
           "sequentialminus": [
            [
             0.0,
             "#0d0887"
            ],
            [
             0.1111111111111111,
             "#46039f"
            ],
            [
             0.2222222222222222,
             "#7201a8"
            ],
            [
             0.3333333333333333,
             "#9c179e"
            ],
            [
             0.4444444444444444,
             "#bd3786"
            ],
            [
             0.5555555555555556,
             "#d8576b"
            ],
            [
             0.6666666666666666,
             "#ed7953"
            ],
            [
             0.7777777777777778,
             "#fb9f3a"
            ],
            [
             0.8888888888888888,
             "#fdca26"
            ],
            [
             1.0,
             "#f0f921"
            ]
           ],
           "diverging": [
            [
             0,
             "#8e0152"
            ],
            [
             0.1,
             "#c51b7d"
            ],
            [
             0.2,
             "#de77ae"
            ],
            [
             0.3,
             "#f1b6da"
            ],
            [
             0.4,
             "#fde0ef"
            ],
            [
             0.5,
             "#f7f7f7"
            ],
            [
             0.6,
             "#e6f5d0"
            ],
            [
             0.7,
             "#b8e186"
            ],
            [
             0.8,
             "#7fbc41"
            ],
            [
             0.9,
             "#4d9221"
            ],
            [
             1,
             "#276419"
            ]
           ]
          },
          "xaxis": {
           "gridcolor": "#283442",
           "linecolor": "#506784",
           "ticks": "",
           "title": {
            "standoff": 15
           },
           "zerolinecolor": "#283442",
           "automargin": true,
           "zerolinewidth": 2
          },
          "yaxis": {
           "gridcolor": "#283442",
           "linecolor": "#506784",
           "ticks": "",
           "title": {
            "standoff": 15
           },
           "zerolinecolor": "#283442",
           "automargin": true,
           "zerolinewidth": 2
          },
          "scene": {
           "xaxis": {
            "backgroundcolor": "rgb(17,17,17)",
            "gridcolor": "#506784",
            "linecolor": "#506784",
            "showbackground": true,
            "ticks": "",
            "zerolinecolor": "#C8D4E3",
            "gridwidth": 2
           },
           "yaxis": {
            "backgroundcolor": "rgb(17,17,17)",
            "gridcolor": "#506784",
            "linecolor": "#506784",
            "showbackground": true,
            "ticks": "",
            "zerolinecolor": "#C8D4E3",
            "gridwidth": 2
           },
           "zaxis": {
            "backgroundcolor": "rgb(17,17,17)",
            "gridcolor": "#506784",
            "linecolor": "#506784",
            "showbackground": true,
            "ticks": "",
            "zerolinecolor": "#C8D4E3",
            "gridwidth": 2
           }
          },
          "shapedefaults": {
           "line": {
            "color": "#f2f5fa"
           }
          },
          "annotationdefaults": {
           "arrowcolor": "#f2f5fa",
           "arrowhead": 0,
           "arrowwidth": 1
          },
          "geo": {
           "bgcolor": "rgb(17,17,17)",
           "landcolor": "rgb(17,17,17)",
           "subunitcolor": "#506784",
           "showland": true,
           "showlakes": true,
           "lakecolor": "rgb(17,17,17)"
          },
          "title": {
           "x": 0.05
          },
          "updatemenudefaults": {
           "bgcolor": "#506784",
           "borderwidth": 0
          },
          "sliderdefaults": {
           "bgcolor": "#C8D4E3",
           "borderwidth": 1,
           "bordercolor": "rgb(17,17,17)",
           "tickwidth": 0
          },
          "mapbox": {
           "style": "dark"
          }
         }
        },
        "xaxis": {
         "anchor": "y",
         "domain": [
          0.0,
          1.0
         ],
         "title": {
          "text": "index"
         }
        },
        "yaxis": {
         "anchor": "x",
         "domain": [
          0.0,
          1.0
         ],
         "title": {
          "text": "value"
         }
        },
        "legend": {
         "title": {
          "text": "variable"
         },
         "tracegroupgap": 0
        },
        "margin": {
         "t": 60
        },
        "barmode": "relative"
       },
       "config": {
        "plotlyServerURL": "https://plot.ly"
       }
      },
      "text/html": "<div>                            <div id=\"5bb28e8c-79a9-4941-a441-4c8654a0e6ae\" class=\"plotly-graph-div\" style=\"height:525px; width:100%;\"></div>            <script type=\"text/javascript\">                require([\"plotly\"], function(Plotly) {                    window.PLOTLYENV=window.PLOTLYENV || {};                                    if (document.getElementById(\"5bb28e8c-79a9-4941-a441-4c8654a0e6ae\")) {                    Plotly.newPlot(                        \"5bb28e8c-79a9-4941-a441-4c8654a0e6ae\",                        [{\"alignmentgroup\":\"True\",\"hovertemplate\":\"variable=0<br>index=%{x}<br>value=%{y}<extra></extra>\",\"legendgroup\":\"0\",\"marker\":{\"color\":\"#636efa\",\"pattern\":{\"shape\":\"\"}},\"name\":\"0\",\"offsetgroup\":\"0\",\"orientation\":\"v\",\"showlegend\":true,\"textposition\":\"auto\",\"x\":[0,1,2,3,4,5,6,7,8,9,10,11,12,13,14,15,16,17,18,19,20,21,22,23,24,25,26,27,28,29,30,31,32,33,34,35,36,37,38,39,40,41,42,43,44,45,46,47,48,49,50,51,52,53,54,55,56,57,58,59,60,61,62,63,64,65,66,67,68,69,70,71,72,73,74,75,76,77,78,79,80,81,82,83,84,85,86,87,88,89,90,91,92,93,94,95,96,97,98,99,100,101,102,103,104,105,106,107,108,109,110,111,112,113,114,115,116,117,118,119,120,121,122,123,124,125,126,127,128,129,130,131,132,133,134,135,136,137,138,139,140,141,142,143,144,145,146,147,148,149,150,151,152,153,154,155,156,157,158,159,160,161,162,163,164,165,166,167,168,169,170,171,172,173,174,175,176,177,178,179,180,181,182,183,184,185,186,187,188,189,190,191,192,193,194,195,196,197,198,199,200,201,202,203,204,205,206,207,208,209,210,211,212,213,214,215,216,217,218,219,220,221,222,223,224,225,226,227,228,229,230,231,232,233,234,235,236,237,238,239,240,241,242,243,244,245,246,247,248,249,250,251,252,253,254,255,256,257,258,259,260,261,262,263,264,265,266,267,268,269,270,271,272,273,274,275,276,277,278,279,280,281,282,283,284,285,286,287,288,289,290,291,292,293,294,295,296,297,298,299,300,301,302,303,304,305,306,307,308,309,310,311,312,313,314,315,316,317,318,319,320,321,322,323,324,325,326,327,328,329,330,331,332,333,334,335,336,337,338,339,340,341,342,343,344,345,346,347,348,349,350,351,352,353,354,355,356,357,358,359,360,361,362,363,364,365,366,367,368,369,370,371,372,373,374,375,376,377,378,379,380,381,382,383,384,385,386,387,388,389,390,391,392,393,394,395,396,397,398,399,400,401,402,403,404,405,406,407,408,409,410,411,412,413,414,415,416,417,418,419,420,421,422,423,424,425,426,427,428,429,430,431,432,433,434,435,436,437,438,439,440,441,442,443,444,445,446,447,448,449,450,451,452,453,454,455,456,457,458,459,460,461,462,463,464,465,466,467,468,469,470,471,472,473,474,475,476,477,478,479,480,481,482,483,484,485,486,487,488,489,490,491,492,493,494,495,496,497,498,499],\"xaxis\":\"x\",\"y\":[13326.960872299995,13301.174084066663,13180.458315300008,13047.256244833326,12883.672054729992,13416.029471766664,14339.148036966659,12754.735535133328,13621.32688376667,13831.081844899998,13513.576070933334,12827.325317933335,14301.026796600005,12442.020306166663,12817.29315849667,13159.586949866669,13300.327966829997,13963.573917333333,14074.962120900002,14230.892418099998,11716.279051600013,13163.198687963333,13352.820809999994,13449.58720879999,12407.39394396666,14149.590993999996,13509.536272799993,13301.66446623,12801.646544633322,12952.497639533329,11943.921009066666,13515.309222596665,13207.784372066664,13940.426494666672,12624.878868666665,12963.535443596662,12978.297003366662,13365.183206299995,13151.915003163329,12249.63989499666,12914.477045896669,12563.63600283,13482.841800900003,13523.859321199998,13637.902846199999,13526.918341100001,12807.415300433337,14200.464571599994,12723.800982533328,13719.132425966664,12518.796274633332,12440.05957633333,13224.910217129993,13955.967556429996,13096.600345433326,13027.854638266675,13970.20506146334,13847.260242399998,12603.142541333336,14386.817708766672,13679.293241663334,13126.534958633329,14064.7897276,12959.381004033321,12506.859956033333,13856.77137606333,13903.00489323,14414.822837366675,12546.560809000006,14293.231221099983,13861.03869153334,13870.037801833323,13221.277715466653,13080.584882800005,14307.021450299999,14208.812375333324,14080.04709816667,13839.564293929998,13155.003304100004,14293.455071366665,13986.27470756334,13180.084040366663,12439.168442899996,12543.232440100004,14022.773937366666,13870.28975126333,13428.726692696668,13706.258730399988,13272.271660399996,13169.132573466663,13622.239020666662,13679.976234430007,13146.240750700004,12609.425656199996,12555.986305400005,13233.127642966661,12230.044225866666,12761.662404696666,13057.962402966661,13750.727864133327,13240.273508599994,13735.085570796671,12601.476232296656,14112.139912966664,13074.84828706333,13587.440581566669,13221.990244466662,13394.471246533329,13548.211047163326,13365.856324266662,14239.180326100008,12074.039566399995,13427.070282899993,13209.363243829997,12948.763548566672,13281.01972199667,12791.114752100004,13097.962629833326,14560.453207566661,12875.458222733329,13914.929222100005,15040.9291163,13304.326133299997,12520.758343700001,12629.231978999996,14627.264657599995,12997.230022266669,13029.214840266673,13832.466924530005,12273.841885299993,13341.48545233,13021.488414000014,13307.43909913334,14227.168006130001,12111.663267596658,14097.775449400007,13001.624756766669,12429.224552666656,13469.159453729997,13142.57765396666,12916.957497966658,12983.542574329997,12670.252807833334,12645.219251199997,14984.412870233335,14192.201918733328,13760.468584296663,13465.505945133327,13003.587459099992,12219.879295333336,13547.758209499994,12645.963437766668,13252.278735299991,13010.492371629995,12141.345508633334,13266.869226699999,12489.176860896665,13566.869154200002,12085.935991363336,12480.25794319666,14052.953129866673,12447.350353796666,13110.703141300002,12948.822654633332,13216.082367999992,13103.213753796663,13338.758405900002,13212.408671629993,14028.132162,12793.352292499996,13229.575458833337,14308.15878790001,14082.030697663331,12647.216546033334,12253.831162866672,12828.61334413333,12108.663227096667,13419.583692766664,12808.653986833335,12947.822960696674,13260.014497733322,13936.333453366662,13590.606260599992,13228.698703866668,13631.537820733329,13226.74516983333,13134.639986966667,12613.052244533319,12390.775907896666,12965.00261310001,13350.798994966673,13893.789477066666,13067.70954363333,12515.229684266675,13604.827757299998,12417.591223833337,12743.928672566662,14349.44402443333,13377.858024199995,12992.625348266667,13318.934535166667,13980.02793096667,13109.384601166657,12927.67802763333,13370.608037366655,13324.249040066661,12582.583816263335,14562.27039593333,13625.070291266662,13327.953209033332,13393.45490076333,12582.832748696663,12988.271465266671,13123.008636633323,13156.260551099991,14274.698045966663,13326.294307499998,13562.447326533333,13012.332077963338,13650.998991666664,12430.850741066672,11496.770117896667,13319.411223699995,13718.38383232999,13571.314624163339,11790.764700400001,13844.416262066672,11981.89823313333,12920.708898096666,12462.995055899999,13238.898817099996,14240.749786266666,13681.453093499995,13380.097295030002,14579.327597399999,13855.968465533337,12891.900566433333,13737.446335299994,13739.737144033337,14544.262887463328,14078.853852433338,13713.301967600006,12660.904099700008,13475.258756233323,13745.498973999996,13486.000038596661,13430.086208733328,13035.959142299997,13035.118796966657,13085.328952700002,13373.556069366674,13641.874605563335,12746.219053766663,12992.96273883334,15071.998639266669,13027.57177236666,12763.084312229992,12808.262676433336,13980.629394933329,13275.78843796333,11766.795175329993,12760.077990666654,12844.915420499994,13926.303476533338,13056.326129296664,13176.170612099993,13432.598732999997,13942.963966463327,12989.653918296666,12846.934875033325,12753.041428300012,13492.439018599987,13000.479511433326,13102.640859629992,12986.85648106332,12738.188139863338,13303.184242733334,12756.285678933336,14322.02392633334,13036.2240651,14361.830027766662,12954.729110633338,12875.005654433335,12890.296279500008,14682.764666666664,13475.23240613332,13093.020205800003,13845.76490653333,12976.21000089999,12517.946446099993,12836.761352466658,12983.216203499998,13316.175796333331,13264.332981829999,14300.436687033325,12833.086692596664,13460.502365733331,12939.32887340001,13619.079513433331,13951.918638833335,12854.772128633336,13514.075030363323,12179.538161796665,12907.666366630008,13635.766908230002,12531.670835499997,13688.155395066666,13447.523126933336,12690.495893300003,13107.578076533333,12365.0787182,12564.307301699997,12476.603500596664,13550.765321196663,13258.151637966668,13396.42588626333,13488.894486300002,13448.561874233326,12701.608926699999,14283.609697566666,13448.10714366333,12954.675433499999,12954.342867533327,13760.797632433327,12860.947573863335,13006.557182830002,13859.584336133323,13464.030584,12284.282324599997,13378.400788966666,13057.35756346666,13010.653255199997,12801.453589366665,12842.174479633342,13877.856427533343,12063.526096699987,14533.617596200005,15699.802925633332,13660.869955799983,12332.038384633335,13073.828244199993,14590.600318363331,12889.405153033333,12462.532456066658,13223.066778666662,13782.58379893,13088.441340499996,13916.044736666672,12318.444994899997,13024.12985963,14345.98058226666,12827.531593963326,13452.604601199997,13963.593649629998,12622.83709153333,13048.010599499996,13001.178252566668,13469.61445403333,13047.514112129993,13971.510025529988,13928.856844599999,14097.542973399992,12984.431384766673,13316.420869866666,12964.09924376667,13826.427307233327,12541.396790166658,12307.481809100002,13027.154738296655,12925.553668899996,14454.160964466657,13884.178549799997,12794.6639256,13242.415295933337,13027.127382799994,12919.201230799996,12748.60632549999,13573.443098200003,13152.053762299995,13535.444634399986,13439.611381799996,12630.805534466668,13011.596845633334,13564.87755433333,13749.988441666663,13228.959953730011,13919.339982033325,13159.658157333328,13234.0907238,14304.197304366666,14004.928303996667,13460.58717613333,13378.259161133328,12358.80967356667,12249.021390133323,13744.459276133335,12753.185266633325,12901.814587233323,12717.193894600008,13070.616164566658,13302.384456933334,13839.360245700002,14657.076076033318,13050.243210429986,13436.762445029999,12918.161507829993,12269.935027299996,13706.047631433334,13920.195475433333,13663.68055656333,12400.448483999993,13312.265055200005,13320.142050233335,13532.25260009999,12267.280122066657,12427.081098933328,14103.294436796674,13504.054336463327,13121.64923982999,14134.563515633332,13450.281252166667,13612.826712763333,13283.932192966662,13719.84806586666,14345.831232433326,13518.698814233334,13103.838826529996,13200.859167899991,13348.13795233001,12551.71465606334,13432.865618633332,13439.741726766659,13461.204977963325,13454.075703700002,13788.336006166663,13446.540275733336,12847.278429733327,13937.128936633335,14276.379745000006,12275.46648533333,13047.941252433327,13202.495127296672,12737.5458741,14151.404800563325,14676.120287700003,13118.600306633329,13311.877479633331,12537.927605696674,14114.959389096666,14039.7735817,13614.91902586333,12588.761196033329,13695.171377699997,13790.116287063345,13624.989253129997,12958.007561333332,14897.6757703,12866.300024096665,13477.669030863326,13931.86546380001,13455.457868463338,13287.474709566657,12946.136940166665,13802.722651766668,13788.645151033335,13586.733946499995,12475.339516466656,12552.340222400006,14314.314483466673,12747.87854123333,11228.050517163334,13843.323134433336,14034.120478700002,13243.252689466672,12266.502061166664,12758.486960733335,13467.889764866663,14256.770528366662,13175.973127999998,13252.504903466655,14453.296614799996,12146.556888833335,13070.606795529995,13409.620696600003,12804.942908733336,12751.174527533334,12918.905081596664,13258.306841029995,13763.095739566672,12775.956850566658,13547.419033333332,13470.012386899989,12456.147685499993,12198.971127566669,13793.247008066668,13405.92397633333,13069.260588866653,12569.682388166655,13577.582474533323,14195.350108266663],\"yaxis\":\"y\",\"type\":\"bar\"}],                        {\"template\":{\"data\":{\"histogram2dcontour\":[{\"type\":\"histogram2dcontour\",\"colorbar\":{\"outlinewidth\":0,\"ticks\":\"\"},\"colorscale\":[[0.0,\"#0d0887\"],[0.1111111111111111,\"#46039f\"],[0.2222222222222222,\"#7201a8\"],[0.3333333333333333,\"#9c179e\"],[0.4444444444444444,\"#bd3786\"],[0.5555555555555556,\"#d8576b\"],[0.6666666666666666,\"#ed7953\"],[0.7777777777777778,\"#fb9f3a\"],[0.8888888888888888,\"#fdca26\"],[1.0,\"#f0f921\"]]}],\"choropleth\":[{\"type\":\"choropleth\",\"colorbar\":{\"outlinewidth\":0,\"ticks\":\"\"}}],\"histogram2d\":[{\"type\":\"histogram2d\",\"colorbar\":{\"outlinewidth\":0,\"ticks\":\"\"},\"colorscale\":[[0.0,\"#0d0887\"],[0.1111111111111111,\"#46039f\"],[0.2222222222222222,\"#7201a8\"],[0.3333333333333333,\"#9c179e\"],[0.4444444444444444,\"#bd3786\"],[0.5555555555555556,\"#d8576b\"],[0.6666666666666666,\"#ed7953\"],[0.7777777777777778,\"#fb9f3a\"],[0.8888888888888888,\"#fdca26\"],[1.0,\"#f0f921\"]]}],\"heatmap\":[{\"type\":\"heatmap\",\"colorbar\":{\"outlinewidth\":0,\"ticks\":\"\"},\"colorscale\":[[0.0,\"#0d0887\"],[0.1111111111111111,\"#46039f\"],[0.2222222222222222,\"#7201a8\"],[0.3333333333333333,\"#9c179e\"],[0.4444444444444444,\"#bd3786\"],[0.5555555555555556,\"#d8576b\"],[0.6666666666666666,\"#ed7953\"],[0.7777777777777778,\"#fb9f3a\"],[0.8888888888888888,\"#fdca26\"],[1.0,\"#f0f921\"]]}],\"heatmapgl\":[{\"type\":\"heatmapgl\",\"colorbar\":{\"outlinewidth\":0,\"ticks\":\"\"},\"colorscale\":[[0.0,\"#0d0887\"],[0.1111111111111111,\"#46039f\"],[0.2222222222222222,\"#7201a8\"],[0.3333333333333333,\"#9c179e\"],[0.4444444444444444,\"#bd3786\"],[0.5555555555555556,\"#d8576b\"],[0.6666666666666666,\"#ed7953\"],[0.7777777777777778,\"#fb9f3a\"],[0.8888888888888888,\"#fdca26\"],[1.0,\"#f0f921\"]]}],\"contourcarpet\":[{\"type\":\"contourcarpet\",\"colorbar\":{\"outlinewidth\":0,\"ticks\":\"\"}}],\"contour\":[{\"type\":\"contour\",\"colorbar\":{\"outlinewidth\":0,\"ticks\":\"\"},\"colorscale\":[[0.0,\"#0d0887\"],[0.1111111111111111,\"#46039f\"],[0.2222222222222222,\"#7201a8\"],[0.3333333333333333,\"#9c179e\"],[0.4444444444444444,\"#bd3786\"],[0.5555555555555556,\"#d8576b\"],[0.6666666666666666,\"#ed7953\"],[0.7777777777777778,\"#fb9f3a\"],[0.8888888888888888,\"#fdca26\"],[1.0,\"#f0f921\"]]}],\"surface\":[{\"type\":\"surface\",\"colorbar\":{\"outlinewidth\":0,\"ticks\":\"\"},\"colorscale\":[[0.0,\"#0d0887\"],[0.1111111111111111,\"#46039f\"],[0.2222222222222222,\"#7201a8\"],[0.3333333333333333,\"#9c179e\"],[0.4444444444444444,\"#bd3786\"],[0.5555555555555556,\"#d8576b\"],[0.6666666666666666,\"#ed7953\"],[0.7777777777777778,\"#fb9f3a\"],[0.8888888888888888,\"#fdca26\"],[1.0,\"#f0f921\"]]}],\"mesh3d\":[{\"type\":\"mesh3d\",\"colorbar\":{\"outlinewidth\":0,\"ticks\":\"\"}}],\"scatter\":[{\"marker\":{\"line\":{\"color\":\"#283442\"}},\"type\":\"scatter\"}],\"parcoords\":[{\"type\":\"parcoords\",\"line\":{\"colorbar\":{\"outlinewidth\":0,\"ticks\":\"\"}}}],\"scatterpolargl\":[{\"type\":\"scatterpolargl\",\"marker\":{\"colorbar\":{\"outlinewidth\":0,\"ticks\":\"\"}}}],\"bar\":[{\"error_x\":{\"color\":\"#f2f5fa\"},\"error_y\":{\"color\":\"#f2f5fa\"},\"marker\":{\"line\":{\"color\":\"rgb(17,17,17)\",\"width\":0.5},\"pattern\":{\"fillmode\":\"overlay\",\"size\":10,\"solidity\":0.2}},\"type\":\"bar\"}],\"scattergeo\":[{\"type\":\"scattergeo\",\"marker\":{\"colorbar\":{\"outlinewidth\":0,\"ticks\":\"\"}}}],\"scatterpolar\":[{\"type\":\"scatterpolar\",\"marker\":{\"colorbar\":{\"outlinewidth\":0,\"ticks\":\"\"}}}],\"histogram\":[{\"marker\":{\"pattern\":{\"fillmode\":\"overlay\",\"size\":10,\"solidity\":0.2}},\"type\":\"histogram\"}],\"scattergl\":[{\"marker\":{\"line\":{\"color\":\"#283442\"}},\"type\":\"scattergl\"}],\"scatter3d\":[{\"type\":\"scatter3d\",\"line\":{\"colorbar\":{\"outlinewidth\":0,\"ticks\":\"\"}},\"marker\":{\"colorbar\":{\"outlinewidth\":0,\"ticks\":\"\"}}}],\"scattermapbox\":[{\"type\":\"scattermapbox\",\"marker\":{\"colorbar\":{\"outlinewidth\":0,\"ticks\":\"\"}}}],\"scatterternary\":[{\"type\":\"scatterternary\",\"marker\":{\"colorbar\":{\"outlinewidth\":0,\"ticks\":\"\"}}}],\"scattercarpet\":[{\"type\":\"scattercarpet\",\"marker\":{\"colorbar\":{\"outlinewidth\":0,\"ticks\":\"\"}}}],\"carpet\":[{\"aaxis\":{\"endlinecolor\":\"#A2B1C6\",\"gridcolor\":\"#506784\",\"linecolor\":\"#506784\",\"minorgridcolor\":\"#506784\",\"startlinecolor\":\"#A2B1C6\"},\"baxis\":{\"endlinecolor\":\"#A2B1C6\",\"gridcolor\":\"#506784\",\"linecolor\":\"#506784\",\"minorgridcolor\":\"#506784\",\"startlinecolor\":\"#A2B1C6\"},\"type\":\"carpet\"}],\"table\":[{\"cells\":{\"fill\":{\"color\":\"#506784\"},\"line\":{\"color\":\"rgb(17,17,17)\"}},\"header\":{\"fill\":{\"color\":\"#2a3f5f\"},\"line\":{\"color\":\"rgb(17,17,17)\"}},\"type\":\"table\"}],\"barpolar\":[{\"marker\":{\"line\":{\"color\":\"rgb(17,17,17)\",\"width\":0.5},\"pattern\":{\"fillmode\":\"overlay\",\"size\":10,\"solidity\":0.2}},\"type\":\"barpolar\"}],\"pie\":[{\"automargin\":true,\"type\":\"pie\"}]},\"layout\":{\"autotypenumbers\":\"strict\",\"colorway\":[\"#636efa\",\"#EF553B\",\"#00cc96\",\"#ab63fa\",\"#FFA15A\",\"#19d3f3\",\"#FF6692\",\"#B6E880\",\"#FF97FF\",\"#FECB52\"],\"font\":{\"color\":\"#f2f5fa\"},\"hovermode\":\"closest\",\"hoverlabel\":{\"align\":\"left\"},\"paper_bgcolor\":\"rgb(17,17,17)\",\"plot_bgcolor\":\"rgb(17,17,17)\",\"polar\":{\"bgcolor\":\"rgb(17,17,17)\",\"angularaxis\":{\"gridcolor\":\"#506784\",\"linecolor\":\"#506784\",\"ticks\":\"\"},\"radialaxis\":{\"gridcolor\":\"#506784\",\"linecolor\":\"#506784\",\"ticks\":\"\"}},\"ternary\":{\"bgcolor\":\"rgb(17,17,17)\",\"aaxis\":{\"gridcolor\":\"#506784\",\"linecolor\":\"#506784\",\"ticks\":\"\"},\"baxis\":{\"gridcolor\":\"#506784\",\"linecolor\":\"#506784\",\"ticks\":\"\"},\"caxis\":{\"gridcolor\":\"#506784\",\"linecolor\":\"#506784\",\"ticks\":\"\"}},\"coloraxis\":{\"colorbar\":{\"outlinewidth\":0,\"ticks\":\"\"}},\"colorscale\":{\"sequential\":[[0.0,\"#0d0887\"],[0.1111111111111111,\"#46039f\"],[0.2222222222222222,\"#7201a8\"],[0.3333333333333333,\"#9c179e\"],[0.4444444444444444,\"#bd3786\"],[0.5555555555555556,\"#d8576b\"],[0.6666666666666666,\"#ed7953\"],[0.7777777777777778,\"#fb9f3a\"],[0.8888888888888888,\"#fdca26\"],[1.0,\"#f0f921\"]],\"sequentialminus\":[[0.0,\"#0d0887\"],[0.1111111111111111,\"#46039f\"],[0.2222222222222222,\"#7201a8\"],[0.3333333333333333,\"#9c179e\"],[0.4444444444444444,\"#bd3786\"],[0.5555555555555556,\"#d8576b\"],[0.6666666666666666,\"#ed7953\"],[0.7777777777777778,\"#fb9f3a\"],[0.8888888888888888,\"#fdca26\"],[1.0,\"#f0f921\"]],\"diverging\":[[0,\"#8e0152\"],[0.1,\"#c51b7d\"],[0.2,\"#de77ae\"],[0.3,\"#f1b6da\"],[0.4,\"#fde0ef\"],[0.5,\"#f7f7f7\"],[0.6,\"#e6f5d0\"],[0.7,\"#b8e186\"],[0.8,\"#7fbc41\"],[0.9,\"#4d9221\"],[1,\"#276419\"]]},\"xaxis\":{\"gridcolor\":\"#283442\",\"linecolor\":\"#506784\",\"ticks\":\"\",\"title\":{\"standoff\":15},\"zerolinecolor\":\"#283442\",\"automargin\":true,\"zerolinewidth\":2},\"yaxis\":{\"gridcolor\":\"#283442\",\"linecolor\":\"#506784\",\"ticks\":\"\",\"title\":{\"standoff\":15},\"zerolinecolor\":\"#283442\",\"automargin\":true,\"zerolinewidth\":2},\"scene\":{\"xaxis\":{\"backgroundcolor\":\"rgb(17,17,17)\",\"gridcolor\":\"#506784\",\"linecolor\":\"#506784\",\"showbackground\":true,\"ticks\":\"\",\"zerolinecolor\":\"#C8D4E3\",\"gridwidth\":2},\"yaxis\":{\"backgroundcolor\":\"rgb(17,17,17)\",\"gridcolor\":\"#506784\",\"linecolor\":\"#506784\",\"showbackground\":true,\"ticks\":\"\",\"zerolinecolor\":\"#C8D4E3\",\"gridwidth\":2},\"zaxis\":{\"backgroundcolor\":\"rgb(17,17,17)\",\"gridcolor\":\"#506784\",\"linecolor\":\"#506784\",\"showbackground\":true,\"ticks\":\"\",\"zerolinecolor\":\"#C8D4E3\",\"gridwidth\":2}},\"shapedefaults\":{\"line\":{\"color\":\"#f2f5fa\"}},\"annotationdefaults\":{\"arrowcolor\":\"#f2f5fa\",\"arrowhead\":0,\"arrowwidth\":1},\"geo\":{\"bgcolor\":\"rgb(17,17,17)\",\"landcolor\":\"rgb(17,17,17)\",\"subunitcolor\":\"#506784\",\"showland\":true,\"showlakes\":true,\"lakecolor\":\"rgb(17,17,17)\"},\"title\":{\"x\":0.05},\"updatemenudefaults\":{\"bgcolor\":\"#506784\",\"borderwidth\":0},\"sliderdefaults\":{\"bgcolor\":\"#C8D4E3\",\"borderwidth\":1,\"bordercolor\":\"rgb(17,17,17)\",\"tickwidth\":0},\"mapbox\":{\"style\":\"dark\"}}},\"xaxis\":{\"anchor\":\"y\",\"domain\":[0.0,1.0],\"title\":{\"text\":\"index\"}},\"yaxis\":{\"anchor\":\"x\",\"domain\":[0.0,1.0],\"title\":{\"text\":\"value\"}},\"legend\":{\"title\":{\"text\":\"variable\"},\"tracegroupgap\":0},\"margin\":{\"t\":60},\"barmode\":\"relative\"},                        {\"responsive\": true}                    ).then(function(){\n                            \nvar gd = document.getElementById('5bb28e8c-79a9-4941-a441-4c8654a0e6ae');\nvar x = new MutationObserver(function (mutations, observer) {{\n        var display = window.getComputedStyle(gd).display;\n        if (!display || display === 'none') {{\n            console.log([gd, 'removed!']);\n            Plotly.purge(gd);\n            observer.disconnect();\n        }}\n}});\n\n// Listen for the removal of the full notebook cells\nvar notebookContainer = gd.closest('#notebook-container');\nif (notebookContainer) {{\n    x.observe(notebookContainer, {childList: true});\n}}\n\n// Listen for the clearing of the current output cell\nvar outputEl = gd.closest('.output');\nif (outputEl) {{\n    x.observe(outputEl, {childList: true});\n}}\n\n                        })                };                });            </script>        </div>"
     },
     "metadata": {},
     "output_type": "display_data"
    }
   ],
   "source": [
    "df = data.charges\n",
    "choice = [50, 100, 200, 500]\n",
    "\n",
    "chargesMeans = []\n",
    "for _ in range(500):\n",
    "    samples = data.charges.sample(n=300)\n",
    "    chargesMean = np.mean(samples)\n",
    "    chargesMeans.append(chargesMean)\n",
    "\n",
    "print(\"samples mean: %f\"%np.mean(chargesMeans))\n",
    "print(\"original mean: %f\"%np.mean(data.charges))\n",
    "\n",
    "# fig = px.bar(x=[x for x in range(300)], y=chargesMeans, title=\"charges CTL\")\n",
    "# fig.update_layout(xaxis_title=\"range\", yaxis_title=\"value\")\n",
    "# fig.show()\n",
    "# sns.histplot(x=[x for x in range(300)], y=chargesMeans, kde=True);\n",
    "fig = px.bar(chargesMeans)\n",
    "fig.show()"
   ],
   "metadata": {
    "collapsed": false
   }
  },
  {
   "cell_type": "code",
   "execution_count": 63,
   "outputs": [
    {
     "name": "stdout",
     "output_type": "stream",
     "text": [
      "charges_mean = 13270.422265\n",
      "charges_std = 12105.484976\n"
     ]
    },
    {
     "data": {
      "text/plain": "<Figure size 2000x1000 with 1 Axes>",
      "image/png": "[encoded data removed]"
     },
     "metadata": {},
     "output_type": "display_data"
    }
   ],
   "source": [
    "import warnings\n",
    "warnings.filterwarnings(\"ignore\")\n",
    "\n",
    "df_charges = data.charges.to_numpy()\n",
    "\n",
    "pop_mean = df_charges.mean() # Среденее значение\n",
    "pop_std = df_charges.std() # Стандартное отклонение\n",
    "print('charges_mean = %f'%pop_mean)\n",
    "print('charges_std = %f'%pop_std)\n",
    "\n",
    "fig = plt.figure(figsize=(20, 10))\n",
    "sns.distplot(df_charges, color=\"darkslategrey\")\n",
    "plt.title(\"Распределение\", y=1.015, fontsize=20);\n",
    "plt.show()"
   ],
   "metadata": {
    "collapsed": false
   }
  },
  {
   "cell_type": "code",
   "execution_count": 65,
   "outputs": [
    {
     "name": "stdout",
     "output_type": "stream",
     "text": [
      "choise = 150\n"
     ]
    },
    {
     "data": {
      "text/plain": "<Figure size 2000x1000 with 1 Axes>",
      "image/png": "[encoded data removed]"
     },
     "metadata": {},
     "output_type": "display_data"
    }
   ],
   "source": [
    "sample_means = [] # список для хранения средних значений выборок\n",
    "choice = 150\n",
    "n = 300\n",
    "for sample in range(0, choice): # Количество выборок\n",
    "    sample_values = np.random.choice(df_charges, size=n) # Из общего набора взять выборку длинной n\n",
    "    sample_mean = np.mean(sample_values) # Среднее значение полученной выборки\n",
    "    sample_means.append(sample_mean)\n",
    "\n",
    "\n",
    "print(\"choise = \" + str(len(sample_means)))\n",
    "\n",
    "fig = plt.figure(figsize=(20, 10))\n",
    "sns.distplot(sample_means)\n",
    "plt.title(f'Распределение среднего значения выборок (n={n} choice={choice})', y=1.015, fontsize=12)\n",
    "plt.xlabel(\"Среднее значение выборок\", labelpad=14)\n",
    "plt.ylabel(\"Частота\", labelpad=14)\n",
    "plt.show()\n",
    "\n"
   ],
   "metadata": {
    "collapsed": false
   }
  },
  {
   "cell_type": "code",
   "execution_count": 122,
   "outputs": [
    {
     "name": "stdout",
     "output_type": "stream",
     "text": [
      "charges 95 percent: (12417.649014863586, 14123.195515418927)\n",
      "charges 99 percent: (12621.54197822916, 13919.302552053354)\n",
      "bmi 95 percent: (30.33664297153481, 30.990150750438264)\n",
      "bmi 99 percent: (30.233969458168293, 31.092824263804783)\n"
     ]
    },
    {
     "data": {
      "text/plain": "<Figure size 1000x1000 with 1 Axes>",
      "image/png": "[encoded data removed]"
     },
     "metadata": {},
     "output_type": "display_data"
    }
   ],
   "source": [
    "\n",
    "print(\"charges 95 percent: \" + str(sts.norm.interval(0.99, loc=np.mean(data.charges), scale=sts.sem(data.charges))))\n",
    "print(\"charges 99 percent: \" + str(sts.norm.interval(0.95, loc=np.mean(data.charges), scale=sts.sem(data.charges))))\n",
    "print(\"bmi 95 percent: \" + str(sts.norm.interval(0.95, loc=np.mean(data.bmi), scale=sts.sem(data.bmi))))\n",
    "print(\"bmi 99 percent: \" + str(sts.norm.interval(0.99, loc=np.mean(data.bmi), scale=sts.sem(data.bmi))))\n",
    "\n",
    "fig = sns.lmplot(data=data, x=\"charges\", y=\"bmi\", ci=95,\n",
    "            scatter_kws={'s': 30, 'edgecolor': 'white'}, height=10)\n",
    "\n",
    "\n",
    "# sns.regplot(data=data, x=\"charges\", y=\"bmi\", ci= 99)"
   ],
   "metadata": {
    "collapsed": false
   }
  }
 ],
 "metadata": {
  "kernelspec": {
   "display_name": "Python 3",
   "language": "python",
   "name": "python3"
  },
  "language_info": {
   "codemirror_mode": {
    "name": "ipython",
    "version": 2
   },
   "file_extension": ".py",
   "mimetype": "text/x-python",
   "name": "python",
   "nbconvert_exporter": "python",
   "pygments_lexer": "ipython2",
   "version": "2.7.6"
  }
 },
 "nbformat": 4,
 "nbformat_minor": 0
}
