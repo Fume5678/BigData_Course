{
 "cells": [
  {
   "cell_type": "code",
   "execution_count": 1,
   "metadata": {
    "collapsed": true
   },
   "outputs": [],
   "source": [
    "import os\n",
    "import numpy as np\n",
    "import pandas as pd\n",
    "import plotly as pl\n",
    "import plotly.express as px\n",
    "import matplotlib as mpl\n",
    "import matplotlib.pyplot as plt\n",
    "import scipy.stats as sts\n",
    "import seaborn as sns\n",
    "import math\n",
    "import pylab\n",
    "import random\n",
    "from sklearn import linear_model"
   ]
  },
  {
   "cell_type": "code",
   "execution_count": 3,
   "outputs": [
    {
     "name": "stdout",
     "output_type": "stream",
     "text": [
      "<class 'pandas.core.frame.DataFrame'>\n",
      "RangeIndex: 1338 entries, 0 to 1337\n",
      "Data columns (total 7 columns):\n",
      " #   Column    Non-Null Count  Dtype  \n",
      "---  ------    --------------  -----  \n",
      " 0   age       1338 non-null   int64  \n",
      " 1   sex       1338 non-null   object \n",
      " 2   bmi       1338 non-null   float64\n",
      " 3   children  1338 non-null   int64  \n",
      " 4   smoker    1338 non-null   object \n",
      " 5   region    1338 non-null   object \n",
      " 6   charges   1338 non-null   float64\n",
      "dtypes: float64(2), int64(2), object(3)\n",
      "memory usage: 73.3+ KB\n"
     ]
    }
   ],
   "source": [
    "data = pd.read_csv(\"insurance.csv\")\n",
    "data.info()"
   ],
   "metadata": {
    "collapsed": false
   }
  },
  {
   "cell_type": "code",
   "execution_count": 58,
   "outputs": [
    {
     "name": "stdout",
     "output_type": "stream",
     "text": [
      "{'age': 0, 'sex': 0, 'bmi': 0, 'children': 0, 'smoker': 0, 'region': 0, 'charges': 0}\n",
      "{'age': 0, 'sex': 0, 'bmi': 0, 'children': 0, 'smoker': 0, 'region': 0, 'charges': 0}\n",
      "region\n",
      "{'southwest': 1336, 'southeast': 1335, 'northwest': 1337, 'northeast': 1334}\n"
     ]
    }
   ],
   "source": [
    "count_none = {}\n",
    "for h in data:\n",
    "    count_none[h] = data[h].isna().sum()\n",
    "\n",
    "print(count_none)\n",
    "\n",
    "for h in data:\n",
    "    if data[h].dtypes != \"int64\" and data[h].dtypes != \"float64\":\n",
    "        data[h] = data[h].fillna(\"other\")\n",
    "    else:\n",
    "        med = data[h].median()\n",
    "        data[h] = data[h].fillna(med)\n",
    "\n",
    "count_none = {}\n",
    "for h in data:\n",
    "    count_none[h] = data[h].isna().sum()\n",
    "\n",
    "print(count_none)\n",
    "\n",
    "region = {}\n",
    "print(\"region\")\n",
    "count = 0\n",
    "for ind, row in data.iterrows():\n",
    "    region[row[\"region\"]] = count\n",
    "    count += 1\n",
    "print(region)"
   ],
   "metadata": {
    "collapsed": false
   }
  },
  {
   "cell_type": "code",
   "execution_count": null,
   "outputs": [],
   "source": [],
   "metadata": {
    "collapsed": false
   }
  },
  {
   "cell_type": "code",
   "execution_count": 60,
   "outputs": [
    {
     "name": "stdout",
     "output_type": "stream",
     "text": [
      "                 sum_sq      df          F        PR(>F)\n",
      "C(region)   4055.880631     3.0  39.495057  1.881839e-24\n",
      "Residual   45664.319755  1334.0        NaN           NaN\n"
     ]
    }
   ],
   "source": [
    "res = sts.f_oneway(data['region'], data['bmi'])\n",
    "print(res)\n",
    "\n",
    "import statsmodels.api as sm\n",
    "from statsmodels.formula.api import ols\n",
    "\n",
    "model = ols('bmi ~ C(region)', data=data).fit()\n",
    "anova_table = sm.stats.anova_lm(model, typ=2)\n",
    "print(anova_table)"
   ],
   "metadata": {
    "collapsed": false
   }
  },
  {
   "cell_type": "code",
   "execution_count": 61,
   "outputs": [
    {
     "name": "stdout",
     "output_type": "stream",
     "text": [
      "a/m = 0.008333\n",
      "Ttest_indResult(statistic=-3.2844171500398582, pvalue=0.001076958496307695)\n",
      "Ttest_indResult(statistic=-9.25649013552548, pvalue=2.643571405230106e-19)\n",
      "Ttest_indResult(statistic=0.060307727183293185, pvalue=0.951929170821864)\n",
      "Ttest_indResult(statistic=-3.1169000930045923, pvalue=0.0019086161671573072)\n",
      "Ttest_indResult(statistic=-8.790905562598699, pvalue=1.186014937424813e-17)\n",
      "Ttest_indResult(statistic=5.908373821545118, pvalue=5.4374009639680636e-09)\n"
     ]
    }
   ],
   "source": [
    "a = 0.05\n",
    "a_m = a/6\n",
    "print(\"a/m = %f\"%a_m)\n",
    "\n",
    "print(sts.ttest_ind(data[data[\"region\"] == \"northwest\"].bmi, data[data[\"region\"] == \"southwest\"].bmi))\n",
    "print(sts.ttest_ind(data[data[\"region\"] == \"northwest\"].bmi, data[data[\"region\"] == \"southeast\"].bmi))\n",
    "print(sts.ttest_ind(data[data[\"region\"] == \"northwest\"].bmi, data[data[\"region\"] == \"northeast\"].bmi))\n",
    "\n",
    "print(sts.ttest_ind(data[data[\"region\"] == \"northeast\"].bmi, data[data[\"region\"] == \"southwest\"].bmi))\n",
    "print(sts.ttest_ind(data[data[\"region\"] == \"northeast\"].bmi, data[data[\"region\"] == \"southeast\"].bmi))\n",
    "\n",
    "print(sts.ttest_ind(data[data[\"region\"] == \"southeast\"].bmi, data[data[\"region\"] == \"southwest\"].bmi))\n"
   ],
   "metadata": {
    "collapsed": false
   }
  },
  {
   "cell_type": "code",
   "execution_count": 52,
   "outputs": [
    {
     "data": {
      "text/plain": "<class 'statsmodels.iolib.table.SimpleTable'>",
      "text/html": "<table class=\"simpletable\">\n<caption>Multiple Comparison of Means - Tukey HSD, FWER=0.05</caption>\n<tr>\n   <th>group1</th>    <th>group2</th>   <th>meandiff</th>  <th>p-adj</th>  <th>lower</th>   <th>upper</th>  <th>reject</th>\n</tr>\n<tr>\n  <td>northeast</td> <td>northwest</td>  <td>0.0263</td>  <td>0.9999</td> <td>-1.1552</td> <td>1.2078</td>   <td>False</td>\n</tr>\n<tr>\n  <td>northeast</td> <td>southeast</td>  <td>4.1825</td>   <td>-0.0</td>   <td>3.033</td>   <td>5.332</td>   <td>True</td> \n</tr>\n<tr>\n  <td>northeast</td> <td>southwest</td>  <td>1.4231</td>  <td>0.0107</td> <td>0.2416</td>  <td>2.6046</td>   <td>True</td> \n</tr>\n<tr>\n  <td>northwest</td> <td>southeast</td>  <td>4.1562</td>   <td>-0.0</td>  <td>3.0077</td>  <td>5.3047</td>   <td>True</td> \n</tr>\n<tr>\n  <td>northwest</td> <td>southwest</td>  <td>1.3968</td>  <td>0.0127</td> <td>0.2162</td>  <td>2.5774</td>   <td>True</td> \n</tr>\n<tr>\n  <td>southeast</td> <td>southwest</td>  <td>-2.7594</td>   <td>0.0</td>  <td>-3.9079</td> <td>-1.6108</td>  <td>True</td> \n</tr>\n</table>"
     },
     "execution_count": 52,
     "metadata": {},
     "output_type": "execute_result"
    },
    {
     "data": {
      "text/plain": "<Figure size 720x432 with 1 Axes>",
      "image/png": "[encoded data removed]"
     },
     "metadata": {},
     "output_type": "display_data"
    }
   ],
   "source": [
    "from statsmodels.stats.multicomp import pairwise_tukeyhsd\n",
    "tukey = pairwise_tukeyhsd(endog= data['bmi'], groups=data['region'])\n",
    "tukey.plot_simultaneous()\n",
    "plt.vlines(x = 49.57, ymin = -0.5, ymax = 4.5, color='red')\n",
    "tukey.summary()"
   ],
   "metadata": {
    "collapsed": false
   }
  },
  {
   "cell_type": "code",
   "execution_count": 55,
   "outputs": [
    {
     "name": "stdout",
     "output_type": "stream",
     "text": [
      "                 sum_sq      df          F        PR(>F)\n",
      "C(region)   4034.975135     3.0  39.336119  2.342323e-24\n",
      "C(sex)        86.007035     1.0   2.515393  1.129767e-01\n",
      "Residual   45578.312720  1333.0        NaN           NaN\n"
     ]
    }
   ],
   "source": [
    "import statsmodels.api as sm\n",
    "from statsmodels.formula.api import ols\n",
    "\n",
    "model = ols('bmi ~ C(region) + C(sex)', data=data).fit()\n",
    "anova_table = sm.stats.anova_lm(model, typ=2)\n",
    "print(anova_table)"
   ],
   "metadata": {
    "collapsed": false
   }
  },
  {
   "cell_type": "code",
   "execution_count": 56,
   "outputs": [
    {
     "data": {
      "text/plain": "<class 'statsmodels.iolib.table.SimpleTable'>",
      "text/html": "<table class=\"simpletable\">\n<caption>Multiple Comparison of Means - Tukey HSD, FWER=0.05</caption>\n<tr>\n  <th>group1</th> <th>group2</th> <th>meandiff</th> <th>p-adj</th>  <th>lower</th>   <th>upper</th> <th>reject</th>\n</tr>\n<tr>\n  <td>female</td>  <td>male</td>   <td>0.5654</td>  <td>0.09</td>  <td>-0.0883</td> <td>1.2191</td>  <td>False</td>\n</tr>\n</table>"
     },
     "execution_count": 56,
     "metadata": {},
     "output_type": "execute_result"
    },
    {
     "data": {
      "text/plain": "<Figure size 720x432 with 1 Axes>",
      "image/png": "[encoded data removed]"
     },
     "metadata": {},
     "output_type": "display_data"
    }
   ],
   "source": [
    "from statsmodels.stats.multicomp import pairwise_tukeyhsd\n",
    "tukey = pairwise_tukeyhsd(endog= data['bmi'], groups=data['sex'])\n",
    "tukey.plot_simultaneous()\n",
    "plt.vlines(x = 49.57, ymin = -0.5, ymax = 4.5, color='red')\n",
    "tukey.summary()"
   ],
   "metadata": {
    "collapsed": false
   }
  }
 ],
 "metadata": {
  "kernelspec": {
   "display_name": "Python 3",
   "language": "python",
   "name": "python3"
  },
  "language_info": {
   "codemirror_mode": {
    "name": "ipython",
    "version": 2
   },
   "file_extension": ".py",
   "mimetype": "text/x-python",
   "name": "python",
   "nbconvert_exporter": "python",
   "pygments_lexer": "ipython2",
   "version": "2.7.6"
  }
 },
 "nbformat": 4,
 "nbformat_minor": 0
}
